{
 "cells": [
  {
   "cell_type": "markdown",
   "metadata": {
    "id": "cS5KmnFKwGb7"
   },
   "source": [
    "# DAV 6150 Project 1 (Module 6)\n",
    "\n",
    "# Avi Skidelsky\n",
    "# Liu Qianwen\n",
    "# Mark Kaplan"
   ]
  },
  {
   "cell_type": "code",
   "execution_count": 1,
   "metadata": {
    "id": "OoS2qIdNljx-"
   },
   "outputs": [],
   "source": [
    "import pandas as pd\n",
    "import numpy as np\n",
    "import matplotlib.pyplot as plt\n",
    "from sklearn.model_selection import train_test_split\n",
    "from sklearn.ensemble import RandomForestRegressor\n",
    "from sklearn.metrics import mean_squared_error\n",
    "from sklearn.impute import KNNImputer\n",
    "import seaborn as sns"
   ]
  },
  {
   "cell_type": "markdown",
   "metadata": {
    "id": "w8ZUfZ5Elvel"
   },
   "source": [
    "### Bring in Data and Comment On its Structure:\n",
    "We bring in the dataset from github and show that there are 29 columns and around 73,000 observations. Out of these columns, 5 are int and 24 are str. Note that all of the 5 int columns are categorical and those ints should be changed to str so there is no confusion. Furthermore, the 17 numeric columns are all stored as str and will need to be converted to int to be able to do anything with them. "
   ]
  },
  {
   "cell_type": "markdown",
   "metadata": {
    "id": "ut4JZ6TVjqGG"
   },
   "source": [
    "**Attribute Information**\n",
    "\n",
    "1. report_school_year: Indicates school year for which high school graduation info is being reported\n",
    "2. aggregation_index: Numeric code identifying manner in which high school graduation data has been aggregated\n",
    "3. aggregation_type: Text description of how high school graduation data has been aggregated\n",
    "4. nrc_code: Numeric code identifying \"needs / resource capacity\", which is an indicator of the type of school district\n",
    "5. nrc_desc: Text description of the type of school district\n",
    "6. county_code: Numeric code for county name\n",
    "7. county_name: Full name of applicable NY State county\n",
    "8. nyc_ind: Indicates whether or not the school district resides within the borders of NYC\n",
    "9. membership_desc: Indicates school year in which students first enrolled in High School\n",
    "10. subgroup_code: Numeric code identifying student subgrouping\n",
    "11. subgroup_name: Text description of student subgrouping. Note that a student may belong to MORE THAN ONE subgrouping (e.g., \"Female\", \"Hispanic\", \"Not English Language Learner\", etc.)\n",
    "12. enroll_cnt: How many students of the indicated subgrouping were enrolled during the given school year\n",
    "13. grad_cnt: How many enrolled students of the indicated subgrouping graduated at the end of the given school year\n",
    "14. grad_pct: What percentage of enrolled students of the indicated subgrouping graduated at the end for the given school year\n",
    "15. local_cnt: How many enrolled students of the indicated subgrouping were awarded a \"Local\" diploma\n",
    "16. local_pct: What percentage of enrolled students of the indicated subgrouping were awarded a \"Local\" diploma\n",
    "17. reg_cnt: How many enrolled students of the indicated subgrouping were awarded a \"Regents\" diploma\n",
    "18. reg_pct: What percentage of enrolled students of the indicated subgrouping were awarded a \"Regents\" diploma\n",
    "19. reg_adv_cnt: How many enrolled students of the indicated subgrouping were awarded a \"Regents Advanced\" diploma\n",
    "20. reg_adv_pct: What percentage of enrolled students of the indicated subgrouping were awarded a \"Regents Advanced\" diploma\n",
    "21. non_diploma_credential_cnt: How many enrolled students of the indicated subgrouping achieved a non-diploma credential\n",
    "22. non_diploma_credential_pct: What percentage of enrolled students of the indicated subgrouping achieved a non-diploma credential\n",
    "23. still_enrolled_cnt: How many enrolled students of the indicated subgrouping did not graduate but were still_enrolled\n",
    "24. still_enrolled_pct: What percentage of enrolled students of the indicated subgrouping did not graduate but were still_enrolled\n",
    "25. ged_cnt: How many enrolled students of the indicated subgrouping were awarded a \"GED\" diploma\n",
    "26. ged_pct: What percentage of enrolled students of the indicated subgrouping were awarded a \"GED\" diploma\n",
    "27. dropout_cnt: How many enrolled students of the indicated subgrouping discontinued their high school enrollment during the school year\n",
    "28. dropout_pct: What percentage of enrolled students of the indicated subgrouping discontinued their high school enrollment during the school year\n"
   ]
  },
  {
   "cell_type": "code",
   "execution_count": 2,
   "metadata": {
    "colab": {
     "base_uri": "https://localhost:8080/",
     "height": 560
    },
    "id": "SS91cxbFlz6h",
    "outputId": "c008c538-1fce-4282-855c-d5610d00db20"
   },
   "outputs": [
    {
     "data": {
      "text/html": [
       "<div>\n",
       "<style scoped>\n",
       "    .dataframe tbody tr th:only-of-type {\n",
       "        vertical-align: middle;\n",
       "    }\n",
       "\n",
       "    .dataframe tbody tr th {\n",
       "        vertical-align: top;\n",
       "    }\n",
       "\n",
       "    .dataframe thead th {\n",
       "        text-align: right;\n",
       "    }\n",
       "</style>\n",
       "<table border=\"1\" class=\"dataframe\">\n",
       "  <thead>\n",
       "    <tr style=\"text-align: right;\">\n",
       "      <th></th>\n",
       "      <th>report_school_year</th>\n",
       "      <th>aggregation_index</th>\n",
       "      <th>aggregation_type</th>\n",
       "      <th>aggregation_name</th>\n",
       "      <th>nrc_code</th>\n",
       "      <th>nrc_desc</th>\n",
       "      <th>county_code</th>\n",
       "      <th>county_name</th>\n",
       "      <th>nyc_ind</th>\n",
       "      <th>membership_desc</th>\n",
       "      <th>...</th>\n",
       "      <th>reg_adv_cnt</th>\n",
       "      <th>reg_adv_pct</th>\n",
       "      <th>non_diploma_credential_cnt</th>\n",
       "      <th>non_diploma_credential_pct</th>\n",
       "      <th>still_enr_cnt</th>\n",
       "      <th>still_enr_pct</th>\n",
       "      <th>ged_cnt</th>\n",
       "      <th>ged_pct</th>\n",
       "      <th>dropout_cnt</th>\n",
       "      <th>dropout_pct</th>\n",
       "    </tr>\n",
       "  </thead>\n",
       "  <tbody>\n",
       "    <tr>\n",
       "      <th>0</th>\n",
       "      <td>2018-19</td>\n",
       "      <td>3</td>\n",
       "      <td>District</td>\n",
       "      <td>ALBANY CITY SCHOOL DISTRICT</td>\n",
       "      <td>3</td>\n",
       "      <td>Urban-Suburban High Needs</td>\n",
       "      <td>1</td>\n",
       "      <td>ALBANY</td>\n",
       "      <td>0</td>\n",
       "      <td>2013 Total Cohort - 6 Year Outcome</td>\n",
       "      <td>...</td>\n",
       "      <td>91</td>\n",
       "      <td>14%</td>\n",
       "      <td>16</td>\n",
       "      <td>2%</td>\n",
       "      <td>30</td>\n",
       "      <td>5%</td>\n",
       "      <td>0</td>\n",
       "      <td>0%</td>\n",
       "      <td>148</td>\n",
       "      <td>22%</td>\n",
       "    </tr>\n",
       "    <tr>\n",
       "      <th>1</th>\n",
       "      <td>2018-19</td>\n",
       "      <td>3</td>\n",
       "      <td>District</td>\n",
       "      <td>ALBANY CITY SCHOOL DISTRICT</td>\n",
       "      <td>3</td>\n",
       "      <td>Urban-Suburban High Needs</td>\n",
       "      <td>1</td>\n",
       "      <td>ALBANY</td>\n",
       "      <td>0</td>\n",
       "      <td>2013 Total Cohort - 6 Year Outcome</td>\n",
       "      <td>...</td>\n",
       "      <td>47</td>\n",
       "      <td>15%</td>\n",
       "      <td>2</td>\n",
       "      <td>1%</td>\n",
       "      <td>11</td>\n",
       "      <td>3%</td>\n",
       "      <td>0</td>\n",
       "      <td>0%</td>\n",
       "      <td>65</td>\n",
       "      <td>20%</td>\n",
       "    </tr>\n",
       "    <tr>\n",
       "      <th>2</th>\n",
       "      <td>2018-19</td>\n",
       "      <td>3</td>\n",
       "      <td>District</td>\n",
       "      <td>ALBANY CITY SCHOOL DISTRICT</td>\n",
       "      <td>3</td>\n",
       "      <td>Urban-Suburban High Needs</td>\n",
       "      <td>1</td>\n",
       "      <td>ALBANY</td>\n",
       "      <td>0</td>\n",
       "      <td>2013 Total Cohort - 6 Year Outcome</td>\n",
       "      <td>...</td>\n",
       "      <td>44</td>\n",
       "      <td>13%</td>\n",
       "      <td>14</td>\n",
       "      <td>4%</td>\n",
       "      <td>19</td>\n",
       "      <td>6%</td>\n",
       "      <td>0</td>\n",
       "      <td>0%</td>\n",
       "      <td>83</td>\n",
       "      <td>25%</td>\n",
       "    </tr>\n",
       "    <tr>\n",
       "      <th>3</th>\n",
       "      <td>2018-19</td>\n",
       "      <td>3</td>\n",
       "      <td>District</td>\n",
       "      <td>ALBANY CITY SCHOOL DISTRICT</td>\n",
       "      <td>3</td>\n",
       "      <td>Urban-Suburban High Needs</td>\n",
       "      <td>1</td>\n",
       "      <td>ALBANY</td>\n",
       "      <td>0</td>\n",
       "      <td>2013 Total Cohort - 6 Year Outcome</td>\n",
       "      <td>...</td>\n",
       "      <td>-</td>\n",
       "      <td>-</td>\n",
       "      <td>-</td>\n",
       "      <td>-</td>\n",
       "      <td>-</td>\n",
       "      <td>-</td>\n",
       "      <td>-</td>\n",
       "      <td>-</td>\n",
       "      <td>-</td>\n",
       "      <td>-</td>\n",
       "    </tr>\n",
       "    <tr>\n",
       "      <th>4</th>\n",
       "      <td>2018-19</td>\n",
       "      <td>3</td>\n",
       "      <td>District</td>\n",
       "      <td>ALBANY CITY SCHOOL DISTRICT</td>\n",
       "      <td>3</td>\n",
       "      <td>Urban-Suburban High Needs</td>\n",
       "      <td>1</td>\n",
       "      <td>ALBANY</td>\n",
       "      <td>0</td>\n",
       "      <td>2013 Total Cohort - 6 Year Outcome</td>\n",
       "      <td>...</td>\n",
       "      <td>23</td>\n",
       "      <td>6%</td>\n",
       "      <td>10</td>\n",
       "      <td>3%</td>\n",
       "      <td>18</td>\n",
       "      <td>5%</td>\n",
       "      <td>0</td>\n",
       "      <td>0%</td>\n",
       "      <td>91</td>\n",
       "      <td>25%</td>\n",
       "    </tr>\n",
       "  </tbody>\n",
       "</table>\n",
       "<p>5 rows × 29 columns</p>\n",
       "</div>"
      ],
      "text/plain": [
       "  report_school_year  aggregation_index aggregation_type  \\\n",
       "0            2018-19                  3         District   \n",
       "1            2018-19                  3         District   \n",
       "2            2018-19                  3         District   \n",
       "3            2018-19                  3         District   \n",
       "4            2018-19                  3         District   \n",
       "\n",
       "              aggregation_name  nrc_code                   nrc_desc  \\\n",
       "0  ALBANY CITY SCHOOL DISTRICT         3  Urban-Suburban High Needs   \n",
       "1  ALBANY CITY SCHOOL DISTRICT         3  Urban-Suburban High Needs   \n",
       "2  ALBANY CITY SCHOOL DISTRICT         3  Urban-Suburban High Needs   \n",
       "3  ALBANY CITY SCHOOL DISTRICT         3  Urban-Suburban High Needs   \n",
       "4  ALBANY CITY SCHOOL DISTRICT         3  Urban-Suburban High Needs   \n",
       "\n",
       "   county_code county_name  nyc_ind                     membership_desc  ...  \\\n",
       "0            1      ALBANY        0  2013 Total Cohort - 6 Year Outcome  ...   \n",
       "1            1      ALBANY        0  2013 Total Cohort - 6 Year Outcome  ...   \n",
       "2            1      ALBANY        0  2013 Total Cohort - 6 Year Outcome  ...   \n",
       "3            1      ALBANY        0  2013 Total Cohort - 6 Year Outcome  ...   \n",
       "4            1      ALBANY        0  2013 Total Cohort - 6 Year Outcome  ...   \n",
       "\n",
       "   reg_adv_cnt reg_adv_pct non_diploma_credential_cnt  \\\n",
       "0           91         14%                         16   \n",
       "1           47         15%                          2   \n",
       "2           44         13%                         14   \n",
       "3            -           -                          -   \n",
       "4           23          6%                         10   \n",
       "\n",
       "  non_diploma_credential_pct still_enr_cnt still_enr_pct ged_cnt ged_pct  \\\n",
       "0                         2%            30            5%       0      0%   \n",
       "1                         1%            11            3%       0      0%   \n",
       "2                         4%            19            6%       0      0%   \n",
       "3                          -             -             -       -       -   \n",
       "4                         3%            18            5%       0      0%   \n",
       "\n",
       "  dropout_cnt dropout_pct  \n",
       "0         148         22%  \n",
       "1          65         20%  \n",
       "2          83         25%  \n",
       "3           -           -  \n",
       "4          91         25%  \n",
       "\n",
       "[5 rows x 29 columns]"
      ]
     },
     "execution_count": 2,
     "metadata": {},
     "output_type": "execute_result"
    }
   ],
   "source": [
    "raw_data = pd.read_csv('https://raw.githubusercontent.com/askidelsky/DAV-6150/main/Homework/Project%201/Project1_Data.csv')\n",
    "raw_data.head()"
   ]
  },
  {
   "cell_type": "code",
   "execution_count": 3,
   "metadata": {
    "colab": {
     "base_uri": "https://localhost:8080/"
    },
    "id": "LrhcQ3Pwl4kO",
    "outputId": "82f28062-1222-4be3-875a-6f713b649684"
   },
   "outputs": [
    {
     "data": {
      "text/plain": [
       "(73152, 29)"
      ]
     },
     "execution_count": 3,
     "metadata": {},
     "output_type": "execute_result"
    }
   ],
   "source": [
    "raw_data.shape"
   ]
  },
  {
   "cell_type": "code",
   "execution_count": 4,
   "metadata": {
    "colab": {
     "base_uri": "https://localhost:8080/"
    },
    "id": "JwV3BAAYl6gA",
    "outputId": "3b3cf069-3f56-4a0f-e053-a0b14e4b044b"
   },
   "outputs": [
    {
     "data": {
      "text/plain": [
       "{'report_school_year': str,\n",
       " 'aggregation_index': numpy.int64,\n",
       " 'aggregation_type': str,\n",
       " 'aggregation_name': str,\n",
       " 'nrc_code': numpy.int64,\n",
       " 'nrc_desc': str,\n",
       " 'county_code': numpy.int64,\n",
       " 'county_name': str,\n",
       " 'nyc_ind': numpy.int64,\n",
       " 'membership_desc': str,\n",
       " 'subgroup_code': numpy.int64,\n",
       " 'subgroup_name': str,\n",
       " 'enroll_cnt': str,\n",
       " 'grad_cnt': str,\n",
       " 'grad_pct': str,\n",
       " 'local_cnt': str,\n",
       " 'local_pct': str,\n",
       " 'reg_cnt': str,\n",
       " 'reg_pct': str,\n",
       " 'reg_adv_cnt': str,\n",
       " 'reg_adv_pct': str,\n",
       " 'non_diploma_credential_cnt': str,\n",
       " 'non_diploma_credential_pct': str,\n",
       " 'still_enr_cnt': str,\n",
       " 'still_enr_pct': str,\n",
       " 'ged_cnt': str,\n",
       " 'ged_pct': str,\n",
       " 'dropout_cnt': str,\n",
       " 'dropout_pct': str}"
      ]
     },
     "execution_count": 4,
     "metadata": {},
     "output_type": "execute_result"
    }
   ],
   "source": [
    "types = {}\n",
    "for i in range(len(raw_data.columns)):\n",
    "    types[raw_data.columns[i]] = type(raw_data.iloc[0,i])\n",
    "types"
   ]
  },
  {
   "cell_type": "markdown",
   "metadata": {
    "id": "XW17kCvcl-p0"
   },
   "source": [
    "### Exploratory Data Analysis: Profiling Data and Cleaning Up\n",
    "Using domain knowledge, we can see that there are a significant number of categorical variable so it only makes sense for us to see if there are any that can be eliminated since they are the same. Through a list of unique values for each categorical variable we can see that report_school_year, aggregation_index, and aggregation_type can all be removed since they are all one uniform value each."
   ]
  },
  {
   "cell_type": "code",
   "execution_count": 5,
   "metadata": {
    "colab": {
     "base_uri": "https://localhost:8080/"
    },
    "id": "Q_15N8MxmCQw",
    "outputId": "e03c4a9e-f6fc-45ef-88ab-802ab85102d8"
   },
   "outputs": [
    {
     "data": {
      "text/plain": [
       "{'report_school_year': array(['2018-19'], dtype=object),\n",
       " 'aggregation_index': array([3], dtype=int64),\n",
       " 'aggregation_type': array(['District'], dtype=object),\n",
       " 'aggregation_name': array(['ALBANY CITY SCHOOL DISTRICT',\n",
       "        'BERNE-KNOX-WESTERLO CENTRAL SCHOOL DISTRICT',\n",
       "        'BETHLEHEM CENTRAL SCHOOL DISTRICT',\n",
       "        'RAVENA-COEYMANS-SELKIRK CENTRAL SCHOOL DISTRICT',\n",
       "        'COHOES CITY SCHOOL DISTRICT',\n",
       "        'SOUTH COLONIE CENTRAL SCHOOL DISTRICT', 'NORTH COLONIE CSD',\n",
       "        'GREEN ISLAND UNION FREE SCHOOL DISTRICT',\n",
       "        'GUILDERLAND CENTRAL SCHOOL DISTRICT',\n",
       "        'VOORHEESVILLE CENTRAL SCHOOL DISTRICT',\n",
       "        'WATERVLIET CITY SCHOOL DISTRICT',\n",
       "        'ALFRED-ALMOND CENTRAL SCHOOL DISTRICT',\n",
       "        'ANDOVER CENTRAL SCHOOL DISTRICT',\n",
       "        'GENESEE VALLEY CENTRAL SCHOOL DISTRICT',\n",
       "        'BELFAST CENTRAL SCHOOL DISTRICT',\n",
       "        'CANASERAGA CENTRAL SCHOOL DISTRICT',\n",
       "        'FRIENDSHIP CENTRAL SCHOOL DISTRICT',\n",
       "        'FILLMORE CENTRAL SCHOOL DISTRICT',\n",
       "        'WHITESVILLE CENTRAL SCHOOL DISTRICT',\n",
       "        'CUBA-RUSHFORD CENTRAL SCHOOL DISTRICT',\n",
       "        'SCIO CENTRAL SCHOOL DISTRICT',\n",
       "        'WELLSVILLE CENTRAL SCHOOL DISTRICT',\n",
       "        'BOLIVAR-RICHBURG CENTRAL SCHOOL DISTRICT',\n",
       "        'CHENANGO FORKS CENTRAL SCHOOL DISTRICT',\n",
       "        'BINGHAMTON CITY SCHOOL DISTRICT',\n",
       "        'HARPURSVILLE CENTRAL SCHOOL DISTRICT',\n",
       "        'SUSQUEHANNA VALLEY CENTRAL SCHOOL DISTRICT',\n",
       "        'CHENANGO VALLEY CENTRAL SCHOOL DISTRICT',\n",
       "        'MAINE-ENDWELL CENTRAL SCHOOL DISTRICT',\n",
       "        'DEPOSIT CENTRAL SCHOOL DISTRICT',\n",
       "        'WHITNEY POINT CENTRAL SCHOOL DISTRICT',\n",
       "        'UNION-ENDICOTT CENTRAL SCHOOL DISTRICT',\n",
       "        'JOHNSON CITY CENTRAL SCHOOL DISTRICT',\n",
       "        'VESTAL CENTRAL SCHOOL DISTRICT',\n",
       "        'WINDSOR CENTRAL SCHOOL DISTRICT',\n",
       "        'WEST VALLEY CENTRAL SCHOOL DISTRICT',\n",
       "        'ALLEGANY-LIMESTONE CENTRAL SCHOOL DISTRICT',\n",
       "        'ELLICOTTVILLE CENTRAL SCHOOL DISTRICT',\n",
       "        'FRANKLINVILLE CENTRAL SCHOOL DISTRICT',\n",
       "        'HINSDALE CENTRAL SCHOOL DISTRICT',\n",
       "        'CATTARAUGUS-LITTLE VALLEY CENTRAL SCHOOL DISTRICT',\n",
       "        'OLEAN CITY SCHOOL DISTRICT', 'GOWANDA CENTRAL SCHOOL DISTRICT',\n",
       "        'PORTVILLE CENTRAL SCHOOL DISTRICT',\n",
       "        'RANDOLPH CENTRAL SCHOOL DISTRICT',\n",
       "        'RANDOLPH ACADEMY UNION FREE SCHOOL DISTRICT',\n",
       "        'SALAMANCA CITY SCHOOL DISTRICT',\n",
       "        'YORKSHIRE-PIONEER CENTRAL SCHOOL DISTRICT',\n",
       "        'AUBURN CITY SCHOOL DISTRICT', 'WEEDSPORT CENTRAL SCHOOL DISTRICT',\n",
       "        'CATO-MERIDIAN CENTRAL SCHOOL DISTRICT',\n",
       "        'SOUTHERN CAYUGA CENTRAL SCHOOL DISTRICT',\n",
       "        'PORT BYRON CENTRAL SCHOOL DISTRICT',\n",
       "        'MORAVIA CENTRAL SCHOOL DISTRICT',\n",
       "        'UNION SPRINGS CENTRAL SCHOOL DISTRICT',\n",
       "        'SOUTHWESTERN CENTRAL SCHOOL DISTRICT AT JAMESTOWN',\n",
       "        'FREWSBURG CENTRAL SCHOOL DISTRICT',\n",
       "        'CASSADAGA VALLEY CENTRAL SCHOOL DISTRICT',\n",
       "        'CHAUTAUQUA LAKE CENTRAL SCHOOL DISTRICT',\n",
       "        'PINE VALLEY CENTRAL SCHOOL DISTRICT (SOUTH DAYTON)',\n",
       "        'CLYMER CENTRAL SCHOOL DISTRICT', 'DUNKIRK CITY SCHOOL DISTRICT',\n",
       "        'BEMUS POINT CENTRAL SCHOOL DISTRICT',\n",
       "        'FALCONER CENTRAL SCHOOL DISTRICT',\n",
       "        'SILVER CREEK CENTRAL SCHOOL DISTRICT',\n",
       "        'FORESTVILLE CENTRAL SCHOOL DISTRICT',\n",
       "        'PANAMA CENTRAL SCHOOL DISTRICT', 'JAMESTOWN CITY SCHOOL DISTRICT',\n",
       "        'FREDONIA CENTRAL SCHOOL DISTRICT',\n",
       "        'BROCTON CENTRAL SCHOOL DISTRICT',\n",
       "        'SHERMAN CENTRAL SCHOOL DISTRICT',\n",
       "        'WESTFIELD CENTRAL SCHOOL DISTRICT', 'ELMIRA CITY SCHOOL DISTRICT',\n",
       "        'HORSEHEADS CENTRAL SCHOOL DISTRICT',\n",
       "        'ELMIRA HEIGHTS CENTRAL SCHOOL DISTRICT',\n",
       "        'AFTON CENTRAL SCHOOL DISTRICT',\n",
       "        'BAINBRIDGE-GUILFORD CENTRAL SCHOOL DISTRICT',\n",
       "        'GREENE CENTRAL SCHOOL DISTRICT',\n",
       "        'UNADILLA VALLEY CENTRAL SCHOOL DISTRICT',\n",
       "        'NORWICH CITY SCHOOL DISTRICT',\n",
       "        'GEORGETOWN-SOUTH OTSELIC CENTRAL SCHOOL DISTRICT',\n",
       "        'OXFORD ACADEMY AND CENTRAL SCHOOL DISTRICT',\n",
       "        'SHERBURNE-EARLVILLE CENTRAL SCHOOL DISTRICT',\n",
       "        'AUSABLE VALLEY CENTRAL SCHOOL DISTRICT',\n",
       "        'BEEKMANTOWN CENTRAL SCHOOL DISTRICT',\n",
       "        'NORTHEASTERN CLINTON CENTRAL SCHOOL DISTRICT',\n",
       "        'CHAZY UNION FREE SCHOOL DISTRICT',\n",
       "        'NORTHERN ADIRONDACK CENTRAL SCHOOL DISTRICT',\n",
       "        'PERU CENTRAL SCHOOL DISTRICT', 'PLATTSBURGH CITY SCHOOL DISTRICT',\n",
       "        'SARANAC CENTRAL SCHOOL DISTRICT',\n",
       "        'BERKSHIRE UNION FREE SCHOOL DISTRICT',\n",
       "        'TACONIC HILLS CENTRAL SCHOOL DISTRICT',\n",
       "        'GERMANTOWN CENTRAL SCHOOL DISTRICT',\n",
       "        'CHATHAM CENTRAL SCHOOL DISTRICT', 'HUDSON CITY SCHOOL DISTRICT',\n",
       "        'KINDERHOOK CENTRAL SCHOOL DISTRICT',\n",
       "        'NEW LEBANON CENTRAL SCHOOL DISTRICT',\n",
       "        'CINCINNATUS CENTRAL SCHOOL DISTRICT',\n",
       "        'CORTLAND CITY SCHOOL DISTRICT', 'MCGRAW CENTRAL SCHOOL DISTRICT',\n",
       "        'HOMER CENTRAL SCHOOL DISTRICT',\n",
       "        'MARATHON CENTRAL SCHOOL DISTRICT',\n",
       "        'ANDES CENTRAL SCHOOL DISTRICT',\n",
       "        'DOWNSVILLE CENTRAL SCHOOL DISTRICT',\n",
       "        'CHARLOTTE VALLEY CENTRAL SCHOOL DISTRICT',\n",
       "        'DELAWARE ACADEMY CENTRAL SCHOOL DISTRICT AT DELHI',\n",
       "        'FRANKLIN CENTRAL SCHOOL DISTRICT',\n",
       "        'HANCOCK CENTRAL SCHOOL DISTRICT',\n",
       "        'MARGARETVILLE CENTRAL SCHOOL DISTRICT',\n",
       "        'ROXBURY CENTRAL SCHOOL DISTRICT',\n",
       "        'SIDNEY CENTRAL SCHOOL DISTRICT',\n",
       "        'STAMFORD CENTRAL SCHOOL DISTRICT',\n",
       "        'SOUTH KORTRIGHT CENTRAL SCHOOL DISTRICT',\n",
       "        'WALTON CENTRAL SCHOOL DISTRICT', 'BEACON CITY SCHOOL DISTRICT',\n",
       "        'DOVER UNION FREE SCHOOL DISTRICT',\n",
       "        'HYDE PARK CENTRAL SCHOOL DISTRICT',\n",
       "        'NORTHEAST CENTRAL SCHOOL DISTRICT',\n",
       "        'PAWLING CENTRAL SCHOOL DISTRICT',\n",
       "        'PINE PLAINS CENTRAL SCHOOL DISTRICT',\n",
       "        'POUGHKEEPSIE CITY SCHOOL DISTRICT',\n",
       "        'ARLINGTON CENTRAL SCHOOL DISTRICT',\n",
       "        'SPACKENKILL UNION FREE SCHOOL DISTRICT',\n",
       "        'RED HOOK CENTRAL SCHOOL DISTRICT',\n",
       "        'RHINEBECK CENTRAL SCHOOL DISTRICT',\n",
       "        'WAPPINGERS CENTRAL SCHOOL DISTRICT',\n",
       "        'MILLBROOK CENTRAL SCHOOL DISTRICT',\n",
       "        'ALDEN CENTRAL SCHOOL DISTRICT', 'AMHERST CENTRAL SCHOOL DISTRICT',\n",
       "        'WILLIAMSVILLE CENTRAL SCHOOL DISTRICT',\n",
       "        'SWEET HOME CENTRAL SCHOOL DISTRICT',\n",
       "        'EAST AURORA UNION FREE SCHOOL DISTRICT',\n",
       "        'BUFFALO CITY SCHOOL DISTRICT',\n",
       "        'CHEEKTOWAGA CENTRAL SCHOOL DISTRICT',\n",
       "        'CHEEKTOWAGA-MARYVALE UNION FREE SCHOOL DISTRICT',\n",
       "        'CLEVELAND HILL UNION FREE SCHOOL DISTRICT',\n",
       "        'DEPEW UNION FREE SCHOOL DISTRICT',\n",
       "        'CHEEKTOWAGA-SLOAN UNION FREE SCHOOL DISTRICT',\n",
       "        'CLARENCE CENTRAL SCHOOL DISTRICT',\n",
       "        'SPRINGVILLE-GRIFFITH INSTITUTE CENTRAL SCHOOL DISTRICT',\n",
       "        'EDEN CENTRAL SCHOOL DISTRICT', 'IROQUOIS CENTRAL SCHOOL DISTRICT',\n",
       "        'EVANS-BRANT CENTRAL SCHOOL DISTRICT (LAKE SHORE)',\n",
       "        'GRAND ISLAND CENTRAL SCHOOL DISTRICT',\n",
       "        'HAMBURG CENTRAL SCHOOL DISTRICT',\n",
       "        'FRONTIER CENTRAL SCHOOL DISTRICT',\n",
       "        'HOLLAND CENTRAL SCHOOL DISTRICT',\n",
       "        'LACKAWANNA CITY SCHOOL DISTRICT',\n",
       "        'LANCASTER CENTRAL SCHOOL DISTRICT',\n",
       "        'AKRON CENTRAL SCHOOL DISTRICT',\n",
       "        'NORTH COLLINS CENTRAL SCHOOL DISTRICT',\n",
       "        'ORCHARD PARK CENTRAL SCHOOL DISTRICT',\n",
       "        'TONAWANDA CITY SCHOOL DISTRICT',\n",
       "        'KENMORE-TONAWANDA UNION FREE SCHOOL DISTRICT',\n",
       "        'WEST SENECA CENTRAL SCHOOL DISTRICT',\n",
       "        'CROWN POINT CENTRAL SCHOOL DISTRICT',\n",
       "        'ELIZABETHTOWN-LEWIS CENTRAL SCHOOL DISTRICT',\n",
       "        'KEENE CENTRAL SCHOOL DISTRICT', 'MINERVA CENTRAL SCHOOL DISTRICT',\n",
       "        'MORIAH CENTRAL SCHOOL DISTRICT',\n",
       "        'NEWCOMB CENTRAL SCHOOL DISTRICT',\n",
       "        'LAKE PLACID CENTRAL SCHOOL DISTRICT',\n",
       "        'SCHROON LAKE CENTRAL SCHOOL DISTRICT',\n",
       "        'TICONDEROGA CENTRAL SCHOOL DISTRICT',\n",
       "        'WESTPORT CENTRAL SCHOOL DISTRICT',\n",
       "        'WILLSBORO CENTRAL SCHOOL DISTRICT',\n",
       "        'TUPPER LAKE CENTRAL SCHOOL DISTRICT',\n",
       "        'CHATEAUGAY CENTRAL SCHOOL DISTRICT',\n",
       "        'SALMON RIVER CENTRAL SCHOOL DISTRICT',\n",
       "        'SARANAC LAKE CENTRAL SCHOOL DISTRICT',\n",
       "        'MALONE CENTRAL SCHOOL DISTRICT',\n",
       "        'BRUSHTON-MOIRA CENTRAL SCHOOL DISTRICT',\n",
       "        'SAINT REGIS FALLS CENTRAL SCHOOL DISTRICT',\n",
       "        'GLOVERSVILLE CITY SCHOOL DISTRICT',\n",
       "        'JOHNSTOWN CITY SCHOOL DISTRICT',\n",
       "        'MAYFIELD CENTRAL SCHOOL DISTRICT',\n",
       "        'NORTHVILLE CENTRAL SCHOOL DISTRICT',\n",
       "        'BROADALBIN-PERTH CENTRAL SCHOOL DISTRICT',\n",
       "        'ALEXANDER CENTRAL SCHOOL DISTRICT',\n",
       "        'BATAVIA CITY SCHOOL DISTRICT',\n",
       "        'BYRON-BERGEN CENTRAL SCHOOL DISTRICT',\n",
       "        'ELBA CENTRAL SCHOOL DISTRICT', 'LE ROY CENTRAL SCHOOL DISTRICT',\n",
       "        'OAKFIELD-ALABAMA CENTRAL SCHOOL DISTRICT',\n",
       "        'PAVILION CENTRAL SCHOOL DISTRICT',\n",
       "        'PEMBROKE CENTRAL SCHOOL DISTRICT',\n",
       "        'CAIRO-DURHAM CENTRAL SCHOOL DISTRICT',\n",
       "        'CATSKILL CENTRAL SCHOOL DISTRICT',\n",
       "        'COXSACKIE-ATHENS CENTRAL SCHOOL DISTRICT',\n",
       "        'GREENVILLE CENTRAL SCHOOL DISTRICT',\n",
       "        'HUNTER-TANNERSVILLE CENTRAL SCHOOL DISTRICT',\n",
       "        'WINDHAM-ASHLAND-JEWETT CENTRAL SCHOOL DISTRICT',\n",
       "        'INDIAN LAKE CENTRAL SCHOOL DISTRICT',\n",
       "        'LONG LAKE CENTRAL SCHOOL DISTRICT',\n",
       "        'WELLS CENTRAL SCHOOL DISTRICT',\n",
       "        'WEST CANADA VALLEY CENTRAL SCHOOL DISTRICT',\n",
       "        'FRANKFORT-SCHUYLER CENTRAL SCHOOL DISTRICT',\n",
       "        'HERKIMER CENTRAL SCHOOL DISTRICT',\n",
       "        'LITTLE FALLS CITY SCHOOL DISTRICT',\n",
       "        'DOLGEVILLE CENTRAL SCHOOL DISTRICT',\n",
       "        'POLAND CENTRAL SCHOOL DISTRICT',\n",
       "        'VAN HORNESVILLE-OWEN D YOUNG CENTRAL SCHOOL DISTRICT',\n",
       "        'TOWN OF WEBB UNION FREE SCHOOL DISTRICT',\n",
       "        'MOUNT MARKHAM CENTRAL SCHOOL DISTRICT',\n",
       "        'CENTRAL VALLEY CSD AT ILION-MOHAWK',\n",
       "        'SOUTH JEFFERSON CENTRAL SCHOOL DISTRICT',\n",
       "        'ALEXANDRIA CENTRAL SCHOOL DISTRICT',\n",
       "        'INDIAN RIVER CENTRAL SCHOOL DISTRICT',\n",
       "        'GENERAL BROWN CENTRAL SCHOOL DISTRICT',\n",
       "        'THOUSAND ISLANDS CENTRAL SCHOOL DISTRICT',\n",
       "        'BELLEVILLE-HENDERSON CENTRAL SCHOOL DISTRICT',\n",
       "        'SACKETS HARBOR CENTRAL SCHOOL DISTRICT',\n",
       "        'LYME CENTRAL SCHOOL DISTRICT',\n",
       "        'LA FARGEVILLE CENTRAL SCHOOL DISTRICT',\n",
       "        'WATERTOWN CITY SCHOOL DISTRICT',\n",
       "        'CARTHAGE CENTRAL SCHOOL DISTRICT',\n",
       "        'COPENHAGEN CENTRAL SCHOOL DISTRICT',\n",
       "        'HARRISVILLE CENTRAL SCHOOL DISTRICT',\n",
       "        'LOWVILLE ACADEMY & CENTRAL SCHOOL DISTRICT',\n",
       "        'SOUTH LEWIS CENTRAL SCHOOL DISTRICT',\n",
       "        'BEAVER RIVER CENTRAL SCHOOL DISTRICT',\n",
       "        'AVON CENTRAL SCHOOL DISTRICT',\n",
       "        'CALEDONIA-MUMFORD CENTRAL SCHOOL DISTRICT',\n",
       "        'GENESEO CENTRAL SCHOOL DISTRICT',\n",
       "        'LIVONIA CENTRAL SCHOOL DISTRICT',\n",
       "        'MOUNT MORRIS CENTRAL SCHOOL DISTRICT',\n",
       "        'DANSVILLE CENTRAL SCHOOL DISTRICT',\n",
       "        'DALTON-NUNDA CENTRAL SCHOOL DISTRICT (KESHEQUA)',\n",
       "        'YORK CENTRAL SCHOOL DISTRICT',\n",
       "        'BROOKFIELD CENTRAL SCHOOL DISTRICT',\n",
       "        'CAZENOVIA CENTRAL SCHOOL DISTRICT',\n",
       "        'DERUYTER CENTRAL SCHOOL DISTRICT',\n",
       "        'MORRISVILLE-EATON CENTRAL SCHOOL DISTRICT',\n",
       "        'HAMILTON CENTRAL SCHOOL DISTRICT',\n",
       "        'CANASTOTA CENTRAL SCHOOL DISTRICT',\n",
       "        'MADISON CENTRAL SCHOOL DISTRICT', 'ONEIDA CITY SCHOOL DISTRICT',\n",
       "        'STOCKBRIDGE VALLEY CENTRAL SCHOOL DISTRICT',\n",
       "        'CHITTENANGO CENTRAL SCHOOL DISTRICT',\n",
       "        'BRIGHTON CENTRAL SCHOOL DISTRICT',\n",
       "        'GATES-CHILI CENTRAL SCHOOL DISTRICT',\n",
       "        'GREECE CENTRAL SCHOOL DISTRICT',\n",
       "        'EAST IRONDEQUOIT CENTRAL SCHOOL DISTRICT',\n",
       "        'WEST IRONDEQUOIT CENTRAL SCHOOL DISTRICT',\n",
       "        'HONEOYE FALLS-LIMA CENTRAL SCHOOL DISTRICT',\n",
       "        'SPENCERPORT CENTRAL SCHOOL DISTRICT',\n",
       "        'HILTON CENTRAL SCHOOL DISTRICT',\n",
       "        'PENFIELD CENTRAL SCHOOL DISTRICT',\n",
       "        'FAIRPORT CENTRAL SCHOOL DISTRICT',\n",
       "        'EAST ROCHESTER UNION FREE SCHOOL DISTRICT',\n",
       "        'PITTSFORD CENTRAL SCHOOL DISTRICT',\n",
       "        'CHURCHVILLE-CHILI CENTRAL SCHOOL DISTRICT',\n",
       "        'ROCHESTER CITY SCHOOL DISTRICT',\n",
       "        'RUSH-HENRIETTA CENTRAL SCHOOL DISTRICT',\n",
       "        'BROCKPORT CENTRAL SCHOOL DISTRICT',\n",
       "        'WEBSTER CENTRAL SCHOOL DISTRICT',\n",
       "        'WHEATLAND-CHILI CENTRAL SCHOOL DISTRICT',\n",
       "        'AMSTERDAM CITY SCHOOL DISTRICT',\n",
       "        'CANAJOHARIE CENTRAL SCHOOL DISTRICT',\n",
       "        'FONDA-FULTONVILLE CENTRAL SCHOOL DISTRICT',\n",
       "        'FORT PLAIN CENTRAL SCHOOL DISTRICT',\n",
       "        'OPPENHEIM-EPHRATAH-ST. JOHNSVILLE CSD',\n",
       "        'GLEN COVE CITY SCHOOL DISTRICT',\n",
       "        'HEMPSTEAD UNION FREE SCHOOL DISTRICT',\n",
       "        'UNIONDALE UNION FREE SCHOOL DISTRICT',\n",
       "        'EAST MEADOW UNION FREE SCHOOL DISTRICT',\n",
       "        'LEVITTOWN UNION FREE SCHOOL DISTRICT',\n",
       "        'SEAFORD UNION FREE SCHOOL DISTRICT',\n",
       "        'ROOSEVELT UNION FREE SCHOOL DISTRICT',\n",
       "        'FREEPORT UNION FREE SCHOOL DISTRICT',\n",
       "        'BALDWIN UNION FREE SCHOOL DISTRICT',\n",
       "        'OCEANSIDE UNION FREE SCHOOL DISTRICT',\n",
       "        'MALVERNE UNION FREE SCHOOL DISTRICT',\n",
       "        'HEWLETT-WOODMERE UNION FREE SCHOOL DISTRICT',\n",
       "        'LAWRENCE UNION FREE SCHOOL DISTRICT',\n",
       "        'GARDEN CITY UNION FREE SCHOOL DISTRICT',\n",
       "        'EAST ROCKAWAY UNION FREE SCHOOL DISTRICT',\n",
       "        'LYNBROOK UNION FREE SCHOOL DISTRICT',\n",
       "        'ROCKVILLE CENTRE UNION FREE SCHOOL DISTRICT',\n",
       "        'WANTAGH UNION FREE SCHOOL DISTRICT',\n",
       "        'ISLAND TREES UNION FREE SCHOOL DISTRICT',\n",
       "        'WEST HEMPSTEAD UNION FREE SCHOOL DISTRICT',\n",
       "        'VALLEY STREAM CENTRAL HIGH SCHOOL DISTRICT',\n",
       "        'SEWANHAKA CENTRAL HIGH SCHOOL DISTRICT',\n",
       "        'BELLMORE-MERRICK CENTRAL HIGH SCHOOL DISTRICT',\n",
       "        'LONG BEACH CITY SCHOOL DISTRICT',\n",
       "        'WESTBURY UNION FREE SCHOOL DISTRICT',\n",
       "        'EAST WILLISTON UNION FREE SCHOOL DISTRICT',\n",
       "        'ROSLYN UNION FREE SCHOOL DISTRICT',\n",
       "        'PORT WASHINGTON UNION FREE SCHOOL DISTRICT',\n",
       "        'MANHASSET UNION FREE SCHOOL DISTRICT',\n",
       "        'GREAT NECK UNION FREE SCHOOL DISTRICT',\n",
       "        'HERRICKS UNION FREE SCHOOL DISTRICT',\n",
       "        'MINEOLA UNION FREE SCHOOL DISTRICT',\n",
       "        'CARLE PLACE UNION FREE SCHOOL DISTRICT',\n",
       "        'NORTH SHORE CENTRAL SCHOOL DISTRICT',\n",
       "        'SYOSSET CENTRAL SCHOOL DISTRICT',\n",
       "        'LOCUST VALLEY CENTRAL SCHOOL DISTRICT',\n",
       "        'PLAINVIEW-OLD BETHPAGE CENTRAL SCHOOL DISTRICT',\n",
       "        'OYSTER BAY-EAST NORWICH CENTRAL SCHOOL DISTRICT',\n",
       "        'JERICHO UNION FREE SCHOOL DISTRICT',\n",
       "        'HICKSVILLE UNION FREE SCHOOL DISTRICT',\n",
       "        'PLAINEDGE UNION FREE SCHOOL DISTRICT',\n",
       "        'BETHPAGE UNION FREE SCHOOL DISTRICT',\n",
       "        'FARMINGDALE UNION FREE SCHOOL DISTRICT',\n",
       "        'MASSAPEQUA UNION FREE SCHOOL DISTRICT',\n",
       "        'NEW YORK CITY GEOGRAPHIC DISTRICT # 1',\n",
       "        'NEW YORK CITY GEOGRAPHIC DISTRICT # 2',\n",
       "        'NEW YORK CITY GEOGRAPHIC DISTRICT # 3',\n",
       "        'NEW YORK CITY GEOGRAPHIC DISTRICT # 4',\n",
       "        'NEW YORK CITY GEOGRAPHIC DISTRICT # 5',\n",
       "        'NEW YORK CITY GEOGRAPHIC DISTRICT # 6',\n",
       "        'NEW YORK CITY GEOGRAPHIC DISTRICT # 7',\n",
       "        'NEW YORK CITY GEOGRAPHIC DISTRICT # 8',\n",
       "        'NEW YORK CITY GEOGRAPHIC DISTRICT # 9',\n",
       "        'NEW YORK CITY GEOGRAPHIC DISTRICT #10',\n",
       "        'NEW YORK CITY GEOGRAPHIC DISTRICT #11',\n",
       "        'NEW YORK CITY GEOGRAPHIC DISTRICT #12',\n",
       "        'NEW YORK CITY GEOGRAPHIC DISTRICT #13',\n",
       "        'NEW YORK CITY GEOGRAPHIC DISTRICT #14',\n",
       "        'NEW YORK CITY GEOGRAPHIC DISTRICT #15',\n",
       "        'NEW YORK CITY GEOGRAPHIC DISTRICT #16',\n",
       "        'NEW YORK CITY GEOGRAPHIC DISTRICT #17',\n",
       "        'NEW YORK CITY GEOGRAPHIC DISTRICT #18',\n",
       "        'NEW YORK CITY GEOGRAPHIC DISTRICT #19',\n",
       "        'NEW YORK CITY GEOGRAPHIC DISTRICT #20',\n",
       "        'NEW YORK CITY GEOGRAPHIC DISTRICT #21',\n",
       "        'NEW YORK CITY GEOGRAPHIC DISTRICT #22',\n",
       "        'NEW YORK CITY GEOGRAPHIC DISTRICT #23',\n",
       "        'NEW YORK CITY GEOGRAPHIC DISTRICT #32',\n",
       "        'NEW YORK CITY GEOGRAPHIC DISTRICT #24',\n",
       "        'NEW YORK CITY GEOGRAPHIC DISTRICT #25',\n",
       "        'NEW YORK CITY GEOGRAPHIC DISTRICT #26',\n",
       "        'NEW YORK CITY GEOGRAPHIC DISTRICT #27',\n",
       "        'NEW YORK CITY GEOGRAPHIC DISTRICT #28',\n",
       "        'NEW YORK CITY GEOGRAPHIC DISTRICT #29',\n",
       "        'NEW YORK CITY GEOGRAPHIC DISTRICT #30',\n",
       "        'NEW YORK CITY GEOGRAPHIC DISTRICT #31',\n",
       "        'LEWISTON-PORTER CENTRAL SCHOOL DISTRICT',\n",
       "        'LOCKPORT CITY SCHOOL DISTRICT', 'NEWFANE CENTRAL SCHOOL DISTRICT',\n",
       "        'NIAGARA-WHEATFIELD CENTRAL SCHOOL DISTRICT',\n",
       "        'NIAGARA FALLS CITY SCHOOL DISTRICT',\n",
       "        'NORTH TONAWANDA CITY SCHOOL DISTRICT',\n",
       "        'STARPOINT CENTRAL SCHOOL DISTRICT',\n",
       "        'ROYALTON-HARTLAND CENTRAL SCHOOL DISTRICT',\n",
       "        'BARKER CENTRAL SCHOOL DISTRICT', 'WILSON CENTRAL SCHOOL DISTRICT',\n",
       "        'ADIRONDACK CENTRAL SCHOOL DISTRICT',\n",
       "        'CAMDEN CENTRAL SCHOOL DISTRICT',\n",
       "        'CLINTON CENTRAL SCHOOL DISTRICT',\n",
       "        'NEW HARTFORD CENTRAL SCHOOL DISTRICT',\n",
       "        'NEW YORK MILLS UNION FREE SCHOOL DISTRICT',\n",
       "        'SAUQUOIT VALLEY CENTRAL SCHOOL DISTRICT',\n",
       "        'REMSEN CENTRAL SCHOOL DISTRICT', 'ROME CITY SCHOOL DISTRICT',\n",
       "        'WATERVILLE CENTRAL SCHOOL DISTRICT',\n",
       "        'SHERRILL CITY SCHOOL DISTRICT',\n",
       "        'HOLLAND PATENT CENTRAL SCHOOL DISTRICT',\n",
       "        'UTICA CITY SCHOOL DISTRICT',\n",
       "        'WESTMORELAND CENTRAL SCHOOL DISTRICT',\n",
       "        'ORISKANY CENTRAL SCHOOL DISTRICT',\n",
       "        'WHITESBORO CENTRAL SCHOOL DISTRICT',\n",
       "        'WEST GENESEE CENTRAL SCHOOL DISTRICT',\n",
       "        'NORTH SYRACUSE CENTRAL SCHOOL DISTRICT',\n",
       "        'EAST SYRACUSE MINOA CENTRAL SCHOOL DISTRICT',\n",
       "        'JAMESVILLE-DEWITT CENTRAL SCHOOL DISTRICT',\n",
       "        'JORDAN-ELBRIDGE CENTRAL SCHOOL DISTRICT',\n",
       "        'FABIUS-POMPEY CENTRAL SCHOOL DISTRICT',\n",
       "        'WESTHILL CENTRAL SCHOOL DISTRICT',\n",
       "        'SOLVAY UNION FREE SCHOOL DISTRICT',\n",
       "        'LAFAYETTE CENTRAL SCHOOL DISTRICT',\n",
       "        'BALDWINSVILLE CENTRAL SCHOOL DISTRICT',\n",
       "        'FAYETTEVILLE-MANLIUS CENTRAL SCHOOL DISTRICT',\n",
       "        'MARCELLUS CENTRAL SCHOOL DISTRICT',\n",
       "        'ONONDAGA CENTRAL SCHOOL DISTRICT',\n",
       "        'LIVERPOOL CENTRAL SCHOOL DISTRICT',\n",
       "        'SKANEATELES CENTRAL SCHOOL DISTRICT',\n",
       "        'SYRACUSE CITY SCHOOL DISTRICT', 'TULLY CENTRAL SCHOOL DISTRICT',\n",
       "        'CANANDAIGUA CITY SCHOOL DISTRICT',\n",
       "        'EAST BLOOMFIELD CENTRAL SCHOOL DISTRICT',\n",
       "        'GENEVA CITY SCHOOL DISTRICT',\n",
       "        'GORHAM-MIDDLESEX CENTRAL SCHOOL DISTRICT (MARCUS WHITMAN)',\n",
       "        'MANCHESTER-SHORTSVILLE CENTRAL SCHOOL DISTRICT (RED JACKET)',\n",
       "        'NAPLES CENTRAL SCHOOL DISTRICT',\n",
       "        'PHELPS-CLIFTON SPRINGS CENTRAL SCHOOL DISTRICT',\n",
       "        'HONEOYE CENTRAL SCHOOL DISTRICT',\n",
       "        'VICTOR CENTRAL SCHOOL DISTRICT',\n",
       "        'WASHINGTONVILLE CENTRAL SCHOOL DISTRICT',\n",
       "        'CHESTER UNION FREE SCHOOL DISTRICT',\n",
       "        'CORNWALL CENTRAL SCHOOL DISTRICT',\n",
       "        'PINE BUSH CENTRAL SCHOOL DISTRICT',\n",
       "        'GOSHEN CENTRAL SCHOOL DISTRICT',\n",
       "        'HIGHLAND FALLS CENTRAL SCHOOL DISTRICT',\n",
       "        'MIDDLETOWN CITY SCHOOL DISTRICT',\n",
       "        'MINISINK VALLEY CENTRAL SCHOOL DISTRICT',\n",
       "        'MONROE-WOODBURY CENTRAL SCHOOL DISTRICT',\n",
       "        'KIRYAS JOEL VILLAGE UNION FREE SCHOOL DISTRICT',\n",
       "        'VALLEY CENTRAL SCHOOL DISTRICT (MONTGOMERY)',\n",
       "        'NEWBURGH CITY SCHOOL DISTRICT',\n",
       "        'PORT JERVIS CITY SCHOOL DISTRICT',\n",
       "        'TUXEDO UNION FREE SCHOOL DISTRICT',\n",
       "        'WARWICK VALLEY CENTRAL SCHOOL DISTRICT',\n",
       "        'FLORIDA UNION FREE SCHOOL DISTRICT',\n",
       "        'ALBION CENTRAL SCHOOL DISTRICT',\n",
       "        'KENDALL CENTRAL SCHOOL DISTRICT',\n",
       "        'HOLLEY CENTRAL SCHOOL DISTRICT', 'MEDINA CENTRAL SCHOOL DISTRICT',\n",
       "        'LYNDONVILLE CENTRAL SCHOOL DISTRICT',\n",
       "        'ALTMAR-PARISH-WILLIAMSTOWN CENTRAL SCHOOL DISTRICT',\n",
       "        'FULTON CITY SCHOOL DISTRICT', 'HANNIBAL CENTRAL SCHOOL DISTRICT',\n",
       "        'CENTRAL SQUARE CENTRAL SCHOOL DISTRICT',\n",
       "        'MEXICO CENTRAL SCHOOL DISTRICT', 'OSWEGO CITY SCHOOL DISTRICT',\n",
       "        'PULASKI CENTRAL SCHOOL DISTRICT',\n",
       "        'SANDY CREEK CENTRAL SCHOOL DISTRICT',\n",
       "        'PHOENIX CENTRAL SCHOOL DISTRICT',\n",
       "        'GILBERTSVILLE-MOUNT UPTON CENTRAL SCHOOL DISTRICT',\n",
       "        'EDMESTON CENTRAL SCHOOL DISTRICT',\n",
       "        'LAURENS CENTRAL SCHOOL DISTRICT',\n",
       "        'SCHENEVUS CENTRAL SCHOOL DISTRICT',\n",
       "        'MILFORD CENTRAL SCHOOL DISTRICT',\n",
       "        'MORRIS CENTRAL SCHOOL DISTRICT', 'ONEONTA CITY SCHOOL DISTRICT',\n",
       "        'OTEGO-UNADILLA CENTRAL SCHOOL DISTRICT',\n",
       "        'COOPERSTOWN CENTRAL SCHOOL DISTRICT',\n",
       "        'RICHFIELD SPRINGS CENTRAL SCHOOL DISTRICT',\n",
       "        'CHERRY VALLEY-SPRINGFIELD CENTRAL SCHOOL DISTRICT',\n",
       "        'WORCESTER CENTRAL SCHOOL DISTRICT',\n",
       "        'MAHOPAC CENTRAL SCHOOL DISTRICT',\n",
       "        'CARMEL CENTRAL SCHOOL DISTRICT',\n",
       "        'HALDANE CENTRAL SCHOOL DISTRICT',\n",
       "        'PUTNAM VALLEY CENTRAL SCHOOL DISTRICT',\n",
       "        'BREWSTER CENTRAL SCHOOL DISTRICT',\n",
       "        'BERLIN CENTRAL SCHOOL DISTRICT',\n",
       "        'BRUNSWICK CENTRAL SCHOOL DISTRICT (BRITTONKILL)',\n",
       "        'EAST GREENBUSH CENTRAL SCHOOL DISTRICT',\n",
       "        'HOOSICK FALLS CENTRAL SCHOOL DISTRICT',\n",
       "        'LANSINGBURGH CENTRAL SCHOOL DISTRICT',\n",
       "        'RENSSELAER CITY SCHOOL DISTRICT',\n",
       "        'AVERILL PARK CENTRAL SCHOOL DISTRICT',\n",
       "        'HOOSIC VALLEY CENTRAL SCHOOL DISTRICT',\n",
       "        'SCHODACK CENTRAL SCHOOL DISTRICT', 'TROY CITY SCHOOL DISTRICT',\n",
       "        'CLARKSTOWN CENTRAL SCHOOL DISTRICT',\n",
       "        'NANUET UNION FREE SCHOOL DISTRICT',\n",
       "        'HAVERSTRAW-STONY POINT CSD (NORTH ROCKLAND)',\n",
       "        'SOUTH ORANGETOWN CENTRAL SCHOOL DISTRICT',\n",
       "        'NYACK UNION FREE SCHOOL DISTRICT',\n",
       "        'PEARL RIVER UNION FREE SCHOOL DISTRICT',\n",
       "        'SUFFERN CENTRAL SCHOOL DISTRICT',\n",
       "        'EAST RAMAPO CENTRAL SCHOOL DISTRICT (SPRING VALLEY)',\n",
       "        'BRASHER FALLS CENTRAL SCHOOL DISTRICT',\n",
       "        'CANTON CENTRAL SCHOOL DISTRICT',\n",
       "        'CLIFTON-FINE CENTRAL SCHOOL DISTRICT',\n",
       "        'COLTON-PIERREPONT CENTRAL SCHOOL DISTRICT',\n",
       "        'GOUVERNEUR CENTRAL SCHOOL DISTRICT',\n",
       "        'HAMMOND CENTRAL SCHOOL DISTRICT',\n",
       "        'HERMON-DEKALB CENTRAL SCHOOL DISTRICT',\n",
       "        'LISBON CENTRAL SCHOOL DISTRICT',\n",
       "        'MADRID-WADDINGTON CENTRAL SCHOOL DISTRICT',\n",
       "        'MASSENA CENTRAL SCHOOL DISTRICT',\n",
       "        'MORRISTOWN CENTRAL SCHOOL DISTRICT',\n",
       "        'NORWOOD-NORFOLK CENTRAL SCHOOL DISTRICT',\n",
       "        'OGDENSBURG CITY SCHOOL DISTRICT',\n",
       "        'HEUVELTON CENTRAL SCHOOL DISTRICT',\n",
       "        'PARISHVILLE-HOPKINTON CENTRAL SCHOOL DISTRICT',\n",
       "        'POTSDAM CENTRAL SCHOOL DISTRICT',\n",
       "        'EDWARDS-KNOX CENTRAL SCHOOL DISTRICT',\n",
       "        'BURNT HILLS-BALLSTON LAKE CENTRAL SCHOOL DISTRICT',\n",
       "        'SHENENDEHOWA CENTRAL SCHOOL DISTRICT',\n",
       "        'CORINTH CENTRAL SCHOOL DISTRICT',\n",
       "        'GALWAY CENTRAL SCHOOL DISTRICT',\n",
       "        'MECHANICVILLE CITY SCHOOL DISTRICT',\n",
       "        'BALLSTON SPA CENTRAL SCHOOL DISTRICT',\n",
       "        'SOUTH GLENS FALLS CENTRAL SCHOOL DISTRICT',\n",
       "        'SCHUYLERVILLE CENTRAL SCHOOL DISTRICT',\n",
       "        'THE ENLARGED CITY SCHOOL DISTRICT OF THE CITY OF SARATOGA SP',\n",
       "        'STILLWATER CENTRAL SCHOOL DISTRICT',\n",
       "        'WATERFORD-HALFMOON UNION FREE SCHOOL DISTRICT',\n",
       "        'DUANESBURG CENTRAL SCHOOL DISTRICT',\n",
       "        'SCOTIA-GLENVILLE CENTRAL SCHOOL DISTRICT',\n",
       "        'NISKAYUNA CENTRAL SCHOOL DISTRICT',\n",
       "        'SCHALMONT CENTRAL SCHOOL DISTRICT',\n",
       "        'ROTTERDAM-MOHONASEN CENTRAL SCHOOL DISTRICT',\n",
       "        'SCHENECTADY CITY SCHOOL DISTRICT',\n",
       "        'GILBOA-CONESVILLE CENTRAL SCHOOL DISTRICT',\n",
       "        'JEFFERSON CENTRAL SCHOOL DISTRICT',\n",
       "        'MIDDLEBURGH CENTRAL SCHOOL DISTRICT',\n",
       "        'COBLESKILL-RICHMONDVILLE CENTRAL SCHOOL DISTRICT',\n",
       "        'SCHOHARIE CENTRAL SCHOOL DISTRICT',\n",
       "        'SHARON SPRINGS CENTRAL SCHOOL DISTRICT',\n",
       "        'ODESSA-MONTOUR CENTRAL SCHOOL DISTRICT',\n",
       "        'WATKINS GLEN CENTRAL SCHOOL DISTRICT',\n",
       "        'SOUTH SENECA CENTRAL SCHOOL DISTRICT',\n",
       "        'ROMULUS CENTRAL SCHOOL DISTRICT',\n",
       "        'SENECA FALLS CENTRAL SCHOOL DISTRICT',\n",
       "        'WATERLOO CENTRAL SCHOOL DISTRICT',\n",
       "        'ADDISON CENTRAL SCHOOL DISTRICT', 'AVOCA CENTRAL SCHOOL DISTRICT',\n",
       "        'BATH CENTRAL SCHOOL DISTRICT', 'BRADFORD CENTRAL SCHOOL DISTRICT',\n",
       "        'CAMPBELL-SAVONA CENTRAL SCHOOL DISTRICT',\n",
       "        'CORNING CITY SCHOOL DISTRICT', 'CANISTEO-GREENWOOD CSD',\n",
       "        'HORNELL CITY SCHOOL DISTRICT', 'ARKPORT CENTRAL SCHOOL DISTRICT',\n",
       "        'PRATTSBURGH CENTRAL SCHOOL DISTRICT',\n",
       "        'JASPER-TROUPSBURG CENTRAL SCHOOL DISTRICT',\n",
       "        'HAMMONDSPORT CENTRAL SCHOOL DISTRICT',\n",
       "        'WAYLAND-COHOCTON CENTRAL SCHOOL DISTRICT',\n",
       "        'BABYLON UNION FREE SCHOOL DISTRICT',\n",
       "        'WEST BABYLON UNION FREE SCHOOL DISTRICT',\n",
       "        'NORTH BABYLON UNION FREE SCHOOL DISTRICT',\n",
       "        'LINDENHURST UNION FREE SCHOOL DISTRICT',\n",
       "        'COPIAGUE UNION FREE SCHOOL DISTRICT',\n",
       "        'AMITYVILLE UNION FREE SCHOOL DISTRICT',\n",
       "        'DEER PARK UNION FREE SCHOOL DISTRICT',\n",
       "        'WYANDANCH UNION FREE SCHOOL DISTRICT',\n",
       "        'THREE VILLAGE CENTRAL SCHOOL DISTRICT',\n",
       "        'BROOKHAVEN-COMSEWOGUE UNION FREE SCHOOL DISTRICT',\n",
       "        'SACHEM CENTRAL SCHOOL DISTRICT',\n",
       "        'PORT JEFFERSON UNION FREE SCHOOL DISTRICT',\n",
       "        'MOUNT SINAI UNION FREE SCHOOL DISTRICT',\n",
       "        'MILLER PLACE UNION FREE SCHOOL DISTRICT',\n",
       "        'ROCKY POINT UNION FREE SCHOOL DISTRICT',\n",
       "        'MIDDLE COUNTRY CENTRAL SCHOOL DISTRICT',\n",
       "        'LONGWOOD CENTRAL SCHOOL DISTRICT',\n",
       "        'PATCHOGUE-MEDFORD UNION FREE SCHOOL DISTRICT',\n",
       "        'WILLIAM FLOYD UNION FREE SCHOOL DISTRICT',\n",
       "        'CENTER MORICHES UNION FREE SCHOOL DISTRICT',\n",
       "        'SOUTH COUNTRY CENTRAL SCHOOL DISTRICT',\n",
       "        'EAST HAMPTON UNION FREE SCHOOL DISTRICT',\n",
       "        'SAG HARBOR UNION FREE SCHOOL DISTRICT',\n",
       "        'ELWOOD UNION FREE SCHOOL DISTRICT',\n",
       "        'COLD SPRING HARBOR CENTRAL SCHOOL DISTRICT',\n",
       "        'HUNTINGTON UNION FREE SCHOOL DISTRICT',\n",
       "        'NORTHPORT-EAST NORTHPORT UNION FREE SCHOOL DISTRICT',\n",
       "        'HALF HOLLOW HILLS CENTRAL SCHOOL DISTRICT',\n",
       "        'HARBORFIELDS CENTRAL SCHOOL DISTRICT',\n",
       "        'COMMACK UNION FREE SCHOOL DISTRICT',\n",
       "        'SOUTH HUNTINGTON UNION FREE SCHOOL DISTRICT',\n",
       "        'BAY SHORE UNION FREE SCHOOL DISTRICT',\n",
       "        'ISLIP UNION FREE SCHOOL DISTRICT',\n",
       "        'EAST ISLIP UNION FREE SCHOOL DISTRICT',\n",
       "        'SAYVILLE UNION FREE SCHOOL DISTRICT',\n",
       "        'BAYPORT-BLUE POINT UNION FREE SCHOOL DISTRICT',\n",
       "        'HAUPPAUGE UNION FREE SCHOOL DISTRICT',\n",
       "        'CONNETQUOT CENTRAL SCHOOL DISTRICT',\n",
       "        'WEST ISLIP UNION FREE SCHOOL DISTRICT',\n",
       "        'BRENTWOOD UNION FREE SCHOOL DISTRICT',\n",
       "        'CENTRAL ISLIP UNION FREE SCHOOL DISTRICT',\n",
       "        'SHOREHAM-WADING RIVER CENTRAL SCHOOL DISTRICT',\n",
       "        'RIVERHEAD CENTRAL SCHOOL DISTRICT',\n",
       "        'LITTLE FLOWER UNION FREE SCHOOL DISTRICT',\n",
       "        'SHELTER ISLAND UNION FREE SCHOOL DISTRICT',\n",
       "        'SMITHTOWN CENTRAL SCHOOL DISTRICT',\n",
       "        'KINGS PARK CENTRAL SCHOOL DISTRICT',\n",
       "        'WESTHAMPTON BEACH UNION FREE SCHOOL DISTRICT',\n",
       "        'HAMPTON BAYS UNION FREE SCHOOL DISTRICT',\n",
       "        'SOUTHAMPTON UNION FREE SCHOOL DISTRICT',\n",
       "        'BRIDGEHAMPTON UNION FREE SCHOOL DISTRICT',\n",
       "        'EASTPORT-SOUTH MANOR CSD',\n",
       "        'FISHERS ISLAND UNION FREE SCHOOL DISTRICT',\n",
       "        'SOUTHOLD UNION FREE SCHOOL DISTRICT',\n",
       "        'GREENPORT UNION FREE SCHOOL DISTRICT',\n",
       "        'MATTITUCK-CUTCHOGUE UNION FREE SCHOOL DISTRICT',\n",
       "        'FALLSBURG CENTRAL SCHOOL DISTRICT',\n",
       "        'ELDRED CENTRAL SCHOOL DISTRICT',\n",
       "        'LIBERTY CENTRAL SCHOOL DISTRICT',\n",
       "        'TRI-VALLEY CENTRAL SCHOOL DISTRICT',\n",
       "        'ROSCOE CENTRAL SCHOOL DISTRICT',\n",
       "        'LIVINGSTON MANOR CENTRAL SCHOOL DISTRICT',\n",
       "        'MONTICELLO CENTRAL SCHOOL DISTRICT',\n",
       "        'SULLIVAN WEST CENTRAL SCHOOL DISTRICT',\n",
       "        'WAVERLY CENTRAL SCHOOL DISTRICT',\n",
       "        'CANDOR CENTRAL SCHOOL DISTRICT',\n",
       "        'NEWARK VALLEY CENTRAL SCHOOL DISTRICT',\n",
       "        'OWEGO-APALACHIN CENTRAL SCHOOL DISTRICT',\n",
       "        'SPENCER-VAN ETTEN CENTRAL SCHOOL DISTRICT',\n",
       "        'TIOGA CENTRAL SCHOOL DISTRICT', 'DRYDEN CENTRAL SCHOOL DISTRICT',\n",
       "        'GEORGE JUNIOR REPUBLIC UNION FREE SCHOOL DISTRICT',\n",
       "        'GROTON CENTRAL SCHOOL DISTRICT', 'ITHACA CITY SCHOOL DISTRICT',\n",
       "        'LANSING CENTRAL SCHOOL DISTRICT',\n",
       "        'NEWFIELD CENTRAL SCHOOL DISTRICT',\n",
       "        'TRUMANSBURG CENTRAL SCHOOL DISTRICT',\n",
       "        'KINGSTON CITY SCHOOL DISTRICT',\n",
       "        'HIGHLAND CENTRAL SCHOOL DISTRICT',\n",
       "        'RONDOUT VALLEY CENTRAL SCHOOL DISTRICT',\n",
       "        'MARLBORO CENTRAL SCHOOL DISTRICT',\n",
       "        'NEW PALTZ CENTRAL SCHOOL DISTRICT',\n",
       "        'ONTEORA CENTRAL SCHOOL DISTRICT',\n",
       "        'SAUGERTIES CENTRAL SCHOOL DISTRICT',\n",
       "        'WALLKILL CENTRAL SCHOOL DISTRICT',\n",
       "        'ELLENVILLE CENTRAL SCHOOL DISTRICT',\n",
       "        'BOLTON CENTRAL SCHOOL DISTRICT',\n",
       "        'NORTH WARREN CENTRAL SCHOOL DISTRICT',\n",
       "        'GLENS FALLS CITY SCHOOL DISTRICT',\n",
       "        'JOHNSBURG CENTRAL SCHOOL DISTRICT',\n",
       "        'LAKE GEORGE CENTRAL SCHOOL DISTRICT',\n",
       "        'HADLEY-LUZERNE CENTRAL SCHOOL DISTRICT',\n",
       "        'QUEENSBURY UNION FREE SCHOOL DISTRICT',\n",
       "        'WARRENSBURG CENTRAL SCHOOL DISTRICT',\n",
       "        'ARGYLE CENTRAL SCHOOL DISTRICT',\n",
       "        'FORT ANN CENTRAL SCHOOL DISTRICT',\n",
       "        'FORT EDWARD UNION FREE SCHOOL DISTRICT',\n",
       "        'GRANVILLE CENTRAL SCHOOL DISTRICT',\n",
       "        'GREENWICH CENTRAL SCHOOL DISTRICT',\n",
       "        'HARTFORD CENTRAL SCHOOL DISTRICT',\n",
       "        'HUDSON FALLS CENTRAL SCHOOL DISTRICT',\n",
       "        'SALEM CENTRAL SCHOOL DISTRICT',\n",
       "        'CAMBRIDGE CENTRAL SCHOOL DISTRICT',\n",
       "        'WHITEHALL CENTRAL SCHOOL DISTRICT',\n",
       "        'NEWARK CENTRAL SCHOOL DISTRICT',\n",
       "        'CLYDE-SAVANNAH CENTRAL SCHOOL DISTRICT',\n",
       "        'LYONS CENTRAL SCHOOL DISTRICT', 'MARION CENTRAL SCHOOL DISTRICT',\n",
       "        'WAYNE CENTRAL SCHOOL DISTRICT',\n",
       "        'PALMYRA-MACEDON CENTRAL SCHOOL DISTRICT',\n",
       "        'GANANDA CENTRAL SCHOOL DISTRICT', 'SODUS CENTRAL SCHOOL DISTRICT',\n",
       "        'WILLIAMSON CENTRAL SCHOOL DISTRICT',\n",
       "        'NORTH ROSE-WOLCOTT CENTRAL SCHOOL DISTRICT',\n",
       "        'RED CREEK CENTRAL SCHOOL DISTRICT',\n",
       "        'KATONAH-LEWISBORO UNION FREE SCHOOL DISTRICT',\n",
       "        'BEDFORD CENTRAL SCHOOL DISTRICT',\n",
       "        'CROTON-HARMON UNION FREE SCHOOL DISTRICT',\n",
       "        'HENDRICK HUDSON CENTRAL SCHOOL DISTRICT',\n",
       "        'EASTCHESTER UNION FREE SCHOOL DISTRICT',\n",
       "        'TUCKAHOE UNION FREE SCHOOL DISTRICT',\n",
       "        'BRONXVILLE UNION FREE SCHOOL DISTRICT',\n",
       "        'UNION FREE SCHOOL DISTRICT OF THE TARRYTOWNS',\n",
       "        'IRVINGTON UNION FREE SCHOOL DISTRICT',\n",
       "        'DOBBS FERRY UNION FREE SCHOOL DISTRICT',\n",
       "        'HASTINGS-ON-HUDSON UNION FREE SCHOOL DISTRICT',\n",
       "        'ARDSLEY UNION FREE SCHOOL DISTRICT',\n",
       "        'EDGEMONT UNION FREE SCHOOL DISTRICT',\n",
       "        'GREENBURGH CENTRAL SCHOOL DISTRICT',\n",
       "        'ELMSFORD UNION FREE SCHOOL DISTRICT',\n",
       "        'GREENBURGH-GRAHAM UNION FREE SCHOOL DISTRICT',\n",
       "        'GREENBURGH ELEVEN UNION FREE SCHOOL DISTRICT',\n",
       "        'GREENBURGH-NORTH CASTLE UNION FREE SCHOOL DISTRICT',\n",
       "        'HARRISON CENTRAL SCHOOL DISTRICT',\n",
       "        'MAMARONECK UNION FREE SCHOOL DISTRICT',\n",
       "        'MOUNT PLEASANT CENTRAL SCHOOL DISTRICT',\n",
       "        'HAWTHORNE-CEDAR KNOLLS UNION FREE SCHOOL DISTRICT',\n",
       "        'MOUNT PLEASANT-COTTAGE UNION FREE SCHOOL DISTRICT',\n",
       "        'VALHALLA UNION FREE SCHOOL DISTRICT',\n",
       "        'MOUNT PLEASANT-BLYTHEDALE UNION FREE SCHOOL DISTRICT',\n",
       "        'PLEASANTVILLE UNION FREE SCHOOL DISTRICT',\n",
       "        'MOUNT VERNON SCHOOL DISTRICT',\n",
       "        'CHAPPAQUA CENTRAL SCHOOL DISTRICT',\n",
       "        'NEW ROCHELLE CITY SCHOOL DISTRICT',\n",
       "        'BYRAM HILLS CENTRAL SCHOOL DISTRICT',\n",
       "        'NORTH SALEM CENTRAL SCHOOL DISTRICT',\n",
       "        'OSSINING UNION FREE SCHOOL DISTRICT',\n",
       "        'BRIARCLIFF MANOR UNION FREE SCHOOL DISTRICT',\n",
       "        'PEEKSKILL CITY SCHOOL DISTRICT',\n",
       "        'PELHAM UNION FREE SCHOOL DISTRICT', 'RYE CITY SCHOOL DISTRICT',\n",
       "        'RYE NECK UNION FREE SCHOOL DISTRICT',\n",
       "        'PORT CHESTER-RYE UNION FREE SCHOOL DISTRICT',\n",
       "        'BLIND BROOK-RYE UNION FREE SCHOOL DISTRICT',\n",
       "        'SCARSDALE UNION FREE SCHOOL DISTRICT',\n",
       "        'SOMERS CENTRAL SCHOOL DISTRICT',\n",
       "        'WHITE PLAINS CITY SCHOOL DISTRICT',\n",
       "        'YONKERS CITY SCHOOL DISTRICT', 'LAKELAND CENTRAL SCHOOL DISTRICT',\n",
       "        'YORKTOWN CENTRAL SCHOOL DISTRICT',\n",
       "        'ATTICA CENTRAL SCHOOL DISTRICT',\n",
       "        'LETCHWORTH CENTRAL SCHOOL DISTRICT',\n",
       "        'PERRY CENTRAL SCHOOL DISTRICT', 'WARSAW CENTRAL SCHOOL DISTRICT',\n",
       "        'PENN YAN CENTRAL SCHOOL DISTRICT',\n",
       "        'DUNDEE CENTRAL SCHOOL DISTRICT'], dtype=object),\n",
       " 'nrc_code': array([3, 5, 6, 4, 2, 1], dtype=int64),\n",
       " 'nrc_desc': array(['Urban-Suburban High Needs', 'Average Needs', 'Low Needs',\n",
       "        'Rural High Needs', 'Buffalo  Rochester  Yonkers  Syracuse', 'NYC'],\n",
       "       dtype=object),\n",
       " 'county_code': array([ 1,  2,  3,  4,  5,  6,  7,  8,  9, 10, 11, 12, 13, 14, 15, 16, 17,\n",
       "        18, 19, 20, 21, 22, 23, 24, 25, 26, 27, 28, 31, 32, 33, 34, 35, 40,\n",
       "        41, 42, 43, 44, 45, 46, 47, 48, 49, 50, 51, 52, 53, 54, 55, 56, 57,\n",
       "        58, 59, 60, 61, 62, 63, 64, 65, 66, 67, 68], dtype=int64),\n",
       " 'county_name': array(['ALBANY', 'ALLEGANY', 'BROOME', 'CATTARAUGUS', 'CAYUGA',\n",
       "        'CHAUTAUQUA', 'CHEMUNG', 'CHENANGO', 'CLINTON', 'COLUMBIA',\n",
       "        'CORTLAND', 'DELAWARE', 'DUTCHESS', 'ERIE', 'ESSEX', 'FRANKLIN',\n",
       "        'FULTON', 'GENESEE', 'GREENE', 'HAMILTON', 'HERKIMER', 'JEFFERSON',\n",
       "        'LEWIS', 'LIVINGSTON', 'MADISON', 'MONROE', 'MONTGOMERY', 'NASSAU',\n",
       "        'NEW YORK', 'BRONX', 'KINGS', 'QUEENS', 'RICHMOND', 'NIAGARA',\n",
       "        'ONEIDA', 'ONONDAGA', 'ONTARIO', 'ORANGE', 'ORLEANS', 'OSWEGO',\n",
       "        'OTSEGO', 'PUTNAM', 'RENSSELAER', 'ROCKLAND', 'SAINT LAWRENCE',\n",
       "        'SARATOGA', 'SCHENECTADY', 'SCHOHARIE', 'SCHUYLER', 'SENECA',\n",
       "        'STEUBEN', 'SUFFOLK', 'SULLIVAN', 'TIOGA', 'TOMPKINS', 'ULSTER',\n",
       "        'WARREN', 'WASHINGTON', 'WAYNE', 'WESTCHESTER', 'WYOMING', 'YATES'],\n",
       "       dtype=object),\n",
       " 'nyc_ind': array([0, 1], dtype=int64),\n",
       " 'membership_desc': array(['2013 Total Cohort - 6 Year Outcome',\n",
       "        '2014 Total Cohort - 5 Year Outcome',\n",
       "        '2015 Total Cohort - 4 Year Outcome',\n",
       "        '2014 Total Cohort - 5 Year Outcome - August 2019',\n",
       "        '2015 Total Cohort - 4 Year Outcome - August 2019',\n",
       "        '2013 Total Cohort - 6 Year Outcome - August 2019'], dtype=object),\n",
       " 'subgroup_code': array([ 1,  2,  3,  4,  5,  6,  7,  8,  9, 10, 11, 12, 13, 14, 15, 16, 17,\n",
       "        18, 20, 21, 23, 25, 22, 24], dtype=int64),\n",
       " 'subgroup_name': array(['All Students', 'Female', 'Male', 'American Indian/Alaska Native',\n",
       "        'Black', 'Hispanic', 'Asian/Pacific Islander', 'White',\n",
       "        'Multiracial', 'General Education Students',\n",
       "        'Students with Disabilities', 'Not English Language Learner',\n",
       "        'English Language Learner', 'Formerly English Language Learner',\n",
       "        'Economically Disadvantaged', 'Not Economically Disadvantaged',\n",
       "        'Migrant', 'Not Migrant', 'Homeless', 'Not Homeless',\n",
       "        'Not in Foster Care', 'Parent Not in Armed Forces',\n",
       "        'In Foster Care', 'Parent in Armed Forces'], dtype=object)}"
      ]
     },
     "execution_count": 5,
     "metadata": {},
     "output_type": "execute_result"
    }
   ],
   "source": [
    "cats = raw_data[['report_school_year','aggregation_index','aggregation_type','aggregation_name','nrc_code','nrc_desc','county_code',\n",
    "         'county_name','nyc_ind','membership_desc','subgroup_code','subgroup_name']]\n",
    "\n",
    "vals = {}\n",
    "for i in range(len(cats.columns)):\n",
    "    vals[cats.columns[i]] = cats.iloc[:,i].unique()\n",
    "vals"
   ]
  },
  {
   "cell_type": "code",
   "execution_count": 6,
   "metadata": {
    "id": "UHEhDNi_mH_3"
   },
   "outputs": [],
   "source": [
    "raw_data.drop(columns=['report_school_year','aggregation_index','aggregation_type'], inplace=True)"
   ]
  },
  {
   "cell_type": "markdown",
   "metadata": {
    "id": "I359mhTfmJXf"
   },
   "source": [
    "We can also see through domain knowledge that there are some columns that mean the same thing, specifically the codes that correspond to text, these can be deleted without losing information. We keep the text columns so that if we would potentially include these categorical variables in the future the dummies that we construct will be easier to interpret. Note, they will be dropped later so that they can be used for EDA on missing values."
   ]
  },
  {
   "cell_type": "markdown",
   "metadata": {
    "id": "eJyg_ImomMtO"
   },
   "source": [
    "Most importantly before doing any EDA is dealing with any missing data. Unfortunately, our dataset contains a huge amount of missing data, specifically close to 46% of all observations are missing data. Note that thanks to the code below, we can see that the observations that are lacking any observations are lacking all numeric observations. Due to this, we can't impute this numeric data from others. We can see due to the value counts that it looks like the missing values are really skewed to a couple specific codes and therefore are likely left out on purpose. This can be further assumed since all numeric attributes are lost and not just one or two. For this reason, we felt comfortable leaving these columns out. Now we can delete the code type columns that were discussed earlier."
   ]
  },
  {
   "cell_type": "code",
   "execution_count": 7,
   "metadata": {
    "colab": {
     "base_uri": "https://localhost:8080/"
    },
    "id": "rZLLO3m_mdb4",
    "outputId": "56b15472-4d27-4d95-89fe-756a7b60c896"
   },
   "outputs": [
    {
     "name": "stdout",
     "output_type": "stream",
     "text": [
      "Missing Values:  33478 Percentage Missing:  45.76 %\n"
     ]
    }
   ],
   "source": [
    "lst = 0\n",
    "for i in range(len(raw_data)):\n",
    "    if raw_data.enroll_cnt[i].isnumeric()==False and raw_data.grad_cnt[i].isnumeric()==False and raw_data.local_cnt[i].isnumeric()==False and raw_data.reg_cnt[i].isnumeric()==False and raw_data.reg_adv_cnt[i].isnumeric()==False and raw_data.non_diploma_credential_cnt[i].isnumeric()==False and raw_data.still_enr_cnt[i].isnumeric()==False and raw_data.ged_cnt[i].isnumeric()==False and raw_data.dropout_cnt[i].isnumeric()==False:\n",
    "        lst += 1\n",
    "print('Missing Values: ',lst, 'Percentage Missing: ',round((lst/len(raw_data))*100,2),'%')"
   ]
  },
  {
   "cell_type": "code",
   "execution_count": 8,
   "metadata": {
    "colab": {
     "base_uri": "https://localhost:8080/",
     "height": 560
    },
    "id": "vi1qDzvkmhMA",
    "outputId": "2327cadc-82b6-4157-bd4d-750ef8ed155d"
   },
   "outputs": [
    {
     "data": {
      "text/html": [
       "<div>\n",
       "<style scoped>\n",
       "    .dataframe tbody tr th:only-of-type {\n",
       "        vertical-align: middle;\n",
       "    }\n",
       "\n",
       "    .dataframe tbody tr th {\n",
       "        vertical-align: top;\n",
       "    }\n",
       "\n",
       "    .dataframe thead th {\n",
       "        text-align: right;\n",
       "    }\n",
       "</style>\n",
       "<table border=\"1\" class=\"dataframe\">\n",
       "  <thead>\n",
       "    <tr style=\"text-align: right;\">\n",
       "      <th></th>\n",
       "      <th>aggregation_name</th>\n",
       "      <th>nrc_code</th>\n",
       "      <th>nrc_desc</th>\n",
       "      <th>county_code</th>\n",
       "      <th>county_name</th>\n",
       "      <th>nyc_ind</th>\n",
       "      <th>membership_desc</th>\n",
       "      <th>subgroup_code</th>\n",
       "      <th>subgroup_name</th>\n",
       "      <th>enroll_cnt</th>\n",
       "      <th>...</th>\n",
       "      <th>reg_adv_cnt</th>\n",
       "      <th>reg_adv_pct</th>\n",
       "      <th>non_diploma_credential_cnt</th>\n",
       "      <th>non_diploma_credential_pct</th>\n",
       "      <th>still_enr_cnt</th>\n",
       "      <th>still_enr_pct</th>\n",
       "      <th>ged_cnt</th>\n",
       "      <th>ged_pct</th>\n",
       "      <th>dropout_cnt</th>\n",
       "      <th>dropout_pct</th>\n",
       "    </tr>\n",
       "  </thead>\n",
       "  <tbody>\n",
       "    <tr>\n",
       "      <th>0</th>\n",
       "      <td>ALBANY CITY SCHOOL DISTRICT</td>\n",
       "      <td>3</td>\n",
       "      <td>Urban-Suburban High Needs</td>\n",
       "      <td>1</td>\n",
       "      <td>ALBANY</td>\n",
       "      <td>0</td>\n",
       "      <td>2013 Total Cohort - 6 Year Outcome</td>\n",
       "      <td>1</td>\n",
       "      <td>All Students</td>\n",
       "      <td>658</td>\n",
       "      <td>...</td>\n",
       "      <td>91</td>\n",
       "      <td>14%</td>\n",
       "      <td>16</td>\n",
       "      <td>2%</td>\n",
       "      <td>30</td>\n",
       "      <td>5%</td>\n",
       "      <td>0</td>\n",
       "      <td>0%</td>\n",
       "      <td>148</td>\n",
       "      <td>22%</td>\n",
       "    </tr>\n",
       "    <tr>\n",
       "      <th>1</th>\n",
       "      <td>ALBANY CITY SCHOOL DISTRICT</td>\n",
       "      <td>3</td>\n",
       "      <td>Urban-Suburban High Needs</td>\n",
       "      <td>1</td>\n",
       "      <td>ALBANY</td>\n",
       "      <td>0</td>\n",
       "      <td>2013 Total Cohort - 6 Year Outcome</td>\n",
       "      <td>2</td>\n",
       "      <td>Female</td>\n",
       "      <td>324</td>\n",
       "      <td>...</td>\n",
       "      <td>47</td>\n",
       "      <td>15%</td>\n",
       "      <td>2</td>\n",
       "      <td>1%</td>\n",
       "      <td>11</td>\n",
       "      <td>3%</td>\n",
       "      <td>0</td>\n",
       "      <td>0%</td>\n",
       "      <td>65</td>\n",
       "      <td>20%</td>\n",
       "    </tr>\n",
       "    <tr>\n",
       "      <th>2</th>\n",
       "      <td>ALBANY CITY SCHOOL DISTRICT</td>\n",
       "      <td>3</td>\n",
       "      <td>Urban-Suburban High Needs</td>\n",
       "      <td>1</td>\n",
       "      <td>ALBANY</td>\n",
       "      <td>0</td>\n",
       "      <td>2013 Total Cohort - 6 Year Outcome</td>\n",
       "      <td>3</td>\n",
       "      <td>Male</td>\n",
       "      <td>334</td>\n",
       "      <td>...</td>\n",
       "      <td>44</td>\n",
       "      <td>13%</td>\n",
       "      <td>14</td>\n",
       "      <td>4%</td>\n",
       "      <td>19</td>\n",
       "      <td>6%</td>\n",
       "      <td>0</td>\n",
       "      <td>0%</td>\n",
       "      <td>83</td>\n",
       "      <td>25%</td>\n",
       "    </tr>\n",
       "    <tr>\n",
       "      <th>4</th>\n",
       "      <td>ALBANY CITY SCHOOL DISTRICT</td>\n",
       "      <td>3</td>\n",
       "      <td>Urban-Suburban High Needs</td>\n",
       "      <td>1</td>\n",
       "      <td>ALBANY</td>\n",
       "      <td>0</td>\n",
       "      <td>2013 Total Cohort - 6 Year Outcome</td>\n",
       "      <td>5</td>\n",
       "      <td>Black</td>\n",
       "      <td>367</td>\n",
       "      <td>...</td>\n",
       "      <td>23</td>\n",
       "      <td>6%</td>\n",
       "      <td>10</td>\n",
       "      <td>3%</td>\n",
       "      <td>18</td>\n",
       "      <td>5%</td>\n",
       "      <td>0</td>\n",
       "      <td>0%</td>\n",
       "      <td>91</td>\n",
       "      <td>25%</td>\n",
       "    </tr>\n",
       "    <tr>\n",
       "      <th>5</th>\n",
       "      <td>ALBANY CITY SCHOOL DISTRICT</td>\n",
       "      <td>3</td>\n",
       "      <td>Urban-Suburban High Needs</td>\n",
       "      <td>1</td>\n",
       "      <td>ALBANY</td>\n",
       "      <td>0</td>\n",
       "      <td>2013 Total Cohort - 6 Year Outcome</td>\n",
       "      <td>6</td>\n",
       "      <td>Hispanic</td>\n",
       "      <td>98</td>\n",
       "      <td>...</td>\n",
       "      <td>5</td>\n",
       "      <td>5%</td>\n",
       "      <td>4</td>\n",
       "      <td>4%</td>\n",
       "      <td>8</td>\n",
       "      <td>8%</td>\n",
       "      <td>0</td>\n",
       "      <td>0%</td>\n",
       "      <td>28</td>\n",
       "      <td>29%</td>\n",
       "    </tr>\n",
       "  </tbody>\n",
       "</table>\n",
       "<p>5 rows × 26 columns</p>\n",
       "</div>"
      ],
      "text/plain": [
       "              aggregation_name  nrc_code                   nrc_desc  \\\n",
       "0  ALBANY CITY SCHOOL DISTRICT         3  Urban-Suburban High Needs   \n",
       "1  ALBANY CITY SCHOOL DISTRICT         3  Urban-Suburban High Needs   \n",
       "2  ALBANY CITY SCHOOL DISTRICT         3  Urban-Suburban High Needs   \n",
       "4  ALBANY CITY SCHOOL DISTRICT         3  Urban-Suburban High Needs   \n",
       "5  ALBANY CITY SCHOOL DISTRICT         3  Urban-Suburban High Needs   \n",
       "\n",
       "   county_code county_name  nyc_ind                     membership_desc  \\\n",
       "0            1      ALBANY        0  2013 Total Cohort - 6 Year Outcome   \n",
       "1            1      ALBANY        0  2013 Total Cohort - 6 Year Outcome   \n",
       "2            1      ALBANY        0  2013 Total Cohort - 6 Year Outcome   \n",
       "4            1      ALBANY        0  2013 Total Cohort - 6 Year Outcome   \n",
       "5            1      ALBANY        0  2013 Total Cohort - 6 Year Outcome   \n",
       "\n",
       "   subgroup_code subgroup_name enroll_cnt  ... reg_adv_cnt reg_adv_pct  \\\n",
       "0              1  All Students        658  ...          91         14%   \n",
       "1              2        Female        324  ...          47         15%   \n",
       "2              3          Male        334  ...          44         13%   \n",
       "4              5         Black        367  ...          23          6%   \n",
       "5              6      Hispanic         98  ...           5          5%   \n",
       "\n",
       "  non_diploma_credential_cnt non_diploma_credential_pct still_enr_cnt  \\\n",
       "0                         16                         2%            30   \n",
       "1                          2                         1%            11   \n",
       "2                         14                         4%            19   \n",
       "4                         10                         3%            18   \n",
       "5                          4                         4%             8   \n",
       "\n",
       "  still_enr_pct ged_cnt ged_pct dropout_cnt dropout_pct  \n",
       "0            5%       0      0%         148         22%  \n",
       "1            3%       0      0%          65         20%  \n",
       "2            6%       0      0%          83         25%  \n",
       "4            5%       0      0%          91         25%  \n",
       "5            8%       0      0%          28         29%  \n",
       "\n",
       "[5 rows x 26 columns]"
      ]
     },
     "execution_count": 8,
     "metadata": {},
     "output_type": "execute_result"
    }
   ],
   "source": [
    "clean_data = raw_data.drop(raw_data[raw_data['enroll_cnt']=='-'].index)\n",
    "clean_data.head()"
   ]
  },
  {
   "cell_type": "code",
   "execution_count": 9,
   "metadata": {
    "id": "bwlSNRrRmnII"
   },
   "outputs": [],
   "source": [
    "clean_data.drop(columns=['nrc_code','county_code','subgroup_code'], inplace=True)"
   ]
  },
  {
   "cell_type": "markdown",
   "metadata": {
    "id": "oQXUtoIHmpl-"
   },
   "source": [
    "Now moving on to the numeric data, we will need to change these from str to int as established before. Additionally, all of the \"pct\" columns are written in text but are calculated by dividing the corresponding \"cnt\" column by enroll_cnt so these can be recreated later and those values will be able to be used in models if needed. All of this can be seen in the sample observation below and are corrected in the following code blocks."
   ]
  },
  {
   "cell_type": "code",
   "execution_count": 10,
   "metadata": {
    "id": "fk0JjqbdmtdV"
   },
   "outputs": [],
   "source": [
    "clean_data['grad_pct']=clean_data['grad_pct'].str.strip(\"%\").astype(float)/100;\n",
    "clean_data['local_pct']=clean_data['local_pct'].str.strip(\"%\").astype(float)/100;\n",
    "clean_data['reg_pct']=clean_data['reg_pct'].str.strip(\"%\").astype(float)/100;\n",
    "clean_data['reg_adv_pct']=clean_data['reg_adv_pct'].str.strip(\"%\").astype(float)/100;\n",
    "clean_data['non_diploma_credential_pct']=clean_data['non_diploma_credential_pct'].str.strip(\"%\").astype(float)/100;\n",
    "clean_data['still_enr_pct']=clean_data['still_enr_pct'].str.strip(\"%\").astype(float)/100;\n",
    "clean_data['ged_pct']=clean_data['ged_pct'].str.strip(\"%\").astype(float)/100;\n",
    "clean_data['dropout_pct']=clean_data['dropout_pct'].str.strip(\"%\").astype(float)/100;"
   ]
  },
  {
   "cell_type": "code",
   "execution_count": 11,
   "metadata": {
    "colab": {
     "base_uri": "https://localhost:8080/"
    },
    "id": "Q83TT1dhWGrT",
    "outputId": "8de9d1cf-defc-4b3a-87c3-e08304ef0f66"
   },
   "outputs": [
    {
     "data": {
      "text/plain": [
       "aggregation_name               object\n",
       "nrc_desc                       object\n",
       "county_name                    object\n",
       "nyc_ind                         int64\n",
       "membership_desc                object\n",
       "subgroup_name                  object\n",
       "enroll_cnt                    float64\n",
       "grad_cnt                      float64\n",
       "grad_pct                      float64\n",
       "local_cnt                     float64\n",
       "local_pct                     float64\n",
       "reg_cnt                       float64\n",
       "reg_pct                       float64\n",
       "reg_adv_cnt                   float64\n",
       "reg_adv_pct                   float64\n",
       "non_diploma_credential_cnt    float64\n",
       "non_diploma_credential_pct    float64\n",
       "still_enr_cnt                 float64\n",
       "still_enr_pct                 float64\n",
       "ged_cnt                       float64\n",
       "ged_pct                       float64\n",
       "dropout_cnt                   float64\n",
       "dropout_pct                   float64\n",
       "dtype: object"
      ]
     },
     "execution_count": 11,
     "metadata": {},
     "output_type": "execute_result"
    }
   ],
   "source": [
    "clean_data['enroll_cnt']=clean_data['enroll_cnt'].astype(float)\n",
    "clean_data['grad_cnt']=clean_data['grad_cnt'].astype(float)\n",
    "clean_data['local_cnt']=clean_data['local_cnt'].astype(float)\n",
    "clean_data['reg_cnt']=clean_data['reg_cnt'].astype(float)\n",
    "clean_data['reg_adv_cnt']=clean_data['reg_adv_cnt'].astype(float)\n",
    "clean_data['non_diploma_credential_cnt']=clean_data['non_diploma_credential_cnt'].astype(float)\n",
    "clean_data['still_enr_cnt']=clean_data['still_enr_cnt'].astype(float)\n",
    "clean_data['ged_cnt']=clean_data['ged_cnt'].astype(float)\n",
    "clean_data['dropout_cnt']=clean_data['dropout_cnt'].astype(float)\n",
    "clean_data.dtypes"
   ]
  },
  {
   "cell_type": "markdown",
   "metadata": {
    "id": "GpKQ93Fkm5bW"
   },
   "source": [
    "### EDA: Descriptive Statistics and Distributions\n",
    "Now that all the data is in its proper form and missing values are removed, we can start to move on to our further analysis."
   ]
  },
  {
   "cell_type": "code",
   "execution_count": 12,
   "metadata": {
    "colab": {
     "base_uri": "https://localhost:8080/",
     "height": 364
    },
    "id": "xCkWRdjVWtf_",
    "outputId": "fd41b431-fb16-412d-9a31-a8949331b246"
   },
   "outputs": [
    {
     "data": {
      "text/html": [
       "<div>\n",
       "<style scoped>\n",
       "    .dataframe tbody tr th:only-of-type {\n",
       "        vertical-align: middle;\n",
       "    }\n",
       "\n",
       "    .dataframe tbody tr th {\n",
       "        vertical-align: top;\n",
       "    }\n",
       "\n",
       "    .dataframe thead th {\n",
       "        text-align: right;\n",
       "    }\n",
       "</style>\n",
       "<table border=\"1\" class=\"dataframe\">\n",
       "  <thead>\n",
       "    <tr style=\"text-align: right;\">\n",
       "      <th></th>\n",
       "      <th>enroll_cnt</th>\n",
       "      <th>grad_cnt</th>\n",
       "      <th>grad_pct</th>\n",
       "      <th>local_cnt</th>\n",
       "      <th>local_pct</th>\n",
       "      <th>reg_cnt</th>\n",
       "      <th>reg_pct</th>\n",
       "      <th>reg_adv_cnt</th>\n",
       "      <th>reg_adv_pct</th>\n",
       "      <th>non_diploma_credential_cnt</th>\n",
       "      <th>non_diploma_credential_pct</th>\n",
       "      <th>still_enr_cnt</th>\n",
       "      <th>still_enr_pct</th>\n",
       "      <th>ged_cnt</th>\n",
       "      <th>ged_pct</th>\n",
       "      <th>dropout_cnt</th>\n",
       "      <th>dropout_pct</th>\n",
       "    </tr>\n",
       "  </thead>\n",
       "  <tbody>\n",
       "    <tr>\n",
       "      <th>count</th>\n",
       "      <td>39674.000000</td>\n",
       "      <td>39674.000000</td>\n",
       "      <td>39674.000000</td>\n",
       "      <td>39674.000000</td>\n",
       "      <td>39674.000000</td>\n",
       "      <td>39674.000000</td>\n",
       "      <td>39674.000000</td>\n",
       "      <td>39674.000000</td>\n",
       "      <td>39674.000000</td>\n",
       "      <td>39674.000000</td>\n",
       "      <td>39674.000000</td>\n",
       "      <td>39674.000000</td>\n",
       "      <td>39674.000000</td>\n",
       "      <td>39674.000000</td>\n",
       "      <td>39674.000000</td>\n",
       "      <td>39674.000000</td>\n",
       "      <td>39674.000000</td>\n",
       "    </tr>\n",
       "    <tr>\n",
       "      <th>mean</th>\n",
       "      <td>192.120079</td>\n",
       "      <td>161.178354</td>\n",
       "      <td>0.844066</td>\n",
       "      <td>12.340903</td>\n",
       "      <td>0.084799</td>\n",
       "      <td>86.804708</td>\n",
       "      <td>0.433711</td>\n",
       "      <td>62.032742</td>\n",
       "      <td>0.325772</td>\n",
       "      <td>1.924485</td>\n",
       "      <td>0.017426</td>\n",
       "      <td>11.299516</td>\n",
       "      <td>0.051907</td>\n",
       "      <td>1.377577</td>\n",
       "      <td>0.006127</td>\n",
       "      <td>16.239225</td>\n",
       "      <td>0.079630</td>\n",
       "    </tr>\n",
       "    <tr>\n",
       "      <th>std</th>\n",
       "      <td>439.972474</td>\n",
       "      <td>361.294773</td>\n",
       "      <td>0.156795</td>\n",
       "      <td>32.046302</td>\n",
       "      <td>0.103985</td>\n",
       "      <td>225.795826</td>\n",
       "      <td>0.171249</td>\n",
       "      <td>132.777866</td>\n",
       "      <td>0.230012</td>\n",
       "      <td>6.498913</td>\n",
       "      <td>0.040640</td>\n",
       "      <td>40.766672</td>\n",
       "      <td>0.088327</td>\n",
       "      <td>4.949389</td>\n",
       "      <td>0.019854</td>\n",
       "      <td>50.129834</td>\n",
       "      <td>0.096587</td>\n",
       "    </tr>\n",
       "    <tr>\n",
       "      <th>min</th>\n",
       "      <td>5.000000</td>\n",
       "      <td>0.000000</td>\n",
       "      <td>0.000000</td>\n",
       "      <td>0.000000</td>\n",
       "      <td>0.000000</td>\n",
       "      <td>0.000000</td>\n",
       "      <td>0.000000</td>\n",
       "      <td>0.000000</td>\n",
       "      <td>0.000000</td>\n",
       "      <td>0.000000</td>\n",
       "      <td>0.000000</td>\n",
       "      <td>0.000000</td>\n",
       "      <td>0.000000</td>\n",
       "      <td>0.000000</td>\n",
       "      <td>0.000000</td>\n",
       "      <td>0.000000</td>\n",
       "      <td>0.000000</td>\n",
       "    </tr>\n",
       "    <tr>\n",
       "      <th>25%</th>\n",
       "      <td>25.000000</td>\n",
       "      <td>20.000000</td>\n",
       "      <td>0.790000</td>\n",
       "      <td>1.000000</td>\n",
       "      <td>0.020000</td>\n",
       "      <td>10.000000</td>\n",
       "      <td>0.330000</td>\n",
       "      <td>4.000000</td>\n",
       "      <td>0.140000</td>\n",
       "      <td>0.000000</td>\n",
       "      <td>0.000000</td>\n",
       "      <td>0.000000</td>\n",
       "      <td>0.000000</td>\n",
       "      <td>0.000000</td>\n",
       "      <td>0.000000</td>\n",
       "      <td>1.000000</td>\n",
       "      <td>0.010000</td>\n",
       "    </tr>\n",
       "    <tr>\n",
       "      <th>50%</th>\n",
       "      <td>66.000000</td>\n",
       "      <td>57.000000</td>\n",
       "      <td>0.890000</td>\n",
       "      <td>4.000000</td>\n",
       "      <td>0.060000</td>\n",
       "      <td>27.000000</td>\n",
       "      <td>0.430000</td>\n",
       "      <td>18.000000</td>\n",
       "      <td>0.310000</td>\n",
       "      <td>0.000000</td>\n",
       "      <td>0.000000</td>\n",
       "      <td>2.000000</td>\n",
       "      <td>0.020000</td>\n",
       "      <td>0.000000</td>\n",
       "      <td>0.000000</td>\n",
       "      <td>3.000000</td>\n",
       "      <td>0.050000</td>\n",
       "    </tr>\n",
       "    <tr>\n",
       "      <th>75%</th>\n",
       "      <td>179.000000</td>\n",
       "      <td>156.000000</td>\n",
       "      <td>0.950000</td>\n",
       "      <td>10.000000</td>\n",
       "      <td>0.110000</td>\n",
       "      <td>69.000000</td>\n",
       "      <td>0.530000</td>\n",
       "      <td>62.000000</td>\n",
       "      <td>0.490000</td>\n",
       "      <td>2.000000</td>\n",
       "      <td>0.020000</td>\n",
       "      <td>5.000000</td>\n",
       "      <td>0.060000</td>\n",
       "      <td>1.000000</td>\n",
       "      <td>0.000000</td>\n",
       "      <td>9.000000</td>\n",
       "      <td>0.110000</td>\n",
       "    </tr>\n",
       "    <tr>\n",
       "      <th>max</th>\n",
       "      <td>9176.000000</td>\n",
       "      <td>7540.000000</td>\n",
       "      <td>1.000000</td>\n",
       "      <td>557.000000</td>\n",
       "      <td>1.000000</td>\n",
       "      <td>4752.000000</td>\n",
       "      <td>1.000000</td>\n",
       "      <td>2231.000000</td>\n",
       "      <td>1.000000</td>\n",
       "      <td>279.000000</td>\n",
       "      <td>0.670000</td>\n",
       "      <td>1381.000000</td>\n",
       "      <td>1.000000</td>\n",
       "      <td>97.000000</td>\n",
       "      <td>0.670000</td>\n",
       "      <td>1091.000000</td>\n",
       "      <td>1.000000</td>\n",
       "    </tr>\n",
       "  </tbody>\n",
       "</table>\n",
       "</div>"
      ],
      "text/plain": [
       "         enroll_cnt      grad_cnt      grad_pct     local_cnt     local_pct  \\\n",
       "count  39674.000000  39674.000000  39674.000000  39674.000000  39674.000000   \n",
       "mean     192.120079    161.178354      0.844066     12.340903      0.084799   \n",
       "std      439.972474    361.294773      0.156795     32.046302      0.103985   \n",
       "min        5.000000      0.000000      0.000000      0.000000      0.000000   \n",
       "25%       25.000000     20.000000      0.790000      1.000000      0.020000   \n",
       "50%       66.000000     57.000000      0.890000      4.000000      0.060000   \n",
       "75%      179.000000    156.000000      0.950000     10.000000      0.110000   \n",
       "max     9176.000000   7540.000000      1.000000    557.000000      1.000000   \n",
       "\n",
       "            reg_cnt       reg_pct   reg_adv_cnt   reg_adv_pct  \\\n",
       "count  39674.000000  39674.000000  39674.000000  39674.000000   \n",
       "mean      86.804708      0.433711     62.032742      0.325772   \n",
       "std      225.795826      0.171249    132.777866      0.230012   \n",
       "min        0.000000      0.000000      0.000000      0.000000   \n",
       "25%       10.000000      0.330000      4.000000      0.140000   \n",
       "50%       27.000000      0.430000     18.000000      0.310000   \n",
       "75%       69.000000      0.530000     62.000000      0.490000   \n",
       "max     4752.000000      1.000000   2231.000000      1.000000   \n",
       "\n",
       "       non_diploma_credential_cnt  non_diploma_credential_pct  still_enr_cnt  \\\n",
       "count                39674.000000                39674.000000   39674.000000   \n",
       "mean                     1.924485                    0.017426      11.299516   \n",
       "std                      6.498913                    0.040640      40.766672   \n",
       "min                      0.000000                    0.000000       0.000000   \n",
       "25%                      0.000000                    0.000000       0.000000   \n",
       "50%                      0.000000                    0.000000       2.000000   \n",
       "75%                      2.000000                    0.020000       5.000000   \n",
       "max                    279.000000                    0.670000    1381.000000   \n",
       "\n",
       "       still_enr_pct       ged_cnt       ged_pct   dropout_cnt   dropout_pct  \n",
       "count   39674.000000  39674.000000  39674.000000  39674.000000  39674.000000  \n",
       "mean        0.051907      1.377577      0.006127     16.239225      0.079630  \n",
       "std         0.088327      4.949389      0.019854     50.129834      0.096587  \n",
       "min         0.000000      0.000000      0.000000      0.000000      0.000000  \n",
       "25%         0.000000      0.000000      0.000000      1.000000      0.010000  \n",
       "50%         0.020000      0.000000      0.000000      3.000000      0.050000  \n",
       "75%         0.060000      1.000000      0.000000      9.000000      0.110000  \n",
       "max         1.000000     97.000000      0.670000   1091.000000      1.000000  "
      ]
     },
     "execution_count": 12,
     "metadata": {},
     "output_type": "execute_result"
    }
   ],
   "source": [
    "clean_data.iloc[:,6:].describe()"
   ]
  },
  {
   "cell_type": "code",
   "execution_count": 13,
   "metadata": {
    "colab": {
     "base_uri": "https://localhost:8080/",
     "height": 879
    },
    "id": "K5Z8eXpWYw9I",
    "outputId": "cedbfc8f-bc61-421e-e7b4-be71c88b1e67"
   },
   "outputs": [
    {
     "data": {
      "image/png": "[encoded data removed]",
      "text/plain": [
       "<Figure size 1440x1080 with 20 Axes>"
      ]
     },
     "metadata": {
      "needs_background": "light"
     },
     "output_type": "display_data"
    }
   ],
   "source": [
    "clean_data.iloc[:,6:].hist(bins=10, figsize=(20,15))\n",
    "plt.show()"
   ]
  },
  {
   "cell_type": "code",
   "execution_count": 14,
   "metadata": {
    "colab": {
     "base_uri": "https://localhost:8080/",
     "height": 785
    },
    "id": "ihyzvXYUgvGg",
    "outputId": "aad24e97-bd43-411e-9708-9b0681436ea7"
   },
   "outputs": [
    {
     "data": {
      "image/png": "[encoded data removed]",
      "text/plain": [
       "<Figure size 1440x1080 with 17 Axes>"
      ]
     },
     "metadata": {
      "needs_background": "light"
     },
     "output_type": "display_data"
    }
   ],
   "source": [
    "df_numeric = clean_data.iloc[:,6:]\n",
    "import warnings\n",
    "warnings.filterwarnings('ignore')\n",
    "\n",
    "plt.figure(figsize = (20, 15))\n",
    "for i, col in enumerate(list(df_numeric)):\n",
    "    plt.subplot(5, 5, i + 1)\n",
    "    sns.boxplot(df_numeric[col])\n",
    "    plt.grid()\n",
    "    plt.tight_layout()"
   ]
  },
  {
   "cell_type": "markdown",
   "metadata": {
    "id": "90pCurCYausT"
   },
   "source": [
    "As can be seen in the histograms above, most of the variables resemble a distribution similar to that of dropout_cnt, meaning that they are likely either significant or multicolinear. A lot of the variables are likely to be closely connected, and not just the \"cnt\"s with their respective \"pct\"s. Based on the correlation table below, we can see that for the most part, all of the variables are highly correlated with one another. Based on domain knowledge, this makes a lot of sense seeing as these variables put together describe the timeline of a student, from being enrolled, scoring on the regents, graduating, and many other possible combinations. Additionally, any student observed will belong to multiple categories. For instance, by virtue of being included in the enroll_cnt at the beginning of the year, they must belong to one of the various categories of student at the end of the year. That is why if you check the table below, enroll_cnt has the highest overall correlation with the other variables. While this is a good sign moving forward in terms of selecting numeric variables for our model, we must be careful not to include any variables that are multicolinear so as not to overfit the data. One variable that will need to be taken out is dropout_pct. This is because It is directly correlated to dropout_cnt and will only cause noise and inflate scoring metrics.\n",
    "\n",
    "We also perform a correlation matrix and correlation checks, we see that we need to perform a multicollinearity check among the various variables."
   ]
  },
  {
   "cell_type": "code",
   "execution_count": 15,
   "metadata": {
    "colab": {
     "base_uri": "https://localhost:8080/"
    },
    "id": "29btemhHncJP",
    "outputId": "aef1dfbe-7c76-43f1-d784-df1c10d0608f"
   },
   "outputs": [
    {
     "data": {
      "text/plain": [
       "dropout_cnt                   1.000000\n",
       "local_cnt                     0.871071\n",
       "reg_cnt                       0.851021\n",
       "enroll_cnt                    0.846691\n",
       "grad_cnt                      0.795895\n",
       "ged_cnt                       0.793304\n",
       "still_enr_cnt                 0.662578\n",
       "non_diploma_credential_cnt    0.584549\n",
       "reg_adv_cnt                   0.508226\n",
       "dropout_pct                   0.230815\n",
       "still_enr_pct                 0.085551\n",
       "reg_pct                       0.070032\n",
       "ged_pct                       0.058422\n",
       "local_pct                     0.004871\n",
       "non_diploma_credential_pct   -0.025518\n",
       "reg_adv_pct                  -0.184940\n",
       "grad_pct                     -0.190834\n",
       "Name: dropout_cnt, dtype: float64"
      ]
     },
     "execution_count": 15,
     "metadata": {},
     "output_type": "execute_result"
    }
   ],
   "source": [
    "corr_matrix = df_numeric.corr()\n",
    "corr_matrix['dropout_cnt'].sort_values(ascending = False)\n"
   ]
  },
  {
   "cell_type": "code",
   "execution_count": 16,
   "metadata": {
    "colab": {
     "base_uri": "https://localhost:8080/",
     "height": 1000
    },
    "id": "38NeaviYnuTX",
    "outputId": "ebf8da04-8d41-447e-a021-5aea781d96be"
   },
   "outputs": [
    {
     "data": {
      "text/plain": [
       "<AxesSubplot:>"
      ]
     },
     "execution_count": 16,
     "metadata": {},
     "output_type": "execute_result"
    },
    {
     "data": {
      "image/png": "[encoded data removed]",
      "text/plain": [
       "<Figure size 1440x1080 with 2 Axes>"
      ]
     },
     "metadata": {
      "needs_background": "light"
     },
     "output_type": "display_data"
    }
   ],
   "source": [
    "plt.figure(figsize=(20, 15))\n",
    "sns.heatmap(df_numeric.corr(), annot=True, cmap='coolwarm')"
   ]
  },
  {
   "cell_type": "code",
   "execution_count": 17,
   "metadata": {
    "colab": {
     "base_uri": "https://localhost:8080/",
     "height": 407
    },
    "id": "Ufoycr7VbwSf",
    "outputId": "abfd9607-ad40-4fcb-f6c0-632f12b536ae"
   },
   "outputs": [
    {
     "data": {
      "text/html": [
       "<div>\n",
       "<style scoped>\n",
       "    .dataframe tbody tr th:only-of-type {\n",
       "        vertical-align: middle;\n",
       "    }\n",
       "\n",
       "    .dataframe tbody tr th {\n",
       "        vertical-align: top;\n",
       "    }\n",
       "\n",
       "    .dataframe thead th {\n",
       "        text-align: right;\n",
       "    }\n",
       "</style>\n",
       "<table border=\"1\" class=\"dataframe\">\n",
       "  <thead>\n",
       "    <tr style=\"text-align: right;\">\n",
       "      <th></th>\n",
       "      <th>enroll_cnt</th>\n",
       "      <th>grad_cnt</th>\n",
       "      <th>local_cnt</th>\n",
       "      <th>reg_cnt</th>\n",
       "      <th>reg_adv_cnt</th>\n",
       "      <th>non_diploma_credential_cnt</th>\n",
       "      <th>still_enr_cnt</th>\n",
       "      <th>ged_cnt</th>\n",
       "      <th>dropout_cnt</th>\n",
       "      <th>dropout_pct</th>\n",
       "    </tr>\n",
       "  </thead>\n",
       "  <tbody>\n",
       "    <tr>\n",
       "      <th>enroll_cnt</th>\n",
       "      <td>1.000000</td>\n",
       "      <td>0.993603</td>\n",
       "      <td>0.831018</td>\n",
       "      <td>0.979747</td>\n",
       "      <td>0.836960</td>\n",
       "      <td>0.511030</td>\n",
       "      <td>0.762840</td>\n",
       "      <td>0.814510</td>\n",
       "      <td>0.846691</td>\n",
       "      <td>0.021982</td>\n",
       "    </tr>\n",
       "    <tr>\n",
       "      <th>grad_cnt</th>\n",
       "      <td>0.993603</td>\n",
       "      <td>1.000000</td>\n",
       "      <td>0.790687</td>\n",
       "      <td>0.971027</td>\n",
       "      <td>0.878928</td>\n",
       "      <td>0.478744</td>\n",
       "      <td>0.708722</td>\n",
       "      <td>0.783183</td>\n",
       "      <td>0.795895</td>\n",
       "      <td>-0.018238</td>\n",
       "    </tr>\n",
       "    <tr>\n",
       "      <th>local_cnt</th>\n",
       "      <td>0.831018</td>\n",
       "      <td>0.790687</td>\n",
       "      <td>1.000000</td>\n",
       "      <td>0.817128</td>\n",
       "      <td>0.520575</td>\n",
       "      <td>0.587427</td>\n",
       "      <td>0.701385</td>\n",
       "      <td>0.767464</td>\n",
       "      <td>0.871071</td>\n",
       "      <td>0.135475</td>\n",
       "    </tr>\n",
       "    <tr>\n",
       "      <th>reg_cnt</th>\n",
       "      <td>0.979747</td>\n",
       "      <td>0.971027</td>\n",
       "      <td>0.817128</td>\n",
       "      <td>1.000000</td>\n",
       "      <td>0.744442</td>\n",
       "      <td>0.515351</td>\n",
       "      <td>0.737750</td>\n",
       "      <td>0.820034</td>\n",
       "      <td>0.851021</td>\n",
       "      <td>0.033453</td>\n",
       "    </tr>\n",
       "    <tr>\n",
       "      <th>reg_adv_cnt</th>\n",
       "      <td>0.836960</td>\n",
       "      <td>0.878928</td>\n",
       "      <td>0.520575</td>\n",
       "      <td>0.744442</td>\n",
       "      <td>1.000000</td>\n",
       "      <td>0.284526</td>\n",
       "      <td>0.504600</td>\n",
       "      <td>0.551338</td>\n",
       "      <td>0.508226</td>\n",
       "      <td>-0.139211</td>\n",
       "    </tr>\n",
       "    <tr>\n",
       "      <th>non_diploma_credential_cnt</th>\n",
       "      <td>0.511030</td>\n",
       "      <td>0.478744</td>\n",
       "      <td>0.587427</td>\n",
       "      <td>0.515351</td>\n",
       "      <td>0.284526</td>\n",
       "      <td>1.000000</td>\n",
       "      <td>0.333619</td>\n",
       "      <td>0.474265</td>\n",
       "      <td>0.584549</td>\n",
       "      <td>0.129604</td>\n",
       "    </tr>\n",
       "    <tr>\n",
       "      <th>still_enr_cnt</th>\n",
       "      <td>0.762840</td>\n",
       "      <td>0.708722</td>\n",
       "      <td>0.701385</td>\n",
       "      <td>0.737750</td>\n",
       "      <td>0.504600</td>\n",
       "      <td>0.333619</td>\n",
       "      <td>1.000000</td>\n",
       "      <td>0.674020</td>\n",
       "      <td>0.662578</td>\n",
       "      <td>0.081946</td>\n",
       "    </tr>\n",
       "    <tr>\n",
       "      <th>ged_cnt</th>\n",
       "      <td>0.814510</td>\n",
       "      <td>0.783183</td>\n",
       "      <td>0.767464</td>\n",
       "      <td>0.820034</td>\n",
       "      <td>0.551338</td>\n",
       "      <td>0.474265</td>\n",
       "      <td>0.674020</td>\n",
       "      <td>1.000000</td>\n",
       "      <td>0.793304</td>\n",
       "      <td>0.099411</td>\n",
       "    </tr>\n",
       "    <tr>\n",
       "      <th>dropout_cnt</th>\n",
       "      <td>0.846691</td>\n",
       "      <td>0.795895</td>\n",
       "      <td>0.871071</td>\n",
       "      <td>0.851021</td>\n",
       "      <td>0.508226</td>\n",
       "      <td>0.584549</td>\n",
       "      <td>0.662578</td>\n",
       "      <td>0.793304</td>\n",
       "      <td>1.000000</td>\n",
       "      <td>0.230815</td>\n",
       "    </tr>\n",
       "    <tr>\n",
       "      <th>dropout_pct</th>\n",
       "      <td>0.021982</td>\n",
       "      <td>-0.018238</td>\n",
       "      <td>0.135475</td>\n",
       "      <td>0.033453</td>\n",
       "      <td>-0.139211</td>\n",
       "      <td>0.129604</td>\n",
       "      <td>0.081946</td>\n",
       "      <td>0.099411</td>\n",
       "      <td>0.230815</td>\n",
       "      <td>1.000000</td>\n",
       "    </tr>\n",
       "  </tbody>\n",
       "</table>\n",
       "</div>"
      ],
      "text/plain": [
       "                            enroll_cnt  grad_cnt  local_cnt   reg_cnt  \\\n",
       "enroll_cnt                    1.000000  0.993603   0.831018  0.979747   \n",
       "grad_cnt                      0.993603  1.000000   0.790687  0.971027   \n",
       "local_cnt                     0.831018  0.790687   1.000000  0.817128   \n",
       "reg_cnt                       0.979747  0.971027   0.817128  1.000000   \n",
       "reg_adv_cnt                   0.836960  0.878928   0.520575  0.744442   \n",
       "non_diploma_credential_cnt    0.511030  0.478744   0.587427  0.515351   \n",
       "still_enr_cnt                 0.762840  0.708722   0.701385  0.737750   \n",
       "ged_cnt                       0.814510  0.783183   0.767464  0.820034   \n",
       "dropout_cnt                   0.846691  0.795895   0.871071  0.851021   \n",
       "dropout_pct                   0.021982 -0.018238   0.135475  0.033453   \n",
       "\n",
       "                            reg_adv_cnt  non_diploma_credential_cnt  \\\n",
       "enroll_cnt                     0.836960                    0.511030   \n",
       "grad_cnt                       0.878928                    0.478744   \n",
       "local_cnt                      0.520575                    0.587427   \n",
       "reg_cnt                        0.744442                    0.515351   \n",
       "reg_adv_cnt                    1.000000                    0.284526   \n",
       "non_diploma_credential_cnt     0.284526                    1.000000   \n",
       "still_enr_cnt                  0.504600                    0.333619   \n",
       "ged_cnt                        0.551338                    0.474265   \n",
       "dropout_cnt                    0.508226                    0.584549   \n",
       "dropout_pct                   -0.139211                    0.129604   \n",
       "\n",
       "                            still_enr_cnt   ged_cnt  dropout_cnt  dropout_pct  \n",
       "enroll_cnt                       0.762840  0.814510     0.846691     0.021982  \n",
       "grad_cnt                         0.708722  0.783183     0.795895    -0.018238  \n",
       "local_cnt                        0.701385  0.767464     0.871071     0.135475  \n",
       "reg_cnt                          0.737750  0.820034     0.851021     0.033453  \n",
       "reg_adv_cnt                      0.504600  0.551338     0.508226    -0.139211  \n",
       "non_diploma_credential_cnt       0.333619  0.474265     0.584549     0.129604  \n",
       "still_enr_cnt                    1.000000  0.674020     0.662578     0.081946  \n",
       "ged_cnt                          0.674020  1.000000     0.793304     0.099411  \n",
       "dropout_cnt                      0.662578  0.793304     1.000000     0.230815  \n",
       "dropout_pct                      0.081946  0.099411     0.230815     1.000000  "
      ]
     },
     "execution_count": 17,
     "metadata": {},
     "output_type": "execute_result"
    }
   ],
   "source": [
    "clean_data[['enroll_cnt','grad_cnt','local_cnt','reg_cnt','reg_adv_cnt','non_diploma_credential_cnt','still_enr_cnt','ged_cnt','dropout_cnt', 'dropout_pct']].corr()"
   ]
  },
  {
   "cell_type": "markdown",
   "metadata": {
    "id": "pDuS9gBhjIMe"
   },
   "source": [
    "As shown in the below charts, the data are far from normally or uniformly distributed. In fact, most of these plots skew in a similar direction and slope which would seemingly indicate that these categorical variables are very important in selecting the right model to predict dropout_cnt. While this seems to be great, based on domain knowledge there is a high chance of multicolinearity which needs to be taken into consideration. For example, the county_name may be correlated with nyc_ind since nyc_ind is a binary variable and all counties are either in or are not in NYC. These relationships will need to be _very_ carefully examined in following steps."
   ]
  },
  {
   "cell_type": "code",
   "execution_count": 18,
   "metadata": {
    "colab": {
     "base_uri": "https://localhost:8080/",
     "height": 282
    },
    "id": "d3BbEnQUgT2M",
    "outputId": "d3bbbfaf-2411-4d09-f932-2e47c728a849"
   },
   "outputs": [
    {
     "data": {
      "text/plain": [
       "<AxesSubplot:>"
      ]
     },
     "execution_count": 18,
     "metadata": {},
     "output_type": "execute_result"
    },
    {
     "data": {
      "image/png": "[encoded data removed]",
      "text/plain": [
       "<Figure size 432x288 with 1 Axes>"
      ]
     },
     "metadata": {
      "needs_background": "light"
     },
     "output_type": "display_data"
    }
   ],
   "source": [
    "clean_data['nyc_ind'].value_counts().plot(kind='barh')"
   ]
  },
  {
   "cell_type": "code",
   "execution_count": 19,
   "metadata": {
    "colab": {
     "base_uri": "https://localhost:8080/",
     "height": 282
    },
    "id": "Z2_C1YK1uLrp",
    "outputId": "1320b11d-e834-431c-bec9-154edecc2077"
   },
   "outputs": [
    {
     "data": {
      "text/plain": [
       "<AxesSubplot:>"
      ]
     },
     "execution_count": 19,
     "metadata": {},
     "output_type": "execute_result"
    },
    {
     "data": {
      "image/png": "[encoded data removed]",
      "text/plain": [
       "<Figure size 432x288 with 1 Axes>"
      ]
     },
     "metadata": {
      "needs_background": "light"
     },
     "output_type": "display_data"
    }
   ],
   "source": [
    "clean_data['nrc_desc'].value_counts().plot(kind='barh')"
   ]
  },
  {
   "cell_type": "code",
   "execution_count": 20,
   "metadata": {
    "colab": {
     "base_uri": "https://localhost:8080/",
     "height": 1000
    },
    "id": "x0P1RWJ-uTvy",
    "outputId": "6ce26236-902a-439b-8992-8c4dd3e1b0ae"
   },
   "outputs": [
    {
     "data": {
      "text/plain": [
       "<AxesSubplot:>"
      ]
     },
     "execution_count": 20,
     "metadata": {},
     "output_type": "execute_result"
    },
    {
     "data": {
      "image/png": "[encoded data removed]",
      "text/plain": [
       "<Figure size 720x1440 with 1 Axes>"
      ]
     },
     "metadata": {
      "needs_background": "light"
     },
     "output_type": "display_data"
    }
   ],
   "source": [
    "clean_data['county_name'].value_counts().plot(kind = 'barh', figsize = (10,20))"
   ]
  },
  {
   "cell_type": "code",
   "execution_count": 21,
   "metadata": {
    "colab": {
     "base_uri": "https://localhost:8080/",
     "height": 282
    },
    "id": "kp-giN6IvPd2",
    "outputId": "59ea6b5b-9f49-43c0-d011-e0a807bebcf8"
   },
   "outputs": [
    {
     "data": {
      "text/plain": [
       "<AxesSubplot:>"
      ]
     },
     "execution_count": 21,
     "metadata": {},
     "output_type": "execute_result"
    },
    {
     "data": {
      "image/png": "[encoded data removed]",
      "text/plain": [
       "<Figure size 432x288 with 1 Axes>"
      ]
     },
     "metadata": {
      "needs_background": "light"
     },
     "output_type": "display_data"
    }
   ],
   "source": [
    "clean_data['membership_desc'].value_counts().plot(kind='barh')"
   ]
  },
  {
   "cell_type": "code",
   "execution_count": 22,
   "metadata": {
    "colab": {
     "base_uri": "https://localhost:8080/",
     "height": 282
    },
    "id": "q2Z4DLJuvYn7",
    "outputId": "d21674ce-88f6-4036-da11-baeabfcc57ce"
   },
   "outputs": [
    {
     "data": {
      "text/plain": [
       "<AxesSubplot:>"
      ]
     },
     "execution_count": 22,
     "metadata": {},
     "output_type": "execute_result"
    },
    {
     "data": {
      "image/png": "[encoded data removed]",
      "text/plain": [
       "<Figure size 432x288 with 1 Axes>"
      ]
     },
     "metadata": {
      "needs_background": "light"
     },
     "output_type": "display_data"
    }
   ],
   "source": [
    "clean_data['subgroup_name'].value_counts().plot(kind='barh')"
   ]
  },
  {
   "cell_type": "code",
   "execution_count": 23,
   "metadata": {
    "colab": {
     "base_uri": "https://localhost:8080/"
    },
    "id": "SKruFLjy6UmM",
    "outputId": "6688af7b-22ce-4777-fc28-2b6cc8f7698f"
   },
   "outputs": [
    {
     "data": {
      "text/plain": [
       "aggregation_name               object\n",
       "nrc_desc                       object\n",
       "county_name                    object\n",
       "nyc_ind                         int64\n",
       "membership_desc                object\n",
       "subgroup_name                  object\n",
       "enroll_cnt                    float64\n",
       "grad_cnt                      float64\n",
       "grad_pct                      float64\n",
       "local_cnt                     float64\n",
       "local_pct                     float64\n",
       "reg_cnt                       float64\n",
       "reg_pct                       float64\n",
       "reg_adv_cnt                   float64\n",
       "reg_adv_pct                   float64\n",
       "non_diploma_credential_cnt    float64\n",
       "non_diploma_credential_pct    float64\n",
       "still_enr_cnt                 float64\n",
       "still_enr_pct                 float64\n",
       "ged_cnt                       float64\n",
       "ged_pct                       float64\n",
       "dropout_cnt                   float64\n",
       "dropout_pct                   float64\n",
       "dtype: object"
      ]
     },
     "execution_count": 23,
     "metadata": {},
     "output_type": "execute_result"
    }
   ],
   "source": [
    "clean_data.dtypes"
   ]
  },
  {
   "cell_type": "markdown",
   "metadata": {
    "id": "Dj-A191LxbV1"
   },
   "source": [
    "## Multicollinearity Check"
   ]
  },
  {
   "cell_type": "markdown",
   "metadata": {
    "id": "eRdZY1pUxczj"
   },
   "source": [
    "We perform a check for multicollinearity on the numeric columns. We can see based on the VIF score, that grad_cnt and grad_pct have extremely high VIF values and will likely need to be removed."
   ]
  },
  {
   "cell_type": "code",
   "execution_count": 24,
   "metadata": {
    "colab": {
     "base_uri": "https://localhost:8080/"
    },
    "id": "ouex2wH3gW4k",
    "outputId": "3d586c70-93e7-4de4-b98a-2f9f4f7cb851"
   },
   "outputs": [
    {
     "data": {
      "text/plain": [
       "Index(['enroll_cnt', 'grad_cnt', 'grad_pct', 'local_cnt', 'local_pct',\n",
       "       'reg_cnt', 'reg_pct', 'reg_adv_cnt', 'reg_adv_pct',\n",
       "       'non_diploma_credential_cnt', 'non_diploma_credential_pct',\n",
       "       'still_enr_cnt', 'still_enr_pct', 'ged_cnt', 'ged_pct', 'dropout_cnt',\n",
       "       'dropout_pct'],\n",
       "      dtype='object')"
      ]
     },
     "execution_count": 24,
     "metadata": {},
     "output_type": "execute_result"
    }
   ],
   "source": [
    "df_numeric.columns"
   ]
  },
  {
   "cell_type": "code",
   "execution_count": 25,
   "metadata": {
    "id": "l-cqO6MqwGcF"
   },
   "outputs": [],
   "source": [
    "df_numeric_1 = df_numeric.drop('dropout_cnt', 1)"
   ]
  },
  {
   "cell_type": "code",
   "execution_count": 26,
   "metadata": {
    "colab": {
     "base_uri": "https://localhost:8080/"
    },
    "id": "NNup_zYu4cW3",
    "outputId": "22209b01-f557-436d-9e74-700d24331bf5"
   },
   "outputs": [
    {
     "name": "stdout",
     "output_type": "stream",
     "text": [
      "Max VIF value is  inf\n",
      "For Independent variable grad_cnt\n",
      "Deleting grad_cnt\n",
      "Final Independent_variables  Index(['enroll_cnt', 'grad_pct', 'local_cnt', 'local_pct', 'reg_cnt',\n",
      "       'reg_pct', 'reg_adv_cnt', 'reg_adv_pct', 'non_diploma_credential_cnt',\n",
      "       'non_diploma_credential_pct', 'still_enr_cnt', 'still_enr_pct',\n",
      "       'ged_cnt', 'ged_pct', 'dropout_pct'],\n",
      "      dtype='object')\n",
      "Max VIF value is  24231.279021393402\n",
      "For Independent variable grad_pct\n",
      "Deleting grad_pct\n",
      "Final Independent_variables  Index(['enroll_cnt', 'local_cnt', 'local_pct', 'reg_cnt', 'reg_pct',\n",
      "       'reg_adv_cnt', 'reg_adv_pct', 'non_diploma_credential_cnt',\n",
      "       'non_diploma_credential_pct', 'still_enr_cnt', 'still_enr_pct',\n",
      "       'ged_cnt', 'ged_pct', 'dropout_pct'],\n",
      "      dtype='object')\n",
      "Max VIF value is  659.0808459064418\n",
      "For Independent variable enroll_cnt\n",
      "Deleting enroll_cnt\n",
      "Final Independent_variables  Index(['local_cnt', 'local_pct', 'reg_cnt', 'reg_pct', 'reg_adv_cnt',\n",
      "       'reg_adv_pct', 'non_diploma_credential_cnt',\n",
      "       'non_diploma_credential_pct', 'still_enr_cnt', 'still_enr_pct',\n",
      "       'ged_cnt', 'ged_pct', 'dropout_pct'],\n",
      "      dtype='object')\n",
      "Max VIF value is  10.372800842578501\n",
      "For Independent variable reg_cnt\n",
      "Deleting reg_cnt\n",
      "Final Independent_variables  Index(['local_cnt', 'local_pct', 'reg_pct', 'reg_adv_cnt', 'reg_adv_pct',\n",
      "       'non_diploma_credential_cnt', 'non_diploma_credential_pct',\n",
      "       'still_enr_cnt', 'still_enr_pct', 'ged_cnt', 'ged_pct', 'dropout_pct'],\n",
      "      dtype='object')\n",
      "Max VIF value is  4.44601703829179\n",
      "For Independent variable local_cnt\n",
      "Max VIF value is  4.44601703829179\n",
      "For Independent variable local_cnt\n",
      "Max VIF value is  4.44601703829179\n",
      "For Independent variable local_cnt\n",
      "Max VIF value is  4.44601703829179\n",
      "For Independent variable local_cnt\n",
      "Max VIF value is  4.44601703829179\n",
      "For Independent variable local_cnt\n",
      "Max VIF value is  4.44601703829179\n",
      "For Independent variable local_cnt\n",
      "Max VIF value is  4.44601703829179\n",
      "For Independent variable local_cnt\n",
      "Max VIF value is  4.44601703829179\n",
      "For Independent variable local_cnt\n",
      "Max VIF value is  4.44601703829179\n",
      "For Independent variable local_cnt\n",
      "Max VIF value is  4.44601703829179\n",
      "For Independent variable local_cnt\n",
      "Max VIF value is  4.44601703829179\n",
      "For Independent variable local_cnt\n",
      "Max VIF value is  4.44601703829179\n",
      "For Independent variable local_cnt\n"
     ]
    }
   ],
   "source": [
    "data = df_numeric\n",
    "# Remove the response from the dataset\n",
    "Y = clean_data[\"dropout_cnt\"]\n",
    "iv = df_numeric_1.columns\n",
    "X = df_numeric_1[iv]\n",
    " \n",
    "# calculate the variance inflation factor\n",
    "from statsmodels.stats.outliers_influence import variance_inflation_factor as vif\n",
    " \n",
    "# compare with each column\n",
    "[vif(data[iv].values, index) for index in range(len(iv))]\n",
    " \n",
    "# Removing multicollinearity from the dataset using vif\n",
    "from statsmodels.stats.outliers_influence import variance_inflation_factor as vif\n",
    " \n",
    "# compare with each columns\n",
    "for i in range(len(iv)):\n",
    "    vif_list = [vif(data[iv].values, index) for index in range(len(iv))]\n",
    "    maxvif = max(vif_list)\n",
    "    print(\"Max VIF value is \", maxvif)                     \n",
    "    drop_index = vif_list.index(maxvif)\n",
    "    print(\"For Independent variable\", iv[drop_index])\n",
    "    \n",
    "    if maxvif > 10:\n",
    "        \n",
    "        print(\"Deleting\", iv[drop_index])\n",
    "        iv = iv.delete(drop_index)\n",
    "        print(\"Final Independent_variables \", iv)\n"
   ]
  },
  {
   "cell_type": "markdown",
   "metadata": {
    "id": "dZ8cDfSZ7Zil"
   },
   "source": [
    "### Data Preparation"
   ]
  },
  {
   "cell_type": "markdown",
   "metadata": {
    "id": "aSAiJzOewGcF"
   },
   "source": [
    "Initially splitting the data into dummy variables produces way too many columns and this needs to be addressed. Going back to the EDA of the categorical values, membership_desc is a nearly uniform distribution so it can likely be eliminated. Additionally, aggregation_name has 680 unique values, which for a categorical value seems like a lot and risks introducing too much variance and potentially overfitting the model so these can be removed. Now that this is taken care of it's a much more manageable 102 after setting the amount of dummies to N-1.\n",
    "\n",
    "In this step we also drop the columns from the multicollinearity check."
   ]
  },
  {
   "cell_type": "code",
   "execution_count": 27,
   "metadata": {
    "id": "gf44J3a3Dynj"
   },
   "outputs": [],
   "source": [
    "X = clean_data.drop(columns=['dropout_cnt', 'grad_cnt', 'grad_pct', 'enroll_cnt', 'reg_cnt', 'membership_desc','aggregation_name']).copy()\n",
    "y = clean_data[['dropout_cnt']]"
   ]
  },
  {
   "cell_type": "code",
   "execution_count": 28,
   "metadata": {
    "colab": {
     "base_uri": "https://localhost:8080/"
    },
    "id": "ryJ9sD8zwGcF",
    "outputId": "ee322ec4-e4f0-4061-b822-5c0e4ee0d929",
    "scrolled": true
   },
   "outputs": [
    {
     "data": {
      "text/plain": [
       "(39674, 102)"
      ]
     },
     "execution_count": 28,
     "metadata": {},
     "output_type": "execute_result"
    }
   ],
   "source": [
    "X_dummied = pd.get_dummies(X, drop_first=True)\n",
    "X_dummied.shape"
   ]
  },
  {
   "cell_type": "markdown",
   "metadata": {
    "id": "tHz9Sgb7wGcG"
   },
   "source": [
    "## Feature Selection\n",
    "\n",
    "For our two versions of each model, we will be using the two different data sets provided by the following two different feature selection models. The first is a LassoCV model and the second is Extra Trees Classifier model."
   ]
  },
  {
   "cell_type": "code",
   "execution_count": 29,
   "metadata": {
    "colab": {
     "base_uri": "https://localhost:8080/"
    },
    "id": "nOjtuBGmwGcG",
    "outputId": "22595ff3-35dd-4dac-cd6f-1ddf164d4e7c"
   },
   "outputs": [
    {
     "data": {
      "text/plain": [
       "Index(['ged_cnt', 'local_cnt', 'non_diploma_credential_cnt', 'still_enr_cnt',\n",
       "       'reg_adv_cnt', 'nyc_ind', 'county_name_WASHINGTON',\n",
       "       'county_name_WARREN', 'county_name_ULSTER', 'county_name_TOMPKINS'],\n",
       "      dtype='object')"
      ]
     },
     "execution_count": 29,
     "metadata": {},
     "output_type": "execute_result"
    }
   ],
   "source": [
    "# libraries\n",
    "from sklearn.linear_model import LassoCV\n",
    "from sklearn.feature_selection import SelectFromModel\n",
    "\n",
    "#Fit the model\n",
    "clf = LassoCV().fit(X_dummied, y)\n",
    "\n",
    "#Selected features\n",
    "importance = np.abs(clf.coef_)\n",
    "idx_third = importance.argsort()[-3]\n",
    "threshold = importance[idx_third] + 0.01\n",
    "idx_features = (-importance).argsort()[:10]\n",
    "\n",
    "feature_name = X_dummied.columns[idx_features]\n",
    "feature_name"
   ]
  },
  {
   "cell_type": "code",
   "execution_count": 30,
   "metadata": {
    "id": "G6AWAF-ewGcG"
   },
   "outputs": [
    {
     "data": {
      "text/plain": [
       "Index(['local_cnt', 'local_pct', 'reg_pct', 'reg_adv_cnt', 'reg_adv_pct',\n",
       "       'non_diploma_credential_cnt', 'non_diploma_credential_pct',\n",
       "       'still_enr_cnt', 'still_enr_pct', 'ged_cnt', 'ged_pct', 'dropout_pct'],\n",
       "      dtype='object')"
      ]
     },
     "execution_count": 30,
     "metadata": {},
     "output_type": "execute_result"
    }
   ],
   "source": [
    "from sklearn.ensemble import ExtraTreesClassifier\n",
    "from sklearn.feature_selection import SelectFromModel\n",
    "\n",
    "\n",
    "clf = ExtraTreesClassifier()\n",
    "clf = clf.fit(X_dummied, y)\n",
    "\n",
    "model = SelectFromModel(clf, prefit=True)\n",
    "feature_idx = model.get_support()\n",
    "feature_name = X_dummied.columns[feature_idx]\n",
    "feature_name"
   ]
  },
  {
   "cell_type": "markdown",
   "metadata": {
    "id": "6eZGPNu4yPU1"
   },
   "source": [
    "What is interesting about the first set of features, is that it includes several counties and a NYC indicator. This may tell us that the school system in specific counties, as well as being in NYC or outside NYC, can have a great effect on drop out rate."
   ]
  },
  {
   "cell_type": "markdown",
   "metadata": {
    "id": "20yH2yZAaBJ-"
   },
   "source": [
    "# **Regression Modeling**"
   ]
  },
  {
   "cell_type": "markdown",
   "metadata": {
    "id": "CMtbfDLwcZXe"
   },
   "source": [
    "After data preparation and feature selection, we decided to select variables based on the outputs of the two methods and see if one was better than the other and which model works best for this sort of data."
   ]
  },
  {
   "cell_type": "markdown",
   "metadata": {
    "id": "C8zrszTxdxEJ"
   },
   "source": [
    "**Poisson Regression Model 1**"
   ]
  },
  {
   "cell_type": "code",
   "execution_count": 31,
   "metadata": {
    "colab": {
     "base_uri": "https://localhost:8080/"
    },
    "id": "3zrPV4m8blxT",
    "outputId": "701c2dfc-ab3d-487c-8a50-07851a7b4cf6"
   },
   "outputs": [],
   "source": [
    "import statsmodels.api as sm\n",
    "from sklearn.model_selection import train_test_split"
   ]
  },
  {
   "cell_type": "code",
   "execution_count": 46,
   "metadata": {
    "colab": {
     "base_uri": "https://localhost:8080/",
     "height": 200
    },
    "id": "o8ZdQPuwdxZc",
    "outputId": "1328efa1-3a6a-4316-fc20-e2ead2cc1190"
   },
   "outputs": [],
   "source": [
    "X1 = X_dummied[['ged_cnt', 'local_cnt', 'non_diploma_credential_cnt', 'still_enr_cnt', 'reg_adv_cnt', 'nyc_ind', 'county_name_WASHINGTON', 'county_name_WARREN', 'county_name_ULSTER', 'county_name_TOMPKINS']].copy()\n",
    "Y1 = y"
   ]
  },
  {
   "cell_type": "code",
   "execution_count": 47,
   "metadata": {
    "id": "aToQZ36vd-SM"
   },
   "outputs": [],
   "source": [
    "X1_train, X1_test, Y1_train, Y1_test = train_test_split(X1,Y1, test_size = 0.3, random_state = 42)"
   ]
  },
  {
   "cell_type": "code",
   "execution_count": 48,
   "metadata": {
    "id": "CYaPaLXTeYFc"
   },
   "outputs": [],
   "source": [
    "poisson_training_results1 = sm.GLM(Y1_train, X1_train, family=sm.families.Poisson()).fit()"
   ]
  },
  {
   "cell_type": "code",
   "execution_count": 49,
   "metadata": {
    "id": "VwrwgU2PejZM"
   },
   "outputs": [
    {
     "data": {
      "text/html": [
       "<table class=\"simpletable\">\n",
       "<caption>Generalized Linear Model Regression Results</caption>\n",
       "<tr>\n",
       "  <th>Dep. Variable:</th>      <td>dropout_cnt</td>   <th>  No. Observations:  </th>   <td> 27771</td>   \n",
       "</tr>\n",
       "<tr>\n",
       "  <th>Model:</th>                  <td>GLM</td>       <th>  Df Residuals:      </th>   <td> 27761</td>   \n",
       "</tr>\n",
       "<tr>\n",
       "  <th>Model Family:</th>         <td>Poisson</td>     <th>  Df Model:          </th>   <td>     9</td>   \n",
       "</tr>\n",
       "<tr>\n",
       "  <th>Link Function:</th>          <td>log</td>       <th>  Scale:             </th>  <td>  1.0000</td>  \n",
       "</tr>\n",
       "<tr>\n",
       "  <th>Method:</th>                <td>IRLS</td>       <th>  Log-Likelihood:    </th> <td>-5.6263e+05</td>\n",
       "</tr>\n",
       "<tr>\n",
       "  <th>Date:</th>            <td>Sun, 26 Jun 2022</td> <th>  Deviance:          </th> <td>1.0445e+06</td> \n",
       "</tr>\n",
       "<tr>\n",
       "  <th>Time:</th>                <td>23:03:16</td>     <th>  Pearson chi2:      </th>  <td>7.32e+06</td>  \n",
       "</tr>\n",
       "<tr>\n",
       "  <th>No. Iterations:</th>          <td>9</td>        <th>                     </th>      <td> </td>     \n",
       "</tr>\n",
       "<tr>\n",
       "  <th>Covariance Type:</th>     <td>nonrobust</td>    <th>                     </th>      <td> </td>     \n",
       "</tr>\n",
       "</table>\n",
       "<table class=\"simpletable\">\n",
       "<tr>\n",
       "               <td></td>                 <th>coef</th>     <th>std err</th>      <th>z</th>      <th>P>|z|</th>  <th>[0.025</th>    <th>0.975]</th>  \n",
       "</tr>\n",
       "<tr>\n",
       "  <th>ged_cnt</th>                    <td>   -0.0073</td> <td>    0.000</td> <td>  -31.506</td> <td> 0.000</td> <td>   -0.008</td> <td>   -0.007</td>\n",
       "</tr>\n",
       "<tr>\n",
       "  <th>local_cnt</th>                  <td>    0.0090</td> <td> 3.14e-05</td> <td>  284.957</td> <td> 0.000</td> <td>    0.009</td> <td>    0.009</td>\n",
       "</tr>\n",
       "<tr>\n",
       "  <th>non_diploma_credential_cnt</th> <td>    0.0095</td> <td> 5.57e-05</td> <td>  169.801</td> <td> 0.000</td> <td>    0.009</td> <td>    0.010</td>\n",
       "</tr>\n",
       "<tr>\n",
       "  <th>still_enr_cnt</th>              <td>    0.0013</td> <td> 1.28e-05</td> <td>  105.091</td> <td> 0.000</td> <td>    0.001</td> <td>    0.001</td>\n",
       "</tr>\n",
       "<tr>\n",
       "  <th>reg_adv_cnt</th>                <td>   -0.0003</td> <td> 6.71e-06</td> <td>  -50.686</td> <td> 0.000</td> <td>   -0.000</td> <td>   -0.000</td>\n",
       "</tr>\n",
       "<tr>\n",
       "  <th>nyc_ind</th>                    <td>    3.5066</td> <td>    0.003</td> <td> 1027.025</td> <td> 0.000</td> <td>    3.500</td> <td>    3.513</td>\n",
       "</tr>\n",
       "<tr>\n",
       "  <th>county_name_WASHINGTON</th>     <td>    1.4233</td> <td>    0.028</td> <td>   51.002</td> <td> 0.000</td> <td>    1.369</td> <td>    1.478</td>\n",
       "</tr>\n",
       "<tr>\n",
       "  <th>county_name_WARREN</th>         <td>    1.4557</td> <td>    0.032</td> <td>   45.824</td> <td> 0.000</td> <td>    1.393</td> <td>    1.518</td>\n",
       "</tr>\n",
       "<tr>\n",
       "  <th>county_name_ULSTER</th>         <td>    2.2521</td> <td>    0.015</td> <td>  148.296</td> <td> 0.000</td> <td>    2.222</td> <td>    2.282</td>\n",
       "</tr>\n",
       "<tr>\n",
       "  <th>county_name_TOMPKINS</th>       <td>    1.6296</td> <td>    0.029</td> <td>   57.130</td> <td> 0.000</td> <td>    1.574</td> <td>    1.686</td>\n",
       "</tr>\n",
       "</table>"
      ],
      "text/plain": [
       "<class 'statsmodels.iolib.summary.Summary'>\n",
       "\"\"\"\n",
       "                 Generalized Linear Model Regression Results                  \n",
       "==============================================================================\n",
       "Dep. Variable:            dropout_cnt   No. Observations:                27771\n",
       "Model:                            GLM   Df Residuals:                    27761\n",
       "Model Family:                 Poisson   Df Model:                            9\n",
       "Link Function:                    log   Scale:                          1.0000\n",
       "Method:                          IRLS   Log-Likelihood:            -5.6263e+05\n",
       "Date:                Sun, 26 Jun 2022   Deviance:                   1.0445e+06\n",
       "Time:                        23:03:16   Pearson chi2:                 7.32e+06\n",
       "No. Iterations:                     9                                         \n",
       "Covariance Type:            nonrobust                                         \n",
       "==============================================================================================\n",
       "                                 coef    std err          z      P>|z|      [0.025      0.975]\n",
       "----------------------------------------------------------------------------------------------\n",
       "ged_cnt                       -0.0073      0.000    -31.506      0.000      -0.008      -0.007\n",
       "local_cnt                      0.0090   3.14e-05    284.957      0.000       0.009       0.009\n",
       "non_diploma_credential_cnt     0.0095   5.57e-05    169.801      0.000       0.009       0.010\n",
       "still_enr_cnt                  0.0013   1.28e-05    105.091      0.000       0.001       0.001\n",
       "reg_adv_cnt                   -0.0003   6.71e-06    -50.686      0.000      -0.000      -0.000\n",
       "nyc_ind                        3.5066      0.003   1027.025      0.000       3.500       3.513\n",
       "county_name_WASHINGTON         1.4233      0.028     51.002      0.000       1.369       1.478\n",
       "county_name_WARREN             1.4557      0.032     45.824      0.000       1.393       1.518\n",
       "county_name_ULSTER             2.2521      0.015    148.296      0.000       2.222       2.282\n",
       "county_name_TOMPKINS           1.6296      0.029     57.130      0.000       1.574       1.686\n",
       "==============================================================================================\n",
       "\"\"\""
      ]
     },
     "execution_count": 49,
     "metadata": {},
     "output_type": "execute_result"
    }
   ],
   "source": [
    "poisson_training_results1.summary()"
   ]
  },
  {
   "cell_type": "markdown",
   "metadata": {},
   "source": [
    "For the first Poisson regression model above, the variables were chosen based on the first feature selection output. In this case, each variable has an extremely low p value, indicating that they are in fact significant. However, the log likelihood is extremely low and the residual degrees of freedom are so high that they don't appear on most chi-squared tables to check."
   ]
  },
  {
   "cell_type": "markdown",
   "metadata": {
    "id": "lc49xVONdrFX"
   },
   "source": [
    "**Poisson Regression Model 2**"
   ]
  },
  {
   "cell_type": "code",
   "execution_count": 56,
   "metadata": {
    "id": "nQR1rGrgd2c0"
   },
   "outputs": [],
   "source": [
    "X2 = X_dummied[['local_cnt', 'reg_pct', 'reg_adv_cnt', 'non_diploma_credential_cnt', 'still_enr_cnt']].copy()\n",
    "Y2 = y"
   ]
  },
  {
   "cell_type": "code",
   "execution_count": 57,
   "metadata": {
    "id": "-kKP-dWsfXjF"
   },
   "outputs": [],
   "source": [
    "X2_train, X2_test, Y2_train, Y2_test = train_test_split(X2, Y2, test_size = 0.3, random_state = 42)"
   ]
  },
  {
   "cell_type": "code",
   "execution_count": 58,
   "metadata": {
    "id": "UqfPW_h6fqk1"
   },
   "outputs": [],
   "source": [
    "poisson_training_results2 = sm.GLM(Y2_train, X2_train, family=sm.families.Poisson()).fit()"
   ]
  },
  {
   "cell_type": "code",
   "execution_count": 59,
   "metadata": {
    "id": "vEQV7ExJfspF"
   },
   "outputs": [
    {
     "data": {
      "text/html": [
       "<table class=\"simpletable\">\n",
       "<caption>Generalized Linear Model Regression Results</caption>\n",
       "<tr>\n",
       "  <th>Dep. Variable:</th>      <td>dropout_cnt</td>   <th>  No. Observations:  </th>   <td> 27771</td>   \n",
       "</tr>\n",
       "<tr>\n",
       "  <th>Model:</th>                  <td>GLM</td>       <th>  Df Residuals:      </th>   <td> 27766</td>   \n",
       "</tr>\n",
       "<tr>\n",
       "  <th>Model Family:</th>         <td>Poisson</td>     <th>  Df Model:          </th>   <td>     4</td>   \n",
       "</tr>\n",
       "<tr>\n",
       "  <th>Link Function:</th>          <td>log</td>       <th>  Scale:             </th>  <td>  1.0000</td>  \n",
       "</tr>\n",
       "<tr>\n",
       "  <th>Method:</th>                <td>IRLS</td>       <th>  Log-Likelihood:    </th> <td>-4.5340e+05</td>\n",
       "</tr>\n",
       "<tr>\n",
       "  <th>Date:</th>            <td>Sun, 26 Jun 2022</td> <th>  Deviance:          </th> <td>8.2599e+05</td> \n",
       "</tr>\n",
       "<tr>\n",
       "  <th>Time:</th>                <td>23:10:09</td>     <th>  Pearson chi2:      </th>  <td>1.83e+06</td>  \n",
       "</tr>\n",
       "<tr>\n",
       "  <th>No. Iterations:</th>          <td>8</td>        <th>                     </th>      <td> </td>     \n",
       "</tr>\n",
       "<tr>\n",
       "  <th>Covariance Type:</th>     <td>nonrobust</td>    <th>                     </th>      <td> </td>     \n",
       "</tr>\n",
       "</table>\n",
       "<table class=\"simpletable\">\n",
       "<tr>\n",
       "               <td></td>                 <th>coef</th>     <th>std err</th>      <th>z</th>      <th>P>|z|</th>  <th>[0.025</th>    <th>0.975]</th>  \n",
       "</tr>\n",
       "<tr>\n",
       "  <th>local_cnt</th>                  <td>    0.0118</td> <td> 1.77e-05</td> <td>  669.504</td> <td> 0.000</td> <td>    0.012</td> <td>    0.012</td>\n",
       "</tr>\n",
       "<tr>\n",
       "  <th>reg_pct</th>                    <td>    4.1810</td> <td>    0.003</td> <td> 1291.638</td> <td> 0.000</td> <td>    4.175</td> <td>    4.187</td>\n",
       "</tr>\n",
       "<tr>\n",
       "  <th>reg_adv_cnt</th>                <td>   -0.0009</td> <td> 5.42e-06</td> <td> -167.569</td> <td> 0.000</td> <td>   -0.001</td> <td>   -0.001</td>\n",
       "</tr>\n",
       "<tr>\n",
       "  <th>non_diploma_credential_cnt</th> <td>    0.0147</td> <td> 4.32e-05</td> <td>  339.927</td> <td> 0.000</td> <td>    0.015</td> <td>    0.015</td>\n",
       "</tr>\n",
       "<tr>\n",
       "  <th>still_enr_cnt</th>              <td>    0.0025</td> <td> 1.15e-05</td> <td>  214.468</td> <td> 0.000</td> <td>    0.002</td> <td>    0.002</td>\n",
       "</tr>\n",
       "</table>"
      ],
      "text/plain": [
       "<class 'statsmodels.iolib.summary.Summary'>\n",
       "\"\"\"\n",
       "                 Generalized Linear Model Regression Results                  \n",
       "==============================================================================\n",
       "Dep. Variable:            dropout_cnt   No. Observations:                27771\n",
       "Model:                            GLM   Df Residuals:                    27766\n",
       "Model Family:                 Poisson   Df Model:                            4\n",
       "Link Function:                    log   Scale:                          1.0000\n",
       "Method:                          IRLS   Log-Likelihood:            -4.5340e+05\n",
       "Date:                Sun, 26 Jun 2022   Deviance:                   8.2599e+05\n",
       "Time:                        23:10:09   Pearson chi2:                 1.83e+06\n",
       "No. Iterations:                     8                                         \n",
       "Covariance Type:            nonrobust                                         \n",
       "==============================================================================================\n",
       "                                 coef    std err          z      P>|z|      [0.025      0.975]\n",
       "----------------------------------------------------------------------------------------------\n",
       "local_cnt                      0.0118   1.77e-05    669.504      0.000       0.012       0.012\n",
       "reg_pct                        4.1810      0.003   1291.638      0.000       4.175       4.187\n",
       "reg_adv_cnt                   -0.0009   5.42e-06   -167.569      0.000      -0.001      -0.001\n",
       "non_diploma_credential_cnt     0.0147   4.32e-05    339.927      0.000       0.015       0.015\n",
       "still_enr_cnt                  0.0025   1.15e-05    214.468      0.000       0.002       0.002\n",
       "==============================================================================================\n",
       "\"\"\""
      ]
     },
     "execution_count": 59,
     "metadata": {},
     "output_type": "execute_result"
    }
   ],
   "source": [
    "poisson_training_results2.summary()"
   ]
  },
  {
   "cell_type": "markdown",
   "metadata": {},
   "source": [
    "In this model as well, each variable has an extremely low p value indicating that they are relevant. In this case also, the residual degrees of freedom and log likelihood metrics are very bad. However, this model performs better than the other model seeing as the log-likelihood is higher. Based on domain knowledge and decision making, certain variables in the second selection set were excluded."
   ]
  },
  {
   "cell_type": "markdown",
   "metadata": {
    "id": "ghNUlO9ifx-0"
   },
   "source": [
    "**Negative Binomial Regression Model 1**"
   ]
  },
  {
   "cell_type": "code",
   "execution_count": 60,
   "metadata": {
    "id": "157lGL3agW_M"
   },
   "outputs": [],
   "source": [
    "nb1_training_results = sm.GLM(Y1_train, X1_train,family=sm.families.NegativeBinomial()).fit()"
   ]
  },
  {
   "cell_type": "code",
   "execution_count": 61,
   "metadata": {
    "id": "KvvGF2Ubga2-"
   },
   "outputs": [
    {
     "name": "stdout",
     "output_type": "stream",
     "text": [
      "                 Generalized Linear Model Regression Results                  \n",
      "==============================================================================\n",
      "Dep. Variable:            dropout_cnt   No. Observations:                27771\n",
      "Model:                            GLM   Df Residuals:                    27761\n",
      "Model Family:        NegativeBinomial   Df Model:                            9\n",
      "Link Function:                    log   Scale:                          1.0000\n",
      "Method:                          IRLS   Log-Likelihood:                -94163.\n",
      "Date:                Sun, 26 Jun 2022   Deviance:                   1.7434e+05\n",
      "Time:                        23:11:33   Pearson chi2:                 1.48e+05\n",
      "No. Iterations:                   100                                         \n",
      "Covariance Type:            nonrobust                                         \n",
      "==============================================================================================\n",
      "                                 coef    std err          z      P>|z|      [0.025      0.975]\n",
      "----------------------------------------------------------------------------------------------\n",
      "ged_cnt                        0.0375      0.002     18.496      0.000       0.034       0.041\n",
      "local_cnt                      0.0471      0.000    132.634      0.000       0.046       0.048\n",
      "non_diploma_credential_cnt     0.1045      0.001     86.737      0.000       0.102       0.107\n",
      "still_enr_cnt                  0.0123      0.000     53.311      0.000       0.012       0.013\n",
      "reg_adv_cnt                    0.0061    5.5e-05    111.683      0.000       0.006       0.006\n",
      "nyc_ind                        0.5202      0.028     18.682      0.000       0.466       0.575\n",
      "county_name_WASHINGTON         0.9976      0.065     15.355      0.000       0.870       1.125\n",
      "county_name_WARREN             0.7672      0.076     10.083      0.000       0.618       0.916\n",
      "county_name_ULSTER             1.1860      0.053     22.588      0.000       1.083       1.289\n",
      "county_name_TOMPKINS           0.7999      0.074     10.819      0.000       0.655       0.945\n",
      "==============================================================================================\n"
     ]
    }
   ],
   "source": [
    "print(nb1_training_results.summary())"
   ]
  },
  {
   "cell_type": "markdown",
   "metadata": {},
   "source": [
    "In this negative binomial model, we stuck with the first set again to see if maybe this method would give better results. The log likelihood is significantly better than the Poisson model which is a good sign and the p value of the variables are again significant. However, again the degrees of freedom are still higher than desired."
   ]
  },
  {
   "cell_type": "markdown",
   "metadata": {
    "id": "qgLsPnSwghT4"
   },
   "source": [
    "**Negative Binomial Regression Model 2**"
   ]
  },
  {
   "cell_type": "code",
   "execution_count": 62,
   "metadata": {
    "id": "5FPAJ6LPgece"
   },
   "outputs": [],
   "source": [
    "nb2_training_results = sm.GLM(Y2_train, X2_train,family=sm.families.NegativeBinomial()).fit()"
   ]
  },
  {
   "cell_type": "code",
   "execution_count": 63,
   "metadata": {
    "id": "ttVkYgDkgmlV",
    "scrolled": false
   },
   "outputs": [
    {
     "name": "stdout",
     "output_type": "stream",
     "text": [
      "                 Generalized Linear Model Regression Results                  \n",
      "==============================================================================\n",
      "Dep. Variable:            dropout_cnt   No. Observations:                27771\n",
      "Model:                            GLM   Df Residuals:                    27766\n",
      "Model Family:        NegativeBinomial   Df Model:                            4\n",
      "Link Function:                    log   Scale:                          1.0000\n",
      "Method:                          IRLS   Log-Likelihood:                -85518.\n",
      "Date:                Sun, 26 Jun 2022   Deviance:                       42933.\n",
      "Time:                        23:12:21   Pearson chi2:                 6.59e+04\n",
      "No. Iterations:                    61                                         \n",
      "Covariance Type:            nonrobust                                         \n",
      "==============================================================================================\n",
      "                                 coef    std err          z      P>|z|      [0.025      0.975]\n",
      "----------------------------------------------------------------------------------------------\n",
      "local_cnt                      0.0220      0.000     68.864      0.000       0.021       0.023\n",
      "reg_pct                        2.6313      0.015    173.489      0.000       2.602       2.661\n",
      "reg_adv_cnt                    0.0025   5.51e-05     45.254      0.000       0.002       0.003\n",
      "non_diploma_credential_cnt     0.0706      0.001     59.453      0.000       0.068       0.073\n",
      "still_enr_cnt                  0.0134      0.000     61.272      0.000       0.013       0.014\n",
      "==============================================================================================\n"
     ]
    }
   ],
   "source": [
    "print(nb2_training_results.summary())"
   ]
  },
  {
   "cell_type": "markdown",
   "metadata": {},
   "source": [
    "In this second negative binomial model, again the variables all have low p values and in compared to its counterpart in the Poisson model, the log likelihood is significantly better, even compared to the other negative binomial model. While this does tell us that this model is better used, there is no indication that this is a good model since there are still a large degrees of freedom."
   ]
  },
  {
   "cell_type": "markdown",
   "metadata": {
    "id": "NYZiW18fgtrB"
   },
   "source": [
    "**Multiple Linear Regression Model 1**"
   ]
  },
  {
   "cell_type": "code",
   "execution_count": 64,
   "metadata": {
    "id": "AHfY44ZZwGcH"
   },
   "outputs": [
    {
     "name": "stdout",
     "output_type": "stream",
     "text": [
      "                            OLS Regression Results                            \n",
      "==============================================================================\n",
      "Dep. Variable:            dropout_cnt   R-squared:                       0.805\n",
      "Model:                            OLS   Adj. R-squared:                  0.805\n",
      "Method:                 Least Squares   F-statistic:                 1.635e+04\n",
      "Date:                Sun, 26 Jun 2022   Prob (F-statistic):               0.00\n",
      "Time:                        23:13:10   Log-Likelihood:            -1.7920e+05\n",
      "No. Observations:               39674   AIC:                         3.584e+05\n",
      "Df Residuals:                   39663   BIC:                         3.585e+05\n",
      "Df Model:                          10                                         \n",
      "Covariance Type:            nonrobust                                         \n",
      "==============================================================================================\n",
      "                                 coef    std err          t      P>|t|      [0.025      0.975]\n",
      "----------------------------------------------------------------------------------------------\n",
      "const                         -1.0263      0.129     -7.946      0.000      -1.279      -0.773\n",
      "ged_cnt                        2.8020      0.038     73.705      0.000       2.727       2.876\n",
      "local_cnt                      0.8650      0.007    131.366      0.000       0.852       0.878\n",
      "non_diploma_credential_cnt     0.7906      0.022     36.552      0.000       0.748       0.833\n",
      "still_enr_cnt                  0.0412      0.004      9.877      0.000       0.033       0.049\n",
      "reg_adv_cnt                    0.0050      0.001      4.821      0.000       0.003       0.007\n",
      "nyc_ind                        5.1659      0.484     10.673      0.000       4.217       6.115\n",
      "county_name_WASHINGTON         1.3421      1.091      1.230      0.219      -0.796       3.480\n",
      "county_name_WARREN            -1.5372      1.184     -1.298      0.194      -3.859       0.784\n",
      "county_name_ULSTER             0.3984      0.916      0.435      0.663      -1.396       2.193\n",
      "county_name_TOMPKINS          -1.4905      1.226     -1.216      0.224      -3.893       0.912\n",
      "==============================================================================\n",
      "Omnibus:                    27706.395   Durbin-Watson:                   1.530\n",
      "Prob(Omnibus):                  0.000   Jarque-Bera (JB):          8408927.083\n",
      "Skew:                           2.253   Prob(JB):                         0.00\n",
      "Kurtosis:                      74.179   Cond. No.                     1.66e+03\n",
      "==============================================================================\n",
      "\n",
      "Notes:\n",
      "[1] Standard Errors assume that the covariance matrix of the errors is correctly specified.\n",
      "[2] The condition number is large, 1.66e+03. This might indicate that there are\n",
      "strong multicollinearity or other numerical problems.\n"
     ]
    }
   ],
   "source": [
    "import statsmodels.api as sm\n",
    "# with statsmodels\n",
    "X_mlr = sm.add_constant(X1) # adding a constant\n",
    " \n",
    "model = sm.OLS(y, X_mlr).fit()\n",
    "predictions = model.predict(X_mlr) \n",
    " \n",
    "print_model = model.summary()\n",
    "print(print_model)\n"
   ]
  },
  {
   "cell_type": "markdown",
   "metadata": {},
   "source": [
    "Based on this output we can confidently say that this is the best model for this selection of features thus far. The adjusted R-squared is a very respectable 80.5% and the f-statistic is very high compared to the null hypothesis."
   ]
  },
  {
   "cell_type": "markdown",
   "metadata": {
    "id": "aGHvLBAfmBWQ"
   },
   "source": [
    "**Multiple Linear Regression Model 2**"
   ]
  },
  {
   "cell_type": "code",
   "execution_count": 65,
   "metadata": {
    "id": "KA8-4tWbiruE"
   },
   "outputs": [
    {
     "name": "stdout",
     "output_type": "stream",
     "text": [
      "                            OLS Regression Results                            \n",
      "==============================================================================\n",
      "Dep. Variable:            dropout_cnt   R-squared:                       0.778\n",
      "Model:                            OLS   Adj. R-squared:                  0.778\n",
      "Method:                 Least Squares   F-statistic:                 2.782e+04\n",
      "Date:                Sun, 26 Jun 2022   Prob (F-statistic):               0.00\n",
      "Time:                        23:15:59   Log-Likelihood:            -1.8174e+05\n",
      "No. Observations:               39674   AIC:                         3.635e+05\n",
      "Df Residuals:                   39668   BIC:                         3.635e+05\n",
      "Df Model:                           5                                         \n",
      "Covariance Type:            nonrobust                                         \n",
      "==============================================================================================\n",
      "                                 coef    std err          t      P>|t|      [0.025      0.975]\n",
      "----------------------------------------------------------------------------------------------\n",
      "const                         -7.0084      0.339    -20.688      0.000      -7.672      -6.344\n",
      "local_cnt                      1.0756      0.006    170.813      0.000       1.063       1.088\n",
      "reg_pct                       11.7174      0.706     16.589      0.000      10.333      13.102\n",
      "reg_adv_cnt                    0.0257      0.001     23.437      0.000       0.024       0.028\n",
      "non_diploma_credential_cnt     0.9732      0.023     42.768      0.000       0.929       1.018\n",
      "still_enr_cnt                  0.1263      0.004     29.853      0.000       0.118       0.135\n",
      "==============================================================================\n",
      "Omnibus:                    32545.764   Durbin-Watson:                   1.622\n",
      "Prob(Omnibus):                  0.000   Jarque-Bera (JB):          9003238.895\n",
      "Skew:                           3.037   Prob(JB):                         0.00\n",
      "Kurtosis:                      76.549   Cond. No.                         980.\n",
      "==============================================================================\n",
      "\n",
      "Notes:\n",
      "[1] Standard Errors assume that the covariance matrix of the errors is correctly specified.\n"
     ]
    }
   ],
   "source": [
    "X_mlr_2 = sm.add_constant(X2) # adding a constant\n",
    " \n",
    "model_2 = sm.OLS(y, X_mlr_2).fit()\n",
    "predictions_2 = model_2.predict(X_mlr_2) \n",
    " \n",
    "print_model_2 = model_2.summary()\n",
    "print(print_model_2)"
   ]
  },
  {
   "cell_type": "markdown",
   "metadata": {},
   "source": [
    "In this model, the R-squared is still respectable at 77.8% but lower than the first model. However, the f-statistic is much better than that first model at rejecting the null hypothesis. An explanation for the lower R-squared value may be that there aren't enough variables included but there are enough to srongly reject the null hypothesis."
   ]
  },
  {
   "cell_type": "markdown",
   "metadata": {
    "id": "T0Tk_MDhwGcH"
   },
   "source": [
    "# Select Models"
   ]
  },
  {
   "cell_type": "markdown",
   "metadata": {},
   "source": [
    "Looking at all selections of features and models, it is clear that multiple linear regression is best for predicting the target variable, especially given the variables represented. With the other types of models, they were utterly terrible at predicting, not even close to really satisfying results. With the multiple linear regression, it is much closer to giving us the ideal result. Given all of the information gathered, we would select the second multiple linear model as our model to move forward. While it's not perfect and the R-squared value is slightly lower than desired, this can be corrected by identifying a couple more significant variables and the f-statistic is higher than the other to prove that the null hypothesis is incorrect. The coefficients are somewhat similar between the models. Even though the size of the coefficients varies between models, comparing the two selections coefficients, the trends stay the same."
   ]
  },
  {
   "cell_type": "markdown",
   "metadata": {
    "id": "WeZy8btawGcH"
   },
   "source": [
    "# Conclusion"
   ]
  },
  {
   "cell_type": "markdown",
   "metadata": {
    "id": "3N27c7E-wGcI"
   },
   "source": [
    "While trying to predict something as common as a dropout, as unfortunate as it may be, the multiple linear regression seems to be the best model. This can be further explained based on what the target variable is. Unfortunately, a student dropping out of school isn't very uncommon. However, the number is not consistent to predict so this target is not a good fit for Poisson and negative binomial. This is something that is a perfect fit for linear models for those reasons."
   ]
  }
 ],
 "metadata": {
  "colab": {
   "collapsed_sections": [],
   "name": "final_copy.ipynb",
   "provenance": []
  },
  "kernelspec": {
   "display_name": "Python 3 (ipykernel)",
   "language": "python",
   "name": "python3"
  },
  "language_info": {
   "codemirror_mode": {
    "name": "ipython",
    "version": 3
   },
   "file_extension": ".py",
   "mimetype": "text/x-python",
   "name": "python",
   "nbconvert_exporter": "python",
   "pygments_lexer": "ipython3",
   "version": "3.8.8"
  }
 },
 "nbformat": 4,
 "nbformat_minor": 1
}
