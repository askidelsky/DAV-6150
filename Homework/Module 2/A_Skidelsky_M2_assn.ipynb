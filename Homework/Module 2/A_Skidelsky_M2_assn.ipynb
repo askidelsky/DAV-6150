{
 "cells": [
  {
   "cell_type": "markdown",
   "id": "23fcdaf9",
   "metadata": {},
   "source": [
    "### Data Loading and Preparation:\n",
    "This data set is comprised of the specifications of 205 cars, showing the values of each car for fields like fuel-type, engine-size, horsepower, height, length, and width among others. The problem that I am attempting to solve is to predict the curb weight of a given car in the data set using chosen variables. I also plan to test whether one metric, correlation or covariance, is significantly better than the other if we had to choose just one to base variable selection off of. I plan to examine the distribution of the data to decide if the data should be stratified, examine various EDA metrics to decide which variables to include in my models, and finally compare the scores of both models to be able to choose which is a better fit."
   ]
  },
  {
   "cell_type": "code",
   "execution_count": 1,
   "id": "c5748031",
   "metadata": {},
   "outputs": [],
   "source": [
    "#import all packages needed:\n",
    "import numpy as np\n",
    "import pandas as pd\n",
    "import matplotlib.pyplot as plt\n",
    "from sklearn.model_selection import StratifiedShuffleSplit\n",
    "from sklearn.model_selection import train_test_split\n",
    "from sklearn.linear_model import LinearRegression\n",
    "from sklearn.pipeline import Pipeline\n",
    "from sklearn.preprocessing import StandardScaler\n",
    "from sklearn.compose import ColumnTransformer\n",
    "from sklearn.impute import SimpleImputer\n",
    "import math\n",
    "from sklearn.metrics import mean_squared_error\n",
    "from sklearn.model_selection import cross_val_score\n",
    "from scipy import stats"
   ]
  },
  {
   "cell_type": "code",
   "execution_count": 2,
   "id": "33cfeb25",
   "metadata": {},
   "outputs": [
    {
     "data": {
      "text/plain": [
       "Index(['3', '?', 'alfa-romero', 'gas', 'std', 'two', 'convertible', 'rwd',\n",
       "       'front', '88.6', '168.8', '64.1', '48.8', '2548', 'dohc', 'four', '130',\n",
       "       'mpfi', '3.47', '2.68', '9', '111', '5000', '21', '27', '13495'],\n",
       "      dtype='object')"
      ]
     },
     "execution_count": 2,
     "metadata": {},
     "output_type": "execute_result"
    }
   ],
   "source": [
    "#loading data set, showing names of columns for replacement:\n",
    "url = 'https://raw.githubusercontent.com/askidelsky/DAV-6150/main/Data%20Sets/Module%202/M2_Data.csv'\n",
    "cars = pd.read_csv(url)\n",
    "cars.columns"
   ]
  },
  {
   "cell_type": "code",
   "execution_count": 3,
   "id": "d8330fc2",
   "metadata": {},
   "outputs": [
    {
     "data": {
      "text/plain": [
       "Index(['symboling', 'normalized-losses', 'make', 'fuel-type', 'aspiration',\n",
       "       'num-of-doors', 'body-style', 'drive-wheels', 'engine-location',\n",
       "       'wheel-base', 'length', 'width', 'height', 'curb-weight', 'engine-type',\n",
       "       'num-of-cylinders', 'engine-size', 'fuel-system', 'bore', 'stroke',\n",
       "       'compression-ratio', 'horsepower', 'peak-rpm', 'city-mpg',\n",
       "       'highway-mpg', 'price'],\n",
       "      dtype='object')"
      ]
     },
     "execution_count": 3,
     "metadata": {},
     "output_type": "execute_result"
    }
   ],
   "source": [
    "#assigning column names:\n",
    "cars = cars.rename(columns = {'3':'symboling','?':'normalized-losses','alfa-romero':'make','gas':'fuel-type','std':'aspiration',\n",
    "                       'two':'num-of-doors','convertible':'body-style','rwd':'drive-wheels','front':'engine-location',\n",
    "                      '88.6':'wheel-base','168.8':'length','64.1':'width','48.8':'height','2548':'curb-weight',\n",
    "                      'dohc':'engine-type','four':'num-of-cylinders','130':'engine-size','mpfi':'fuel-system',\n",
    "                      '3.47':'bore','2.68':'stroke','9':'compression-ratio','111':'horsepower','5000':'peak-rpm',\n",
    "                      '21':'city-mpg','27':'highway-mpg','13495':'price'})\n",
    "cars.columns"
   ]
  },
  {
   "cell_type": "code",
   "execution_count": 4,
   "id": "9282d4bc",
   "metadata": {},
   "outputs": [
    {
     "data": {
      "text/plain": [
       "{'curb-weight': numpy.int64,\n",
       " 'height': numpy.float64,\n",
       " 'width': numpy.float64,\n",
       " 'length': numpy.float64,\n",
       " 'wheel-base': numpy.float64,\n",
       " 'engine-size': numpy.int64,\n",
       " 'horsepower': str,\n",
       " 'peak-rpm': str,\n",
       " 'city-mpg': numpy.int64}"
      ]
     },
     "execution_count": 4,
     "metadata": {},
     "output_type": "execute_result"
    }
   ],
   "source": [
    "#creating subset of only specified variables:\n",
    "cars = cars[['curb-weight','height', 'width', 'length', 'wheel-base', 'engine-size', 'horsepower', 'peak-rpm', 'city-mpg']]\n",
    "\n",
    "#showing data types for each field:\n",
    "types = {}\n",
    "for i in range(len(cars.columns)):\n",
    "    types[cars.columns[i]] = type(cars.iloc[0,i])\n",
    "types"
   ]
  },
  {
   "cell_type": "code",
   "execution_count": 5,
   "id": "9a3b09c7",
   "metadata": {
    "scrolled": false
   },
   "outputs": [
    {
     "data": {
      "text/plain": [
       "{'curb-weight': numpy.int64,\n",
       " 'height': numpy.int32,\n",
       " 'width': numpy.int32,\n",
       " 'length': numpy.int32,\n",
       " 'wheel-base': numpy.int32,\n",
       " 'engine-size': numpy.int64,\n",
       " 'horsepower': numpy.int32,\n",
       " 'peak-rpm': numpy.int32,\n",
       " 'city-mpg': numpy.int64}"
      ]
     },
     "execution_count": 5,
     "metadata": {},
     "output_type": "execute_result"
    }
   ],
   "source": [
    "#transform all values to proper format for EDA:\n",
    "for i in range(len(cars.horsepower)):\n",
    "    if cars.iloc[i,5] == '?':\n",
    "        cars.iloc[i,5] = 0\n",
    "for i in range(len(cars.horsepower)):\n",
    "    if cars.iloc[i,6] == '?':\n",
    "        cars.iloc[i,6] = 0\n",
    "for i in range(len(cars.horsepower)):\n",
    "    cars.iloc[i,5] = int(cars.iloc[i,5])\n",
    "for i in range(len(cars.horsepower)):\n",
    "    cars.iloc[i,6] = int(cars.iloc[i,6])\n",
    "for i in range(len(cars.horsepower)):\n",
    "    if cars.iloc[i,5] == 0:\n",
    "        cars.iloc[i,5] = np.mean(cars.iloc[:,5])\n",
    "for i in range(len(cars.horsepower)):\n",
    "    if cars.iloc[i,6] == 0:\n",
    "        cars.iloc[i,6] = np.mean(cars.iloc[:,6])\n",
    "for i in range(len(cars.horsepower)):\n",
    "    if cars.iloc[i,7] == '?':\n",
    "        cars.iloc[i,7] = 0\n",
    "for i in range(len(cars.horsepower)):\n",
    "    cars.iloc[i,7] = int(cars.iloc[i,7])\n",
    "for i in range(len(cars.horsepower)):\n",
    "    if cars.iloc[i,7] == 0:\n",
    "        cars.iloc[i,7] = np.mean(cars.iloc[:,7])\n",
    "cars['width'] = cars['width'].astype(int)\n",
    "cars['length'] = cars['length'].astype(int)\n",
    "cars['wheel-base'] = cars['wheel-base'].astype(int)\n",
    "cars['height'] = cars['height'].astype(int)\n",
    "cars['horsepower'] = cars['horsepower'].astype(int)\n",
    "cars['peak-rpm'] = cars['peak-rpm'].astype(int)\n",
    "\n",
    "\n",
    "#showing data types for each field post-transformation:\n",
    "types = {}\n",
    "for i in range(len(cars.columns)):\n",
    "    types[cars.columns[i]] = type(cars.iloc[0,i])\n",
    "types"
   ]
  },
  {
   "cell_type": "markdown",
   "id": "65d42ac9",
   "metadata": {},
   "source": [
    "### Explatory Data Analysis:\n",
    "The first step in the EDA process is to display the descriptive statistics for all explanatory variables. Here, we can see that the difference between the values in the various quartiles aren't too big across the board and by examining the histograms displayed below of the distributions of all fields, there is none that really seems to jump out as desperately needing to be stratified before splitting into a training and testing set. Examining the correlation and covariance metrics, it is interesting to note that there are only two values out of the eight explanatory variables that have a negative correlation and out of the two of them, only one seems to be statistically significant by the correlation metric alone. Additionally, with the exception of just two variables, all have solid correlation values which would make is difficult to choose which to include in the models unless there is a definite question to be answered which fortunately, we have already defined."
   ]
  },
  {
   "cell_type": "code",
   "execution_count": 6,
   "id": "6a089055",
   "metadata": {
    "scrolled": true
   },
   "outputs": [
    {
     "data": {
      "text/html": [
       "<div>\n",
       "<style scoped>\n",
       "    .dataframe tbody tr th:only-of-type {\n",
       "        vertical-align: middle;\n",
       "    }\n",
       "\n",
       "    .dataframe tbody tr th {\n",
       "        vertical-align: top;\n",
       "    }\n",
       "\n",
       "    .dataframe thead th {\n",
       "        text-align: right;\n",
       "    }\n",
       "</style>\n",
       "<table border=\"1\" class=\"dataframe\">\n",
       "  <thead>\n",
       "    <tr style=\"text-align: right;\">\n",
       "      <th></th>\n",
       "      <th>curb-weight</th>\n",
       "      <th>height</th>\n",
       "      <th>width</th>\n",
       "      <th>length</th>\n",
       "      <th>wheel-base</th>\n",
       "      <th>engine-size</th>\n",
       "      <th>horsepower</th>\n",
       "      <th>peak-rpm</th>\n",
       "      <th>city-mpg</th>\n",
       "    </tr>\n",
       "  </thead>\n",
       "  <tbody>\n",
       "    <tr>\n",
       "      <th>count</th>\n",
       "      <td>204.000000</td>\n",
       "      <td>204.000000</td>\n",
       "      <td>204.000000</td>\n",
       "      <td>204.000000</td>\n",
       "      <td>204.000000</td>\n",
       "      <td>204.000000</td>\n",
       "      <td>204.000000</td>\n",
       "      <td>204.000000</td>\n",
       "      <td>204.000000</td>\n",
       "    </tr>\n",
       "    <tr>\n",
       "      <th>mean</th>\n",
       "      <td>2555.602941</td>\n",
       "      <td>53.284314</td>\n",
       "      <td>65.421569</td>\n",
       "      <td>173.583333</td>\n",
       "      <td>98.348039</td>\n",
       "      <td>126.892157</td>\n",
       "      <td>104.210784</td>\n",
       "      <td>5125.612745</td>\n",
       "      <td>25.240196</td>\n",
       "    </tr>\n",
       "    <tr>\n",
       "      <th>std</th>\n",
       "      <td>521.960820</td>\n",
       "      <td>2.451007</td>\n",
       "      <td>2.165271</td>\n",
       "      <td>12.280302</td>\n",
       "      <td>6.037767</td>\n",
       "      <td>41.744569</td>\n",
       "      <td>39.613772</td>\n",
       "      <td>478.087829</td>\n",
       "      <td>6.551513</td>\n",
       "    </tr>\n",
       "    <tr>\n",
       "      <th>min</th>\n",
       "      <td>1488.000000</td>\n",
       "      <td>47.000000</td>\n",
       "      <td>60.000000</td>\n",
       "      <td>141.000000</td>\n",
       "      <td>86.000000</td>\n",
       "      <td>61.000000</td>\n",
       "      <td>48.000000</td>\n",
       "      <td>4150.000000</td>\n",
       "      <td>13.000000</td>\n",
       "    </tr>\n",
       "    <tr>\n",
       "      <th>25%</th>\n",
       "      <td>2145.000000</td>\n",
       "      <td>52.000000</td>\n",
       "      <td>64.000000</td>\n",
       "      <td>166.000000</td>\n",
       "      <td>94.000000</td>\n",
       "      <td>97.000000</td>\n",
       "      <td>70.000000</td>\n",
       "      <td>4800.000000</td>\n",
       "      <td>19.000000</td>\n",
       "    </tr>\n",
       "    <tr>\n",
       "      <th>50%</th>\n",
       "      <td>2414.000000</td>\n",
       "      <td>54.000000</td>\n",
       "      <td>65.000000</td>\n",
       "      <td>173.000000</td>\n",
       "      <td>97.000000</td>\n",
       "      <td>119.500000</td>\n",
       "      <td>95.000000</td>\n",
       "      <td>5200.000000</td>\n",
       "      <td>24.000000</td>\n",
       "    </tr>\n",
       "    <tr>\n",
       "      <th>75%</th>\n",
       "      <td>2939.250000</td>\n",
       "      <td>55.000000</td>\n",
       "      <td>66.000000</td>\n",
       "      <td>183.000000</td>\n",
       "      <td>102.000000</td>\n",
       "      <td>142.000000</td>\n",
       "      <td>116.000000</td>\n",
       "      <td>5500.000000</td>\n",
       "      <td>30.000000</td>\n",
       "    </tr>\n",
       "    <tr>\n",
       "      <th>max</th>\n",
       "      <td>4066.000000</td>\n",
       "      <td>59.000000</td>\n",
       "      <td>72.000000</td>\n",
       "      <td>208.000000</td>\n",
       "      <td>120.000000</td>\n",
       "      <td>326.000000</td>\n",
       "      <td>288.000000</td>\n",
       "      <td>6600.000000</td>\n",
       "      <td>49.000000</td>\n",
       "    </tr>\n",
       "  </tbody>\n",
       "</table>\n",
       "</div>"
      ],
      "text/plain": [
       "       curb-weight      height       width      length  wheel-base  \\\n",
       "count   204.000000  204.000000  204.000000  204.000000  204.000000   \n",
       "mean   2555.602941   53.284314   65.421569  173.583333   98.348039   \n",
       "std     521.960820    2.451007    2.165271   12.280302    6.037767   \n",
       "min    1488.000000   47.000000   60.000000  141.000000   86.000000   \n",
       "25%    2145.000000   52.000000   64.000000  166.000000   94.000000   \n",
       "50%    2414.000000   54.000000   65.000000  173.000000   97.000000   \n",
       "75%    2939.250000   55.000000   66.000000  183.000000  102.000000   \n",
       "max    4066.000000   59.000000   72.000000  208.000000  120.000000   \n",
       "\n",
       "       engine-size  horsepower     peak-rpm    city-mpg  \n",
       "count   204.000000  204.000000   204.000000  204.000000  \n",
       "mean    126.892157  104.210784  5125.612745   25.240196  \n",
       "std      41.744569   39.613772   478.087829    6.551513  \n",
       "min      61.000000   48.000000  4150.000000   13.000000  \n",
       "25%      97.000000   70.000000  4800.000000   19.000000  \n",
       "50%     119.500000   95.000000  5200.000000   24.000000  \n",
       "75%     142.000000  116.000000  5500.000000   30.000000  \n",
       "max     326.000000  288.000000  6600.000000   49.000000  "
      ]
     },
     "execution_count": 6,
     "metadata": {},
     "output_type": "execute_result"
    }
   ],
   "source": [
    "#descriptive statistics of all variables:\n",
    "cars.describe()"
   ]
  },
  {
   "cell_type": "code",
   "execution_count": 7,
   "id": "7c2405f4",
   "metadata": {
    "scrolled": false
   },
   "outputs": [
    {
     "data": {
      "image/png": "[encoded data removed]",
      "text/plain": [
       "<Figure size 1440x1080 with 9 Axes>"
      ]
     },
     "metadata": {
      "needs_background": "light"
     },
     "output_type": "display_data"
    }
   ],
   "source": [
    "#distribution of values per field for further EDA:\n",
    "cars.hist(bins=5, figsize=(20, 15))\n",
    "plt.show()"
   ]
  },
  {
   "cell_type": "code",
   "execution_count": 8,
   "id": "afe1a52e",
   "metadata": {
    "scrolled": true
   },
   "outputs": [
    {
     "data": {
      "text/plain": [
       "curb-weight    1.000000\n",
       "length         0.877800\n",
       "width          0.862415\n",
       "engine-size    0.850611\n",
       "wheel-base     0.783319\n",
       "horsepower     0.751053\n",
       "height         0.292849\n",
       "peak-rpm      -0.266313\n",
       "city-mpg      -0.758238\n",
       "Name: curb-weight, dtype: float64"
      ]
     },
     "execution_count": 8,
     "metadata": {},
     "output_type": "execute_result"
    }
   ],
   "source": [
    "#correlation matrix as it relates to the curb-weight:\n",
    "corr_matrix = cars.corr()\n",
    "corr_matrix['curb-weight'].sort_values(ascending=False)"
   ]
  },
  {
   "cell_type": "code",
   "execution_count": 9,
   "id": "70115363",
   "metadata": {},
   "outputs": [
    {
     "data": {
      "text/plain": [
       "curb-weight    272443.097725\n",
       "engine-size     18533.996378\n",
       "horsepower      15529.399377\n",
       "length           5626.552956\n",
       "wheel-base       2468.611779\n",
       "width             974.690380\n",
       "height            374.650391\n",
       "city-mpg        -2592.894306\n",
       "peak-rpm       -66456.652057\n",
       "Name: curb-weight, dtype: float64"
      ]
     },
     "execution_count": 9,
     "metadata": {},
     "output_type": "execute_result"
    }
   ],
   "source": [
    "#covariance matrix displayed as table:\n",
    "car_cov = cars.cov()\n",
    "car_cov['curb-weight'].sort_values(ascending=False)"
   ]
  },
  {
   "cell_type": "markdown",
   "id": "ac1c2101",
   "metadata": {},
   "source": [
    "### Linear Regression:\n",
    "For both of these models, I decided to use 10 folds for cross validation and to use the standard *V-fold* method of cross validation. This is because I am trying to define which metric is better, I want to keep the model as simple as possible and try to eliminate any bias that may come up. The descriptions and reasoning for the construction of each model can be found below:"
   ]
  },
  {
   "cell_type": "code",
   "execution_count": 10,
   "id": "19f41d06",
   "metadata": {},
   "outputs": [
    {
     "data": {
      "text/plain": [
       "204"
      ]
     },
     "execution_count": 10,
     "metadata": {},
     "output_type": "execute_result"
    }
   ],
   "source": [
    "#create training and testing sets:\n",
    "train_set, test_set = train_test_split(cars, test_size=0.2, random_state=42)\n",
    "len(train_set) + len(test_set)"
   ]
  },
  {
   "cell_type": "markdown",
   "id": "e26d4b95",
   "metadata": {},
   "source": [
    "###### First Linear Regression Model:\n",
    "The first linear model consists of the variables horsepower, peak-rpm, and engine-size. Most variables show strong correlation values but in this scenario, I wanted to test if covariance can be effective regardless of correlation. To show this, I specifically selected peak-rpm as one of the values since while it has the lowest correlation value, it has the highest covariance value (although both values are listed in the negative). Engine-size and horsepower have the next highest covariance value, but it should be noted that they still have somewhat high correlation values."
   ]
  },
  {
   "cell_type": "code",
   "execution_count": 11,
   "id": "6d18d9b7",
   "metadata": {},
   "outputs": [],
   "source": [
    "#narrowing training set to just selected variables:\n",
    "cars_vars_a = train_set[['peak-rpm', 'horsepower', 'engine-size']]\n",
    "cars_pred_a = train_set['curb-weight'].copy()"
   ]
  },
  {
   "cell_type": "code",
   "execution_count": 12,
   "id": "050fd377",
   "metadata": {},
   "outputs": [
    {
     "data": {
      "text/html": [
       "<div>\n",
       "<style scoped>\n",
       "    .dataframe tbody tr th:only-of-type {\n",
       "        vertical-align: middle;\n",
       "    }\n",
       "\n",
       "    .dataframe tbody tr th {\n",
       "        vertical-align: top;\n",
       "    }\n",
       "\n",
       "    .dataframe thead th {\n",
       "        text-align: right;\n",
       "    }\n",
       "</style>\n",
       "<table border=\"1\" class=\"dataframe\">\n",
       "  <thead>\n",
       "    <tr style=\"text-align: right;\">\n",
       "      <th></th>\n",
       "      <th>peak-rpm</th>\n",
       "      <th>horsepower</th>\n",
       "      <th>engine-size</th>\n",
       "    </tr>\n",
       "  </thead>\n",
       "  <tbody>\n",
       "    <tr>\n",
       "      <th>199</th>\n",
       "      <td>5400</td>\n",
       "      <td>114</td>\n",
       "      <td>141</td>\n",
       "    </tr>\n",
       "    <tr>\n",
       "      <th>93</th>\n",
       "      <td>5200</td>\n",
       "      <td>69</td>\n",
       "      <td>97</td>\n",
       "    </tr>\n",
       "    <tr>\n",
       "      <th>38</th>\n",
       "      <td>5800</td>\n",
       "      <td>86</td>\n",
       "      <td>110</td>\n",
       "    </tr>\n",
       "    <tr>\n",
       "      <th>24</th>\n",
       "      <td>5500</td>\n",
       "      <td>68</td>\n",
       "      <td>90</td>\n",
       "    </tr>\n",
       "    <tr>\n",
       "      <th>96</th>\n",
       "      <td>5200</td>\n",
       "      <td>69</td>\n",
       "      <td>97</td>\n",
       "    </tr>\n",
       "  </tbody>\n",
       "</table>\n",
       "</div>"
      ],
      "text/plain": [
       "     peak-rpm  horsepower  engine-size\n",
       "199      5400         114          141\n",
       "93       5200          69           97\n",
       "38       5800          86          110\n",
       "24       5500          68           90\n",
       "96       5200          69           97"
      ]
     },
     "execution_count": 12,
     "metadata": {},
     "output_type": "execute_result"
    }
   ],
   "source": [
    "cars_vars_a.head()"
   ]
  },
  {
   "cell_type": "code",
   "execution_count": 13,
   "id": "2fb628e7",
   "metadata": {},
   "outputs": [
    {
     "data": {
      "text/plain": [
       "LinearRegression()"
      ]
     },
     "execution_count": 13,
     "metadata": {},
     "output_type": "execute_result"
    }
   ],
   "source": [
    "#creating and fitting linear regression model:\n",
    "lin_reg = LinearRegression()\n",
    "lin_reg.fit(cars_vars_a, cars_pred_a)"
   ]
  },
  {
   "cell_type": "code",
   "execution_count": 14,
   "id": "aa7b568f",
   "metadata": {},
   "outputs": [
    {
     "name": "stdout",
     "output_type": "stream",
     "text": [
      "Predictions:  [2636.68253442 2168.49161735 2228.45349661 2068.39717041 2168.49161735]\n",
      "Labels:  [2952, 1951, 2304, 1989, 2037]\n"
     ]
    }
   ],
   "source": [
    "#showing predicted values vs actual values:\n",
    "some_data = cars_vars_a.iloc[:5]\n",
    "some_labels = cars_pred_a[:5]\n",
    "print('Predictions: ', lin_reg.predict(some_data))\n",
    "print('Labels: ', list(some_labels))"
   ]
  },
  {
   "cell_type": "code",
   "execution_count": 15,
   "id": "d5d764de",
   "metadata": {},
   "outputs": [
    {
     "data": {
      "text/plain": [
       "256.25611978304437"
      ]
     },
     "execution_count": 15,
     "metadata": {},
     "output_type": "execute_result"
    }
   ],
   "source": [
    "#showing RMSE:\n",
    "cars_preds = lin_reg.predict(cars_vars_a)\n",
    "lin_mse = mean_squared_error(cars_pred_a, cars_preds)\n",
    "lin_rmse = np.sqrt(lin_mse)\n",
    "lin_rmse"
   ]
  },
  {
   "cell_type": "code",
   "execution_count": 18,
   "id": "81a8637f",
   "metadata": {},
   "outputs": [
    {
     "name": "stdout",
     "output_type": "stream",
     "text": [
      "Scores:  [240.46462376 187.66382267 320.15286185 221.57718538 390.83507963\n",
      " 290.64586421 226.71500174 252.95064299 264.97087113 230.12459356]\n",
      "Mean:  262.6100546920574\n",
      "Standard Deviation:  55.47299357278407\n"
     ]
    }
   ],
   "source": [
    "#showing other metrics:\n",
    "scores = cross_val_score(lin_reg, cars_vars_a, cars_pred_a, scoring = 'neg_mean_squared_error', cv=10)\n",
    "rmse_scores = np.sqrt(-scores)\n",
    "\n",
    "def display_scores(scores):\n",
    "    print('Scores: ', scores)\n",
    "    print('Mean: ', scores.mean())\n",
    "    print('Standard Deviation: ', scores.std())\n",
    "display_scores(rmse_scores)"
   ]
  },
  {
   "cell_type": "code",
   "execution_count": 16,
   "id": "81f53e64",
   "metadata": {},
   "outputs": [],
   "source": [
    "#narrowing testing set to desired variables for application of model:\n",
    "cars_vars_test_a = test_set[['peak-rpm', 'horsepower', 'engine-size']]\n",
    "cars_pred_test_a = test_set['curb-weight'].copy()"
   ]
  },
  {
   "cell_type": "code",
   "execution_count": 17,
   "id": "d32c7530",
   "metadata": {},
   "outputs": [
    {
     "data": {
      "text/plain": [
       "0.7412624097164089"
      ]
     },
     "execution_count": 17,
     "metadata": {},
     "output_type": "execute_result"
    }
   ],
   "source": [
    "#computing R squared value:\n",
    "a = lin_reg.score(cars_vars_test_a, cars_pred_test_a)\n",
    "a"
   ]
  },
  {
   "cell_type": "markdown",
   "id": "17abc0a8",
   "metadata": {},
   "source": [
    "###### Second Linear Regression Model:\n",
    "The second linear model consists of the variables length, width, and engine-size. While all pre-selected explanatory variables have very strong correlation values, I wanted to show how effective the correlation metric is on its own. These variables have the three highest correlation values and while engine-size has the second-highest covariance value, length and width are towards the lower end, nothing noteworthy in that metric. It is worth noting that engine-size is appearing in both models."
   ]
  },
  {
   "cell_type": "code",
   "execution_count": 19,
   "id": "a713d2ac",
   "metadata": {},
   "outputs": [],
   "source": [
    "#narrowing training set set to just selected variables:\n",
    "cars_vars_b = train_set[['length', 'width', 'engine-size']]\n",
    "cars_pred_b = train_set['curb-weight'].copy()"
   ]
  },
  {
   "cell_type": "code",
   "execution_count": 20,
   "id": "4349fe7a",
   "metadata": {},
   "outputs": [
    {
     "data": {
      "text/html": [
       "<div>\n",
       "<style scoped>\n",
       "    .dataframe tbody tr th:only-of-type {\n",
       "        vertical-align: middle;\n",
       "    }\n",
       "\n",
       "    .dataframe tbody tr th {\n",
       "        vertical-align: top;\n",
       "    }\n",
       "\n",
       "    .dataframe thead th {\n",
       "        text-align: right;\n",
       "    }\n",
       "</style>\n",
       "<table border=\"1\" class=\"dataframe\">\n",
       "  <thead>\n",
       "    <tr style=\"text-align: right;\">\n",
       "      <th></th>\n",
       "      <th>length</th>\n",
       "      <th>width</th>\n",
       "      <th>engine-size</th>\n",
       "    </tr>\n",
       "  </thead>\n",
       "  <tbody>\n",
       "    <tr>\n",
       "      <th>199</th>\n",
       "      <td>188</td>\n",
       "      <td>68</td>\n",
       "      <td>141</td>\n",
       "    </tr>\n",
       "    <tr>\n",
       "      <th>93</th>\n",
       "      <td>165</td>\n",
       "      <td>63</td>\n",
       "      <td>97</td>\n",
       "    </tr>\n",
       "    <tr>\n",
       "      <th>38</th>\n",
       "      <td>175</td>\n",
       "      <td>65</td>\n",
       "      <td>110</td>\n",
       "    </tr>\n",
       "    <tr>\n",
       "      <th>24</th>\n",
       "      <td>157</td>\n",
       "      <td>63</td>\n",
       "      <td>90</td>\n",
       "    </tr>\n",
       "    <tr>\n",
       "      <th>96</th>\n",
       "      <td>170</td>\n",
       "      <td>63</td>\n",
       "      <td>97</td>\n",
       "    </tr>\n",
       "  </tbody>\n",
       "</table>\n",
       "</div>"
      ],
      "text/plain": [
       "     length  width  engine-size\n",
       "199     188     68          141\n",
       "93      165     63           97\n",
       "38      175     65          110\n",
       "24      157     63           90\n",
       "96      170     63           97"
      ]
     },
     "execution_count": 20,
     "metadata": {},
     "output_type": "execute_result"
    }
   ],
   "source": [
    "cars_vars_b.head()"
   ]
  },
  {
   "cell_type": "code",
   "execution_count": 21,
   "id": "60524228",
   "metadata": {},
   "outputs": [
    {
     "data": {
      "text/plain": [
       "LinearRegression()"
      ]
     },
     "execution_count": 21,
     "metadata": {},
     "output_type": "execute_result"
    }
   ],
   "source": [
    "#creating and fitting linear regression model:\n",
    "lin_reg = LinearRegression()\n",
    "lin_reg.fit(cars_vars_b, cars_pred_b)"
   ]
  },
  {
   "cell_type": "code",
   "execution_count": 22,
   "id": "6843b413",
   "metadata": {},
   "outputs": [
    {
     "name": "stdout",
     "output_type": "stream",
     "text": [
      "Predictions:  [2996.55448001 2137.23774449 2472.9845457  1942.64643188 2236.20717692]\n",
      "Labels:  [2952, 1951, 2304, 1989, 2037]\n"
     ]
    }
   ],
   "source": [
    "#showing predicted values vs actual values:\n",
    "some_data = cars_vars_b.iloc[:5]\n",
    "some_labels = cars_pred_b[:5]\n",
    "print('Predictions: ', lin_reg.predict(some_data))\n",
    "print('Labels: ', list(some_labels))"
   ]
  },
  {
   "cell_type": "code",
   "execution_count": 23,
   "id": "eba46d67",
   "metadata": {},
   "outputs": [
    {
     "data": {
      "text/plain": [
       "169.8385472742683"
      ]
     },
     "execution_count": 23,
     "metadata": {},
     "output_type": "execute_result"
    }
   ],
   "source": [
    "#showing RMSE:\n",
    "cars_preds = lin_reg.predict(cars_vars_b)\n",
    "lin_mse = mean_squared_error(cars_pred_b, cars_preds)\n",
    "lin_rmse = np.sqrt(lin_mse)\n",
    "lin_rmse"
   ]
  },
  {
   "cell_type": "code",
   "execution_count": 24,
   "id": "9c2575d3",
   "metadata": {},
   "outputs": [
    {
     "name": "stdout",
     "output_type": "stream",
     "text": [
      "Scores:  [164.10161962 174.45419959 161.16806479 150.61928954 120.7606997\n",
      " 274.578939   155.97643094 208.03118493 160.56915384 174.57509981]\n",
      "Mean:  174.4834681765297\n",
      "Standard Deviation:  39.270087883919864\n"
     ]
    }
   ],
   "source": [
    "#showing other metrics:\n",
    "scores = cross_val_score(lin_reg, cars_vars_b, cars_pred_b, scoring = 'neg_mean_squared_error', cv=10)\n",
    "rmse_scores = np.sqrt(-scores)\n",
    "\n",
    "def display_scores(scores):\n",
    "    print('Scores: ', scores)\n",
    "    print('Mean: ', scores.mean())\n",
    "    print('Standard Deviation: ', scores.std())\n",
    "display_scores(rmse_scores)"
   ]
  },
  {
   "cell_type": "code",
   "execution_count": 25,
   "id": "d3006a61",
   "metadata": {},
   "outputs": [],
   "source": [
    "#narrowing testing set to desired variables for testing model:\n",
    "cars_test_vars_b = test_set[['length', 'width', 'engine-size']]\n",
    "cars_test_pred_b = test_set['curb-weight'].copy()"
   ]
  },
  {
   "cell_type": "code",
   "execution_count": 26,
   "id": "1ff56adb",
   "metadata": {},
   "outputs": [
    {
     "data": {
      "text/plain": [
       "0.9180623274776668"
      ]
     },
     "execution_count": 26,
     "metadata": {},
     "output_type": "execute_result"
    }
   ],
   "source": [
    "#computing R  squared:\n",
    "b = lin_reg.score(cars_test_vars_b, cars_test_pred_b)\n",
    "b"
   ]
  },
  {
   "cell_type": "code",
   "execution_count": 27,
   "id": "2a46de4d",
   "metadata": {},
   "outputs": [
    {
     "data": {
      "text/plain": [
       "0.17679991776125792"
      ]
     },
     "execution_count": 27,
     "metadata": {},
     "output_type": "execute_result"
    }
   ],
   "source": [
    "#showing difference between R squared of first model and second model:\n",
    "b - a"
   ]
  },
  {
   "cell_type": "markdown",
   "id": "a419e8db",
   "metadata": {},
   "source": [
    "### Evaluation:\n",
    "Looking at the scoring metrics of both models, the results are *drastically* different with the second model scoring better than the first. Using just the correlation metric as a decider, the RMSE is approximately 170, while focusing on the covariance metric the RMSE is a whopping 256. While this is by no means a definite statement that covariance should be ignored and the focus should be solely on correlation (especially on only 205 rows and three variables per model), it does produce some startling results. Computing the R-Squared as well, the first model only comes out to around 74% while the second model comes out to 91%, a difference of close to 18%."
   ]
  }
 ],
 "metadata": {
  "kernelspec": {
   "display_name": "Python 3 (ipykernel)",
   "language": "python",
   "name": "python3"
  },
  "language_info": {
   "codemirror_mode": {
    "name": "ipython",
    "version": 3
   },
   "file_extension": ".py",
   "mimetype": "text/x-python",
   "name": "python",
   "nbconvert_exporter": "python",
   "pygments_lexer": "ipython3",
   "version": "3.8.8"
  }
 },
 "nbformat": 4,
 "nbformat_minor": 5
}
