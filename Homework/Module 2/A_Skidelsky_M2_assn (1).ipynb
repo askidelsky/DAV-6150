{
 "cells": [
  {
   "cell_type": "code",
   "execution_count": 1,
   "id": "c5748031",
   "metadata": {},
   "outputs": [],
   "source": [
    "import numpy as np\n",
    "import pandas as pd"
   ]
  },
  {
   "cell_type": "code",
   "execution_count": 2,
   "id": "33cfeb25",
   "metadata": {},
   "outputs": [],
   "source": [
    "url = 'https://raw.githubusercontent.com/askidelsky/DAV-6150/main/Data%20Sets/Module%202/M2_Data.csv'\n",
    "cars = pd.read_csv(url)"
   ]
  },
  {
   "cell_type": "code",
   "execution_count": 3,
   "id": "a258d0c8",
   "metadata": {},
   "outputs": [
    {
     "data": {
      "text/plain": [
       "Index(['3', '?', 'alfa-romero', 'gas', 'std', 'two', 'convertible', 'rwd',\n",
       "       'front', '88.6', '168.8', '64.1', '48.8', '2548', 'dohc', 'four', '130',\n",
       "       'mpfi', '3.47', '2.68', '9', '111', '5000', '21', '27', '13495'],\n",
       "      dtype='object')"
      ]
     },
     "execution_count": 3,
     "metadata": {},
     "output_type": "execute_result"
    }
   ],
   "source": [
    "cars.columns"
   ]
  },
  {
   "cell_type": "code",
   "execution_count": 4,
   "id": "d8330fc2",
   "metadata": {},
   "outputs": [],
   "source": [
    "cars = cars.rename(columns = {'3':'symboling','?':'normalized-losses','alfa-romero':'make','gas':'fuel-type','std':'aspiration',\n",
    "                       'two':'num-of-doors','convertible':'body-style','rwd':'drive-wheels','front':'engine-location',\n",
    "                      '88.6':'wheel-base','168.8':'length','64.1':'width','48.8':'height','2548':'curb-weight',\n",
    "                      'dohc':'engine-type','four':'num-of-cylinders','130':'engine-size','mpfi':'fuel-system',\n",
    "                      '3.47':'bore','2.68':'stroke','9':'compression-ratio','111':'horsepower','5000':'peak-rpm',\n",
    "                      '21':'city-mpg','27':'highway-mpg','13495':'price'})"
   ]
  },
  {
   "cell_type": "code",
   "execution_count": null,
   "id": "ff4e9eaa",
   "metadata": {},
   "outputs": [],
   "source": []
  }
 ],
 "metadata": {
  "kernelspec": {
   "display_name": "Python 3 (ipykernel)",
   "language": "python",
   "name": "python3"
  },
  "language_info": {
   "codemirror_mode": {
    "name": "ipython",
    "version": 3
   },
   "file_extension": ".py",
   "mimetype": "text/x-python",
   "name": "python",
   "nbconvert_exporter": "python",
   "pygments_lexer": "ipython3",
   "version": "3.8.8"
  }
 },
 "nbformat": 4,
 "nbformat_minor": 5
}
