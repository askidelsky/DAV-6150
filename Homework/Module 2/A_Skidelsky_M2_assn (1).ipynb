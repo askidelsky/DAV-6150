{
 "cells": [
  {
   "cell_type": "code",
   "execution_count": 1,
   "id": "c5748031",
   "metadata": {},
   "outputs": [],
   "source": [
    "import numpy as np\n",
    "import pandas as pd\n",
    "import matplotlib.pyplot as plt\n",
    "#note: all outputs until average calculations are data manipulation and cleanup"
   ]
  },
  {
   "cell_type": "code",
   "execution_count": 2,
   "id": "33cfeb25",
   "metadata": {},
   "outputs": [
    {
     "data": {
      "text/plain": [
       "Index(['3', '?', 'alfa-romero', 'gas', 'std', 'two', 'convertible', 'rwd',\n",
       "       'front', '88.6', '168.8', '64.1', '48.8', '2548', 'dohc', 'four', '130',\n",
       "       'mpfi', '3.47', '2.68', '9', '111', '5000', '21', '27', '13495'],\n",
       "      dtype='object')"
      ]
     },
     "execution_count": 2,
     "metadata": {},
     "output_type": "execute_result"
    }
   ],
   "source": [
    "#loading data set, showing names of columns for replacement:\n",
    "url = 'https://raw.githubusercontent.com/askidelsky/DAV-6150/main/Data%20Sets/Module%202/M2_Data.csv'\n",
    "cars = pd.read_csv(url)\n",
    "cars.columns"
   ]
  },
  {
   "cell_type": "code",
   "execution_count": 3,
   "id": "d8330fc2",
   "metadata": {},
   "outputs": [
    {
     "data": {
      "text/plain": [
       "Index(['symboling', 'normalized-losses', 'make', 'fuel-type', 'aspiration',\n",
       "       'num-of-doors', 'body-style', 'drive-wheels', 'engine-location',\n",
       "       'wheel-base', 'length', 'width', 'height', 'curb-weight', 'engine-type',\n",
       "       'num-of-cylinders', 'engine-size', 'fuel-system', 'bore', 'stroke',\n",
       "       'compression-ratio', 'horsepower', 'peak-rpm', 'city-mpg',\n",
       "       'highway-mpg', 'price'],\n",
       "      dtype='object')"
      ]
     },
     "execution_count": 3,
     "metadata": {},
     "output_type": "execute_result"
    }
   ],
   "source": [
    "#assigning column names:\n",
    "cars = cars.rename(columns = {'3':'symboling','?':'normalized-losses','alfa-romero':'make','gas':'fuel-type','std':'aspiration',\n",
    "                       'two':'num-of-doors','convertible':'body-style','rwd':'drive-wheels','front':'engine-location',\n",
    "                      '88.6':'wheel-base','168.8':'length','64.1':'width','48.8':'height','2548':'curb-weight',\n",
    "                      'dohc':'engine-type','four':'num-of-cylinders','130':'engine-size','mpfi':'fuel-system',\n",
    "                      '3.47':'bore','2.68':'stroke','9':'compression-ratio','111':'horsepower','5000':'peak-rpm',\n",
    "                      '21':'city-mpg','27':'highway-mpg','13495':'price'})\n",
    "cars.columns"
   ]
  },
  {
   "cell_type": "code",
   "execution_count": 4,
   "id": "9282d4bc",
   "metadata": {},
   "outputs": [
    {
     "data": {
      "text/plain": [
       "Index(['height', 'width', 'length', 'wheel-base', 'engine-size', 'horsepower',\n",
       "       'peak-rpm', 'city-mpg'],\n",
       "      dtype='object')"
      ]
     },
     "execution_count": 4,
     "metadata": {},
     "output_type": "execute_result"
    }
   ],
   "source": [
    "#creating subset of only specified variables:\n",
    "cars = cars[['height', 'width', 'length', 'wheel-base', 'engine-size', 'horsepower', 'peak-rpm', 'city-mpg']]\n",
    "cars.columns"
   ]
  },
  {
   "cell_type": "code",
   "execution_count": 5,
   "id": "6e6f9989",
   "metadata": {
    "scrolled": true
   },
   "outputs": [
    {
     "data": {
      "text/plain": [
       "{'height': numpy.float64,\n",
       " 'width': numpy.float64,\n",
       " 'length': numpy.float64,\n",
       " 'wheel-base': numpy.float64,\n",
       " 'engine-size': numpy.int64,\n",
       " 'horsepower': str,\n",
       " 'peak-rpm': str,\n",
       " 'city-mpg': numpy.int64}"
      ]
     },
     "execution_count": 5,
     "metadata": {},
     "output_type": "execute_result"
    }
   ],
   "source": [
    "#showing data types for each field:\n",
    "types = {}\n",
    "for i in range(len(cars.columns)):\n",
    "    types[cars.columns[i]] = type(cars.iloc[0,i])\n",
    "types"
   ]
  },
  {
   "cell_type": "code",
   "execution_count": 12,
   "id": "9a3b09c7",
   "metadata": {
    "scrolled": false
   },
   "outputs": [],
   "source": [
    "#transform unknown values in str columns to 0 and then str columns to int:\n",
    "for i in range(len(cars.horsepower)):\n",
    "    if cars.iloc[i,5] == '?':\n",
    "        cars.iloc[i,5] = 0\n",
    "for i in range(len(cars.horsepower)):\n",
    "    if cars.iloc[i,6] == '?':\n",
    "        cars.iloc[i,6] = 0\n",
    "for i in range(len(cars.horsepower)):\n",
    "    cars.iloc[i,5] = int(cars.iloc[i,5])\n",
    "for i in range(len(cars.horsepower)):\n",
    "    cars.iloc[i,6] = int(cars.iloc[i,6])\n",
    "for i in range(len(cars.horsepower)):\n",
    "    if cars.iloc[i,5] == 0:\n",
    "        cars.iloc[i,5] = np.mean(cars.iloc[:,5])\n",
    "for i in range(len(cars.horsepower)):\n",
    "    if cars.iloc[i,6] == 0:\n",
    "        cars.iloc[i,6] = np.mean(cars.iloc[:,6])"
   ]
  },
  {
   "cell_type": "code",
   "execution_count": 7,
   "id": "31be5e18",
   "metadata": {},
   "outputs": [
    {
     "data": {
      "text/plain": [
       "{'height': numpy.float64,\n",
       " 'width': numpy.float64,\n",
       " 'length': numpy.float64,\n",
       " 'wheel-base': numpy.float64,\n",
       " 'engine-size': numpy.int64,\n",
       " 'horsepower': int,\n",
       " 'peak-rpm': int,\n",
       " 'city-mpg': numpy.int64}"
      ]
     },
     "execution_count": 7,
     "metadata": {},
     "output_type": "execute_result"
    }
   ],
   "source": [
    "#showing data types for each field post-transformation:\n",
    "types = {}\n",
    "for i in range(len(cars.columns)):\n",
    "    types[cars.columns[i]] = type(cars.iloc[0,i])\n",
    "types"
   ]
  },
  {
   "cell_type": "code",
   "execution_count": 8,
   "id": "6a089055",
   "metadata": {},
   "outputs": [
    {
     "data": {
      "text/html": [
       "<div>\n",
       "<style scoped>\n",
       "    .dataframe tbody tr th:only-of-type {\n",
       "        vertical-align: middle;\n",
       "    }\n",
       "\n",
       "    .dataframe tbody tr th {\n",
       "        vertical-align: top;\n",
       "    }\n",
       "\n",
       "    .dataframe thead th {\n",
       "        text-align: right;\n",
       "    }\n",
       "</style>\n",
       "<table border=\"1\" class=\"dataframe\">\n",
       "  <thead>\n",
       "    <tr style=\"text-align: right;\">\n",
       "      <th></th>\n",
       "      <th>height</th>\n",
       "      <th>width</th>\n",
       "      <th>length</th>\n",
       "      <th>wheel-base</th>\n",
       "      <th>engine-size</th>\n",
       "      <th>city-mpg</th>\n",
       "    </tr>\n",
       "  </thead>\n",
       "  <tbody>\n",
       "    <tr>\n",
       "      <th>count</th>\n",
       "      <td>204.000000</td>\n",
       "      <td>204.000000</td>\n",
       "      <td>204.000000</td>\n",
       "      <td>204.000000</td>\n",
       "      <td>204.000000</td>\n",
       "      <td>204.000000</td>\n",
       "    </tr>\n",
       "    <tr>\n",
       "      <th>mean</th>\n",
       "      <td>53.749020</td>\n",
       "      <td>65.916667</td>\n",
       "      <td>174.075000</td>\n",
       "      <td>98.806373</td>\n",
       "      <td>126.892157</td>\n",
       "      <td>25.240196</td>\n",
       "    </tr>\n",
       "    <tr>\n",
       "      <th>std</th>\n",
       "      <td>2.424901</td>\n",
       "      <td>2.146716</td>\n",
       "      <td>12.362123</td>\n",
       "      <td>5.994144</td>\n",
       "      <td>41.744569</td>\n",
       "      <td>6.551513</td>\n",
       "    </tr>\n",
       "    <tr>\n",
       "      <th>min</th>\n",
       "      <td>47.800000</td>\n",
       "      <td>60.300000</td>\n",
       "      <td>141.100000</td>\n",
       "      <td>86.600000</td>\n",
       "      <td>61.000000</td>\n",
       "      <td>13.000000</td>\n",
       "    </tr>\n",
       "    <tr>\n",
       "      <th>25%</th>\n",
       "      <td>52.000000</td>\n",
       "      <td>64.075000</td>\n",
       "      <td>166.300000</td>\n",
       "      <td>94.500000</td>\n",
       "      <td>97.000000</td>\n",
       "      <td>19.000000</td>\n",
       "    </tr>\n",
       "    <tr>\n",
       "      <th>50%</th>\n",
       "      <td>54.100000</td>\n",
       "      <td>65.500000</td>\n",
       "      <td>173.200000</td>\n",
       "      <td>97.000000</td>\n",
       "      <td>119.500000</td>\n",
       "      <td>24.000000</td>\n",
       "    </tr>\n",
       "    <tr>\n",
       "      <th>75%</th>\n",
       "      <td>55.500000</td>\n",
       "      <td>66.900000</td>\n",
       "      <td>183.200000</td>\n",
       "      <td>102.400000</td>\n",
       "      <td>142.000000</td>\n",
       "      <td>30.000000</td>\n",
       "    </tr>\n",
       "    <tr>\n",
       "      <th>max</th>\n",
       "      <td>59.800000</td>\n",
       "      <td>72.300000</td>\n",
       "      <td>208.100000</td>\n",
       "      <td>120.900000</td>\n",
       "      <td>326.000000</td>\n",
       "      <td>49.000000</td>\n",
       "    </tr>\n",
       "  </tbody>\n",
       "</table>\n",
       "</div>"
      ],
      "text/plain": [
       "           height       width      length  wheel-base  engine-size    city-mpg\n",
       "count  204.000000  204.000000  204.000000  204.000000   204.000000  204.000000\n",
       "mean    53.749020   65.916667  174.075000   98.806373   126.892157   25.240196\n",
       "std      2.424901    2.146716   12.362123    5.994144    41.744569    6.551513\n",
       "min     47.800000   60.300000  141.100000   86.600000    61.000000   13.000000\n",
       "25%     52.000000   64.075000  166.300000   94.500000    97.000000   19.000000\n",
       "50%     54.100000   65.500000  173.200000   97.000000   119.500000   24.000000\n",
       "75%     55.500000   66.900000  183.200000  102.400000   142.000000   30.000000\n",
       "max     59.800000   72.300000  208.100000  120.900000   326.000000   49.000000"
      ]
     },
     "execution_count": 8,
     "metadata": {},
     "output_type": "execute_result"
    }
   ],
   "source": [
    "cars.describe()\n",
    "#notice that the standard devation for both the height and width are relatively low, this likely disqualifies them as significant:\n",
    "#based on the values depicted, we can assume that height, width, and length are in inches, city-mpg is in miles-per-galon:"
   ]
  },
  {
   "cell_type": "code",
   "execution_count": 9,
   "id": "7c2405f4",
   "metadata": {
    "scrolled": true
   },
   "outputs": [
    {
     "data": {
      "image/png": "[encoded data removed]",
      "text/plain": [
       "<Figure size 1440x1080 with 6 Axes>"
      ]
     },
     "metadata": {
      "needs_background": "light"
     },
     "output_type": "display_data"
    }
   ],
   "source": [
    "cars.hist(bins=50, figsize=(20, 15))\n",
    "plt.show()"
   ]
  }
 ],
 "metadata": {
  "kernelspec": {
   "display_name": "Python 3 (ipykernel)",
   "language": "python",
   "name": "python3"
  },
  "language_info": {
   "codemirror_mode": {
    "name": "ipython",
    "version": 3
   },
   "file_extension": ".py",
   "mimetype": "text/x-python",
   "name": "python",
   "nbconvert_exporter": "python",
   "pygments_lexer": "ipython3",
   "version": "3.8.8"
  }
 },
 "nbformat": 4,
 "nbformat_minor": 5
}
