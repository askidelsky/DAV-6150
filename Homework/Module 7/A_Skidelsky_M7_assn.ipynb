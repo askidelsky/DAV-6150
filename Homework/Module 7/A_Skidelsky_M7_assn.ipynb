{
  "nbformat": 4,
  "nbformat_minor": 0,
  "metadata": {
    "colab": {
      "name": "A_Skidelsky_M7_assn_",
      "provenance": [],
      "collapsed_sections": []
    },
    "kernelspec": {
      "name": "python3",
      "display_name": "Python 3"
    },
    "language_info": {
      "name": "python"
    }
  },
  "cells": [
    {
      "cell_type": "markdown",
      "source": [
        "# Avi Skidelsky\n",
        "# Qianwen Liu\n",
        "\n",
        "# DAV-6150 Module 7 Assignment"
      ],
      "metadata": {
        "id": "MqVMyoUL4Js2"
      }
    },
    {
      "cell_type": "code",
      "execution_count": 45,
      "metadata": {
        "id": "6BZ_SJJRhjoJ"
      },
      "outputs": [],
      "source": [
        "import numpy as np\n",
        "import pandas as pd\n",
        "import matplotlib.pyplot as plt\n",
        "import seaborn as sns\n",
        "import statsmodels.api as sm\n",
        "from patsy import dmatrices\n",
        "from sklearn.linear_model import LogisticRegression\n",
        "from sklearn.model_selection import train_test_split\n",
        "from sklearn import metrics\n",
        "from sklearn.model_selection import cross_val_score\n",
        "from sklearn.linear_model import LassoCV\n",
        "from sklearn.feature_selection import SelectFromModel\n",
        "from sklearn.ensemble import ExtraTreesClassifier\n",
        "from sklearn.preprocessing import StandardScaler\n",
        "from sklearn.model_selection import GridSearchCV"
      ]
    },
    {
      "cell_type": "code",
      "source": [
        "%matplotlib inline"
      ],
      "metadata": {
        "id": "6GwPNm3-o-Ky"
      },
      "execution_count": 46,
      "outputs": []
    },
    {
      "cell_type": "markdown",
      "source": [
        "# Introduction"
      ],
      "metadata": {
        "id": "2zdBJr0UQO_l"
      }
    },
    {
      "cell_type": "markdown",
      "source": [
        "The problem that we are tasked with in this scenario is interpretting for an insurance company whether a customer is likely to purchase an additional insurance product. We are going to perform a few binary logistic regression models to try and see which set of variables will give us the best ability to predict this. In the data, we have variables like customer age, city, amount of money spent, type of contract, and various others. This includes our variable that we are trying to predict, TARGET. First importing the data, the size is approximately 14,000 rows and 15 attributes, 14 if you want to only consider the predictive variables."
      ],
      "metadata": {
        "id": "YIF6-kfcII_b"
      }
    },
    {
      "cell_type": "markdown",
      "source": [
        "1.   ID: Unique customer identifier\n",
        "2.   TARGET: Indicator of buying the new product (0=no, 1=yes)\n",
        "3.   Loyalty: Loyalty level, from low to high (0 to 3), 99 = unclassified\n",
        "4.   Age: Age in years\n",
        "5.   City: Unique code per city\n",
        "6.   Age_p: Age of partner in years\n",
        "7.   LOR: Length of relationship in months\n",
        "8.   LOR_m: Length of relationship in months\n",
        "9.   Prod_A: Bought product A (0=no, 1=yes)\n",
        "10.  Type_A: Type of product A\n",
        "11.  Turnover_A: Amount of money spent on product A\n",
        "12.  Prod_B: Bought product B (0=no, 1=yes)\n",
        "13.  Type_B: Type of product B\n",
        "14.  Turnover_B: Amount of money spent on product B\n",
        "15.  Contract: Type of contract\n",
        "\n"
      ],
      "metadata": {
        "id": "zHj58jWsEKlX"
      }
    },
    {
      "cell_type": "markdown",
      "source": [
        "# EDA:\n"
      ],
      "metadata": {
        "id": "ehYlGSBXJPZQ"
      }
    },
    {
      "cell_type": "code",
      "source": [
        "raw = pd.read_csv('https://raw.githubusercontent.com/askidelsky/DAV-6150/main/Homework/Module%207/M7_Data.csv')\n",
        "raw.head()"
      ],
      "metadata": {
        "colab": {
          "base_uri": "https://localhost:8080/",
          "height": 206
        },
        "id": "3j69MzlOh0Bf",
        "outputId": "114480c7-e224-4679-a7ec-94e924d6abb9"
      },
      "execution_count": 47,
      "outputs": [
        {
          "output_type": "execute_result",
          "data": {
            "text/plain": [
              "  TARGET  loyalty   ID  age  city  LOR  prod_A  type_A  type_B  prod_B  \\\n",
              "0      Y       99   77   66     2    0       0       0       0       0   \n",
              "1      Y        1  159   45     2    3       1       3       3       1   \n",
              "2      Y        1  220   42     2    2       1       3       6       1   \n",
              "3      Y       99  303   31     2    0       0       0       0       0   \n",
              "4      Y       99  306   62     2    0       0       0       0       0   \n",
              "\n",
              "   turnover_A   turnover_B  contract  age_P  lor_M  \n",
              "0  333.561114   264.721010         2     66      3  \n",
              "1  394.735699   284.904978         2     45     39  \n",
              "2  342.180990  1175.589721         2     42     27  \n",
              "3  453.757916   242.341754         2     31      3  \n",
              "4  384.577469   287.008370         2     62      3  "
            ],
            "text/html": [
              "\n",
              "  <div id=\"df-f3b9a276-c26b-4efd-a662-fe44b22c0876\">\n",
              "    <div class=\"colab-df-container\">\n",
              "      <div>\n",
              "<style scoped>\n",
              "    .dataframe tbody tr th:only-of-type {\n",
              "        vertical-align: middle;\n",
              "    }\n",
              "\n",
              "    .dataframe tbody tr th {\n",
              "        vertical-align: top;\n",
              "    }\n",
              "\n",
              "    .dataframe thead th {\n",
              "        text-align: right;\n",
              "    }\n",
              "</style>\n",
              "<table border=\"1\" class=\"dataframe\">\n",
              "  <thead>\n",
              "    <tr style=\"text-align: right;\">\n",
              "      <th></th>\n",
              "      <th>TARGET</th>\n",
              "      <th>loyalty</th>\n",
              "      <th>ID</th>\n",
              "      <th>age</th>\n",
              "      <th>city</th>\n",
              "      <th>LOR</th>\n",
              "      <th>prod_A</th>\n",
              "      <th>type_A</th>\n",
              "      <th>type_B</th>\n",
              "      <th>prod_B</th>\n",
              "      <th>turnover_A</th>\n",
              "      <th>turnover_B</th>\n",
              "      <th>contract</th>\n",
              "      <th>age_P</th>\n",
              "      <th>lor_M</th>\n",
              "    </tr>\n",
              "  </thead>\n",
              "  <tbody>\n",
              "    <tr>\n",
              "      <th>0</th>\n",
              "      <td>Y</td>\n",
              "      <td>99</td>\n",
              "      <td>77</td>\n",
              "      <td>66</td>\n",
              "      <td>2</td>\n",
              "      <td>0</td>\n",
              "      <td>0</td>\n",
              "      <td>0</td>\n",
              "      <td>0</td>\n",
              "      <td>0</td>\n",
              "      <td>333.561114</td>\n",
              "      <td>264.721010</td>\n",
              "      <td>2</td>\n",
              "      <td>66</td>\n",
              "      <td>3</td>\n",
              "    </tr>\n",
              "    <tr>\n",
              "      <th>1</th>\n",
              "      <td>Y</td>\n",
              "      <td>1</td>\n",
              "      <td>159</td>\n",
              "      <td>45</td>\n",
              "      <td>2</td>\n",
              "      <td>3</td>\n",
              "      <td>1</td>\n",
              "      <td>3</td>\n",
              "      <td>3</td>\n",
              "      <td>1</td>\n",
              "      <td>394.735699</td>\n",
              "      <td>284.904978</td>\n",
              "      <td>2</td>\n",
              "      <td>45</td>\n",
              "      <td>39</td>\n",
              "    </tr>\n",
              "    <tr>\n",
              "      <th>2</th>\n",
              "      <td>Y</td>\n",
              "      <td>1</td>\n",
              "      <td>220</td>\n",
              "      <td>42</td>\n",
              "      <td>2</td>\n",
              "      <td>2</td>\n",
              "      <td>1</td>\n",
              "      <td>3</td>\n",
              "      <td>6</td>\n",
              "      <td>1</td>\n",
              "      <td>342.180990</td>\n",
              "      <td>1175.589721</td>\n",
              "      <td>2</td>\n",
              "      <td>42</td>\n",
              "      <td>27</td>\n",
              "    </tr>\n",
              "    <tr>\n",
              "      <th>3</th>\n",
              "      <td>Y</td>\n",
              "      <td>99</td>\n",
              "      <td>303</td>\n",
              "      <td>31</td>\n",
              "      <td>2</td>\n",
              "      <td>0</td>\n",
              "      <td>0</td>\n",
              "      <td>0</td>\n",
              "      <td>0</td>\n",
              "      <td>0</td>\n",
              "      <td>453.757916</td>\n",
              "      <td>242.341754</td>\n",
              "      <td>2</td>\n",
              "      <td>31</td>\n",
              "      <td>3</td>\n",
              "    </tr>\n",
              "    <tr>\n",
              "      <th>4</th>\n",
              "      <td>Y</td>\n",
              "      <td>99</td>\n",
              "      <td>306</td>\n",
              "      <td>62</td>\n",
              "      <td>2</td>\n",
              "      <td>0</td>\n",
              "      <td>0</td>\n",
              "      <td>0</td>\n",
              "      <td>0</td>\n",
              "      <td>0</td>\n",
              "      <td>384.577469</td>\n",
              "      <td>287.008370</td>\n",
              "      <td>2</td>\n",
              "      <td>62</td>\n",
              "      <td>3</td>\n",
              "    </tr>\n",
              "  </tbody>\n",
              "</table>\n",
              "</div>\n",
              "      <button class=\"colab-df-convert\" onclick=\"convertToInteractive('df-f3b9a276-c26b-4efd-a662-fe44b22c0876')\"\n",
              "              title=\"Convert this dataframe to an interactive table.\"\n",
              "              style=\"display:none;\">\n",
              "        \n",
              "  <svg xmlns=\"http://www.w3.org/2000/svg\" height=\"24px\"viewBox=\"0 0 24 24\"\n",
              "       width=\"24px\">\n",
              "    <path d=\"M0 0h24v24H0V0z\" fill=\"none\"/>\n",
              "    <path d=\"M18.56 5.44l.94 2.06.94-2.06 2.06-.94-2.06-.94-.94-2.06-.94 2.06-2.06.94zm-11 1L8.5 8.5l.94-2.06 2.06-.94-2.06-.94L8.5 2.5l-.94 2.06-2.06.94zm10 10l.94 2.06.94-2.06 2.06-.94-2.06-.94-.94-2.06-.94 2.06-2.06.94z\"/><path d=\"M17.41 7.96l-1.37-1.37c-.4-.4-.92-.59-1.43-.59-.52 0-1.04.2-1.43.59L10.3 9.45l-7.72 7.72c-.78.78-.78 2.05 0 2.83L4 21.41c.39.39.9.59 1.41.59.51 0 1.02-.2 1.41-.59l7.78-7.78 2.81-2.81c.8-.78.8-2.07 0-2.86zM5.41 20L4 18.59l7.72-7.72 1.47 1.35L5.41 20z\"/>\n",
              "  </svg>\n",
              "      </button>\n",
              "      \n",
              "  <style>\n",
              "    .colab-df-container {\n",
              "      display:flex;\n",
              "      flex-wrap:wrap;\n",
              "      gap: 12px;\n",
              "    }\n",
              "\n",
              "    .colab-df-convert {\n",
              "      background-color: #E8F0FE;\n",
              "      border: none;\n",
              "      border-radius: 50%;\n",
              "      cursor: pointer;\n",
              "      display: none;\n",
              "      fill: #1967D2;\n",
              "      height: 32px;\n",
              "      padding: 0 0 0 0;\n",
              "      width: 32px;\n",
              "    }\n",
              "\n",
              "    .colab-df-convert:hover {\n",
              "      background-color: #E2EBFA;\n",
              "      box-shadow: 0px 1px 2px rgba(60, 64, 67, 0.3), 0px 1px 3px 1px rgba(60, 64, 67, 0.15);\n",
              "      fill: #174EA6;\n",
              "    }\n",
              "\n",
              "    [theme=dark] .colab-df-convert {\n",
              "      background-color: #3B4455;\n",
              "      fill: #D2E3FC;\n",
              "    }\n",
              "\n",
              "    [theme=dark] .colab-df-convert:hover {\n",
              "      background-color: #434B5C;\n",
              "      box-shadow: 0px 1px 3px 1px rgba(0, 0, 0, 0.15);\n",
              "      filter: drop-shadow(0px 1px 2px rgba(0, 0, 0, 0.3));\n",
              "      fill: #FFFFFF;\n",
              "    }\n",
              "  </style>\n",
              "\n",
              "      <script>\n",
              "        const buttonEl =\n",
              "          document.querySelector('#df-f3b9a276-c26b-4efd-a662-fe44b22c0876 button.colab-df-convert');\n",
              "        buttonEl.style.display =\n",
              "          google.colab.kernel.accessAllowed ? 'block' : 'none';\n",
              "\n",
              "        async function convertToInteractive(key) {\n",
              "          const element = document.querySelector('#df-f3b9a276-c26b-4efd-a662-fe44b22c0876');\n",
              "          const dataTable =\n",
              "            await google.colab.kernel.invokeFunction('convertToInteractive',\n",
              "                                                     [key], {});\n",
              "          if (!dataTable) return;\n",
              "\n",
              "          const docLinkHtml = 'Like what you see? Visit the ' +\n",
              "            '<a target=\"_blank\" href=https://colab.research.google.com/notebooks/data_table.ipynb>data table notebook</a>'\n",
              "            + ' to learn more about interactive tables.';\n",
              "          element.innerHTML = '';\n",
              "          dataTable['output_type'] = 'display_data';\n",
              "          await google.colab.output.renderOutput(dataTable, element);\n",
              "          const docLink = document.createElement('div');\n",
              "          docLink.innerHTML = docLinkHtml;\n",
              "          element.appendChild(docLink);\n",
              "        }\n",
              "      </script>\n",
              "    </div>\n",
              "  </div>\n",
              "  "
            ]
          },
          "metadata": {},
          "execution_count": 47
        }
      ]
    },
    {
      "cell_type": "code",
      "source": [
        "raw.shape"
      ],
      "metadata": {
        "colab": {
          "base_uri": "https://localhost:8080/"
        },
        "id": "lOmL3rcAiK_d",
        "outputId": "752c664e-d8b1-4a32-a840-603e463056f5"
      },
      "execution_count": 48,
      "outputs": [
        {
          "output_type": "execute_result",
          "data": {
            "text/plain": [
              "(14016, 15)"
            ]
          },
          "metadata": {},
          "execution_count": 48
        }
      ]
    },
    {
      "cell_type": "markdown",
      "source": [
        "###Data Profiling\n",
        "Looking at the data, it consists of approximately 14,000 observations, each with 15 columns, 14 attributes."
      ],
      "metadata": {
        "id": "PiPouJh1QF63"
      }
    },
    {
      "cell_type": "markdown",
      "source": [
        "Inspecting the data types of all columns, they are all numeric with the exception of TARGET which is listed as either Y or N. This is fine as we are trying to predict Y vs N and this is easily converted into a simple 1 or 0 value. This change will take place in the data preparation stage. Note that with the exception of age, LOR, turnover_A, turnover_B, age_P, and lor_M, all are categorical variables both ordinal and nominal. Those previously mentioned are the only continuous ones."
      ],
      "metadata": {
        "id": "vOuu-Mfmqt99"
      }
    },
    {
      "cell_type": "code",
      "source": [
        "raw.dtypes"
      ],
      "metadata": {
        "colab": {
          "base_uri": "https://localhost:8080/"
        },
        "id": "jJPOEGicxq7G",
        "outputId": "5ea54d1f-f700-4d76-86d2-7e91d3fd5deb"
      },
      "execution_count": 49,
      "outputs": [
        {
          "output_type": "execute_result",
          "data": {
            "text/plain": [
              "TARGET         object\n",
              "loyalty         int64\n",
              "ID              int64\n",
              "age             int64\n",
              "city            int64\n",
              "LOR             int64\n",
              "prod_A          int64\n",
              "type_A          int64\n",
              "type_B          int64\n",
              "prod_B          int64\n",
              "turnover_A    float64\n",
              "turnover_B    float64\n",
              "contract        int64\n",
              "age_P           int64\n",
              "lor_M           int64\n",
              "dtype: object"
            ]
          },
          "metadata": {},
          "execution_count": 49
        }
      ]
    },
    {
      "cell_type": "markdown",
      "source": [
        "Next, looking at the amount of missing values, thankfully there are none so no imputations will be needed.\n"
      ],
      "metadata": {
        "id": "OMjWj5rHJ2F8"
      }
    },
    {
      "cell_type": "code",
      "source": [
        "raw.isna().sum().sum()"
      ],
      "metadata": {
        "colab": {
          "base_uri": "https://localhost:8080/"
        },
        "id": "i56MwzJ7yHYA",
        "outputId": "50af0cdb-ef45-42b0-b6a2-cca7f0920cbc"
      },
      "execution_count": 50,
      "outputs": [
        {
          "output_type": "execute_result",
          "data": {
            "text/plain": [
              "0"
            ]
          },
          "metadata": {},
          "execution_count": 50
        }
      ]
    },
    {
      "cell_type": "markdown",
      "source": [
        "### Data Contents and Structure"
      ],
      "metadata": {
        "id": "WZUMZ_BJrKGX"
      }
    },
    {
      "cell_type": "markdown",
      "source": [
        "I decided to check the data for attributes with little to no variance, signaling that they won't impact the result of the model, at least not strongly. One column that is easy to eliminate off the bat is contract. Contract can be eliminated because every observation in this data set has the same value. This signals that the response variable, TARGET, does not change based on whatever this value is at least in the data provided. These steps will be taken care of in the data preparation step.\n",
        "\n",
        "ID in theory should be unique to each observation but I decided to check anyways. In this case, there are 3,000 rows, amounting to 21.5% of all observations, that are complete duplicates. If it was a smaller percentage of observations then we wouldn't bother eliminating because it wouldn't have much of an effect but here we have no choice but to eliminate the duplicates. This will be taken care of in the data preparation step."
      ],
      "metadata": {
        "id": "alSYNoWmKWg-"
      }
    },
    {
      "cell_type": "code",
      "source": [
        "raw[raw.duplicated()==True]"
      ],
      "metadata": {
        "colab": {
          "base_uri": "https://localhost:8080/",
          "height": 424
        },
        "id": "7PQn74X2Pv6u",
        "outputId": "a83bcce1-9ec6-4da5-ce6e-d3cc62cda2a9"
      },
      "execution_count": 51,
      "outputs": [
        {
          "output_type": "execute_result",
          "data": {
            "text/plain": [
              "      TARGET  loyalty      ID  age  city  LOR  prod_A  type_A  type_B  prod_B  \\\n",
              "11008      Y       99      77   66     2    0       0       0       0       0   \n",
              "11009      Y        1     159   45     2    3       1       3       3       1   \n",
              "11010      Y        1     220   42     2    2       1       3       6       1   \n",
              "11011      Y       99     303   31     2    0       0       0       0       0   \n",
              "11012      Y       99     306   62     2    0       0       0       0       0   \n",
              "...      ...      ...     ...  ...   ...  ...     ...     ...     ...     ...   \n",
              "14011      Y       99  151601   30     2    0       0       0       0       0   \n",
              "14012      Y        1  151634   27     2    2       1       3       3       1   \n",
              "14013      Y       99  151679   26     2    0       0       0       0       0   \n",
              "14014      Y        1  151804   75     2    1       1       3       3       1   \n",
              "14015      Y       99  151811   61     2    0       0       0       0       0   \n",
              "\n",
              "       turnover_A   turnover_B  contract  age_P  lor_M  \n",
              "11008  333.561114   264.721010         2     66      3  \n",
              "11009  394.735699   284.904978         2     45     39  \n",
              "11010  342.180990  1175.589721         2     42     27  \n",
              "11011  453.757916   242.341754         2     31      3  \n",
              "11012  384.577469   287.008370         2     62      3  \n",
              "...           ...          ...       ...    ...    ...  \n",
              "14011  386.434278   284.309508         2     30      3  \n",
              "14012  376.842591   266.993794         2     27     27  \n",
              "14013  434.805703   284.629361         2     26      3  \n",
              "14014  366.273857   270.573265         2     75     15  \n",
              "14015  445.059067   217.425934         2     61      3  \n",
              "\n",
              "[3008 rows x 15 columns]"
            ],
            "text/html": [
              "\n",
              "  <div id=\"df-049cbcf2-10be-46c0-bd6e-c88e9802e456\">\n",
              "    <div class=\"colab-df-container\">\n",
              "      <div>\n",
              "<style scoped>\n",
              "    .dataframe tbody tr th:only-of-type {\n",
              "        vertical-align: middle;\n",
              "    }\n",
              "\n",
              "    .dataframe tbody tr th {\n",
              "        vertical-align: top;\n",
              "    }\n",
              "\n",
              "    .dataframe thead th {\n",
              "        text-align: right;\n",
              "    }\n",
              "</style>\n",
              "<table border=\"1\" class=\"dataframe\">\n",
              "  <thead>\n",
              "    <tr style=\"text-align: right;\">\n",
              "      <th></th>\n",
              "      <th>TARGET</th>\n",
              "      <th>loyalty</th>\n",
              "      <th>ID</th>\n",
              "      <th>age</th>\n",
              "      <th>city</th>\n",
              "      <th>LOR</th>\n",
              "      <th>prod_A</th>\n",
              "      <th>type_A</th>\n",
              "      <th>type_B</th>\n",
              "      <th>prod_B</th>\n",
              "      <th>turnover_A</th>\n",
              "      <th>turnover_B</th>\n",
              "      <th>contract</th>\n",
              "      <th>age_P</th>\n",
              "      <th>lor_M</th>\n",
              "    </tr>\n",
              "  </thead>\n",
              "  <tbody>\n",
              "    <tr>\n",
              "      <th>11008</th>\n",
              "      <td>Y</td>\n",
              "      <td>99</td>\n",
              "      <td>77</td>\n",
              "      <td>66</td>\n",
              "      <td>2</td>\n",
              "      <td>0</td>\n",
              "      <td>0</td>\n",
              "      <td>0</td>\n",
              "      <td>0</td>\n",
              "      <td>0</td>\n",
              "      <td>333.561114</td>\n",
              "      <td>264.721010</td>\n",
              "      <td>2</td>\n",
              "      <td>66</td>\n",
              "      <td>3</td>\n",
              "    </tr>\n",
              "    <tr>\n",
              "      <th>11009</th>\n",
              "      <td>Y</td>\n",
              "      <td>1</td>\n",
              "      <td>159</td>\n",
              "      <td>45</td>\n",
              "      <td>2</td>\n",
              "      <td>3</td>\n",
              "      <td>1</td>\n",
              "      <td>3</td>\n",
              "      <td>3</td>\n",
              "      <td>1</td>\n",
              "      <td>394.735699</td>\n",
              "      <td>284.904978</td>\n",
              "      <td>2</td>\n",
              "      <td>45</td>\n",
              "      <td>39</td>\n",
              "    </tr>\n",
              "    <tr>\n",
              "      <th>11010</th>\n",
              "      <td>Y</td>\n",
              "      <td>1</td>\n",
              "      <td>220</td>\n",
              "      <td>42</td>\n",
              "      <td>2</td>\n",
              "      <td>2</td>\n",
              "      <td>1</td>\n",
              "      <td>3</td>\n",
              "      <td>6</td>\n",
              "      <td>1</td>\n",
              "      <td>342.180990</td>\n",
              "      <td>1175.589721</td>\n",
              "      <td>2</td>\n",
              "      <td>42</td>\n",
              "      <td>27</td>\n",
              "    </tr>\n",
              "    <tr>\n",
              "      <th>11011</th>\n",
              "      <td>Y</td>\n",
              "      <td>99</td>\n",
              "      <td>303</td>\n",
              "      <td>31</td>\n",
              "      <td>2</td>\n",
              "      <td>0</td>\n",
              "      <td>0</td>\n",
              "      <td>0</td>\n",
              "      <td>0</td>\n",
              "      <td>0</td>\n",
              "      <td>453.757916</td>\n",
              "      <td>242.341754</td>\n",
              "      <td>2</td>\n",
              "      <td>31</td>\n",
              "      <td>3</td>\n",
              "    </tr>\n",
              "    <tr>\n",
              "      <th>11012</th>\n",
              "      <td>Y</td>\n",
              "      <td>99</td>\n",
              "      <td>306</td>\n",
              "      <td>62</td>\n",
              "      <td>2</td>\n",
              "      <td>0</td>\n",
              "      <td>0</td>\n",
              "      <td>0</td>\n",
              "      <td>0</td>\n",
              "      <td>0</td>\n",
              "      <td>384.577469</td>\n",
              "      <td>287.008370</td>\n",
              "      <td>2</td>\n",
              "      <td>62</td>\n",
              "      <td>3</td>\n",
              "    </tr>\n",
              "    <tr>\n",
              "      <th>...</th>\n",
              "      <td>...</td>\n",
              "      <td>...</td>\n",
              "      <td>...</td>\n",
              "      <td>...</td>\n",
              "      <td>...</td>\n",
              "      <td>...</td>\n",
              "      <td>...</td>\n",
              "      <td>...</td>\n",
              "      <td>...</td>\n",
              "      <td>...</td>\n",
              "      <td>...</td>\n",
              "      <td>...</td>\n",
              "      <td>...</td>\n",
              "      <td>...</td>\n",
              "      <td>...</td>\n",
              "    </tr>\n",
              "    <tr>\n",
              "      <th>14011</th>\n",
              "      <td>Y</td>\n",
              "      <td>99</td>\n",
              "      <td>151601</td>\n",
              "      <td>30</td>\n",
              "      <td>2</td>\n",
              "      <td>0</td>\n",
              "      <td>0</td>\n",
              "      <td>0</td>\n",
              "      <td>0</td>\n",
              "      <td>0</td>\n",
              "      <td>386.434278</td>\n",
              "      <td>284.309508</td>\n",
              "      <td>2</td>\n",
              "      <td>30</td>\n",
              "      <td>3</td>\n",
              "    </tr>\n",
              "    <tr>\n",
              "      <th>14012</th>\n",
              "      <td>Y</td>\n",
              "      <td>1</td>\n",
              "      <td>151634</td>\n",
              "      <td>27</td>\n",
              "      <td>2</td>\n",
              "      <td>2</td>\n",
              "      <td>1</td>\n",
              "      <td>3</td>\n",
              "      <td>3</td>\n",
              "      <td>1</td>\n",
              "      <td>376.842591</td>\n",
              "      <td>266.993794</td>\n",
              "      <td>2</td>\n",
              "      <td>27</td>\n",
              "      <td>27</td>\n",
              "    </tr>\n",
              "    <tr>\n",
              "      <th>14013</th>\n",
              "      <td>Y</td>\n",
              "      <td>99</td>\n",
              "      <td>151679</td>\n",
              "      <td>26</td>\n",
              "      <td>2</td>\n",
              "      <td>0</td>\n",
              "      <td>0</td>\n",
              "      <td>0</td>\n",
              "      <td>0</td>\n",
              "      <td>0</td>\n",
              "      <td>434.805703</td>\n",
              "      <td>284.629361</td>\n",
              "      <td>2</td>\n",
              "      <td>26</td>\n",
              "      <td>3</td>\n",
              "    </tr>\n",
              "    <tr>\n",
              "      <th>14014</th>\n",
              "      <td>Y</td>\n",
              "      <td>1</td>\n",
              "      <td>151804</td>\n",
              "      <td>75</td>\n",
              "      <td>2</td>\n",
              "      <td>1</td>\n",
              "      <td>1</td>\n",
              "      <td>3</td>\n",
              "      <td>3</td>\n",
              "      <td>1</td>\n",
              "      <td>366.273857</td>\n",
              "      <td>270.573265</td>\n",
              "      <td>2</td>\n",
              "      <td>75</td>\n",
              "      <td>15</td>\n",
              "    </tr>\n",
              "    <tr>\n",
              "      <th>14015</th>\n",
              "      <td>Y</td>\n",
              "      <td>99</td>\n",
              "      <td>151811</td>\n",
              "      <td>61</td>\n",
              "      <td>2</td>\n",
              "      <td>0</td>\n",
              "      <td>0</td>\n",
              "      <td>0</td>\n",
              "      <td>0</td>\n",
              "      <td>0</td>\n",
              "      <td>445.059067</td>\n",
              "      <td>217.425934</td>\n",
              "      <td>2</td>\n",
              "      <td>61</td>\n",
              "      <td>3</td>\n",
              "    </tr>\n",
              "  </tbody>\n",
              "</table>\n",
              "<p>3008 rows × 15 columns</p>\n",
              "</div>\n",
              "      <button class=\"colab-df-convert\" onclick=\"convertToInteractive('df-049cbcf2-10be-46c0-bd6e-c88e9802e456')\"\n",
              "              title=\"Convert this dataframe to an interactive table.\"\n",
              "              style=\"display:none;\">\n",
              "        \n",
              "  <svg xmlns=\"http://www.w3.org/2000/svg\" height=\"24px\"viewBox=\"0 0 24 24\"\n",
              "       width=\"24px\">\n",
              "    <path d=\"M0 0h24v24H0V0z\" fill=\"none\"/>\n",
              "    <path d=\"M18.56 5.44l.94 2.06.94-2.06 2.06-.94-2.06-.94-.94-2.06-.94 2.06-2.06.94zm-11 1L8.5 8.5l.94-2.06 2.06-.94-2.06-.94L8.5 2.5l-.94 2.06-2.06.94zm10 10l.94 2.06.94-2.06 2.06-.94-2.06-.94-.94-2.06-.94 2.06-2.06.94z\"/><path d=\"M17.41 7.96l-1.37-1.37c-.4-.4-.92-.59-1.43-.59-.52 0-1.04.2-1.43.59L10.3 9.45l-7.72 7.72c-.78.78-.78 2.05 0 2.83L4 21.41c.39.39.9.59 1.41.59.51 0 1.02-.2 1.41-.59l7.78-7.78 2.81-2.81c.8-.78.8-2.07 0-2.86zM5.41 20L4 18.59l7.72-7.72 1.47 1.35L5.41 20z\"/>\n",
              "  </svg>\n",
              "      </button>\n",
              "      \n",
              "  <style>\n",
              "    .colab-df-container {\n",
              "      display:flex;\n",
              "      flex-wrap:wrap;\n",
              "      gap: 12px;\n",
              "    }\n",
              "\n",
              "    .colab-df-convert {\n",
              "      background-color: #E8F0FE;\n",
              "      border: none;\n",
              "      border-radius: 50%;\n",
              "      cursor: pointer;\n",
              "      display: none;\n",
              "      fill: #1967D2;\n",
              "      height: 32px;\n",
              "      padding: 0 0 0 0;\n",
              "      width: 32px;\n",
              "    }\n",
              "\n",
              "    .colab-df-convert:hover {\n",
              "      background-color: #E2EBFA;\n",
              "      box-shadow: 0px 1px 2px rgba(60, 64, 67, 0.3), 0px 1px 3px 1px rgba(60, 64, 67, 0.15);\n",
              "      fill: #174EA6;\n",
              "    }\n",
              "\n",
              "    [theme=dark] .colab-df-convert {\n",
              "      background-color: #3B4455;\n",
              "      fill: #D2E3FC;\n",
              "    }\n",
              "\n",
              "    [theme=dark] .colab-df-convert:hover {\n",
              "      background-color: #434B5C;\n",
              "      box-shadow: 0px 1px 3px 1px rgba(0, 0, 0, 0.15);\n",
              "      filter: drop-shadow(0px 1px 2px rgba(0, 0, 0, 0.3));\n",
              "      fill: #FFFFFF;\n",
              "    }\n",
              "  </style>\n",
              "\n",
              "      <script>\n",
              "        const buttonEl =\n",
              "          document.querySelector('#df-049cbcf2-10be-46c0-bd6e-c88e9802e456 button.colab-df-convert');\n",
              "        buttonEl.style.display =\n",
              "          google.colab.kernel.accessAllowed ? 'block' : 'none';\n",
              "\n",
              "        async function convertToInteractive(key) {\n",
              "          const element = document.querySelector('#df-049cbcf2-10be-46c0-bd6e-c88e9802e456');\n",
              "          const dataTable =\n",
              "            await google.colab.kernel.invokeFunction('convertToInteractive',\n",
              "                                                     [key], {});\n",
              "          if (!dataTable) return;\n",
              "\n",
              "          const docLinkHtml = 'Like what you see? Visit the ' +\n",
              "            '<a target=\"_blank\" href=https://colab.research.google.com/notebooks/data_table.ipynb>data table notebook</a>'\n",
              "            + ' to learn more about interactive tables.';\n",
              "          element.innerHTML = '';\n",
              "          dataTable['output_type'] = 'display_data';\n",
              "          await google.colab.output.renderOutput(dataTable, element);\n",
              "          const docLink = document.createElement('div');\n",
              "          docLink.innerHTML = docLinkHtml;\n",
              "          element.appendChild(docLink);\n",
              "        }\n",
              "      </script>\n",
              "    </div>\n",
              "  </div>\n",
              "  "
            ]
          },
          "metadata": {},
          "execution_count": 51
        }
      ]
    },
    {
      "cell_type": "code",
      "source": [
        "1 - len(raw.ID.unique())/len(raw.ID)"
      ],
      "metadata": {
        "colab": {
          "base_uri": "https://localhost:8080/"
        },
        "id": "0oPk6PVeNfy-",
        "outputId": "75234749-bb07-4ace-e882-58a590515d19"
      },
      "execution_count": 52,
      "outputs": [
        {
          "output_type": "execute_result",
          "data": {
            "text/plain": [
              "0.21461187214611877"
            ]
          },
          "metadata": {},
          "execution_count": 52
        }
      ]
    },
    {
      "cell_type": "code",
      "source": [
        "cols = raw[['type_A','type_B','contract']]\n",
        "\n",
        "vals={}\n",
        "for i in range(len(cols.columns)):\n",
        "  vals[cols.columns[i]] = cols.iloc[:,i].unique()\n",
        "vals"
      ],
      "metadata": {
        "colab": {
          "base_uri": "https://localhost:8080/"
        },
        "id": "bMN4JmjeKbJR",
        "outputId": "84635f3c-d9e6-4313-ad74-91ce1b888b14"
      },
      "execution_count": 53,
      "outputs": [
        {
          "output_type": "execute_result",
          "data": {
            "text/plain": [
              "{'contract': array([2]),\n",
              " 'type_A': array([0, 3, 6]),\n",
              " 'type_B': array([0, 3, 6, 9])}"
            ]
          },
          "metadata": {},
          "execution_count": 53
        }
      ]
    },
    {
      "cell_type": "code",
      "source": [
        "raw['city'].value_counts().plot(kind='barh', figsize=(20,10), title='city codes')"
      ],
      "metadata": {
        "colab": {
          "base_uri": "https://localhost:8080/",
          "height": 624
        },
        "id": "MbG72GUXcrFh",
        "outputId": "468c29f4-e842-4c2a-d6ba-ac7d77685da0"
      },
      "execution_count": 129,
      "outputs": [
        {
          "output_type": "execute_result",
          "data": {
            "text/plain": [
              "<matplotlib.axes._subplots.AxesSubplot at 0x7f60c34c31d0>"
            ]
          },
          "metadata": {},
          "execution_count": 129
        },
        {
          "output_type": "display_data",
          "data": {
            "text/plain": [
              "<Figure size 1440x720 with 1 Axes>"
            ],
            "image/png": "[encoded data removed]"
          },
          "metadata": {
            "needs_background": "light"
          }
        }
      ]
    },
    {
      "cell_type": "code",
      "source": [
        "raw['prod_A'].value_counts().plot(kind='barh', title='product A')"
      ],
      "metadata": {
        "colab": {
          "base_uri": "https://localhost:8080/",
          "height": 298
        },
        "id": "94Pimj40c184",
        "outputId": "3d10ca11-18df-46b9-da8d-e475966319db"
      },
      "execution_count": 55,
      "outputs": [
        {
          "output_type": "execute_result",
          "data": {
            "text/plain": [
              "<matplotlib.axes._subplots.AxesSubplot at 0x7f60c0460ed0>"
            ]
          },
          "metadata": {},
          "execution_count": 55
        },
        {
          "output_type": "display_data",
          "data": {
            "text/plain": [
              "<Figure size 432x288 with 1 Axes>"
            ],
            "image/png": "[encoded data removed]"
          },
          "metadata": {
            "needs_background": "light"
          }
        }
      ]
    },
    {
      "cell_type": "code",
      "source": [
        "raw['type_A'].value_counts().plot(kind='barh', title='product A types')"
      ],
      "metadata": {
        "colab": {
          "base_uri": "https://localhost:8080/",
          "height": 298
        },
        "id": "lvAystFIc8C0",
        "outputId": "7eb02a86-670e-4f97-a553-5fc863ac3eca"
      },
      "execution_count": 56,
      "outputs": [
        {
          "output_type": "execute_result",
          "data": {
            "text/plain": [
              "<matplotlib.axes._subplots.AxesSubplot at 0x7f60c0343790>"
            ]
          },
          "metadata": {},
          "execution_count": 56
        },
        {
          "output_type": "display_data",
          "data": {
            "text/plain": [
              "<Figure size 432x288 with 1 Axes>"
            ],
            "image/png": "[encoded data removed]"
          },
          "metadata": {
            "needs_background": "light"
          }
        }
      ]
    },
    {
      "cell_type": "code",
      "source": [
        "raw['type_B'].value_counts().plot(kind='barh', title='product B types')"
      ],
      "metadata": {
        "colab": {
          "base_uri": "https://localhost:8080/",
          "height": 298
        },
        "id": "ca2zcfCWdCz_",
        "outputId": "3292cee2-502e-40eb-c804-042e56dc39d8"
      },
      "execution_count": 57,
      "outputs": [
        {
          "output_type": "execute_result",
          "data": {
            "text/plain": [
              "<matplotlib.axes._subplots.AxesSubplot at 0x7f60c0328590>"
            ]
          },
          "metadata": {},
          "execution_count": 57
        },
        {
          "output_type": "display_data",
          "data": {
            "text/plain": [
              "<Figure size 432x288 with 1 Axes>"
            ],
            "image/png": "[encoded data removed]"
          },
          "metadata": {
            "needs_background": "light"
          }
        }
      ]
    },
    {
      "cell_type": "code",
      "source": [
        "raw['prod_B'].value_counts().plot(kind='barh', title='product B')"
      ],
      "metadata": {
        "colab": {
          "base_uri": "https://localhost:8080/",
          "height": 298
        },
        "id": "Qf3oKhDWdJG8",
        "outputId": "0f8d7b0b-b0f3-4959-817b-bb81cd2df837"
      },
      "execution_count": 58,
      "outputs": [
        {
          "output_type": "execute_result",
          "data": {
            "text/plain": [
              "<matplotlib.axes._subplots.AxesSubplot at 0x7f60c030c090>"
            ]
          },
          "metadata": {},
          "execution_count": 58
        },
        {
          "output_type": "display_data",
          "data": {
            "text/plain": [
              "<Figure size 432x288 with 1 Axes>"
            ],
            "image/png": "[encoded data removed]"
          },
          "metadata": {
            "needs_background": "light"
          }
        }
      ]
    },
    {
      "cell_type": "code",
      "source": [
        "raw['TARGET'].value_counts().plot(kind='barh', title='will purchase new product')"
      ],
      "metadata": {
        "colab": {
          "base_uri": "https://localhost:8080/",
          "height": 298
        },
        "id": "YIJj7MDJe0Ig",
        "outputId": "978bf9dc-636e-4418-9f6d-11050a695806"
      },
      "execution_count": 59,
      "outputs": [
        {
          "output_type": "execute_result",
          "data": {
            "text/plain": [
              "<matplotlib.axes._subplots.AxesSubplot at 0x7f60c0268f10>"
            ]
          },
          "metadata": {},
          "execution_count": 59
        },
        {
          "output_type": "display_data",
          "data": {
            "text/plain": [
              "<Figure size 432x288 with 1 Axes>"
            ],
            "image/png": "[encoded data removed]"
          },
          "metadata": {
            "needs_background": "light"
          }
        }
      ]
    },
    {
      "cell_type": "markdown",
      "source": [
        "Based on the bar charts above, we can see that they all have enough of a spread of values that they should be considered significant moving forward with the exception of city. While there is variance, an overwhelming majority of the observations are associated with the code \"2\". I decided to isolate the observations where city code is \"2\" below and checked out the same distributions of the variables that I did for the data set at large. After examination, they are nearly identical which leads me to believe that city isn't significant and can be removed. This is helpful going forward as we would need to create over 50 dummy variables if we had included it. This change will be reflected in the data preparation step.\n",
        "\n",
        "As for the response variable, we aren't able to visualize an obvious trend in the target variable at a quick glance so the logistic regression is in fact necessary to glean knowledge from this data set."
      ],
      "metadata": {
        "id": "yOrmW6kVdqsi"
      }
    },
    {
      "cell_type": "code",
      "source": [
        "city = raw[raw.city==2]\n",
        "city['prod_A'].value_counts().plot(kind='barh', title='product A in city 2')"
      ],
      "metadata": {
        "colab": {
          "base_uri": "https://localhost:8080/",
          "height": 298
        },
        "id": "gg44qMO9fILO",
        "outputId": "c55e1b4d-d915-4f4b-fdb2-997e32b56929"
      },
      "execution_count": 130,
      "outputs": [
        {
          "output_type": "execute_result",
          "data": {
            "text/plain": [
              "<matplotlib.axes._subplots.AxesSubplot at 0x7f60c2fdcb50>"
            ]
          },
          "metadata": {},
          "execution_count": 130
        },
        {
          "output_type": "display_data",
          "data": {
            "text/plain": [
              "<Figure size 432x288 with 1 Axes>"
            ],
            "image/png": "[encoded data removed]"
          },
          "metadata": {
            "needs_background": "light"
          }
        }
      ]
    },
    {
      "cell_type": "code",
      "source": [
        "city['type_A'].value_counts().plot(kind='barh', title='product A types in city 2')"
      ],
      "metadata": {
        "colab": {
          "base_uri": "https://localhost:8080/",
          "height": 298
        },
        "id": "J38Yr-fkfdE0",
        "outputId": "63b7c939-454f-4519-b2fc-f8e1f9e9da2f"
      },
      "execution_count": 131,
      "outputs": [
        {
          "output_type": "execute_result",
          "data": {
            "text/plain": [
              "<matplotlib.axes._subplots.AxesSubplot at 0x7f60bd778950>"
            ]
          },
          "metadata": {},
          "execution_count": 131
        },
        {
          "output_type": "display_data",
          "data": {
            "text/plain": [
              "<Figure size 432x288 with 1 Axes>"
            ],
            "image/png": "[encoded data removed]"
          },
          "metadata": {
            "needs_background": "light"
          }
        }
      ]
    },
    {
      "cell_type": "code",
      "source": [
        "city['prod_B'].value_counts().plot(kind='barh', title='product B in city 2')"
      ],
      "metadata": {
        "colab": {
          "base_uri": "https://localhost:8080/",
          "height": 298
        },
        "id": "wAigK7o5fpOA",
        "outputId": "6e0a7ced-1d98-46dd-ce88-a884db79d6f3"
      },
      "execution_count": 133,
      "outputs": [
        {
          "output_type": "execute_result",
          "data": {
            "text/plain": [
              "<matplotlib.axes._subplots.AxesSubplot at 0x7f60bd6cc710>"
            ]
          },
          "metadata": {},
          "execution_count": 133
        },
        {
          "output_type": "display_data",
          "data": {
            "text/plain": [
              "<Figure size 432x288 with 1 Axes>"
            ],
            "image/png": "[encoded data removed]"
          },
          "metadata": {
            "needs_background": "light"
          }
        }
      ]
    },
    {
      "cell_type": "code",
      "source": [
        "city['type_B'].value_counts().plot(kind='barh', title='product B types in city 2')"
      ],
      "metadata": {
        "colab": {
          "base_uri": "https://localhost:8080/",
          "height": 298
        },
        "id": "o9nuf3QOfunh",
        "outputId": "efce2b98-c51c-4442-f16c-e5c42e04bf99"
      },
      "execution_count": 134,
      "outputs": [
        {
          "output_type": "execute_result",
          "data": {
            "text/plain": [
              "<matplotlib.axes._subplots.AxesSubplot at 0x7f60bd6cc410>"
            ]
          },
          "metadata": {},
          "execution_count": 134
        },
        {
          "output_type": "display_data",
          "data": {
            "text/plain": [
              "<Figure size 432x288 with 1 Axes>"
            ],
            "image/png": "[encoded data removed]"
          },
          "metadata": {
            "needs_background": "light"
          }
        }
      ]
    },
    {
      "cell_type": "code",
      "source": [
        "city['TARGET'].value_counts().plot(kind='barh', title='will purchase new product in city 2')"
      ],
      "metadata": {
        "colab": {
          "base_uri": "https://localhost:8080/",
          "height": 298
        },
        "id": "vEZgMglLf9bI",
        "outputId": "ea0c4c2f-8300-40bd-e7cd-74195d293b5d"
      },
      "execution_count": 135,
      "outputs": [
        {
          "output_type": "execute_result",
          "data": {
            "text/plain": [
              "<matplotlib.axes._subplots.AxesSubplot at 0x7f60bd637890>"
            ]
          },
          "metadata": {},
          "execution_count": 135
        },
        {
          "output_type": "display_data",
          "data": {
            "text/plain": [
              "<Figure size 432x288 with 1 Axes>"
            ],
            "image/png": "[encoded data removed]"
          },
          "metadata": {
            "needs_background": "light"
          }
        }
      ]
    },
    {
      "cell_type": "markdown",
      "source": [
        "Looking at these histograms describing the continuous distributions, a lot of these results are easily interpretable by considering the characteristics of each observation. For example, turnover_A and turnover_B are largely skewed to one value. A simple explanation for this is that products are typically the same price, although this isn't always true based on some other factors considered by the insurance underwriters which explains the small amount of data that is represented as other values.\n",
        "\n",
        "age_P, the age of the other member of the insurance policy is skewed towards dependents in their 30s with the next highest values coming in around the 20s although it is noted that the skew isn't as heavy as other distributions. A possible explanation is that typically dependents on policies are spouses or children which explains the ages. age and age_P follow almost identical distributions, seeing as typically spouses who share the policy are roughly similar ages. \n",
        "\n",
        "What is surprising is looking at the describe box, the lowest value for age is five, what five year old has their own insurance policy? This is likely an outlier or an error on input. However, looking at the histogram for age, the count of those values is so minimal that it isn't even appearing as visual on the chart, only 7 observations amounting to only 0.05% of the overall data. An explanation for this is if a parent buys a plan for just the child for one reason or another. Looking at the boxplots below however, there are a significant amount of outliers and I don't want to shy away from them since there are significant amount of them for each attribute. "
      ],
      "metadata": {
        "id": "EGW9G7kZfMGc"
      }
    },
    {
      "cell_type": "code",
      "source": [
        "nums = raw[['age','LOR','turnover_A','turnover_B','age_P','lor_M']]\n",
        "nums.hist(figsize=(20,10))"
      ],
      "metadata": {
        "colab": {
          "base_uri": "https://localhost:8080/",
          "height": 729
        },
        "id": "S_TEm_vueE9Q",
        "outputId": "6108ef9f-9800-4ce7-c5e7-9519be644392"
      },
      "execution_count": 65,
      "outputs": [
        {
          "output_type": "execute_result",
          "data": {
            "text/plain": [
              "array([[<matplotlib.axes._subplots.AxesSubplot object at 0x7f60bff86590>,\n",
              "        <matplotlib.axes._subplots.AxesSubplot object at 0x7f60bff4b610>],\n",
              "       [<matplotlib.axes._subplots.AxesSubplot object at 0x7f60bfeffa50>,\n",
              "        <matplotlib.axes._subplots.AxesSubplot object at 0x7f60bfeb3f50>],\n",
              "       [<matplotlib.axes._subplots.AxesSubplot object at 0x7f60bfe72490>,\n",
              "        <matplotlib.axes._subplots.AxesSubplot object at 0x7f60bfea5990>]],\n",
              "      dtype=object)"
            ]
          },
          "metadata": {},
          "execution_count": 65
        },
        {
          "output_type": "display_data",
          "data": {
            "text/plain": [
              "<Figure size 1440x720 with 6 Axes>"
            ],
            "image/png": "[encoded data removed]"
          },
          "metadata": {
            "needs_background": "light"
          }
        }
      ]
    },
    {
      "cell_type": "code",
      "source": [
        "nums.describe()"
      ],
      "metadata": {
        "colab": {
          "base_uri": "https://localhost:8080/",
          "height": 300
        },
        "id": "Id-yyqjAiLbY",
        "outputId": "308618ea-b03a-4a3c-8880-3ba1cb586480"
      },
      "execution_count": 66,
      "outputs": [
        {
          "output_type": "execute_result",
          "data": {
            "text/plain": [
              "                age           LOR    turnover_A    turnover_B         age_P  \\\n",
              "count  14016.000000  14016.000000  14016.000000  14016.000000  14016.000000   \n",
              "mean      35.882920      0.926299    379.161320    328.628207     35.882920   \n",
              "std       12.974634      0.965212     92.612207    475.616525     12.974634   \n",
              "min        5.000000      0.000000    300.095909    191.962852      5.000000   \n",
              "25%       25.000000      0.000000    334.919412    219.406925     25.000000   \n",
              "50%       33.000000      1.000000    367.891493    237.656757     33.000000   \n",
              "75%       43.000000      1.000000    399.744924    264.131538     43.000000   \n",
              "max      102.000000      6.000000   5568.784139  12249.084770    102.000000   \n",
              "\n",
              "              lor_M  \n",
              "count  14016.000000  \n",
              "mean      14.115582  \n",
              "std       11.582550  \n",
              "min        3.000000  \n",
              "25%        3.000000  \n",
              "50%       15.000000  \n",
              "75%       15.000000  \n",
              "max       75.000000  "
            ],
            "text/html": [
              "\n",
              "  <div id=\"df-c9365660-08b0-450f-8176-f1d0deef0946\">\n",
              "    <div class=\"colab-df-container\">\n",
              "      <div>\n",
              "<style scoped>\n",
              "    .dataframe tbody tr th:only-of-type {\n",
              "        vertical-align: middle;\n",
              "    }\n",
              "\n",
              "    .dataframe tbody tr th {\n",
              "        vertical-align: top;\n",
              "    }\n",
              "\n",
              "    .dataframe thead th {\n",
              "        text-align: right;\n",
              "    }\n",
              "</style>\n",
              "<table border=\"1\" class=\"dataframe\">\n",
              "  <thead>\n",
              "    <tr style=\"text-align: right;\">\n",
              "      <th></th>\n",
              "      <th>age</th>\n",
              "      <th>LOR</th>\n",
              "      <th>turnover_A</th>\n",
              "      <th>turnover_B</th>\n",
              "      <th>age_P</th>\n",
              "      <th>lor_M</th>\n",
              "    </tr>\n",
              "  </thead>\n",
              "  <tbody>\n",
              "    <tr>\n",
              "      <th>count</th>\n",
              "      <td>14016.000000</td>\n",
              "      <td>14016.000000</td>\n",
              "      <td>14016.000000</td>\n",
              "      <td>14016.000000</td>\n",
              "      <td>14016.000000</td>\n",
              "      <td>14016.000000</td>\n",
              "    </tr>\n",
              "    <tr>\n",
              "      <th>mean</th>\n",
              "      <td>35.882920</td>\n",
              "      <td>0.926299</td>\n",
              "      <td>379.161320</td>\n",
              "      <td>328.628207</td>\n",
              "      <td>35.882920</td>\n",
              "      <td>14.115582</td>\n",
              "    </tr>\n",
              "    <tr>\n",
              "      <th>std</th>\n",
              "      <td>12.974634</td>\n",
              "      <td>0.965212</td>\n",
              "      <td>92.612207</td>\n",
              "      <td>475.616525</td>\n",
              "      <td>12.974634</td>\n",
              "      <td>11.582550</td>\n",
              "    </tr>\n",
              "    <tr>\n",
              "      <th>min</th>\n",
              "      <td>5.000000</td>\n",
              "      <td>0.000000</td>\n",
              "      <td>300.095909</td>\n",
              "      <td>191.962852</td>\n",
              "      <td>5.000000</td>\n",
              "      <td>3.000000</td>\n",
              "    </tr>\n",
              "    <tr>\n",
              "      <th>25%</th>\n",
              "      <td>25.000000</td>\n",
              "      <td>0.000000</td>\n",
              "      <td>334.919412</td>\n",
              "      <td>219.406925</td>\n",
              "      <td>25.000000</td>\n",
              "      <td>3.000000</td>\n",
              "    </tr>\n",
              "    <tr>\n",
              "      <th>50%</th>\n",
              "      <td>33.000000</td>\n",
              "      <td>1.000000</td>\n",
              "      <td>367.891493</td>\n",
              "      <td>237.656757</td>\n",
              "      <td>33.000000</td>\n",
              "      <td>15.000000</td>\n",
              "    </tr>\n",
              "    <tr>\n",
              "      <th>75%</th>\n",
              "      <td>43.000000</td>\n",
              "      <td>1.000000</td>\n",
              "      <td>399.744924</td>\n",
              "      <td>264.131538</td>\n",
              "      <td>43.000000</td>\n",
              "      <td>15.000000</td>\n",
              "    </tr>\n",
              "    <tr>\n",
              "      <th>max</th>\n",
              "      <td>102.000000</td>\n",
              "      <td>6.000000</td>\n",
              "      <td>5568.784139</td>\n",
              "      <td>12249.084770</td>\n",
              "      <td>102.000000</td>\n",
              "      <td>75.000000</td>\n",
              "    </tr>\n",
              "  </tbody>\n",
              "</table>\n",
              "</div>\n",
              "      <button class=\"colab-df-convert\" onclick=\"convertToInteractive('df-c9365660-08b0-450f-8176-f1d0deef0946')\"\n",
              "              title=\"Convert this dataframe to an interactive table.\"\n",
              "              style=\"display:none;\">\n",
              "        \n",
              "  <svg xmlns=\"http://www.w3.org/2000/svg\" height=\"24px\"viewBox=\"0 0 24 24\"\n",
              "       width=\"24px\">\n",
              "    <path d=\"M0 0h24v24H0V0z\" fill=\"none\"/>\n",
              "    <path d=\"M18.56 5.44l.94 2.06.94-2.06 2.06-.94-2.06-.94-.94-2.06-.94 2.06-2.06.94zm-11 1L8.5 8.5l.94-2.06 2.06-.94-2.06-.94L8.5 2.5l-.94 2.06-2.06.94zm10 10l.94 2.06.94-2.06 2.06-.94-2.06-.94-.94-2.06-.94 2.06-2.06.94z\"/><path d=\"M17.41 7.96l-1.37-1.37c-.4-.4-.92-.59-1.43-.59-.52 0-1.04.2-1.43.59L10.3 9.45l-7.72 7.72c-.78.78-.78 2.05 0 2.83L4 21.41c.39.39.9.59 1.41.59.51 0 1.02-.2 1.41-.59l7.78-7.78 2.81-2.81c.8-.78.8-2.07 0-2.86zM5.41 20L4 18.59l7.72-7.72 1.47 1.35L5.41 20z\"/>\n",
              "  </svg>\n",
              "      </button>\n",
              "      \n",
              "  <style>\n",
              "    .colab-df-container {\n",
              "      display:flex;\n",
              "      flex-wrap:wrap;\n",
              "      gap: 12px;\n",
              "    }\n",
              "\n",
              "    .colab-df-convert {\n",
              "      background-color: #E8F0FE;\n",
              "      border: none;\n",
              "      border-radius: 50%;\n",
              "      cursor: pointer;\n",
              "      display: none;\n",
              "      fill: #1967D2;\n",
              "      height: 32px;\n",
              "      padding: 0 0 0 0;\n",
              "      width: 32px;\n",
              "    }\n",
              "\n",
              "    .colab-df-convert:hover {\n",
              "      background-color: #E2EBFA;\n",
              "      box-shadow: 0px 1px 2px rgba(60, 64, 67, 0.3), 0px 1px 3px 1px rgba(60, 64, 67, 0.15);\n",
              "      fill: #174EA6;\n",
              "    }\n",
              "\n",
              "    [theme=dark] .colab-df-convert {\n",
              "      background-color: #3B4455;\n",
              "      fill: #D2E3FC;\n",
              "    }\n",
              "\n",
              "    [theme=dark] .colab-df-convert:hover {\n",
              "      background-color: #434B5C;\n",
              "      box-shadow: 0px 1px 3px 1px rgba(0, 0, 0, 0.15);\n",
              "      filter: drop-shadow(0px 1px 2px rgba(0, 0, 0, 0.3));\n",
              "      fill: #FFFFFF;\n",
              "    }\n",
              "  </style>\n",
              "\n",
              "      <script>\n",
              "        const buttonEl =\n",
              "          document.querySelector('#df-c9365660-08b0-450f-8176-f1d0deef0946 button.colab-df-convert');\n",
              "        buttonEl.style.display =\n",
              "          google.colab.kernel.accessAllowed ? 'block' : 'none';\n",
              "\n",
              "        async function convertToInteractive(key) {\n",
              "          const element = document.querySelector('#df-c9365660-08b0-450f-8176-f1d0deef0946');\n",
              "          const dataTable =\n",
              "            await google.colab.kernel.invokeFunction('convertToInteractive',\n",
              "                                                     [key], {});\n",
              "          if (!dataTable) return;\n",
              "\n",
              "          const docLinkHtml = 'Like what you see? Visit the ' +\n",
              "            '<a target=\"_blank\" href=https://colab.research.google.com/notebooks/data_table.ipynb>data table notebook</a>'\n",
              "            + ' to learn more about interactive tables.';\n",
              "          element.innerHTML = '';\n",
              "          dataTable['output_type'] = 'display_data';\n",
              "          await google.colab.output.renderOutput(dataTable, element);\n",
              "          const docLink = document.createElement('div');\n",
              "          docLink.innerHTML = docLinkHtml;\n",
              "          element.appendChild(docLink);\n",
              "        }\n",
              "      </script>\n",
              "    </div>\n",
              "  </div>\n",
              "  "
            ]
          },
          "metadata": {},
          "execution_count": 66
        }
      ]
    },
    {
      "cell_type": "code",
      "source": [
        "for column in nums:\n",
        "  plt.figure()\n",
        "  nums.boxplot([column])"
      ],
      "metadata": {
        "colab": {
          "base_uri": "https://localhost:8080/",
          "height": 1000
        },
        "id": "gyUku5tkkDoS",
        "outputId": "ac163ca2-010f-44be-dd71-f5e690b66e32"
      },
      "execution_count": 67,
      "outputs": [
        {
          "output_type": "display_data",
          "data": {
            "text/plain": [
              "<Figure size 432x288 with 1 Axes>"
            ],
            "image/png": "[encoded data removed]"
          },
          "metadata": {
            "needs_background": "light"
          }
        },
        {
          "output_type": "display_data",
          "data": {
            "text/plain": [
              "<Figure size 432x288 with 1 Axes>"
            ],
            "image/png": "[encoded data removed]"
          },
          "metadata": {
            "needs_background": "light"
          }
        },
        {
          "output_type": "display_data",
          "data": {
            "text/plain": [
              "<Figure size 432x288 with 1 Axes>"
            ],
            "image/png": "[encoded data removed]"
          },
          "metadata": {
            "needs_background": "light"
          }
        },
        {
          "output_type": "display_data",
          "data": {
            "text/plain": [
              "<Figure size 432x288 with 1 Axes>"
            ],
            "image/png": "[encoded data removed]"
          },
          "metadata": {
            "needs_background": "light"
          }
        },
        {
          "output_type": "display_data",
          "data": {
            "text/plain": [
              "<Figure size 432x288 with 1 Axes>"
            ],
            "image/png": "[encoded data removed]"
          },
          "metadata": {
            "needs_background": "light"
          }
        },
        {
          "output_type": "display_data",
          "data": {
            "text/plain": [
              "<Figure size 432x288 with 1 Axes>"
            ],
            "image/png": "[encoded data removed]"
          },
          "metadata": {
            "needs_background": "light"
          }
        }
      ]
    },
    {
      "cell_type": "markdown",
      "source": [
        "To examine any more variables before creating tons of dummies, we will check out a correlation matrix to see if there may be colinearity. There are two concerns of multicolinearity between age and age_P and LOR and lor_M. Neither age or age_P will be eliminated at this point since they are describing two different aspects of each observation. However, the connection between LOR and lor_M is concerning since LOR is essentially just lor_M divided by 12, length being expressed in years instead of months. I don't think that it's necessary to include both of these and since I want to preserve both possible relationships, I will remove LOR since lor_M encompasses both pieces of information on a more granular level while LOR only expresses one piece of information on a very general sense. This change will occur in data preparation."
      ],
      "metadata": {
        "id": "lDusROyujfI_"
      }
    },
    {
      "cell_type": "code",
      "source": [
        "nums.corr()"
      ],
      "metadata": {
        "colab": {
          "base_uri": "https://localhost:8080/",
          "height": 238
        },
        "id": "cjq4e48-kqYj",
        "outputId": "364fa6e0-727f-405e-f8f2-42bc4ad7acd7"
      },
      "execution_count": 68,
      "outputs": [
        {
          "output_type": "execute_result",
          "data": {
            "text/plain": [
              "                 age       LOR  turnover_A  turnover_B     age_P     lor_M\n",
              "age         1.000000  0.089640    0.135887    0.251625  1.000000  0.089640\n",
              "LOR         0.089640  1.000000    0.009987    0.158571  0.089640  1.000000\n",
              "turnover_A  0.135887  0.009987    1.000000    0.128613  0.135887  0.009987\n",
              "turnover_B  0.251625  0.158571    0.128613    1.000000  0.251625  0.158571\n",
              "age_P       1.000000  0.089640    0.135887    0.251625  1.000000  0.089640\n",
              "lor_M       0.089640  1.000000    0.009987    0.158571  0.089640  1.000000"
            ],
            "text/html": [
              "\n",
              "  <div id=\"df-6a049e77-16e7-49c7-a910-8c0c0d18b4a5\">\n",
              "    <div class=\"colab-df-container\">\n",
              "      <div>\n",
              "<style scoped>\n",
              "    .dataframe tbody tr th:only-of-type {\n",
              "        vertical-align: middle;\n",
              "    }\n",
              "\n",
              "    .dataframe tbody tr th {\n",
              "        vertical-align: top;\n",
              "    }\n",
              "\n",
              "    .dataframe thead th {\n",
              "        text-align: right;\n",
              "    }\n",
              "</style>\n",
              "<table border=\"1\" class=\"dataframe\">\n",
              "  <thead>\n",
              "    <tr style=\"text-align: right;\">\n",
              "      <th></th>\n",
              "      <th>age</th>\n",
              "      <th>LOR</th>\n",
              "      <th>turnover_A</th>\n",
              "      <th>turnover_B</th>\n",
              "      <th>age_P</th>\n",
              "      <th>lor_M</th>\n",
              "    </tr>\n",
              "  </thead>\n",
              "  <tbody>\n",
              "    <tr>\n",
              "      <th>age</th>\n",
              "      <td>1.000000</td>\n",
              "      <td>0.089640</td>\n",
              "      <td>0.135887</td>\n",
              "      <td>0.251625</td>\n",
              "      <td>1.000000</td>\n",
              "      <td>0.089640</td>\n",
              "    </tr>\n",
              "    <tr>\n",
              "      <th>LOR</th>\n",
              "      <td>0.089640</td>\n",
              "      <td>1.000000</td>\n",
              "      <td>0.009987</td>\n",
              "      <td>0.158571</td>\n",
              "      <td>0.089640</td>\n",
              "      <td>1.000000</td>\n",
              "    </tr>\n",
              "    <tr>\n",
              "      <th>turnover_A</th>\n",
              "      <td>0.135887</td>\n",
              "      <td>0.009987</td>\n",
              "      <td>1.000000</td>\n",
              "      <td>0.128613</td>\n",
              "      <td>0.135887</td>\n",
              "      <td>0.009987</td>\n",
              "    </tr>\n",
              "    <tr>\n",
              "      <th>turnover_B</th>\n",
              "      <td>0.251625</td>\n",
              "      <td>0.158571</td>\n",
              "      <td>0.128613</td>\n",
              "      <td>1.000000</td>\n",
              "      <td>0.251625</td>\n",
              "      <td>0.158571</td>\n",
              "    </tr>\n",
              "    <tr>\n",
              "      <th>age_P</th>\n",
              "      <td>1.000000</td>\n",
              "      <td>0.089640</td>\n",
              "      <td>0.135887</td>\n",
              "      <td>0.251625</td>\n",
              "      <td>1.000000</td>\n",
              "      <td>0.089640</td>\n",
              "    </tr>\n",
              "    <tr>\n",
              "      <th>lor_M</th>\n",
              "      <td>0.089640</td>\n",
              "      <td>1.000000</td>\n",
              "      <td>0.009987</td>\n",
              "      <td>0.158571</td>\n",
              "      <td>0.089640</td>\n",
              "      <td>1.000000</td>\n",
              "    </tr>\n",
              "  </tbody>\n",
              "</table>\n",
              "</div>\n",
              "      <button class=\"colab-df-convert\" onclick=\"convertToInteractive('df-6a049e77-16e7-49c7-a910-8c0c0d18b4a5')\"\n",
              "              title=\"Convert this dataframe to an interactive table.\"\n",
              "              style=\"display:none;\">\n",
              "        \n",
              "  <svg xmlns=\"http://www.w3.org/2000/svg\" height=\"24px\"viewBox=\"0 0 24 24\"\n",
              "       width=\"24px\">\n",
              "    <path d=\"M0 0h24v24H0V0z\" fill=\"none\"/>\n",
              "    <path d=\"M18.56 5.44l.94 2.06.94-2.06 2.06-.94-2.06-.94-.94-2.06-.94 2.06-2.06.94zm-11 1L8.5 8.5l.94-2.06 2.06-.94-2.06-.94L8.5 2.5l-.94 2.06-2.06.94zm10 10l.94 2.06.94-2.06 2.06-.94-2.06-.94-.94-2.06-.94 2.06-2.06.94z\"/><path d=\"M17.41 7.96l-1.37-1.37c-.4-.4-.92-.59-1.43-.59-.52 0-1.04.2-1.43.59L10.3 9.45l-7.72 7.72c-.78.78-.78 2.05 0 2.83L4 21.41c.39.39.9.59 1.41.59.51 0 1.02-.2 1.41-.59l7.78-7.78 2.81-2.81c.8-.78.8-2.07 0-2.86zM5.41 20L4 18.59l7.72-7.72 1.47 1.35L5.41 20z\"/>\n",
              "  </svg>\n",
              "      </button>\n",
              "      \n",
              "  <style>\n",
              "    .colab-df-container {\n",
              "      display:flex;\n",
              "      flex-wrap:wrap;\n",
              "      gap: 12px;\n",
              "    }\n",
              "\n",
              "    .colab-df-convert {\n",
              "      background-color: #E8F0FE;\n",
              "      border: none;\n",
              "      border-radius: 50%;\n",
              "      cursor: pointer;\n",
              "      display: none;\n",
              "      fill: #1967D2;\n",
              "      height: 32px;\n",
              "      padding: 0 0 0 0;\n",
              "      width: 32px;\n",
              "    }\n",
              "\n",
              "    .colab-df-convert:hover {\n",
              "      background-color: #E2EBFA;\n",
              "      box-shadow: 0px 1px 2px rgba(60, 64, 67, 0.3), 0px 1px 3px 1px rgba(60, 64, 67, 0.15);\n",
              "      fill: #174EA6;\n",
              "    }\n",
              "\n",
              "    [theme=dark] .colab-df-convert {\n",
              "      background-color: #3B4455;\n",
              "      fill: #D2E3FC;\n",
              "    }\n",
              "\n",
              "    [theme=dark] .colab-df-convert:hover {\n",
              "      background-color: #434B5C;\n",
              "      box-shadow: 0px 1px 3px 1px rgba(0, 0, 0, 0.15);\n",
              "      filter: drop-shadow(0px 1px 2px rgba(0, 0, 0, 0.3));\n",
              "      fill: #FFFFFF;\n",
              "    }\n",
              "  </style>\n",
              "\n",
              "      <script>\n",
              "        const buttonEl =\n",
              "          document.querySelector('#df-6a049e77-16e7-49c7-a910-8c0c0d18b4a5 button.colab-df-convert');\n",
              "        buttonEl.style.display =\n",
              "          google.colab.kernel.accessAllowed ? 'block' : 'none';\n",
              "\n",
              "        async function convertToInteractive(key) {\n",
              "          const element = document.querySelector('#df-6a049e77-16e7-49c7-a910-8c0c0d18b4a5');\n",
              "          const dataTable =\n",
              "            await google.colab.kernel.invokeFunction('convertToInteractive',\n",
              "                                                     [key], {});\n",
              "          if (!dataTable) return;\n",
              "\n",
              "          const docLinkHtml = 'Like what you see? Visit the ' +\n",
              "            '<a target=\"_blank\" href=https://colab.research.google.com/notebooks/data_table.ipynb>data table notebook</a>'\n",
              "            + ' to learn more about interactive tables.';\n",
              "          element.innerHTML = '';\n",
              "          dataTable['output_type'] = 'display_data';\n",
              "          await google.colab.output.renderOutput(dataTable, element);\n",
              "          const docLink = document.createElement('div');\n",
              "          docLink.innerHTML = docLinkHtml;\n",
              "          element.appendChild(docLink);\n",
              "        }\n",
              "      </script>\n",
              "    </div>\n",
              "  </div>\n",
              "  "
            ]
          },
          "metadata": {},
          "execution_count": 68
        }
      ]
    },
    {
      "cell_type": "markdown",
      "source": [
        "# Data Preparation"
      ],
      "metadata": {
        "id": "pq4aetr3DkWT"
      }
    },
    {
      "cell_type": "markdown",
      "source": [
        "### Removing Variables"
      ],
      "metadata": {
        "id": "ZDIJvYziqBSW"
      }
    },
    {
      "cell_type": "markdown",
      "source": [
        "As mentioned in steps above, ID, city, and contract can be eliminated because they provide no new information for each observation after we eliminated all duplicates. ID is unique to every observation that will ever come in and contract is a constant value of \"2\". City can be dropped because even though not all observations are of the same value, an overwhelming majority of them are and by using city and creating over 50 dummy variables, we would be introducing a lot of unnecessary noise."
      ],
      "metadata": {
        "id": "RCh4iiiBEJPy"
      }
    },
    {
      "cell_type": "code",
      "source": [
        "raw= raw.drop_duplicates(subset=['ID'])\n",
        "1 - len(raw.ID.unique())/len(raw.ID)"
      ],
      "metadata": {
        "colab": {
          "base_uri": "https://localhost:8080/"
        },
        "id": "1PAAhMq1Rn8d",
        "outputId": "0b832426-660a-418e-9e3b-1bc2824c933f"
      },
      "execution_count": 69,
      "outputs": [
        {
          "output_type": "execute_result",
          "data": {
            "text/plain": [
              "0.0"
            ]
          },
          "metadata": {},
          "execution_count": 69
        }
      ]
    },
    {
      "cell_type": "code",
      "source": [
        "clean = raw.drop(columns=['ID', 'contract', 'city']).copy()\n",
        "clean.head()"
      ],
      "metadata": {
        "colab": {
          "base_uri": "https://localhost:8080/",
          "height": 206
        },
        "id": "vf4LHDSAEsBq",
        "outputId": "00230cfd-b0e7-4655-b1fe-9db276420b7c"
      },
      "execution_count": 70,
      "outputs": [
        {
          "output_type": "execute_result",
          "data": {
            "text/plain": [
              "  TARGET  loyalty  age  LOR  prod_A  type_A  type_B  prod_B  turnover_A  \\\n",
              "0      Y       99   66    0       0       0       0       0  333.561114   \n",
              "1      Y        1   45    3       1       3       3       1  394.735699   \n",
              "2      Y        1   42    2       1       3       6       1  342.180990   \n",
              "3      Y       99   31    0       0       0       0       0  453.757916   \n",
              "4      Y       99   62    0       0       0       0       0  384.577469   \n",
              "\n",
              "    turnover_B  age_P  lor_M  \n",
              "0   264.721010     66      3  \n",
              "1   284.904978     45     39  \n",
              "2  1175.589721     42     27  \n",
              "3   242.341754     31      3  \n",
              "4   287.008370     62      3  "
            ],
            "text/html": [
              "\n",
              "  <div id=\"df-2f65337d-79d9-4d9f-924b-7464909633b3\">\n",
              "    <div class=\"colab-df-container\">\n",
              "      <div>\n",
              "<style scoped>\n",
              "    .dataframe tbody tr th:only-of-type {\n",
              "        vertical-align: middle;\n",
              "    }\n",
              "\n",
              "    .dataframe tbody tr th {\n",
              "        vertical-align: top;\n",
              "    }\n",
              "\n",
              "    .dataframe thead th {\n",
              "        text-align: right;\n",
              "    }\n",
              "</style>\n",
              "<table border=\"1\" class=\"dataframe\">\n",
              "  <thead>\n",
              "    <tr style=\"text-align: right;\">\n",
              "      <th></th>\n",
              "      <th>TARGET</th>\n",
              "      <th>loyalty</th>\n",
              "      <th>age</th>\n",
              "      <th>LOR</th>\n",
              "      <th>prod_A</th>\n",
              "      <th>type_A</th>\n",
              "      <th>type_B</th>\n",
              "      <th>prod_B</th>\n",
              "      <th>turnover_A</th>\n",
              "      <th>turnover_B</th>\n",
              "      <th>age_P</th>\n",
              "      <th>lor_M</th>\n",
              "    </tr>\n",
              "  </thead>\n",
              "  <tbody>\n",
              "    <tr>\n",
              "      <th>0</th>\n",
              "      <td>Y</td>\n",
              "      <td>99</td>\n",
              "      <td>66</td>\n",
              "      <td>0</td>\n",
              "      <td>0</td>\n",
              "      <td>0</td>\n",
              "      <td>0</td>\n",
              "      <td>0</td>\n",
              "      <td>333.561114</td>\n",
              "      <td>264.721010</td>\n",
              "      <td>66</td>\n",
              "      <td>3</td>\n",
              "    </tr>\n",
              "    <tr>\n",
              "      <th>1</th>\n",
              "      <td>Y</td>\n",
              "      <td>1</td>\n",
              "      <td>45</td>\n",
              "      <td>3</td>\n",
              "      <td>1</td>\n",
              "      <td>3</td>\n",
              "      <td>3</td>\n",
              "      <td>1</td>\n",
              "      <td>394.735699</td>\n",
              "      <td>284.904978</td>\n",
              "      <td>45</td>\n",
              "      <td>39</td>\n",
              "    </tr>\n",
              "    <tr>\n",
              "      <th>2</th>\n",
              "      <td>Y</td>\n",
              "      <td>1</td>\n",
              "      <td>42</td>\n",
              "      <td>2</td>\n",
              "      <td>1</td>\n",
              "      <td>3</td>\n",
              "      <td>6</td>\n",
              "      <td>1</td>\n",
              "      <td>342.180990</td>\n",
              "      <td>1175.589721</td>\n",
              "      <td>42</td>\n",
              "      <td>27</td>\n",
              "    </tr>\n",
              "    <tr>\n",
              "      <th>3</th>\n",
              "      <td>Y</td>\n",
              "      <td>99</td>\n",
              "      <td>31</td>\n",
              "      <td>0</td>\n",
              "      <td>0</td>\n",
              "      <td>0</td>\n",
              "      <td>0</td>\n",
              "      <td>0</td>\n",
              "      <td>453.757916</td>\n",
              "      <td>242.341754</td>\n",
              "      <td>31</td>\n",
              "      <td>3</td>\n",
              "    </tr>\n",
              "    <tr>\n",
              "      <th>4</th>\n",
              "      <td>Y</td>\n",
              "      <td>99</td>\n",
              "      <td>62</td>\n",
              "      <td>0</td>\n",
              "      <td>0</td>\n",
              "      <td>0</td>\n",
              "      <td>0</td>\n",
              "      <td>0</td>\n",
              "      <td>384.577469</td>\n",
              "      <td>287.008370</td>\n",
              "      <td>62</td>\n",
              "      <td>3</td>\n",
              "    </tr>\n",
              "  </tbody>\n",
              "</table>\n",
              "</div>\n",
              "      <button class=\"colab-df-convert\" onclick=\"convertToInteractive('df-2f65337d-79d9-4d9f-924b-7464909633b3')\"\n",
              "              title=\"Convert this dataframe to an interactive table.\"\n",
              "              style=\"display:none;\">\n",
              "        \n",
              "  <svg xmlns=\"http://www.w3.org/2000/svg\" height=\"24px\"viewBox=\"0 0 24 24\"\n",
              "       width=\"24px\">\n",
              "    <path d=\"M0 0h24v24H0V0z\" fill=\"none\"/>\n",
              "    <path d=\"M18.56 5.44l.94 2.06.94-2.06 2.06-.94-2.06-.94-.94-2.06-.94 2.06-2.06.94zm-11 1L8.5 8.5l.94-2.06 2.06-.94-2.06-.94L8.5 2.5l-.94 2.06-2.06.94zm10 10l.94 2.06.94-2.06 2.06-.94-2.06-.94-.94-2.06-.94 2.06-2.06.94z\"/><path d=\"M17.41 7.96l-1.37-1.37c-.4-.4-.92-.59-1.43-.59-.52 0-1.04.2-1.43.59L10.3 9.45l-7.72 7.72c-.78.78-.78 2.05 0 2.83L4 21.41c.39.39.9.59 1.41.59.51 0 1.02-.2 1.41-.59l7.78-7.78 2.81-2.81c.8-.78.8-2.07 0-2.86zM5.41 20L4 18.59l7.72-7.72 1.47 1.35L5.41 20z\"/>\n",
              "  </svg>\n",
              "      </button>\n",
              "      \n",
              "  <style>\n",
              "    .colab-df-container {\n",
              "      display:flex;\n",
              "      flex-wrap:wrap;\n",
              "      gap: 12px;\n",
              "    }\n",
              "\n",
              "    .colab-df-convert {\n",
              "      background-color: #E8F0FE;\n",
              "      border: none;\n",
              "      border-radius: 50%;\n",
              "      cursor: pointer;\n",
              "      display: none;\n",
              "      fill: #1967D2;\n",
              "      height: 32px;\n",
              "      padding: 0 0 0 0;\n",
              "      width: 32px;\n",
              "    }\n",
              "\n",
              "    .colab-df-convert:hover {\n",
              "      background-color: #E2EBFA;\n",
              "      box-shadow: 0px 1px 2px rgba(60, 64, 67, 0.3), 0px 1px 3px 1px rgba(60, 64, 67, 0.15);\n",
              "      fill: #174EA6;\n",
              "    }\n",
              "\n",
              "    [theme=dark] .colab-df-convert {\n",
              "      background-color: #3B4455;\n",
              "      fill: #D2E3FC;\n",
              "    }\n",
              "\n",
              "    [theme=dark] .colab-df-convert:hover {\n",
              "      background-color: #434B5C;\n",
              "      box-shadow: 0px 1px 3px 1px rgba(0, 0, 0, 0.15);\n",
              "      filter: drop-shadow(0px 1px 2px rgba(0, 0, 0, 0.3));\n",
              "      fill: #FFFFFF;\n",
              "    }\n",
              "  </style>\n",
              "\n",
              "      <script>\n",
              "        const buttonEl =\n",
              "          document.querySelector('#df-2f65337d-79d9-4d9f-924b-7464909633b3 button.colab-df-convert');\n",
              "        buttonEl.style.display =\n",
              "          google.colab.kernel.accessAllowed ? 'block' : 'none';\n",
              "\n",
              "        async function convertToInteractive(key) {\n",
              "          const element = document.querySelector('#df-2f65337d-79d9-4d9f-924b-7464909633b3');\n",
              "          const dataTable =\n",
              "            await google.colab.kernel.invokeFunction('convertToInteractive',\n",
              "                                                     [key], {});\n",
              "          if (!dataTable) return;\n",
              "\n",
              "          const docLinkHtml = 'Like what you see? Visit the ' +\n",
              "            '<a target=\"_blank\" href=https://colab.research.google.com/notebooks/data_table.ipynb>data table notebook</a>'\n",
              "            + ' to learn more about interactive tables.';\n",
              "          element.innerHTML = '';\n",
              "          dataTable['output_type'] = 'display_data';\n",
              "          await google.colab.output.renderOutput(dataTable, element);\n",
              "          const docLink = document.createElement('div');\n",
              "          docLink.innerHTML = docLinkHtml;\n",
              "          element.appendChild(docLink);\n",
              "        }\n",
              "      </script>\n",
              "    </div>\n",
              "  </div>\n",
              "  "
            ]
          },
          "metadata": {},
          "execution_count": 70
        }
      ]
    },
    {
      "cell_type": "markdown",
      "source": [
        "Also mentioned above, LOR and lor_M have too strong of a connection to both be included and if both are included, will likely introduce a lot of unnecessary noise and multicollinearity. For this reason, I decided to remove LOR since lor_M encompasses all of the information."
      ],
      "metadata": {
        "id": "u4Ds683rnakh"
      }
    },
    {
      "cell_type": "code",
      "source": [
        "clean.drop(columns='LOR', inplace=True)\n",
        "clean.head()"
      ],
      "metadata": {
        "colab": {
          "base_uri": "https://localhost:8080/",
          "height": 206
        },
        "id": "35VT_dVjnyHF",
        "outputId": "ee12ea35-6124-4083-c4e8-954b83411555"
      },
      "execution_count": 71,
      "outputs": [
        {
          "output_type": "execute_result",
          "data": {
            "text/plain": [
              "  TARGET  loyalty  age  prod_A  type_A  type_B  prod_B  turnover_A  \\\n",
              "0      Y       99   66       0       0       0       0  333.561114   \n",
              "1      Y        1   45       1       3       3       1  394.735699   \n",
              "2      Y        1   42       1       3       6       1  342.180990   \n",
              "3      Y       99   31       0       0       0       0  453.757916   \n",
              "4      Y       99   62       0       0       0       0  384.577469   \n",
              "\n",
              "    turnover_B  age_P  lor_M  \n",
              "0   264.721010     66      3  \n",
              "1   284.904978     45     39  \n",
              "2  1175.589721     42     27  \n",
              "3   242.341754     31      3  \n",
              "4   287.008370     62      3  "
            ],
            "text/html": [
              "\n",
              "  <div id=\"df-9613c6ae-9459-43a7-96d2-101d42dc8064\">\n",
              "    <div class=\"colab-df-container\">\n",
              "      <div>\n",
              "<style scoped>\n",
              "    .dataframe tbody tr th:only-of-type {\n",
              "        vertical-align: middle;\n",
              "    }\n",
              "\n",
              "    .dataframe tbody tr th {\n",
              "        vertical-align: top;\n",
              "    }\n",
              "\n",
              "    .dataframe thead th {\n",
              "        text-align: right;\n",
              "    }\n",
              "</style>\n",
              "<table border=\"1\" class=\"dataframe\">\n",
              "  <thead>\n",
              "    <tr style=\"text-align: right;\">\n",
              "      <th></th>\n",
              "      <th>TARGET</th>\n",
              "      <th>loyalty</th>\n",
              "      <th>age</th>\n",
              "      <th>prod_A</th>\n",
              "      <th>type_A</th>\n",
              "      <th>type_B</th>\n",
              "      <th>prod_B</th>\n",
              "      <th>turnover_A</th>\n",
              "      <th>turnover_B</th>\n",
              "      <th>age_P</th>\n",
              "      <th>lor_M</th>\n",
              "    </tr>\n",
              "  </thead>\n",
              "  <tbody>\n",
              "    <tr>\n",
              "      <th>0</th>\n",
              "      <td>Y</td>\n",
              "      <td>99</td>\n",
              "      <td>66</td>\n",
              "      <td>0</td>\n",
              "      <td>0</td>\n",
              "      <td>0</td>\n",
              "      <td>0</td>\n",
              "      <td>333.561114</td>\n",
              "      <td>264.721010</td>\n",
              "      <td>66</td>\n",
              "      <td>3</td>\n",
              "    </tr>\n",
              "    <tr>\n",
              "      <th>1</th>\n",
              "      <td>Y</td>\n",
              "      <td>1</td>\n",
              "      <td>45</td>\n",
              "      <td>1</td>\n",
              "      <td>3</td>\n",
              "      <td>3</td>\n",
              "      <td>1</td>\n",
              "      <td>394.735699</td>\n",
              "      <td>284.904978</td>\n",
              "      <td>45</td>\n",
              "      <td>39</td>\n",
              "    </tr>\n",
              "    <tr>\n",
              "      <th>2</th>\n",
              "      <td>Y</td>\n",
              "      <td>1</td>\n",
              "      <td>42</td>\n",
              "      <td>1</td>\n",
              "      <td>3</td>\n",
              "      <td>6</td>\n",
              "      <td>1</td>\n",
              "      <td>342.180990</td>\n",
              "      <td>1175.589721</td>\n",
              "      <td>42</td>\n",
              "      <td>27</td>\n",
              "    </tr>\n",
              "    <tr>\n",
              "      <th>3</th>\n",
              "      <td>Y</td>\n",
              "      <td>99</td>\n",
              "      <td>31</td>\n",
              "      <td>0</td>\n",
              "      <td>0</td>\n",
              "      <td>0</td>\n",
              "      <td>0</td>\n",
              "      <td>453.757916</td>\n",
              "      <td>242.341754</td>\n",
              "      <td>31</td>\n",
              "      <td>3</td>\n",
              "    </tr>\n",
              "    <tr>\n",
              "      <th>4</th>\n",
              "      <td>Y</td>\n",
              "      <td>99</td>\n",
              "      <td>62</td>\n",
              "      <td>0</td>\n",
              "      <td>0</td>\n",
              "      <td>0</td>\n",
              "      <td>0</td>\n",
              "      <td>384.577469</td>\n",
              "      <td>287.008370</td>\n",
              "      <td>62</td>\n",
              "      <td>3</td>\n",
              "    </tr>\n",
              "  </tbody>\n",
              "</table>\n",
              "</div>\n",
              "      <button class=\"colab-df-convert\" onclick=\"convertToInteractive('df-9613c6ae-9459-43a7-96d2-101d42dc8064')\"\n",
              "              title=\"Convert this dataframe to an interactive table.\"\n",
              "              style=\"display:none;\">\n",
              "        \n",
              "  <svg xmlns=\"http://www.w3.org/2000/svg\" height=\"24px\"viewBox=\"0 0 24 24\"\n",
              "       width=\"24px\">\n",
              "    <path d=\"M0 0h24v24H0V0z\" fill=\"none\"/>\n",
              "    <path d=\"M18.56 5.44l.94 2.06.94-2.06 2.06-.94-2.06-.94-.94-2.06-.94 2.06-2.06.94zm-11 1L8.5 8.5l.94-2.06 2.06-.94-2.06-.94L8.5 2.5l-.94 2.06-2.06.94zm10 10l.94 2.06.94-2.06 2.06-.94-2.06-.94-.94-2.06-.94 2.06-2.06.94z\"/><path d=\"M17.41 7.96l-1.37-1.37c-.4-.4-.92-.59-1.43-.59-.52 0-1.04.2-1.43.59L10.3 9.45l-7.72 7.72c-.78.78-.78 2.05 0 2.83L4 21.41c.39.39.9.59 1.41.59.51 0 1.02-.2 1.41-.59l7.78-7.78 2.81-2.81c.8-.78.8-2.07 0-2.86zM5.41 20L4 18.59l7.72-7.72 1.47 1.35L5.41 20z\"/>\n",
              "  </svg>\n",
              "      </button>\n",
              "      \n",
              "  <style>\n",
              "    .colab-df-container {\n",
              "      display:flex;\n",
              "      flex-wrap:wrap;\n",
              "      gap: 12px;\n",
              "    }\n",
              "\n",
              "    .colab-df-convert {\n",
              "      background-color: #E8F0FE;\n",
              "      border: none;\n",
              "      border-radius: 50%;\n",
              "      cursor: pointer;\n",
              "      display: none;\n",
              "      fill: #1967D2;\n",
              "      height: 32px;\n",
              "      padding: 0 0 0 0;\n",
              "      width: 32px;\n",
              "    }\n",
              "\n",
              "    .colab-df-convert:hover {\n",
              "      background-color: #E2EBFA;\n",
              "      box-shadow: 0px 1px 2px rgba(60, 64, 67, 0.3), 0px 1px 3px 1px rgba(60, 64, 67, 0.15);\n",
              "      fill: #174EA6;\n",
              "    }\n",
              "\n",
              "    [theme=dark] .colab-df-convert {\n",
              "      background-color: #3B4455;\n",
              "      fill: #D2E3FC;\n",
              "    }\n",
              "\n",
              "    [theme=dark] .colab-df-convert:hover {\n",
              "      background-color: #434B5C;\n",
              "      box-shadow: 0px 1px 3px 1px rgba(0, 0, 0, 0.15);\n",
              "      filter: drop-shadow(0px 1px 2px rgba(0, 0, 0, 0.3));\n",
              "      fill: #FFFFFF;\n",
              "    }\n",
              "  </style>\n",
              "\n",
              "      <script>\n",
              "        const buttonEl =\n",
              "          document.querySelector('#df-9613c6ae-9459-43a7-96d2-101d42dc8064 button.colab-df-convert');\n",
              "        buttonEl.style.display =\n",
              "          google.colab.kernel.accessAllowed ? 'block' : 'none';\n",
              "\n",
              "        async function convertToInteractive(key) {\n",
              "          const element = document.querySelector('#df-9613c6ae-9459-43a7-96d2-101d42dc8064');\n",
              "          const dataTable =\n",
              "            await google.colab.kernel.invokeFunction('convertToInteractive',\n",
              "                                                     [key], {});\n",
              "          if (!dataTable) return;\n",
              "\n",
              "          const docLinkHtml = 'Like what you see? Visit the ' +\n",
              "            '<a target=\"_blank\" href=https://colab.research.google.com/notebooks/data_table.ipynb>data table notebook</a>'\n",
              "            + ' to learn more about interactive tables.';\n",
              "          element.innerHTML = '';\n",
              "          dataTable['output_type'] = 'display_data';\n",
              "          await google.colab.output.renderOutput(dataTable, element);\n",
              "          const docLink = document.createElement('div');\n",
              "          docLink.innerHTML = docLinkHtml;\n",
              "          element.appendChild(docLink);\n",
              "        }\n",
              "      </script>\n",
              "    </div>\n",
              "  </div>\n",
              "  "
            ]
          },
          "metadata": {},
          "execution_count": 71
        }
      ]
    },
    {
      "cell_type": "markdown",
      "source": [
        "### Variable Manipulation"
      ],
      "metadata": {
        "id": "MbFRYIkurpLX"
      }
    },
    {
      "cell_type": "markdown",
      "source": [
        "A binary dummy variable needed to be added to the data to replace the target variable since the target variable was listed as a simple Y or N and the model can't take that. The target column can be dropped after this step as it would be redundent to include it in the data set now that we have a simplified version of it."
      ],
      "metadata": {
        "id": "a-zuZCfHlrYd"
      }
    },
    {
      "cell_type": "code",
      "source": [
        "clean['purchase'] = (clean.TARGET=='Y').astype(int)\n",
        "clean.drop(columns='TARGET', inplace=True)\n",
        "clean.head()"
      ],
      "metadata": {
        "colab": {
          "base_uri": "https://localhost:8080/",
          "height": 206
        },
        "id": "Nfo_4k6ckxbg",
        "outputId": "526bbc5d-27b3-4e5a-a082-f4d21150604c"
      },
      "execution_count": 72,
      "outputs": [
        {
          "output_type": "execute_result",
          "data": {
            "text/plain": [
              "   loyalty  age  prod_A  type_A  type_B  prod_B  turnover_A   turnover_B  \\\n",
              "0       99   66       0       0       0       0  333.561114   264.721010   \n",
              "1        1   45       1       3       3       1  394.735699   284.904978   \n",
              "2        1   42       1       3       6       1  342.180990  1175.589721   \n",
              "3       99   31       0       0       0       0  453.757916   242.341754   \n",
              "4       99   62       0       0       0       0  384.577469   287.008370   \n",
              "\n",
              "   age_P  lor_M  purchase  \n",
              "0     66      3         1  \n",
              "1     45     39         1  \n",
              "2     42     27         1  \n",
              "3     31      3         1  \n",
              "4     62      3         1  "
            ],
            "text/html": [
              "\n",
              "  <div id=\"df-cd447c93-f153-402c-9ea1-5f17b50fa1dd\">\n",
              "    <div class=\"colab-df-container\">\n",
              "      <div>\n",
              "<style scoped>\n",
              "    .dataframe tbody tr th:only-of-type {\n",
              "        vertical-align: middle;\n",
              "    }\n",
              "\n",
              "    .dataframe tbody tr th {\n",
              "        vertical-align: top;\n",
              "    }\n",
              "\n",
              "    .dataframe thead th {\n",
              "        text-align: right;\n",
              "    }\n",
              "</style>\n",
              "<table border=\"1\" class=\"dataframe\">\n",
              "  <thead>\n",
              "    <tr style=\"text-align: right;\">\n",
              "      <th></th>\n",
              "      <th>loyalty</th>\n",
              "      <th>age</th>\n",
              "      <th>prod_A</th>\n",
              "      <th>type_A</th>\n",
              "      <th>type_B</th>\n",
              "      <th>prod_B</th>\n",
              "      <th>turnover_A</th>\n",
              "      <th>turnover_B</th>\n",
              "      <th>age_P</th>\n",
              "      <th>lor_M</th>\n",
              "      <th>purchase</th>\n",
              "    </tr>\n",
              "  </thead>\n",
              "  <tbody>\n",
              "    <tr>\n",
              "      <th>0</th>\n",
              "      <td>99</td>\n",
              "      <td>66</td>\n",
              "      <td>0</td>\n",
              "      <td>0</td>\n",
              "      <td>0</td>\n",
              "      <td>0</td>\n",
              "      <td>333.561114</td>\n",
              "      <td>264.721010</td>\n",
              "      <td>66</td>\n",
              "      <td>3</td>\n",
              "      <td>1</td>\n",
              "    </tr>\n",
              "    <tr>\n",
              "      <th>1</th>\n",
              "      <td>1</td>\n",
              "      <td>45</td>\n",
              "      <td>1</td>\n",
              "      <td>3</td>\n",
              "      <td>3</td>\n",
              "      <td>1</td>\n",
              "      <td>394.735699</td>\n",
              "      <td>284.904978</td>\n",
              "      <td>45</td>\n",
              "      <td>39</td>\n",
              "      <td>1</td>\n",
              "    </tr>\n",
              "    <tr>\n",
              "      <th>2</th>\n",
              "      <td>1</td>\n",
              "      <td>42</td>\n",
              "      <td>1</td>\n",
              "      <td>3</td>\n",
              "      <td>6</td>\n",
              "      <td>1</td>\n",
              "      <td>342.180990</td>\n",
              "      <td>1175.589721</td>\n",
              "      <td>42</td>\n",
              "      <td>27</td>\n",
              "      <td>1</td>\n",
              "    </tr>\n",
              "    <tr>\n",
              "      <th>3</th>\n",
              "      <td>99</td>\n",
              "      <td>31</td>\n",
              "      <td>0</td>\n",
              "      <td>0</td>\n",
              "      <td>0</td>\n",
              "      <td>0</td>\n",
              "      <td>453.757916</td>\n",
              "      <td>242.341754</td>\n",
              "      <td>31</td>\n",
              "      <td>3</td>\n",
              "      <td>1</td>\n",
              "    </tr>\n",
              "    <tr>\n",
              "      <th>4</th>\n",
              "      <td>99</td>\n",
              "      <td>62</td>\n",
              "      <td>0</td>\n",
              "      <td>0</td>\n",
              "      <td>0</td>\n",
              "      <td>0</td>\n",
              "      <td>384.577469</td>\n",
              "      <td>287.008370</td>\n",
              "      <td>62</td>\n",
              "      <td>3</td>\n",
              "      <td>1</td>\n",
              "    </tr>\n",
              "  </tbody>\n",
              "</table>\n",
              "</div>\n",
              "      <button class=\"colab-df-convert\" onclick=\"convertToInteractive('df-cd447c93-f153-402c-9ea1-5f17b50fa1dd')\"\n",
              "              title=\"Convert this dataframe to an interactive table.\"\n",
              "              style=\"display:none;\">\n",
              "        \n",
              "  <svg xmlns=\"http://www.w3.org/2000/svg\" height=\"24px\"viewBox=\"0 0 24 24\"\n",
              "       width=\"24px\">\n",
              "    <path d=\"M0 0h24v24H0V0z\" fill=\"none\"/>\n",
              "    <path d=\"M18.56 5.44l.94 2.06.94-2.06 2.06-.94-2.06-.94-.94-2.06-.94 2.06-2.06.94zm-11 1L8.5 8.5l.94-2.06 2.06-.94-2.06-.94L8.5 2.5l-.94 2.06-2.06.94zm10 10l.94 2.06.94-2.06 2.06-.94-2.06-.94-.94-2.06-.94 2.06-2.06.94z\"/><path d=\"M17.41 7.96l-1.37-1.37c-.4-.4-.92-.59-1.43-.59-.52 0-1.04.2-1.43.59L10.3 9.45l-7.72 7.72c-.78.78-.78 2.05 0 2.83L4 21.41c.39.39.9.59 1.41.59.51 0 1.02-.2 1.41-.59l7.78-7.78 2.81-2.81c.8-.78.8-2.07 0-2.86zM5.41 20L4 18.59l7.72-7.72 1.47 1.35L5.41 20z\"/>\n",
              "  </svg>\n",
              "      </button>\n",
              "      \n",
              "  <style>\n",
              "    .colab-df-container {\n",
              "      display:flex;\n",
              "      flex-wrap:wrap;\n",
              "      gap: 12px;\n",
              "    }\n",
              "\n",
              "    .colab-df-convert {\n",
              "      background-color: #E8F0FE;\n",
              "      border: none;\n",
              "      border-radius: 50%;\n",
              "      cursor: pointer;\n",
              "      display: none;\n",
              "      fill: #1967D2;\n",
              "      height: 32px;\n",
              "      padding: 0 0 0 0;\n",
              "      width: 32px;\n",
              "    }\n",
              "\n",
              "    .colab-df-convert:hover {\n",
              "      background-color: #E2EBFA;\n",
              "      box-shadow: 0px 1px 2px rgba(60, 64, 67, 0.3), 0px 1px 3px 1px rgba(60, 64, 67, 0.15);\n",
              "      fill: #174EA6;\n",
              "    }\n",
              "\n",
              "    [theme=dark] .colab-df-convert {\n",
              "      background-color: #3B4455;\n",
              "      fill: #D2E3FC;\n",
              "    }\n",
              "\n",
              "    [theme=dark] .colab-df-convert:hover {\n",
              "      background-color: #434B5C;\n",
              "      box-shadow: 0px 1px 3px 1px rgba(0, 0, 0, 0.15);\n",
              "      filter: drop-shadow(0px 1px 2px rgba(0, 0, 0, 0.3));\n",
              "      fill: #FFFFFF;\n",
              "    }\n",
              "  </style>\n",
              "\n",
              "      <script>\n",
              "        const buttonEl =\n",
              "          document.querySelector('#df-cd447c93-f153-402c-9ea1-5f17b50fa1dd button.colab-df-convert');\n",
              "        buttonEl.style.display =\n",
              "          google.colab.kernel.accessAllowed ? 'block' : 'none';\n",
              "\n",
              "        async function convertToInteractive(key) {\n",
              "          const element = document.querySelector('#df-cd447c93-f153-402c-9ea1-5f17b50fa1dd');\n",
              "          const dataTable =\n",
              "            await google.colab.kernel.invokeFunction('convertToInteractive',\n",
              "                                                     [key], {});\n",
              "          if (!dataTable) return;\n",
              "\n",
              "          const docLinkHtml = 'Like what you see? Visit the ' +\n",
              "            '<a target=\"_blank\" href=https://colab.research.google.com/notebooks/data_table.ipynb>data table notebook</a>'\n",
              "            + ' to learn more about interactive tables.';\n",
              "          element.innerHTML = '';\n",
              "          dataTable['output_type'] = 'display_data';\n",
              "          await google.colab.output.renderOutput(dataTable, element);\n",
              "          const docLink = document.createElement('div');\n",
              "          docLink.innerHTML = docLinkHtml;\n",
              "          element.appendChild(docLink);\n",
              "        }\n",
              "      </script>\n",
              "    </div>\n",
              "  </div>\n",
              "  "
            ]
          },
          "metadata": {},
          "execution_count": 72
        }
      ]
    },
    {
      "cell_type": "markdown",
      "source": [
        "### Feature Engineering"
      ],
      "metadata": {
        "id": "1OXBk3_uCnZu"
      }
    },
    {
      "cell_type": "markdown",
      "source": [
        "Even though all values are listed as integers, type_A, type_B, and loyalty are all categorical and should be treated as any other categorical value. For this reason, dummy variables need to be created based off of them. This leaves us with 20 variables to possibly include. This number will be reduced after performing some further review."
      ],
      "metadata": {
        "id": "Fhf7iKmB50kX"
      }
    },
    {
      "cell_type": "code",
      "source": [
        "clean_1 = pd.get_dummies(clean, columns=['loyalty','type_A','type_B'], drop_first=False)\n",
        "clean_1.head()"
      ],
      "metadata": {
        "colab": {
          "base_uri": "https://localhost:8080/",
          "height": 270
        },
        "id": "CfHWT0n-_P39",
        "outputId": "c1da1cb3-534a-4765-aef5-e83cbcbaf596"
      },
      "execution_count": 73,
      "outputs": [
        {
          "output_type": "execute_result",
          "data": {
            "text/plain": [
              "   age  prod_A  prod_B  turnover_A   turnover_B  age_P  lor_M  purchase  \\\n",
              "0   66       0       0  333.561114   264.721010     66      3         1   \n",
              "1   45       1       1  394.735699   284.904978     45     39         1   \n",
              "2   42       1       1  342.180990  1175.589721     42     27         1   \n",
              "3   31       0       0  453.757916   242.341754     31      3         1   \n",
              "4   62       0       0  384.577469   287.008370     62      3         1   \n",
              "\n",
              "   loyalty_0  loyalty_1  loyalty_2  loyalty_3  loyalty_99  type_A_0  type_A_3  \\\n",
              "0          0          0          0          0           1         1         0   \n",
              "1          0          1          0          0           0         0         1   \n",
              "2          0          1          0          0           0         0         1   \n",
              "3          0          0          0          0           1         1         0   \n",
              "4          0          0          0          0           1         1         0   \n",
              "\n",
              "   type_A_6  type_B_0  type_B_3  type_B_6  type_B_9  \n",
              "0         0         1         0         0         0  \n",
              "1         0         0         1         0         0  \n",
              "2         0         0         0         1         0  \n",
              "3         0         1         0         0         0  \n",
              "4         0         1         0         0         0  "
            ],
            "text/html": [
              "\n",
              "  <div id=\"df-38327567-c6d0-4143-9b62-1ec00c6bb64a\">\n",
              "    <div class=\"colab-df-container\">\n",
              "      <div>\n",
              "<style scoped>\n",
              "    .dataframe tbody tr th:only-of-type {\n",
              "        vertical-align: middle;\n",
              "    }\n",
              "\n",
              "    .dataframe tbody tr th {\n",
              "        vertical-align: top;\n",
              "    }\n",
              "\n",
              "    .dataframe thead th {\n",
              "        text-align: right;\n",
              "    }\n",
              "</style>\n",
              "<table border=\"1\" class=\"dataframe\">\n",
              "  <thead>\n",
              "    <tr style=\"text-align: right;\">\n",
              "      <th></th>\n",
              "      <th>age</th>\n",
              "      <th>prod_A</th>\n",
              "      <th>prod_B</th>\n",
              "      <th>turnover_A</th>\n",
              "      <th>turnover_B</th>\n",
              "      <th>age_P</th>\n",
              "      <th>lor_M</th>\n",
              "      <th>purchase</th>\n",
              "      <th>loyalty_0</th>\n",
              "      <th>loyalty_1</th>\n",
              "      <th>loyalty_2</th>\n",
              "      <th>loyalty_3</th>\n",
              "      <th>loyalty_99</th>\n",
              "      <th>type_A_0</th>\n",
              "      <th>type_A_3</th>\n",
              "      <th>type_A_6</th>\n",
              "      <th>type_B_0</th>\n",
              "      <th>type_B_3</th>\n",
              "      <th>type_B_6</th>\n",
              "      <th>type_B_9</th>\n",
              "    </tr>\n",
              "  </thead>\n",
              "  <tbody>\n",
              "    <tr>\n",
              "      <th>0</th>\n",
              "      <td>66</td>\n",
              "      <td>0</td>\n",
              "      <td>0</td>\n",
              "      <td>333.561114</td>\n",
              "      <td>264.721010</td>\n",
              "      <td>66</td>\n",
              "      <td>3</td>\n",
              "      <td>1</td>\n",
              "      <td>0</td>\n",
              "      <td>0</td>\n",
              "      <td>0</td>\n",
              "      <td>0</td>\n",
              "      <td>1</td>\n",
              "      <td>1</td>\n",
              "      <td>0</td>\n",
              "      <td>0</td>\n",
              "      <td>1</td>\n",
              "      <td>0</td>\n",
              "      <td>0</td>\n",
              "      <td>0</td>\n",
              "    </tr>\n",
              "    <tr>\n",
              "      <th>1</th>\n",
              "      <td>45</td>\n",
              "      <td>1</td>\n",
              "      <td>1</td>\n",
              "      <td>394.735699</td>\n",
              "      <td>284.904978</td>\n",
              "      <td>45</td>\n",
              "      <td>39</td>\n",
              "      <td>1</td>\n",
              "      <td>0</td>\n",
              "      <td>1</td>\n",
              "      <td>0</td>\n",
              "      <td>0</td>\n",
              "      <td>0</td>\n",
              "      <td>0</td>\n",
              "      <td>1</td>\n",
              "      <td>0</td>\n",
              "      <td>0</td>\n",
              "      <td>1</td>\n",
              "      <td>0</td>\n",
              "      <td>0</td>\n",
              "    </tr>\n",
              "    <tr>\n",
              "      <th>2</th>\n",
              "      <td>42</td>\n",
              "      <td>1</td>\n",
              "      <td>1</td>\n",
              "      <td>342.180990</td>\n",
              "      <td>1175.589721</td>\n",
              "      <td>42</td>\n",
              "      <td>27</td>\n",
              "      <td>1</td>\n",
              "      <td>0</td>\n",
              "      <td>1</td>\n",
              "      <td>0</td>\n",
              "      <td>0</td>\n",
              "      <td>0</td>\n",
              "      <td>0</td>\n",
              "      <td>1</td>\n",
              "      <td>0</td>\n",
              "      <td>0</td>\n",
              "      <td>0</td>\n",
              "      <td>1</td>\n",
              "      <td>0</td>\n",
              "    </tr>\n",
              "    <tr>\n",
              "      <th>3</th>\n",
              "      <td>31</td>\n",
              "      <td>0</td>\n",
              "      <td>0</td>\n",
              "      <td>453.757916</td>\n",
              "      <td>242.341754</td>\n",
              "      <td>31</td>\n",
              "      <td>3</td>\n",
              "      <td>1</td>\n",
              "      <td>0</td>\n",
              "      <td>0</td>\n",
              "      <td>0</td>\n",
              "      <td>0</td>\n",
              "      <td>1</td>\n",
              "      <td>1</td>\n",
              "      <td>0</td>\n",
              "      <td>0</td>\n",
              "      <td>1</td>\n",
              "      <td>0</td>\n",
              "      <td>0</td>\n",
              "      <td>0</td>\n",
              "    </tr>\n",
              "    <tr>\n",
              "      <th>4</th>\n",
              "      <td>62</td>\n",
              "      <td>0</td>\n",
              "      <td>0</td>\n",
              "      <td>384.577469</td>\n",
              "      <td>287.008370</td>\n",
              "      <td>62</td>\n",
              "      <td>3</td>\n",
              "      <td>1</td>\n",
              "      <td>0</td>\n",
              "      <td>0</td>\n",
              "      <td>0</td>\n",
              "      <td>0</td>\n",
              "      <td>1</td>\n",
              "      <td>1</td>\n",
              "      <td>0</td>\n",
              "      <td>0</td>\n",
              "      <td>1</td>\n",
              "      <td>0</td>\n",
              "      <td>0</td>\n",
              "      <td>0</td>\n",
              "    </tr>\n",
              "  </tbody>\n",
              "</table>\n",
              "</div>\n",
              "      <button class=\"colab-df-convert\" onclick=\"convertToInteractive('df-38327567-c6d0-4143-9b62-1ec00c6bb64a')\"\n",
              "              title=\"Convert this dataframe to an interactive table.\"\n",
              "              style=\"display:none;\">\n",
              "        \n",
              "  <svg xmlns=\"http://www.w3.org/2000/svg\" height=\"24px\"viewBox=\"0 0 24 24\"\n",
              "       width=\"24px\">\n",
              "    <path d=\"M0 0h24v24H0V0z\" fill=\"none\"/>\n",
              "    <path d=\"M18.56 5.44l.94 2.06.94-2.06 2.06-.94-2.06-.94-.94-2.06-.94 2.06-2.06.94zm-11 1L8.5 8.5l.94-2.06 2.06-.94-2.06-.94L8.5 2.5l-.94 2.06-2.06.94zm10 10l.94 2.06.94-2.06 2.06-.94-2.06-.94-.94-2.06-.94 2.06-2.06.94z\"/><path d=\"M17.41 7.96l-1.37-1.37c-.4-.4-.92-.59-1.43-.59-.52 0-1.04.2-1.43.59L10.3 9.45l-7.72 7.72c-.78.78-.78 2.05 0 2.83L4 21.41c.39.39.9.59 1.41.59.51 0 1.02-.2 1.41-.59l7.78-7.78 2.81-2.81c.8-.78.8-2.07 0-2.86zM5.41 20L4 18.59l7.72-7.72 1.47 1.35L5.41 20z\"/>\n",
              "  </svg>\n",
              "      </button>\n",
              "      \n",
              "  <style>\n",
              "    .colab-df-container {\n",
              "      display:flex;\n",
              "      flex-wrap:wrap;\n",
              "      gap: 12px;\n",
              "    }\n",
              "\n",
              "    .colab-df-convert {\n",
              "      background-color: #E8F0FE;\n",
              "      border: none;\n",
              "      border-radius: 50%;\n",
              "      cursor: pointer;\n",
              "      display: none;\n",
              "      fill: #1967D2;\n",
              "      height: 32px;\n",
              "      padding: 0 0 0 0;\n",
              "      width: 32px;\n",
              "    }\n",
              "\n",
              "    .colab-df-convert:hover {\n",
              "      background-color: #E2EBFA;\n",
              "      box-shadow: 0px 1px 2px rgba(60, 64, 67, 0.3), 0px 1px 3px 1px rgba(60, 64, 67, 0.15);\n",
              "      fill: #174EA6;\n",
              "    }\n",
              "\n",
              "    [theme=dark] .colab-df-convert {\n",
              "      background-color: #3B4455;\n",
              "      fill: #D2E3FC;\n",
              "    }\n",
              "\n",
              "    [theme=dark] .colab-df-convert:hover {\n",
              "      background-color: #434B5C;\n",
              "      box-shadow: 0px 1px 3px 1px rgba(0, 0, 0, 0.15);\n",
              "      filter: drop-shadow(0px 1px 2px rgba(0, 0, 0, 0.3));\n",
              "      fill: #FFFFFF;\n",
              "    }\n",
              "  </style>\n",
              "\n",
              "      <script>\n",
              "        const buttonEl =\n",
              "          document.querySelector('#df-38327567-c6d0-4143-9b62-1ec00c6bb64a button.colab-df-convert');\n",
              "        buttonEl.style.display =\n",
              "          google.colab.kernel.accessAllowed ? 'block' : 'none';\n",
              "\n",
              "        async function convertToInteractive(key) {\n",
              "          const element = document.querySelector('#df-38327567-c6d0-4143-9b62-1ec00c6bb64a');\n",
              "          const dataTable =\n",
              "            await google.colab.kernel.invokeFunction('convertToInteractive',\n",
              "                                                     [key], {});\n",
              "          if (!dataTable) return;\n",
              "\n",
              "          const docLinkHtml = 'Like what you see? Visit the ' +\n",
              "            '<a target=\"_blank\" href=https://colab.research.google.com/notebooks/data_table.ipynb>data table notebook</a>'\n",
              "            + ' to learn more about interactive tables.';\n",
              "          element.innerHTML = '';\n",
              "          dataTable['output_type'] = 'display_data';\n",
              "          await google.colab.output.renderOutput(dataTable, element);\n",
              "          const docLink = document.createElement('div');\n",
              "          docLink.innerHTML = docLinkHtml;\n",
              "          element.appendChild(docLink);\n",
              "        }\n",
              "      </script>\n",
              "    </div>\n",
              "  </div>\n",
              "  "
            ]
          },
          "metadata": {},
          "execution_count": 73
        }
      ]
    },
    {
      "cell_type": "code",
      "source": [
        "clean_1.shape"
      ],
      "metadata": {
        "colab": {
          "base_uri": "https://localhost:8080/"
        },
        "id": "A5QrLV3pAsCR",
        "outputId": "23315b9f-223a-4559-e0e5-c6c201ac82d6"
      },
      "execution_count": 74,
      "outputs": [
        {
          "output_type": "execute_result",
          "data": {
            "text/plain": [
              "(11008, 20)"
            ]
          },
          "metadata": {},
          "execution_count": 74
        }
      ]
    },
    {
      "cell_type": "markdown",
      "source": [
        "# Prepped Data Review"
      ],
      "metadata": {
        "id": "Vof4wY-nCh3J"
      }
    },
    {
      "cell_type": "markdown",
      "source": [
        "Now that all of data has been transformed and the necessary dummy variables have been created, a good step to start our review is at the correlation matrix. Looking at this revised correlation chart there are a few things that stand out. \n",
        "\n",
        "First, none of these features has an extremely high correlation value, even though a significant amount of them have decent numbers. This could indicate that more variables are required to put together a strong model.\n",
        "\n",
        "What is a little bit confusing are a few of the variables that are negatively correlated. For example, the highest level of loyalty has the highest level of correlation out of all levels and yet it's negatively correlated. This goes against conventional knowledge that the customer who is more loyal would buy more products.\n",
        "\n",
        "While none of these variables have particularly amazing correlation values, I do see some of them as potentially being good predictors. Therefore based on this, one of the methods that I will be using is a correlation threshold for feature selection."
      ],
      "metadata": {
        "id": "lh2RidzUCw9q"
      }
    },
    {
      "cell_type": "code",
      "source": [
        "corr = clean_1.corr()\n",
        "corr['purchase'].sort_values(ascending=False)"
      ],
      "metadata": {
        "colab": {
          "base_uri": "https://localhost:8080/"
        },
        "id": "CKMBiyWmDXMw",
        "outputId": "eac43d79-7424-4902-d2f1-0aa63812a427"
      },
      "execution_count": 75,
      "outputs": [
        {
          "output_type": "execute_result",
          "data": {
            "text/plain": [
              "purchase      1.000000\n",
              "type_B_0      0.316734\n",
              "type_A_0      0.293210\n",
              "loyalty_99    0.228532\n",
              "age           0.227510\n",
              "age_P         0.227510\n",
              "turnover_A    0.201813\n",
              "type_A_6      0.003193\n",
              "type_B_9     -0.026166\n",
              "loyalty_0    -0.043847\n",
              "loyalty_1    -0.047778\n",
              "loyalty_2    -0.054305\n",
              "turnover_B   -0.084418\n",
              "type_B_6     -0.084766\n",
              "lor_M        -0.171396\n",
              "loyalty_3    -0.175314\n",
              "type_B_3     -0.271626\n",
              "prod_A       -0.293210\n",
              "type_A_3     -0.293296\n",
              "prod_B       -0.316734\n",
              "Name: purchase, dtype: float64"
            ]
          },
          "metadata": {},
          "execution_count": 75
        }
      ]
    },
    {
      "cell_type": "code",
      "source": [
        "corr"
      ],
      "metadata": {
        "colab": {
          "base_uri": "https://localhost:8080/",
          "height": 741
        },
        "id": "ZZ6tnMo6rHvX",
        "outputId": "e293c46c-4525-4879-dd44-6cff66583609"
      },
      "execution_count": 76,
      "outputs": [
        {
          "output_type": "execute_result",
          "data": {
            "text/plain": [
              "                 age    prod_A    prod_B  turnover_A  turnover_B     age_P  \\\n",
              "age         1.000000 -0.140526 -0.038487    0.130944    0.293546  1.000000   \n",
              "prod_A     -0.140526  1.000000  0.865835    0.000495   -0.029556 -0.140526   \n",
              "prod_B     -0.038487  0.865835  1.000000   -0.016728    0.148441 -0.038487   \n",
              "turnover_A  0.130944  0.000495 -0.016728    1.000000    0.138260  0.130944   \n",
              "turnover_B  0.293546 -0.029556  0.148441    0.138260    1.000000  0.293546   \n",
              "age_P       1.000000 -0.140526 -0.038487    0.130944    0.293546  1.000000   \n",
              "lor_M       0.120313  0.558389  0.734568    0.024052    0.164561  0.120313   \n",
              "purchase    0.227510 -0.293210 -0.316734    0.201813   -0.084418  0.227510   \n",
              "loyalty_0  -0.070481  0.057712  0.049531   -0.018607   -0.016236 -0.070481   \n",
              "loyalty_1   0.176724  0.201052  0.315490    0.070925    0.098606  0.176724   \n",
              "loyalty_2   0.142065  0.138672  0.215316    0.021966    0.179842  0.142065   \n",
              "loyalty_3  -0.172700  0.395625  0.397294   -0.068654    0.002766 -0.172700   \n",
              "loyalty_99 -0.066388 -0.592269 -0.729080   -0.006800   -0.188478 -0.066388   \n",
              "type_A_0    0.140526 -1.000000 -0.865835   -0.000495    0.029556  0.140526   \n",
              "type_A_3   -0.140334  0.995711  0.862121   -0.000342   -0.028874 -0.140334   \n",
              "type_A_6   -0.000983  0.038588  0.033411    0.009035   -0.007131 -0.000983   \n",
              "type_B_0    0.038487 -0.865835 -1.000000    0.016728   -0.148441  0.038487   \n",
              "type_B_3   -0.136908  0.784853  0.909723   -0.019888   -0.055078 -0.136908   \n",
              "type_B_6    0.228266  0.139205  0.151093    0.009333    0.455100  0.228266   \n",
              "type_B_9    0.058666  0.029384  0.040039   -0.002020    0.133092  0.058666   \n",
              "\n",
              "               lor_M  purchase  loyalty_0  loyalty_1  loyalty_2  loyalty_3  \\\n",
              "age         0.120313  0.227510  -0.070481   0.176724   0.142065  -0.172700   \n",
              "prod_A      0.558389 -0.293210   0.057712   0.201052   0.138672   0.395625   \n",
              "prod_B      0.734568 -0.316734   0.049531   0.315490   0.215316   0.397294   \n",
              "turnover_A  0.024052  0.201813  -0.018607   0.070925   0.021966  -0.068654   \n",
              "turnover_B  0.164561 -0.084418  -0.016236   0.098606   0.179842   0.002766   \n",
              "age_P       0.120313  0.227510  -0.070481   0.176724   0.142065  -0.172700   \n",
              "lor_M       1.000000 -0.171396   0.001321   0.542256   0.210861   0.101552   \n",
              "purchase   -0.171396  1.000000  -0.043847  -0.047778  -0.054305  -0.175314   \n",
              "loyalty_0   0.001321 -0.043847   1.000000  -0.033889  -0.024824  -0.040774   \n",
              "loyalty_1   0.542256 -0.047778  -0.033889   1.000000  -0.164530  -0.270242   \n",
              "loyalty_2   0.210861 -0.054305  -0.024824  -0.164530   1.000000  -0.197957   \n",
              "loyalty_3   0.101552 -0.175314  -0.040774  -0.270242  -0.197957   1.000000   \n",
              "loyalty_99 -0.640154  0.228532  -0.065809  -0.436163  -0.319498  -0.524779   \n",
              "type_A_0   -0.558389  0.293210  -0.057712  -0.201052  -0.138672  -0.395625   \n",
              "type_A_3    0.554773 -0.293296   0.057973   0.195776   0.137071   0.396473   \n",
              "type_A_6    0.034731  0.003193  -0.003272   0.055424   0.016221  -0.012222   \n",
              "type_B_0   -0.734568  0.316734  -0.049531  -0.315490  -0.215316  -0.397294   \n",
              "type_B_3    0.581869 -0.271626   0.054778   0.247190   0.136888   0.397559   \n",
              "type_B_6    0.296721 -0.084766  -0.014797   0.127874   0.179362  -0.021178   \n",
              "type_B_9    0.126605 -0.026166  -0.003921   0.077060   0.002417  -0.011960   \n",
              "\n",
              "            loyalty_99  type_A_0  type_A_3  type_A_6  type_B_0  type_B_3  \\\n",
              "age          -0.066388  0.140526 -0.140334 -0.000983  0.038487 -0.136908   \n",
              "prod_A       -0.592269 -1.000000  0.995711  0.038588 -0.865835  0.784853   \n",
              "prod_B       -0.729080 -0.865835  0.862121  0.033411 -1.000000  0.909723   \n",
              "turnover_A   -0.006800 -0.000495 -0.000342  0.009035  0.016728 -0.019888   \n",
              "turnover_B   -0.188478  0.029556 -0.028874 -0.007131 -0.148441 -0.055078   \n",
              "age_P        -0.066388  0.140526 -0.140334 -0.000983  0.038487 -0.136908   \n",
              "lor_M        -0.640154 -0.558389  0.554773  0.034731 -0.734568  0.581869   \n",
              "purchase      0.228532  0.293210 -0.293296  0.003193  0.316734 -0.271626   \n",
              "loyalty_0    -0.065809 -0.057712  0.057973 -0.003272 -0.049531  0.054778   \n",
              "loyalty_1    -0.436163 -0.201052  0.195776  0.055424 -0.315490  0.247190   \n",
              "loyalty_2    -0.319498 -0.138672  0.137071  0.016221 -0.215316  0.136888   \n",
              "loyalty_3    -0.524779 -0.395625  0.396473 -0.012222 -0.397294  0.397559   \n",
              "loyalty_99    1.000000  0.592269 -0.587946 -0.042111  0.729080 -0.628245   \n",
              "type_A_0      0.592269  1.000000 -0.995711 -0.038588  0.865835 -0.784853   \n",
              "type_A_3     -0.587946 -0.995711  1.000000 -0.054027 -0.862121  0.789570   \n",
              "type_A_6     -0.042111 -0.038588 -0.054027  1.000000 -0.033411 -0.057010   \n",
              "type_B_0      0.729080  0.865835 -0.862121 -0.033411  1.000000 -0.909723   \n",
              "type_B_3     -0.628245 -0.784853  0.789570 -0.057010 -0.909723  1.000000   \n",
              "type_B_6     -0.190439 -0.139205  0.119560  0.211102 -0.151093 -0.257813   \n",
              "type_B_9     -0.050465 -0.029384  0.026226  0.033881 -0.040039 -0.068319   \n",
              "\n",
              "            type_B_6  type_B_9  \n",
              "age         0.228266  0.058666  \n",
              "prod_A      0.139205  0.029384  \n",
              "prod_B      0.151093  0.040039  \n",
              "turnover_A  0.009333 -0.002020  \n",
              "turnover_B  0.455100  0.133092  \n",
              "age_P       0.228266  0.058666  \n",
              "lor_M       0.296721  0.126605  \n",
              "purchase   -0.084766 -0.026166  \n",
              "loyalty_0  -0.014797 -0.003921  \n",
              "loyalty_1   0.127874  0.077060  \n",
              "loyalty_2   0.179362  0.002417  \n",
              "loyalty_3  -0.021178 -0.011960  \n",
              "loyalty_99 -0.190439 -0.050465  \n",
              "type_A_0   -0.139205 -0.029384  \n",
              "type_A_3    0.119560  0.026226  \n",
              "type_A_6    0.211102  0.033881  \n",
              "type_B_0   -0.151093 -0.040039  \n",
              "type_B_3   -0.257813 -0.068319  \n",
              "type_B_6    1.000000 -0.011347  \n",
              "type_B_9   -0.011347  1.000000  "
            ],
            "text/html": [
              "\n",
              "  <div id=\"df-160da792-1fca-421d-bfbc-fc02fc3dae65\">\n",
              "    <div class=\"colab-df-container\">\n",
              "      <div>\n",
              "<style scoped>\n",
              "    .dataframe tbody tr th:only-of-type {\n",
              "        vertical-align: middle;\n",
              "    }\n",
              "\n",
              "    .dataframe tbody tr th {\n",
              "        vertical-align: top;\n",
              "    }\n",
              "\n",
              "    .dataframe thead th {\n",
              "        text-align: right;\n",
              "    }\n",
              "</style>\n",
              "<table border=\"1\" class=\"dataframe\">\n",
              "  <thead>\n",
              "    <tr style=\"text-align: right;\">\n",
              "      <th></th>\n",
              "      <th>age</th>\n",
              "      <th>prod_A</th>\n",
              "      <th>prod_B</th>\n",
              "      <th>turnover_A</th>\n",
              "      <th>turnover_B</th>\n",
              "      <th>age_P</th>\n",
              "      <th>lor_M</th>\n",
              "      <th>purchase</th>\n",
              "      <th>loyalty_0</th>\n",
              "      <th>loyalty_1</th>\n",
              "      <th>loyalty_2</th>\n",
              "      <th>loyalty_3</th>\n",
              "      <th>loyalty_99</th>\n",
              "      <th>type_A_0</th>\n",
              "      <th>type_A_3</th>\n",
              "      <th>type_A_6</th>\n",
              "      <th>type_B_0</th>\n",
              "      <th>type_B_3</th>\n",
              "      <th>type_B_6</th>\n",
              "      <th>type_B_9</th>\n",
              "    </tr>\n",
              "  </thead>\n",
              "  <tbody>\n",
              "    <tr>\n",
              "      <th>age</th>\n",
              "      <td>1.000000</td>\n",
              "      <td>-0.140526</td>\n",
              "      <td>-0.038487</td>\n",
              "      <td>0.130944</td>\n",
              "      <td>0.293546</td>\n",
              "      <td>1.000000</td>\n",
              "      <td>0.120313</td>\n",
              "      <td>0.227510</td>\n",
              "      <td>-0.070481</td>\n",
              "      <td>0.176724</td>\n",
              "      <td>0.142065</td>\n",
              "      <td>-0.172700</td>\n",
              "      <td>-0.066388</td>\n",
              "      <td>0.140526</td>\n",
              "      <td>-0.140334</td>\n",
              "      <td>-0.000983</td>\n",
              "      <td>0.038487</td>\n",
              "      <td>-0.136908</td>\n",
              "      <td>0.228266</td>\n",
              "      <td>0.058666</td>\n",
              "    </tr>\n",
              "    <tr>\n",
              "      <th>prod_A</th>\n",
              "      <td>-0.140526</td>\n",
              "      <td>1.000000</td>\n",
              "      <td>0.865835</td>\n",
              "      <td>0.000495</td>\n",
              "      <td>-0.029556</td>\n",
              "      <td>-0.140526</td>\n",
              "      <td>0.558389</td>\n",
              "      <td>-0.293210</td>\n",
              "      <td>0.057712</td>\n",
              "      <td>0.201052</td>\n",
              "      <td>0.138672</td>\n",
              "      <td>0.395625</td>\n",
              "      <td>-0.592269</td>\n",
              "      <td>-1.000000</td>\n",
              "      <td>0.995711</td>\n",
              "      <td>0.038588</td>\n",
              "      <td>-0.865835</td>\n",
              "      <td>0.784853</td>\n",
              "      <td>0.139205</td>\n",
              "      <td>0.029384</td>\n",
              "    </tr>\n",
              "    <tr>\n",
              "      <th>prod_B</th>\n",
              "      <td>-0.038487</td>\n",
              "      <td>0.865835</td>\n",
              "      <td>1.000000</td>\n",
              "      <td>-0.016728</td>\n",
              "      <td>0.148441</td>\n",
              "      <td>-0.038487</td>\n",
              "      <td>0.734568</td>\n",
              "      <td>-0.316734</td>\n",
              "      <td>0.049531</td>\n",
              "      <td>0.315490</td>\n",
              "      <td>0.215316</td>\n",
              "      <td>0.397294</td>\n",
              "      <td>-0.729080</td>\n",
              "      <td>-0.865835</td>\n",
              "      <td>0.862121</td>\n",
              "      <td>0.033411</td>\n",
              "      <td>-1.000000</td>\n",
              "      <td>0.909723</td>\n",
              "      <td>0.151093</td>\n",
              "      <td>0.040039</td>\n",
              "    </tr>\n",
              "    <tr>\n",
              "      <th>turnover_A</th>\n",
              "      <td>0.130944</td>\n",
              "      <td>0.000495</td>\n",
              "      <td>-0.016728</td>\n",
              "      <td>1.000000</td>\n",
              "      <td>0.138260</td>\n",
              "      <td>0.130944</td>\n",
              "      <td>0.024052</td>\n",
              "      <td>0.201813</td>\n",
              "      <td>-0.018607</td>\n",
              "      <td>0.070925</td>\n",
              "      <td>0.021966</td>\n",
              "      <td>-0.068654</td>\n",
              "      <td>-0.006800</td>\n",
              "      <td>-0.000495</td>\n",
              "      <td>-0.000342</td>\n",
              "      <td>0.009035</td>\n",
              "      <td>0.016728</td>\n",
              "      <td>-0.019888</td>\n",
              "      <td>0.009333</td>\n",
              "      <td>-0.002020</td>\n",
              "    </tr>\n",
              "    <tr>\n",
              "      <th>turnover_B</th>\n",
              "      <td>0.293546</td>\n",
              "      <td>-0.029556</td>\n",
              "      <td>0.148441</td>\n",
              "      <td>0.138260</td>\n",
              "      <td>1.000000</td>\n",
              "      <td>0.293546</td>\n",
              "      <td>0.164561</td>\n",
              "      <td>-0.084418</td>\n",
              "      <td>-0.016236</td>\n",
              "      <td>0.098606</td>\n",
              "      <td>0.179842</td>\n",
              "      <td>0.002766</td>\n",
              "      <td>-0.188478</td>\n",
              "      <td>0.029556</td>\n",
              "      <td>-0.028874</td>\n",
              "      <td>-0.007131</td>\n",
              "      <td>-0.148441</td>\n",
              "      <td>-0.055078</td>\n",
              "      <td>0.455100</td>\n",
              "      <td>0.133092</td>\n",
              "    </tr>\n",
              "    <tr>\n",
              "      <th>age_P</th>\n",
              "      <td>1.000000</td>\n",
              "      <td>-0.140526</td>\n",
              "      <td>-0.038487</td>\n",
              "      <td>0.130944</td>\n",
              "      <td>0.293546</td>\n",
              "      <td>1.000000</td>\n",
              "      <td>0.120313</td>\n",
              "      <td>0.227510</td>\n",
              "      <td>-0.070481</td>\n",
              "      <td>0.176724</td>\n",
              "      <td>0.142065</td>\n",
              "      <td>-0.172700</td>\n",
              "      <td>-0.066388</td>\n",
              "      <td>0.140526</td>\n",
              "      <td>-0.140334</td>\n",
              "      <td>-0.000983</td>\n",
              "      <td>0.038487</td>\n",
              "      <td>-0.136908</td>\n",
              "      <td>0.228266</td>\n",
              "      <td>0.058666</td>\n",
              "    </tr>\n",
              "    <tr>\n",
              "      <th>lor_M</th>\n",
              "      <td>0.120313</td>\n",
              "      <td>0.558389</td>\n",
              "      <td>0.734568</td>\n",
              "      <td>0.024052</td>\n",
              "      <td>0.164561</td>\n",
              "      <td>0.120313</td>\n",
              "      <td>1.000000</td>\n",
              "      <td>-0.171396</td>\n",
              "      <td>0.001321</td>\n",
              "      <td>0.542256</td>\n",
              "      <td>0.210861</td>\n",
              "      <td>0.101552</td>\n",
              "      <td>-0.640154</td>\n",
              "      <td>-0.558389</td>\n",
              "      <td>0.554773</td>\n",
              "      <td>0.034731</td>\n",
              "      <td>-0.734568</td>\n",
              "      <td>0.581869</td>\n",
              "      <td>0.296721</td>\n",
              "      <td>0.126605</td>\n",
              "    </tr>\n",
              "    <tr>\n",
              "      <th>purchase</th>\n",
              "      <td>0.227510</td>\n",
              "      <td>-0.293210</td>\n",
              "      <td>-0.316734</td>\n",
              "      <td>0.201813</td>\n",
              "      <td>-0.084418</td>\n",
              "      <td>0.227510</td>\n",
              "      <td>-0.171396</td>\n",
              "      <td>1.000000</td>\n",
              "      <td>-0.043847</td>\n",
              "      <td>-0.047778</td>\n",
              "      <td>-0.054305</td>\n",
              "      <td>-0.175314</td>\n",
              "      <td>0.228532</td>\n",
              "      <td>0.293210</td>\n",
              "      <td>-0.293296</td>\n",
              "      <td>0.003193</td>\n",
              "      <td>0.316734</td>\n",
              "      <td>-0.271626</td>\n",
              "      <td>-0.084766</td>\n",
              "      <td>-0.026166</td>\n",
              "    </tr>\n",
              "    <tr>\n",
              "      <th>loyalty_0</th>\n",
              "      <td>-0.070481</td>\n",
              "      <td>0.057712</td>\n",
              "      <td>0.049531</td>\n",
              "      <td>-0.018607</td>\n",
              "      <td>-0.016236</td>\n",
              "      <td>-0.070481</td>\n",
              "      <td>0.001321</td>\n",
              "      <td>-0.043847</td>\n",
              "      <td>1.000000</td>\n",
              "      <td>-0.033889</td>\n",
              "      <td>-0.024824</td>\n",
              "      <td>-0.040774</td>\n",
              "      <td>-0.065809</td>\n",
              "      <td>-0.057712</td>\n",
              "      <td>0.057973</td>\n",
              "      <td>-0.003272</td>\n",
              "      <td>-0.049531</td>\n",
              "      <td>0.054778</td>\n",
              "      <td>-0.014797</td>\n",
              "      <td>-0.003921</td>\n",
              "    </tr>\n",
              "    <tr>\n",
              "      <th>loyalty_1</th>\n",
              "      <td>0.176724</td>\n",
              "      <td>0.201052</td>\n",
              "      <td>0.315490</td>\n",
              "      <td>0.070925</td>\n",
              "      <td>0.098606</td>\n",
              "      <td>0.176724</td>\n",
              "      <td>0.542256</td>\n",
              "      <td>-0.047778</td>\n",
              "      <td>-0.033889</td>\n",
              "      <td>1.000000</td>\n",
              "      <td>-0.164530</td>\n",
              "      <td>-0.270242</td>\n",
              "      <td>-0.436163</td>\n",
              "      <td>-0.201052</td>\n",
              "      <td>0.195776</td>\n",
              "      <td>0.055424</td>\n",
              "      <td>-0.315490</td>\n",
              "      <td>0.247190</td>\n",
              "      <td>0.127874</td>\n",
              "      <td>0.077060</td>\n",
              "    </tr>\n",
              "    <tr>\n",
              "      <th>loyalty_2</th>\n",
              "      <td>0.142065</td>\n",
              "      <td>0.138672</td>\n",
              "      <td>0.215316</td>\n",
              "      <td>0.021966</td>\n",
              "      <td>0.179842</td>\n",
              "      <td>0.142065</td>\n",
              "      <td>0.210861</td>\n",
              "      <td>-0.054305</td>\n",
              "      <td>-0.024824</td>\n",
              "      <td>-0.164530</td>\n",
              "      <td>1.000000</td>\n",
              "      <td>-0.197957</td>\n",
              "      <td>-0.319498</td>\n",
              "      <td>-0.138672</td>\n",
              "      <td>0.137071</td>\n",
              "      <td>0.016221</td>\n",
              "      <td>-0.215316</td>\n",
              "      <td>0.136888</td>\n",
              "      <td>0.179362</td>\n",
              "      <td>0.002417</td>\n",
              "    </tr>\n",
              "    <tr>\n",
              "      <th>loyalty_3</th>\n",
              "      <td>-0.172700</td>\n",
              "      <td>0.395625</td>\n",
              "      <td>0.397294</td>\n",
              "      <td>-0.068654</td>\n",
              "      <td>0.002766</td>\n",
              "      <td>-0.172700</td>\n",
              "      <td>0.101552</td>\n",
              "      <td>-0.175314</td>\n",
              "      <td>-0.040774</td>\n",
              "      <td>-0.270242</td>\n",
              "      <td>-0.197957</td>\n",
              "      <td>1.000000</td>\n",
              "      <td>-0.524779</td>\n",
              "      <td>-0.395625</td>\n",
              "      <td>0.396473</td>\n",
              "      <td>-0.012222</td>\n",
              "      <td>-0.397294</td>\n",
              "      <td>0.397559</td>\n",
              "      <td>-0.021178</td>\n",
              "      <td>-0.011960</td>\n",
              "    </tr>\n",
              "    <tr>\n",
              "      <th>loyalty_99</th>\n",
              "      <td>-0.066388</td>\n",
              "      <td>-0.592269</td>\n",
              "      <td>-0.729080</td>\n",
              "      <td>-0.006800</td>\n",
              "      <td>-0.188478</td>\n",
              "      <td>-0.066388</td>\n",
              "      <td>-0.640154</td>\n",
              "      <td>0.228532</td>\n",
              "      <td>-0.065809</td>\n",
              "      <td>-0.436163</td>\n",
              "      <td>-0.319498</td>\n",
              "      <td>-0.524779</td>\n",
              "      <td>1.000000</td>\n",
              "      <td>0.592269</td>\n",
              "      <td>-0.587946</td>\n",
              "      <td>-0.042111</td>\n",
              "      <td>0.729080</td>\n",
              "      <td>-0.628245</td>\n",
              "      <td>-0.190439</td>\n",
              "      <td>-0.050465</td>\n",
              "    </tr>\n",
              "    <tr>\n",
              "      <th>type_A_0</th>\n",
              "      <td>0.140526</td>\n",
              "      <td>-1.000000</td>\n",
              "      <td>-0.865835</td>\n",
              "      <td>-0.000495</td>\n",
              "      <td>0.029556</td>\n",
              "      <td>0.140526</td>\n",
              "      <td>-0.558389</td>\n",
              "      <td>0.293210</td>\n",
              "      <td>-0.057712</td>\n",
              "      <td>-0.201052</td>\n",
              "      <td>-0.138672</td>\n",
              "      <td>-0.395625</td>\n",
              "      <td>0.592269</td>\n",
              "      <td>1.000000</td>\n",
              "      <td>-0.995711</td>\n",
              "      <td>-0.038588</td>\n",
              "      <td>0.865835</td>\n",
              "      <td>-0.784853</td>\n",
              "      <td>-0.139205</td>\n",
              "      <td>-0.029384</td>\n",
              "    </tr>\n",
              "    <tr>\n",
              "      <th>type_A_3</th>\n",
              "      <td>-0.140334</td>\n",
              "      <td>0.995711</td>\n",
              "      <td>0.862121</td>\n",
              "      <td>-0.000342</td>\n",
              "      <td>-0.028874</td>\n",
              "      <td>-0.140334</td>\n",
              "      <td>0.554773</td>\n",
              "      <td>-0.293296</td>\n",
              "      <td>0.057973</td>\n",
              "      <td>0.195776</td>\n",
              "      <td>0.137071</td>\n",
              "      <td>0.396473</td>\n",
              "      <td>-0.587946</td>\n",
              "      <td>-0.995711</td>\n",
              "      <td>1.000000</td>\n",
              "      <td>-0.054027</td>\n",
              "      <td>-0.862121</td>\n",
              "      <td>0.789570</td>\n",
              "      <td>0.119560</td>\n",
              "      <td>0.026226</td>\n",
              "    </tr>\n",
              "    <tr>\n",
              "      <th>type_A_6</th>\n",
              "      <td>-0.000983</td>\n",
              "      <td>0.038588</td>\n",
              "      <td>0.033411</td>\n",
              "      <td>0.009035</td>\n",
              "      <td>-0.007131</td>\n",
              "      <td>-0.000983</td>\n",
              "      <td>0.034731</td>\n",
              "      <td>0.003193</td>\n",
              "      <td>-0.003272</td>\n",
              "      <td>0.055424</td>\n",
              "      <td>0.016221</td>\n",
              "      <td>-0.012222</td>\n",
              "      <td>-0.042111</td>\n",
              "      <td>-0.038588</td>\n",
              "      <td>-0.054027</td>\n",
              "      <td>1.000000</td>\n",
              "      <td>-0.033411</td>\n",
              "      <td>-0.057010</td>\n",
              "      <td>0.211102</td>\n",
              "      <td>0.033881</td>\n",
              "    </tr>\n",
              "    <tr>\n",
              "      <th>type_B_0</th>\n",
              "      <td>0.038487</td>\n",
              "      <td>-0.865835</td>\n",
              "      <td>-1.000000</td>\n",
              "      <td>0.016728</td>\n",
              "      <td>-0.148441</td>\n",
              "      <td>0.038487</td>\n",
              "      <td>-0.734568</td>\n",
              "      <td>0.316734</td>\n",
              "      <td>-0.049531</td>\n",
              "      <td>-0.315490</td>\n",
              "      <td>-0.215316</td>\n",
              "      <td>-0.397294</td>\n",
              "      <td>0.729080</td>\n",
              "      <td>0.865835</td>\n",
              "      <td>-0.862121</td>\n",
              "      <td>-0.033411</td>\n",
              "      <td>1.000000</td>\n",
              "      <td>-0.909723</td>\n",
              "      <td>-0.151093</td>\n",
              "      <td>-0.040039</td>\n",
              "    </tr>\n",
              "    <tr>\n",
              "      <th>type_B_3</th>\n",
              "      <td>-0.136908</td>\n",
              "      <td>0.784853</td>\n",
              "      <td>0.909723</td>\n",
              "      <td>-0.019888</td>\n",
              "      <td>-0.055078</td>\n",
              "      <td>-0.136908</td>\n",
              "      <td>0.581869</td>\n",
              "      <td>-0.271626</td>\n",
              "      <td>0.054778</td>\n",
              "      <td>0.247190</td>\n",
              "      <td>0.136888</td>\n",
              "      <td>0.397559</td>\n",
              "      <td>-0.628245</td>\n",
              "      <td>-0.784853</td>\n",
              "      <td>0.789570</td>\n",
              "      <td>-0.057010</td>\n",
              "      <td>-0.909723</td>\n",
              "      <td>1.000000</td>\n",
              "      <td>-0.257813</td>\n",
              "      <td>-0.068319</td>\n",
              "    </tr>\n",
              "    <tr>\n",
              "      <th>type_B_6</th>\n",
              "      <td>0.228266</td>\n",
              "      <td>0.139205</td>\n",
              "      <td>0.151093</td>\n",
              "      <td>0.009333</td>\n",
              "      <td>0.455100</td>\n",
              "      <td>0.228266</td>\n",
              "      <td>0.296721</td>\n",
              "      <td>-0.084766</td>\n",
              "      <td>-0.014797</td>\n",
              "      <td>0.127874</td>\n",
              "      <td>0.179362</td>\n",
              "      <td>-0.021178</td>\n",
              "      <td>-0.190439</td>\n",
              "      <td>-0.139205</td>\n",
              "      <td>0.119560</td>\n",
              "      <td>0.211102</td>\n",
              "      <td>-0.151093</td>\n",
              "      <td>-0.257813</td>\n",
              "      <td>1.000000</td>\n",
              "      <td>-0.011347</td>\n",
              "    </tr>\n",
              "    <tr>\n",
              "      <th>type_B_9</th>\n",
              "      <td>0.058666</td>\n",
              "      <td>0.029384</td>\n",
              "      <td>0.040039</td>\n",
              "      <td>-0.002020</td>\n",
              "      <td>0.133092</td>\n",
              "      <td>0.058666</td>\n",
              "      <td>0.126605</td>\n",
              "      <td>-0.026166</td>\n",
              "      <td>-0.003921</td>\n",
              "      <td>0.077060</td>\n",
              "      <td>0.002417</td>\n",
              "      <td>-0.011960</td>\n",
              "      <td>-0.050465</td>\n",
              "      <td>-0.029384</td>\n",
              "      <td>0.026226</td>\n",
              "      <td>0.033881</td>\n",
              "      <td>-0.040039</td>\n",
              "      <td>-0.068319</td>\n",
              "      <td>-0.011347</td>\n",
              "      <td>1.000000</td>\n",
              "    </tr>\n",
              "  </tbody>\n",
              "</table>\n",
              "</div>\n",
              "      <button class=\"colab-df-convert\" onclick=\"convertToInteractive('df-160da792-1fca-421d-bfbc-fc02fc3dae65')\"\n",
              "              title=\"Convert this dataframe to an interactive table.\"\n",
              "              style=\"display:none;\">\n",
              "        \n",
              "  <svg xmlns=\"http://www.w3.org/2000/svg\" height=\"24px\"viewBox=\"0 0 24 24\"\n",
              "       width=\"24px\">\n",
              "    <path d=\"M0 0h24v24H0V0z\" fill=\"none\"/>\n",
              "    <path d=\"M18.56 5.44l.94 2.06.94-2.06 2.06-.94-2.06-.94-.94-2.06-.94 2.06-2.06.94zm-11 1L8.5 8.5l.94-2.06 2.06-.94-2.06-.94L8.5 2.5l-.94 2.06-2.06.94zm10 10l.94 2.06.94-2.06 2.06-.94-2.06-.94-.94-2.06-.94 2.06-2.06.94z\"/><path d=\"M17.41 7.96l-1.37-1.37c-.4-.4-.92-.59-1.43-.59-.52 0-1.04.2-1.43.59L10.3 9.45l-7.72 7.72c-.78.78-.78 2.05 0 2.83L4 21.41c.39.39.9.59 1.41.59.51 0 1.02-.2 1.41-.59l7.78-7.78 2.81-2.81c.8-.78.8-2.07 0-2.86zM5.41 20L4 18.59l7.72-7.72 1.47 1.35L5.41 20z\"/>\n",
              "  </svg>\n",
              "      </button>\n",
              "      \n",
              "  <style>\n",
              "    .colab-df-container {\n",
              "      display:flex;\n",
              "      flex-wrap:wrap;\n",
              "      gap: 12px;\n",
              "    }\n",
              "\n",
              "    .colab-df-convert {\n",
              "      background-color: #E8F0FE;\n",
              "      border: none;\n",
              "      border-radius: 50%;\n",
              "      cursor: pointer;\n",
              "      display: none;\n",
              "      fill: #1967D2;\n",
              "      height: 32px;\n",
              "      padding: 0 0 0 0;\n",
              "      width: 32px;\n",
              "    }\n",
              "\n",
              "    .colab-df-convert:hover {\n",
              "      background-color: #E2EBFA;\n",
              "      box-shadow: 0px 1px 2px rgba(60, 64, 67, 0.3), 0px 1px 3px 1px rgba(60, 64, 67, 0.15);\n",
              "      fill: #174EA6;\n",
              "    }\n",
              "\n",
              "    [theme=dark] .colab-df-convert {\n",
              "      background-color: #3B4455;\n",
              "      fill: #D2E3FC;\n",
              "    }\n",
              "\n",
              "    [theme=dark] .colab-df-convert:hover {\n",
              "      background-color: #434B5C;\n",
              "      box-shadow: 0px 1px 3px 1px rgba(0, 0, 0, 0.15);\n",
              "      filter: drop-shadow(0px 1px 2px rgba(0, 0, 0, 0.3));\n",
              "      fill: #FFFFFF;\n",
              "    }\n",
              "  </style>\n",
              "\n",
              "      <script>\n",
              "        const buttonEl =\n",
              "          document.querySelector('#df-160da792-1fca-421d-bfbc-fc02fc3dae65 button.colab-df-convert');\n",
              "        buttonEl.style.display =\n",
              "          google.colab.kernel.accessAllowed ? 'block' : 'none';\n",
              "\n",
              "        async function convertToInteractive(key) {\n",
              "          const element = document.querySelector('#df-160da792-1fca-421d-bfbc-fc02fc3dae65');\n",
              "          const dataTable =\n",
              "            await google.colab.kernel.invokeFunction('convertToInteractive',\n",
              "                                                     [key], {});\n",
              "          if (!dataTable) return;\n",
              "\n",
              "          const docLinkHtml = 'Like what you see? Visit the ' +\n",
              "            '<a target=\"_blank\" href=https://colab.research.google.com/notebooks/data_table.ipynb>data table notebook</a>'\n",
              "            + ' to learn more about interactive tables.';\n",
              "          element.innerHTML = '';\n",
              "          dataTable['output_type'] = 'display_data';\n",
              "          await google.colab.output.renderOutput(dataTable, element);\n",
              "          const docLink = document.createElement('div');\n",
              "          docLink.innerHTML = docLinkHtml;\n",
              "          element.appendChild(docLink);\n",
              "        }\n",
              "      </script>\n",
              "    </div>\n",
              "  </div>\n",
              "  "
            ]
          },
          "metadata": {},
          "execution_count": 76
        }
      ]
    },
    {
      "cell_type": "code",
      "source": [
        "clean_1.drop(columns='age_P', inplace=True)"
      ],
      "metadata": {
        "id": "wiRQoEeorkdO"
      },
      "execution_count": 77,
      "outputs": []
    },
    {
      "cell_type": "markdown",
      "source": [
        "# Regression Modeling\n",
        "\n",
        "Moving on to some feature selection to fit our model, a common method is principal component analysis but in this situation it isn't a good fit. PCA is only good for numeric variables and in our data set as it stands, there are only a couple of variables and they are similar in nature. My strategy for selecting best model is to test three different feature selection methods to see which comes up with the best selection of attributes for our model. Since we are trying to predict the number of customers who will buy the extra package to be used for marketing purposes, we would rather predict more yesses and market to customers that will not buy the package than to miss potential sales opportunities. Therefore, we will be judging the models based on recall/sensitivity. Before moving to any of these methods, we need to split the data into two sets, the X consisting of all predictive attributes and y consisting of just the response variable. In order to interpret the results of the logistic regression best, we also have to flatten the y variable into 1D arrays after splitting into training and test sets."
      ],
      "metadata": {
        "id": "AMBUWpgI-4PZ"
      }
    },
    {
      "cell_type": "code",
      "source": [
        "X = clean_1.drop('purchase', axis=1)\n",
        "y = clean_1[['purchase']]\n",
        "\n",
        "X_train, X_test, y_train, y_test = train_test_split(X, y, test_size=0.2, random_state=42)\n",
        "\n",
        "y_train = np.ravel(y_train)\n",
        "y_test = np.ravel(y_test)"
      ],
      "metadata": {
        "id": "W4op6aiSNlzw"
      },
      "execution_count": 117,
      "outputs": []
    },
    {
      "cell_type": "code",
      "source": [
        "X_train.shape"
      ],
      "metadata": {
        "colab": {
          "base_uri": "https://localhost:8080/"
        },
        "id": "cBS_N32_XZNb",
        "outputId": "31f4204e-cc7f-47d1-da29-c415cf135d97"
      },
      "execution_count": 100,
      "outputs": [
        {
          "output_type": "execute_result",
          "data": {
            "text/plain": [
              "(8806, 18)"
            ]
          },
          "metadata": {},
          "execution_count": 100
        }
      ]
    },
    {
      "cell_type": "code",
      "source": [
        "model = LogisticRegression()\n",
        "model.fit(X_train, y_train)\n",
        "predicted = model.predict(X_test)\n",
        "a = metrics.classification_report(y_test, predicted)\n",
        "print(a)"
      ],
      "metadata": {
        "colab": {
          "base_uri": "https://localhost:8080/"
        },
        "id": "wec2Pi8RHqut",
        "outputId": "d78274d1-968f-4767-a4c0-7196897125b8"
      },
      "execution_count": 119,
      "outputs": [
        {
          "output_type": "stream",
          "name": "stdout",
          "text": [
            "              precision    recall  f1-score   support\n",
            "\n",
            "           0       0.82      0.94      0.87      1601\n",
            "           1       0.73      0.44      0.55       601\n",
            "\n",
            "    accuracy                           0.80      2202\n",
            "   macro avg       0.77      0.69      0.71      2202\n",
            "weighted avg       0.79      0.80      0.78      2202\n",
            "\n"
          ]
        },
        {
          "output_type": "stream",
          "name": "stderr",
          "text": [
            "/usr/local/lib/python3.7/dist-packages/sklearn/linear_model/_logistic.py:818: ConvergenceWarning: lbfgs failed to converge (status=1):\n",
            "STOP: TOTAL NO. of ITERATIONS REACHED LIMIT.\n",
            "\n",
            "Increase the number of iterations (max_iter) or scale the data as shown in:\n",
            "    https://scikit-learn.org/stable/modules/preprocessing.html\n",
            "Please also refer to the documentation for alternative solver options:\n",
            "    https://scikit-learn.org/stable/modules/linear_model.html#logistic-regression\n",
            "  extra_warning_msg=_LOGISTIC_SOLVER_CONVERGENCE_MSG,\n"
          ]
        }
      ]
    },
    {
      "cell_type": "markdown",
      "source": [
        "I created an initial model consisting of all variables included to compare against. By definition, this model is overfit and has high variance so it will be useful to have these statistics in determining the best model, seeing if we could get close to these numbers without using nearly as many variables. A key metric to pay attention to is the f-1 score. The f-1 score is an enhanced version of the accuracy giving weight to lower measures to show how well the model really performs. With this control, the f-1 is 78% which is pretty good. We will look at all measures but in particular the f-1."
      ],
      "metadata": {
        "id": "o1jqmspy7LTs"
      }
    },
    {
      "cell_type": "markdown",
      "source": [
        "### First Method/Model\n",
        "\n",
        "My first theory to test when creating my model is that maybe the potential customer can't be identified by any numeric statistics like age, length of relationship, or amount paid. Maybe, the key to identifying the perfect customer is through past activity. To test this theory, I decided to create a model of just those variables, including the various types, loyalty levels, and product types. "
      ],
      "metadata": {
        "id": "Ao-cDcxKMWrw"
      }
    },
    {
      "cell_type": "code",
      "source": [
        "from sklearn.metrics import recall_score\n",
        "X_train1 = X_train[['type_B_0', 'type_B_0','loyalty_99','loyalty_0','loyalty_1','loyalty_2','type_B_6','loyalty_3','type_A_3','type_B_3','prod_A','prod_B']]\n",
        "X_test1 = X_test[['type_B_0', 'type_B_0','loyalty_99','loyalty_0','loyalty_1','loyalty_2','type_B_6','loyalty_3','type_A_3','type_B_3','prod_A','prod_B']]\n",
        "\n",
        "model1 = LogisticRegression()\n",
        "model1.fit(X_train1, y_train)\n",
        "predicted = model1.predict(X_test1)\n",
        "b = metrics.classification_report(y_test, predicted)\n",
        "print(b)"
      ],
      "metadata": {
        "colab": {
          "base_uri": "https://localhost:8080/"
        },
        "id": "Ge2IeCmYfFvO",
        "outputId": "f2019981-a314-4d7f-8e2c-26017b019abd"
      },
      "execution_count": 120,
      "outputs": [
        {
          "output_type": "stream",
          "name": "stdout",
          "text": [
            "              precision    recall  f1-score   support\n",
            "\n",
            "           0       0.73      0.99      0.84      1601\n",
            "           1       0.17      0.00      0.01       601\n",
            "\n",
            "    accuracy                           0.72      2202\n",
            "   macro avg       0.45      0.50      0.42      2202\n",
            "weighted avg       0.57      0.72      0.61      2202\n",
            "\n"
          ]
        }
      ]
    },
    {
      "cell_type": "markdown",
      "source": [
        "Looking at the output of this model, it underperforms significantly compared to the statistics of our control model. All of the key measures are down and comparing the f-1 metric to the control, it's down 17% in this case. This isn't the best model to present. "
      ],
      "metadata": {
        "id": "hP6zH6FaoA1K"
      }
    },
    {
      "cell_type": "markdown",
      "source": [
        "### Second Method/Model\n",
        "\n"
      ],
      "metadata": {
        "id": "O9EScQ0UpL00"
      }
    },
    {
      "cell_type": "markdown",
      "source": [
        "The next method of feature selection that we decided to test is using the extra trees classifier. This selector fits a number of randomized decision trees on various subsamples of the data and uses averaging to improve accuracy and reduce over-fitting. Here, the classifier gives us age, turnover_A, and turnover_B as the variables to use in our prediction."
      ],
      "metadata": {
        "id": "q9n_qLTgwG9s"
      }
    },
    {
      "cell_type": "code",
      "source": [
        "clf = ExtraTreesClassifier()\n",
        "clf = clf.fit(X_train, y_train)\n",
        "model=SelectFromModel(clf, prefit=True)\n",
        "feature_idx=model.get_support()\n",
        "feature_name = X_train.columns[feature_idx]\n",
        "feature_name"
      ],
      "metadata": {
        "colab": {
          "base_uri": "https://localhost:8080/"
        },
        "id": "Jin9WlYHpjtP",
        "outputId": "7ea0ecfe-f020-479c-d273-b22ad2e9df68"
      },
      "execution_count": 104,
      "outputs": [
        {
          "output_type": "execute_result",
          "data": {
            "text/plain": [
              "Index(['age', 'turnover_A', 'turnover_B'], dtype='object')"
            ]
          },
          "metadata": {},
          "execution_count": 104
        }
      ]
    },
    {
      "cell_type": "code",
      "source": [
        "X_train2 = X_train[['age','turnover_A','turnover_B']]\n",
        "X_test2 = X_test[['age','turnover_A','turnover_B']]\n",
        "\n",
        "model2 = LogisticRegression()\n",
        "model2.fit(X_train2, y_train)\n",
        "predicted = model2.predict(X_test2)\n",
        "c = metrics.classification_report(y_test, predicted)\n",
        "print(c)"
      ],
      "metadata": {
        "colab": {
          "base_uri": "https://localhost:8080/"
        },
        "id": "jQdYlFXywnYg",
        "outputId": "08604646-4b1f-44be-e372-64d5bbf6d302"
      },
      "execution_count": 121,
      "outputs": [
        {
          "output_type": "stream",
          "name": "stdout",
          "text": [
            "              precision    recall  f1-score   support\n",
            "\n",
            "           0       0.78      0.94      0.86      1601\n",
            "           1       0.67      0.30      0.41       601\n",
            "\n",
            "    accuracy                           0.77      2202\n",
            "   macro avg       0.73      0.62      0.63      2202\n",
            "weighted avg       0.75      0.77      0.74      2202\n",
            "\n"
          ]
        }
      ]
    },
    {
      "cell_type": "markdown",
      "source": [
        "Using the features selected by this model, although only being 3 features, we are able to get extremely close to our control model with the f-1 score only going down by 4% and the other metrics follow a similar pattern. So far, this model seems to work best. Interestingly enough since it has only 3 variables but it was selected using statistical means and not human intuition so that probably has something to do with it."
      ],
      "metadata": {
        "id": "kal0muneqWvC"
      }
    },
    {
      "cell_type": "markdown",
      "source": [
        "### Third Method/Model\n",
        "\n",
        "The third method of feature selection being used is setting a correlation threshold. As mentioned above and displayed below, none of the variables has particularly high correlation so the threshold being set is going to be fairly low, in this case 25%. That left us with just type_B_0, type_A_0, type_B_3, prod_A, type_A_3, and prod_B. As shown below, all of these values have high correlation with each other but that's understood if you examine the variables chosen. All of these are binary variables and at least when it comes to the dummies of the product type variables, if an observation shows 0 for one of them then that means one of the others will be a 1. Given these understandable connections, we don't need to be worried about multicolinearity."
      ],
      "metadata": {
        "id": "ZKWSQGWiy1Ac"
      }
    },
    {
      "cell_type": "code",
      "source": [
        "corr = clean_1.corr()\n",
        "corr['purchase'].sort_values(ascending=False)"
      ],
      "metadata": {
        "colab": {
          "base_uri": "https://localhost:8080/"
        },
        "id": "dBVYFx74sLh4",
        "outputId": "8bff2c65-2489-498a-bb19-d609f4887085"
      },
      "execution_count": 110,
      "outputs": [
        {
          "output_type": "execute_result",
          "data": {
            "text/plain": [
              "purchase      1.000000\n",
              "type_B_0      0.316734\n",
              "type_A_0      0.293210\n",
              "loyalty_99    0.228532\n",
              "age           0.227510\n",
              "turnover_A    0.201813\n",
              "type_A_6      0.003193\n",
              "type_B_9     -0.026166\n",
              "loyalty_0    -0.043847\n",
              "loyalty_1    -0.047778\n",
              "loyalty_2    -0.054305\n",
              "turnover_B   -0.084418\n",
              "type_B_6     -0.084766\n",
              "lor_M        -0.171396\n",
              "loyalty_3    -0.175314\n",
              "type_B_3     -0.271626\n",
              "prod_A       -0.293210\n",
              "type_A_3     -0.293296\n",
              "prod_B       -0.316734\n",
              "Name: purchase, dtype: float64"
            ]
          },
          "metadata": {},
          "execution_count": 110
        }
      ]
    },
    {
      "cell_type": "code",
      "source": [
        "X_train3.corr()"
      ],
      "metadata": {
        "colab": {
          "base_uri": "https://localhost:8080/",
          "height": 206
        },
        "id": "mGap5t2Buezs",
        "outputId": "4d8d2f68-f2ba-41aa-e18b-4572e73ace03"
      },
      "execution_count": 111,
      "outputs": [
        {
          "output_type": "execute_result",
          "data": {
            "text/plain": [
              "          type_B_0  type_A_0  type_B_3    prod_A    prod_B\n",
              "type_B_0  1.000000  0.866369 -0.911339 -0.866369 -1.000000\n",
              "type_A_0  0.866369  1.000000 -0.787243 -1.000000 -0.866369\n",
              "type_B_3 -0.911339 -0.787243  1.000000  0.787243  0.911339\n",
              "prod_A   -0.866369 -1.000000  0.787243  1.000000  0.866369\n",
              "prod_B   -1.000000 -0.866369  0.911339  0.866369  1.000000"
            ],
            "text/html": [
              "\n",
              "  <div id=\"df-09b4a884-f460-437b-ac8a-a2ce178f0ecc\">\n",
              "    <div class=\"colab-df-container\">\n",
              "      <div>\n",
              "<style scoped>\n",
              "    .dataframe tbody tr th:only-of-type {\n",
              "        vertical-align: middle;\n",
              "    }\n",
              "\n",
              "    .dataframe tbody tr th {\n",
              "        vertical-align: top;\n",
              "    }\n",
              "\n",
              "    .dataframe thead th {\n",
              "        text-align: right;\n",
              "    }\n",
              "</style>\n",
              "<table border=\"1\" class=\"dataframe\">\n",
              "  <thead>\n",
              "    <tr style=\"text-align: right;\">\n",
              "      <th></th>\n",
              "      <th>type_B_0</th>\n",
              "      <th>type_A_0</th>\n",
              "      <th>type_B_3</th>\n",
              "      <th>prod_A</th>\n",
              "      <th>prod_B</th>\n",
              "    </tr>\n",
              "  </thead>\n",
              "  <tbody>\n",
              "    <tr>\n",
              "      <th>type_B_0</th>\n",
              "      <td>1.000000</td>\n",
              "      <td>0.866369</td>\n",
              "      <td>-0.911339</td>\n",
              "      <td>-0.866369</td>\n",
              "      <td>-1.000000</td>\n",
              "    </tr>\n",
              "    <tr>\n",
              "      <th>type_A_0</th>\n",
              "      <td>0.866369</td>\n",
              "      <td>1.000000</td>\n",
              "      <td>-0.787243</td>\n",
              "      <td>-1.000000</td>\n",
              "      <td>-0.866369</td>\n",
              "    </tr>\n",
              "    <tr>\n",
              "      <th>type_B_3</th>\n",
              "      <td>-0.911339</td>\n",
              "      <td>-0.787243</td>\n",
              "      <td>1.000000</td>\n",
              "      <td>0.787243</td>\n",
              "      <td>0.911339</td>\n",
              "    </tr>\n",
              "    <tr>\n",
              "      <th>prod_A</th>\n",
              "      <td>-0.866369</td>\n",
              "      <td>-1.000000</td>\n",
              "      <td>0.787243</td>\n",
              "      <td>1.000000</td>\n",
              "      <td>0.866369</td>\n",
              "    </tr>\n",
              "    <tr>\n",
              "      <th>prod_B</th>\n",
              "      <td>-1.000000</td>\n",
              "      <td>-0.866369</td>\n",
              "      <td>0.911339</td>\n",
              "      <td>0.866369</td>\n",
              "      <td>1.000000</td>\n",
              "    </tr>\n",
              "  </tbody>\n",
              "</table>\n",
              "</div>\n",
              "      <button class=\"colab-df-convert\" onclick=\"convertToInteractive('df-09b4a884-f460-437b-ac8a-a2ce178f0ecc')\"\n",
              "              title=\"Convert this dataframe to an interactive table.\"\n",
              "              style=\"display:none;\">\n",
              "        \n",
              "  <svg xmlns=\"http://www.w3.org/2000/svg\" height=\"24px\"viewBox=\"0 0 24 24\"\n",
              "       width=\"24px\">\n",
              "    <path d=\"M0 0h24v24H0V0z\" fill=\"none\"/>\n",
              "    <path d=\"M18.56 5.44l.94 2.06.94-2.06 2.06-.94-2.06-.94-.94-2.06-.94 2.06-2.06.94zm-11 1L8.5 8.5l.94-2.06 2.06-.94-2.06-.94L8.5 2.5l-.94 2.06-2.06.94zm10 10l.94 2.06.94-2.06 2.06-.94-2.06-.94-.94-2.06-.94 2.06-2.06.94z\"/><path d=\"M17.41 7.96l-1.37-1.37c-.4-.4-.92-.59-1.43-.59-.52 0-1.04.2-1.43.59L10.3 9.45l-7.72 7.72c-.78.78-.78 2.05 0 2.83L4 21.41c.39.39.9.59 1.41.59.51 0 1.02-.2 1.41-.59l7.78-7.78 2.81-2.81c.8-.78.8-2.07 0-2.86zM5.41 20L4 18.59l7.72-7.72 1.47 1.35L5.41 20z\"/>\n",
              "  </svg>\n",
              "      </button>\n",
              "      \n",
              "  <style>\n",
              "    .colab-df-container {\n",
              "      display:flex;\n",
              "      flex-wrap:wrap;\n",
              "      gap: 12px;\n",
              "    }\n",
              "\n",
              "    .colab-df-convert {\n",
              "      background-color: #E8F0FE;\n",
              "      border: none;\n",
              "      border-radius: 50%;\n",
              "      cursor: pointer;\n",
              "      display: none;\n",
              "      fill: #1967D2;\n",
              "      height: 32px;\n",
              "      padding: 0 0 0 0;\n",
              "      width: 32px;\n",
              "    }\n",
              "\n",
              "    .colab-df-convert:hover {\n",
              "      background-color: #E2EBFA;\n",
              "      box-shadow: 0px 1px 2px rgba(60, 64, 67, 0.3), 0px 1px 3px 1px rgba(60, 64, 67, 0.15);\n",
              "      fill: #174EA6;\n",
              "    }\n",
              "\n",
              "    [theme=dark] .colab-df-convert {\n",
              "      background-color: #3B4455;\n",
              "      fill: #D2E3FC;\n",
              "    }\n",
              "\n",
              "    [theme=dark] .colab-df-convert:hover {\n",
              "      background-color: #434B5C;\n",
              "      box-shadow: 0px 1px 3px 1px rgba(0, 0, 0, 0.15);\n",
              "      filter: drop-shadow(0px 1px 2px rgba(0, 0, 0, 0.3));\n",
              "      fill: #FFFFFF;\n",
              "    }\n",
              "  </style>\n",
              "\n",
              "      <script>\n",
              "        const buttonEl =\n",
              "          document.querySelector('#df-09b4a884-f460-437b-ac8a-a2ce178f0ecc button.colab-df-convert');\n",
              "        buttonEl.style.display =\n",
              "          google.colab.kernel.accessAllowed ? 'block' : 'none';\n",
              "\n",
              "        async function convertToInteractive(key) {\n",
              "          const element = document.querySelector('#df-09b4a884-f460-437b-ac8a-a2ce178f0ecc');\n",
              "          const dataTable =\n",
              "            await google.colab.kernel.invokeFunction('convertToInteractive',\n",
              "                                                     [key], {});\n",
              "          if (!dataTable) return;\n",
              "\n",
              "          const docLinkHtml = 'Like what you see? Visit the ' +\n",
              "            '<a target=\"_blank\" href=https://colab.research.google.com/notebooks/data_table.ipynb>data table notebook</a>'\n",
              "            + ' to learn more about interactive tables.';\n",
              "          element.innerHTML = '';\n",
              "          dataTable['output_type'] = 'display_data';\n",
              "          await google.colab.output.renderOutput(dataTable, element);\n",
              "          const docLink = document.createElement('div');\n",
              "          docLink.innerHTML = docLinkHtml;\n",
              "          element.appendChild(docLink);\n",
              "        }\n",
              "      </script>\n",
              "    </div>\n",
              "  </div>\n",
              "  "
            ]
          },
          "metadata": {},
          "execution_count": 111
        }
      ]
    },
    {
      "cell_type": "code",
      "source": [
        "corr = clean_1.corr()['purchase'].sort_values(ascending=False)\n",
        "vals = []\n",
        "for i in range(len(corr)):\n",
        "  if abs(corr[i]) < 1 and abs(corr[i]) > 0.25:\n",
        "    vals.append(corr.index[i])\n",
        "\n",
        "vals"
      ],
      "metadata": {
        "colab": {
          "base_uri": "https://localhost:8080/"
        },
        "id": "dzkMLrUpz8EQ",
        "outputId": "f5ec365d-3c89-4e8e-d5bc-6075acc2dee0"
      },
      "execution_count": 107,
      "outputs": [
        {
          "output_type": "execute_result",
          "data": {
            "text/plain": [
              "['type_B_0', 'type_A_0', 'type_B_3', 'prod_A', 'type_A_3', 'prod_B']"
            ]
          },
          "metadata": {},
          "execution_count": 107
        }
      ]
    },
    {
      "cell_type": "code",
      "source": [
        "X_train3 = X_train[['type_B_0','type_A_0','type_B_3','prod_A','prod_B']]\n",
        "X_test3 = X_test[['type_B_0','type_A_0','type_B_3','prod_A','prod_B']]\n",
        "\n",
        "model3 = LogisticRegression()\n",
        "model3.fit(X_train3, y_train)\n",
        "predicted = model3.predict(X_test3)\n",
        "d = metrics.classification_report(y_test, predicted)\n",
        "print(d)"
      ],
      "metadata": {
        "colab": {
          "base_uri": "https://localhost:8080/"
        },
        "id": "hRUPwy_nqIiF",
        "outputId": "fcf0d3eb-e0cd-4343-f90e-f9ddd3438d28"
      },
      "execution_count": 124,
      "outputs": [
        {
          "output_type": "stream",
          "name": "stdout",
          "text": [
            "              precision    recall  f1-score   support\n",
            "\n",
            "           0       0.73      1.00      0.84      1601\n",
            "           1       0.00      0.00      0.00       601\n",
            "\n",
            "    accuracy                           0.73      2202\n",
            "   macro avg       0.36      0.50      0.42      2202\n",
            "weighted avg       0.53      0.73      0.61      2202\n",
            "\n"
          ]
        },
        {
          "output_type": "stream",
          "name": "stderr",
          "text": [
            "/usr/local/lib/python3.7/dist-packages/sklearn/metrics/_classification.py:1318: UndefinedMetricWarning: Precision and F-score are ill-defined and being set to 0.0 in labels with no predicted samples. Use `zero_division` parameter to control this behavior.\n",
            "  _warn_prf(average, modifier, msg_start, len(result))\n",
            "/usr/local/lib/python3.7/dist-packages/sklearn/metrics/_classification.py:1318: UndefinedMetricWarning: Precision and F-score are ill-defined and being set to 0.0 in labels with no predicted samples. Use `zero_division` parameter to control this behavior.\n",
            "  _warn_prf(average, modifier, msg_start, len(result))\n",
            "/usr/local/lib/python3.7/dist-packages/sklearn/metrics/_classification.py:1318: UndefinedMetricWarning: Precision and F-score are ill-defined and being set to 0.0 in labels with no predicted samples. Use `zero_division` parameter to control this behavior.\n",
            "  _warn_prf(average, modifier, msg_start, len(result))\n"
          ]
        }
      ]
    },
    {
      "cell_type": "markdown",
      "source": [
        "Looking at this output, these scores resemble those that we saw in the second model. This isn't surprising as all of these variables were included in the first model and are all categorical."
      ],
      "metadata": {
        "id": "t6gCLcMWv_l7"
      }
    },
    {
      "cell_type": "markdown",
      "source": [
        "# Model Selection\n",
        "\n",
        "After looking at the three models generated, it's clear that the one that comes closest to the control model is the second, with features generated by using the extra trees classifier. Compared to the other two models, it is the only one that incorporates all numeric values but what is interesting is that it contains two variables that are just the price of packages A and B which is something that I would not have considered to put in. Another reason to choose this model is because it has potential to get better. It's pretty close to the model that was overfit and could be enhanced by adding one or two categorical variables to the equation."
      ],
      "metadata": {
        "id": "g-UCLt3IyDQU"
      }
    },
    {
      "cell_type": "code",
      "source": [
        "print('Control', a)\n",
        "print('Model #2', c)"
      ],
      "metadata": {
        "colab": {
          "base_uri": "https://localhost:8080/"
        },
        "id": "ANao9hOJ1ExW",
        "outputId": "6e44ffee-c593-4567-ab16-2b5e3bc8176a"
      },
      "execution_count": 127,
      "outputs": [
        {
          "output_type": "stream",
          "name": "stdout",
          "text": [
            "Control               precision    recall  f1-score   support\n",
            "\n",
            "           0       0.82      0.94      0.87      1601\n",
            "           1       0.73      0.44      0.55       601\n",
            "\n",
            "    accuracy                           0.80      2202\n",
            "   macro avg       0.77      0.69      0.71      2202\n",
            "weighted avg       0.79      0.80      0.78      2202\n",
            "\n",
            "Model #2               precision    recall  f1-score   support\n",
            "\n",
            "           0       0.78      0.94      0.86      1601\n",
            "           1       0.67      0.30      0.41       601\n",
            "\n",
            "    accuracy                           0.77      2202\n",
            "   macro avg       0.73      0.62      0.63      2202\n",
            "weighted avg       0.75      0.77      0.74      2202\n",
            "\n"
          ]
        }
      ]
    },
    {
      "cell_type": "markdown",
      "source": [
        "As seen in the outputs above, the numbers of the second model and the control look nearly identical when fitted."
      ],
      "metadata": {
        "id": "QHirF2CJ13eP"
      }
    },
    {
      "cell_type": "markdown",
      "source": [
        "# Conclusion\n",
        "It seems that when it comes to logistic regression, at least in this scenario, the best route to feature selection is through statistical methods. When broken down mathematically, just correlation threshold and intuition are not enough to generate the perfect model. In terms of feature engineering, interaction variables might be a better route to go instead of just using binary and dummie variables. For example in this scenario, instead of having a column for products a and b as binaries, we could have created an interaction variable called \"products owned\", this would be a continuous numerical variable that in this caes would consist of values from 0-2. "
      ],
      "metadata": {
        "id": "MIoYvIqE2bSH"
      }
    }
  ]
}