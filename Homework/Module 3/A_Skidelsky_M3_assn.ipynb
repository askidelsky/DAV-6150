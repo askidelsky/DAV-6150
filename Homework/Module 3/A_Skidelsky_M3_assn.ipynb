{
 "cells": [
  {
   "cell_type": "code",
   "execution_count": 1,
   "id": "6092046f",
   "metadata": {},
   "outputs": [],
   "source": [
    "import pandas as pd\n",
    "import matplotlib.pyplot as plt\n",
    "import numpy as np\n",
    "import statistics as stats"
   ]
  },
  {
   "cell_type": "markdown",
   "id": "5b554518",
   "metadata": {},
   "source": [
    "### Introduction and Data Preparation:\n",
    "This dataset describes various different statistics for over 12,000 bottles of wine including their acidity, pH value, density, and star rating ranging between 1 and 4. This data set can be used to try and predict the amount of wine bottles sold which is listed as \"TARGET\" here. To be able to do this, the dataset must be cleaned as there are many missing values among the various columns but before we can even begin to do that, we must organize the dataset into a format which is usable. To summarize the steps taken below, first the dataset is loaded from github, then the first column is removed since pandas provides its own row numbers so there's no need to list it twice. The basic descriptive statistics of the dataset are also listed, 16 columns, 12,795 rows, 6,359 observations have missing values, meaning that just under 50% of observation have at least one value missing. Since this is such a large number, it's not an option to just remove any rows missing data."
   ]
  },
  {
   "cell_type": "code",
   "execution_count": 2,
   "id": "a9741266",
   "metadata": {},
   "outputs": [
    {
     "data": {
      "text/html": [
       "<div>\n",
       "<style scoped>\n",
       "    .dataframe tbody tr th:only-of-type {\n",
       "        vertical-align: middle;\n",
       "    }\n",
       "\n",
       "    .dataframe tbody tr th {\n",
       "        vertical-align: top;\n",
       "    }\n",
       "\n",
       "    .dataframe thead th {\n",
       "        text-align: right;\n",
       "    }\n",
       "</style>\n",
       "<table border=\"1\" class=\"dataframe\">\n",
       "  <thead>\n",
       "    <tr style=\"text-align: right;\">\n",
       "      <th></th>\n",
       "      <th>Unnamed: 0</th>\n",
       "      <th>INDEX</th>\n",
       "      <th>TARGET</th>\n",
       "      <th>FixedAcidity</th>\n",
       "      <th>VolatileAcidity</th>\n",
       "      <th>CitricAcid</th>\n",
       "      <th>ResidualSugar</th>\n",
       "      <th>Chlorides</th>\n",
       "      <th>FreeSulfurDioxide</th>\n",
       "      <th>TotalSulfurDioxide</th>\n",
       "      <th>Density</th>\n",
       "      <th>pH</th>\n",
       "      <th>Sulphates</th>\n",
       "      <th>Alcohol</th>\n",
       "      <th>LabelAppeal</th>\n",
       "      <th>AcidIndex</th>\n",
       "      <th>STARS</th>\n",
       "    </tr>\n",
       "  </thead>\n",
       "  <tbody>\n",
       "    <tr>\n",
       "      <th>0</th>\n",
       "      <td>0</td>\n",
       "      <td>1</td>\n",
       "      <td>3</td>\n",
       "      <td>3.2</td>\n",
       "      <td>1.160</td>\n",
       "      <td>0.98</td>\n",
       "      <td>54.2</td>\n",
       "      <td>0.567</td>\n",
       "      <td>NaN</td>\n",
       "      <td>268.0</td>\n",
       "      <td>0.99280</td>\n",
       "      <td>3.33</td>\n",
       "      <td>0.59</td>\n",
       "      <td>9.9</td>\n",
       "      <td>0</td>\n",
       "      <td>8</td>\n",
       "      <td>2.0</td>\n",
       "    </tr>\n",
       "    <tr>\n",
       "      <th>1</th>\n",
       "      <td>1</td>\n",
       "      <td>2</td>\n",
       "      <td>3</td>\n",
       "      <td>4.5</td>\n",
       "      <td>0.160</td>\n",
       "      <td>0.81</td>\n",
       "      <td>26.1</td>\n",
       "      <td>0.425</td>\n",
       "      <td>15.0</td>\n",
       "      <td>327.0</td>\n",
       "      <td>1.02792</td>\n",
       "      <td>3.38</td>\n",
       "      <td>0.70</td>\n",
       "      <td>NaN</td>\n",
       "      <td>-1</td>\n",
       "      <td>7</td>\n",
       "      <td>3.0</td>\n",
       "    </tr>\n",
       "    <tr>\n",
       "      <th>2</th>\n",
       "      <td>2</td>\n",
       "      <td>4</td>\n",
       "      <td>5</td>\n",
       "      <td>7.1</td>\n",
       "      <td>2.640</td>\n",
       "      <td>0.88</td>\n",
       "      <td>14.8</td>\n",
       "      <td>0.037</td>\n",
       "      <td>214.0</td>\n",
       "      <td>142.0</td>\n",
       "      <td>0.99518</td>\n",
       "      <td>3.12</td>\n",
       "      <td>0.48</td>\n",
       "      <td>22.0</td>\n",
       "      <td>-1</td>\n",
       "      <td>8</td>\n",
       "      <td>3.0</td>\n",
       "    </tr>\n",
       "    <tr>\n",
       "      <th>3</th>\n",
       "      <td>3</td>\n",
       "      <td>5</td>\n",
       "      <td>3</td>\n",
       "      <td>5.7</td>\n",
       "      <td>0.385</td>\n",
       "      <td>0.04</td>\n",
       "      <td>18.8</td>\n",
       "      <td>0.425</td>\n",
       "      <td>22.0</td>\n",
       "      <td>115.0</td>\n",
       "      <td>0.99640</td>\n",
       "      <td>2.24</td>\n",
       "      <td>1.83</td>\n",
       "      <td>6.2</td>\n",
       "      <td>-1</td>\n",
       "      <td>6</td>\n",
       "      <td>1.0</td>\n",
       "    </tr>\n",
       "    <tr>\n",
       "      <th>4</th>\n",
       "      <td>4</td>\n",
       "      <td>6</td>\n",
       "      <td>4</td>\n",
       "      <td>8.0</td>\n",
       "      <td>0.330</td>\n",
       "      <td>1.26</td>\n",
       "      <td>9.4</td>\n",
       "      <td>NaN</td>\n",
       "      <td>167.0</td>\n",
       "      <td>108.0</td>\n",
       "      <td>0.99457</td>\n",
       "      <td>3.12</td>\n",
       "      <td>1.77</td>\n",
       "      <td>13.7</td>\n",
       "      <td>0</td>\n",
       "      <td>9</td>\n",
       "      <td>2.0</td>\n",
       "    </tr>\n",
       "  </tbody>\n",
       "</table>\n",
       "</div>"
      ],
      "text/plain": [
       "   Unnamed: 0  INDEX  TARGET  FixedAcidity  VolatileAcidity  CitricAcid  \\\n",
       "0           0      1       3           3.2            1.160        0.98   \n",
       "1           1      2       3           4.5            0.160        0.81   \n",
       "2           2      4       5           7.1            2.640        0.88   \n",
       "3           3      5       3           5.7            0.385        0.04   \n",
       "4           4      6       4           8.0            0.330        1.26   \n",
       "\n",
       "   ResidualSugar  Chlorides  FreeSulfurDioxide  TotalSulfurDioxide  Density  \\\n",
       "0           54.2      0.567                NaN               268.0  0.99280   \n",
       "1           26.1      0.425               15.0               327.0  1.02792   \n",
       "2           14.8      0.037              214.0               142.0  0.99518   \n",
       "3           18.8      0.425               22.0               115.0  0.99640   \n",
       "4            9.4        NaN              167.0               108.0  0.99457   \n",
       "\n",
       "     pH  Sulphates  Alcohol  LabelAppeal  AcidIndex  STARS  \n",
       "0  3.33       0.59      9.9            0          8    2.0  \n",
       "1  3.38       0.70      NaN           -1          7    3.0  \n",
       "2  3.12       0.48     22.0           -1          8    3.0  \n",
       "3  2.24       1.83      6.2           -1          6    1.0  \n",
       "4  3.12       1.77     13.7            0          9    2.0  "
      ]
     },
     "execution_count": 2,
     "metadata": {},
     "output_type": "execute_result"
    }
   ],
   "source": [
    "df = pd.read_csv('https://raw.githubusercontent.com/askidelsky/DAV-6150/main/Data%20Sets/Module%203/M3_Data%20(1).csv')\n",
    "df.head()"
   ]
  },
  {
   "cell_type": "code",
   "execution_count": 3,
   "id": "f77c8088",
   "metadata": {
    "scrolled": true
   },
   "outputs": [
    {
     "data": {
      "text/html": [
       "<div>\n",
       "<style scoped>\n",
       "    .dataframe tbody tr th:only-of-type {\n",
       "        vertical-align: middle;\n",
       "    }\n",
       "\n",
       "    .dataframe tbody tr th {\n",
       "        vertical-align: top;\n",
       "    }\n",
       "\n",
       "    .dataframe thead th {\n",
       "        text-align: right;\n",
       "    }\n",
       "</style>\n",
       "<table border=\"1\" class=\"dataframe\">\n",
       "  <thead>\n",
       "    <tr style=\"text-align: right;\">\n",
       "      <th></th>\n",
       "      <th>INDEX</th>\n",
       "      <th>TARGET</th>\n",
       "      <th>FixedAcidity</th>\n",
       "      <th>VolatileAcidity</th>\n",
       "      <th>CitricAcid</th>\n",
       "      <th>ResidualSugar</th>\n",
       "      <th>Chlorides</th>\n",
       "      <th>FreeSulfurDioxide</th>\n",
       "      <th>TotalSulfurDioxide</th>\n",
       "      <th>Density</th>\n",
       "      <th>pH</th>\n",
       "      <th>Sulphates</th>\n",
       "      <th>Alcohol</th>\n",
       "      <th>LabelAppeal</th>\n",
       "      <th>AcidIndex</th>\n",
       "      <th>STARS</th>\n",
       "    </tr>\n",
       "  </thead>\n",
       "  <tbody>\n",
       "    <tr>\n",
       "      <th>0</th>\n",
       "      <td>1</td>\n",
       "      <td>3</td>\n",
       "      <td>3.2</td>\n",
       "      <td>1.160</td>\n",
       "      <td>0.98</td>\n",
       "      <td>54.2</td>\n",
       "      <td>0.567</td>\n",
       "      <td>NaN</td>\n",
       "      <td>268.0</td>\n",
       "      <td>0.99280</td>\n",
       "      <td>3.33</td>\n",
       "      <td>0.59</td>\n",
       "      <td>9.9</td>\n",
       "      <td>0</td>\n",
       "      <td>8</td>\n",
       "      <td>2.0</td>\n",
       "    </tr>\n",
       "    <tr>\n",
       "      <th>1</th>\n",
       "      <td>2</td>\n",
       "      <td>3</td>\n",
       "      <td>4.5</td>\n",
       "      <td>0.160</td>\n",
       "      <td>0.81</td>\n",
       "      <td>26.1</td>\n",
       "      <td>0.425</td>\n",
       "      <td>15.0</td>\n",
       "      <td>327.0</td>\n",
       "      <td>1.02792</td>\n",
       "      <td>3.38</td>\n",
       "      <td>0.70</td>\n",
       "      <td>NaN</td>\n",
       "      <td>-1</td>\n",
       "      <td>7</td>\n",
       "      <td>3.0</td>\n",
       "    </tr>\n",
       "    <tr>\n",
       "      <th>2</th>\n",
       "      <td>4</td>\n",
       "      <td>5</td>\n",
       "      <td>7.1</td>\n",
       "      <td>2.640</td>\n",
       "      <td>0.88</td>\n",
       "      <td>14.8</td>\n",
       "      <td>0.037</td>\n",
       "      <td>214.0</td>\n",
       "      <td>142.0</td>\n",
       "      <td>0.99518</td>\n",
       "      <td>3.12</td>\n",
       "      <td>0.48</td>\n",
       "      <td>22.0</td>\n",
       "      <td>-1</td>\n",
       "      <td>8</td>\n",
       "      <td>3.0</td>\n",
       "    </tr>\n",
       "    <tr>\n",
       "      <th>3</th>\n",
       "      <td>5</td>\n",
       "      <td>3</td>\n",
       "      <td>5.7</td>\n",
       "      <td>0.385</td>\n",
       "      <td>0.04</td>\n",
       "      <td>18.8</td>\n",
       "      <td>0.425</td>\n",
       "      <td>22.0</td>\n",
       "      <td>115.0</td>\n",
       "      <td>0.99640</td>\n",
       "      <td>2.24</td>\n",
       "      <td>1.83</td>\n",
       "      <td>6.2</td>\n",
       "      <td>-1</td>\n",
       "      <td>6</td>\n",
       "      <td>1.0</td>\n",
       "    </tr>\n",
       "    <tr>\n",
       "      <th>4</th>\n",
       "      <td>6</td>\n",
       "      <td>4</td>\n",
       "      <td>8.0</td>\n",
       "      <td>0.330</td>\n",
       "      <td>1.26</td>\n",
       "      <td>9.4</td>\n",
       "      <td>NaN</td>\n",
       "      <td>167.0</td>\n",
       "      <td>108.0</td>\n",
       "      <td>0.99457</td>\n",
       "      <td>3.12</td>\n",
       "      <td>1.77</td>\n",
       "      <td>13.7</td>\n",
       "      <td>0</td>\n",
       "      <td>9</td>\n",
       "      <td>2.0</td>\n",
       "    </tr>\n",
       "  </tbody>\n",
       "</table>\n",
       "</div>"
      ],
      "text/plain": [
       "   INDEX  TARGET  FixedAcidity  VolatileAcidity  CitricAcid  ResidualSugar  \\\n",
       "0      1       3           3.2            1.160        0.98           54.2   \n",
       "1      2       3           4.5            0.160        0.81           26.1   \n",
       "2      4       5           7.1            2.640        0.88           14.8   \n",
       "3      5       3           5.7            0.385        0.04           18.8   \n",
       "4      6       4           8.0            0.330        1.26            9.4   \n",
       "\n",
       "   Chlorides  FreeSulfurDioxide  TotalSulfurDioxide  Density    pH  Sulphates  \\\n",
       "0      0.567                NaN               268.0  0.99280  3.33       0.59   \n",
       "1      0.425               15.0               327.0  1.02792  3.38       0.70   \n",
       "2      0.037              214.0               142.0  0.99518  3.12       0.48   \n",
       "3      0.425               22.0               115.0  0.99640  2.24       1.83   \n",
       "4        NaN              167.0               108.0  0.99457  3.12       1.77   \n",
       "\n",
       "   Alcohol  LabelAppeal  AcidIndex  STARS  \n",
       "0      9.9            0          8    2.0  \n",
       "1      NaN           -1          7    3.0  \n",
       "2     22.0           -1          8    3.0  \n",
       "3      6.2           -1          6    1.0  \n",
       "4     13.7            0          9    2.0  "
      ]
     },
     "execution_count": 3,
     "metadata": {},
     "output_type": "execute_result"
    }
   ],
   "source": [
    "#get rid of unnamed column, no need for line numbers when pandas provides automatically\n",
    "df1 = df.iloc[:,1:]\n",
    "df1.head()"
   ]
  },
  {
   "cell_type": "markdown",
   "id": "723693ae",
   "metadata": {},
   "source": [
    "### Exploratory Data Analysis: Profiling the Data\n",
    "Before delving into the data at hand, it's crucial to note the scope of the dataset. As stated above, there are 16 columns (14 explanatory variables, one predictor variable, and one identifier), 12,795 total observations, 6,359 observations with missing values, and 8,200 missing values scattered throughout the dataset. This amounts to slightly less than 50% of the total observations and because of this the strategy for data cleaning that involves just removing the problematic observations since that is nearly half of all observations. Additionally, it's important to notice that all variables are numeric but even so, INDEX, STARS, and LabelAppeal are categorical although INDEX is nominal and the other two are ordinal so can have similar replacement values applied to them as regular continuous variables. "
   ]
  },
  {
   "cell_type": "code",
   "execution_count": 4,
   "id": "a315844c",
   "metadata": {},
   "outputs": [
    {
     "name": "stdout",
     "output_type": "stream",
     "text": [
      "Columns:  16\n",
      "Total Amount of Missing Values:  8200\n",
      "Observations with Missing Values:  6359\n",
      "Total Observations:  12795\n",
      "Percentage Observations with Missing Values:  49.699 %\n"
     ]
    }
   ],
   "source": [
    "amt = 0\n",
    "for i in range(len(df)):\n",
    "    if df.loc[[i]].isna().sum().sum() > 0:\n",
    "        amt += 1\n",
    "\n",
    "print('Columns: ', len(df1.columns))\n",
    "print('Total Amount of Missing Values: ', df1.isna().sum().sum())\n",
    "print('Observations with Missing Values: ',amt)\n",
    "print('Total Observations: ', len(df1))\n",
    "print('Percentage Observations with Missing Values: ', round(100*(amt/len(df1)), 3),'%')"
   ]
  },
  {
   "cell_type": "code",
   "execution_count": 5,
   "id": "63c1b306",
   "metadata": {
    "scrolled": true
   },
   "outputs": [
    {
     "data": {
      "text/plain": [
       "{'INDEX': numpy.int64,\n",
       " 'TARGET': numpy.int64,\n",
       " 'FixedAcidity': numpy.float64,\n",
       " 'VolatileAcidity': numpy.float64,\n",
       " 'CitricAcid': numpy.float64,\n",
       " 'ResidualSugar': numpy.float64,\n",
       " 'Chlorides': numpy.float64,\n",
       " 'FreeSulfurDioxide': numpy.float64,\n",
       " 'TotalSulfurDioxide': numpy.float64,\n",
       " 'Density': numpy.float64,\n",
       " 'pH': numpy.float64,\n",
       " 'Sulphates': numpy.float64,\n",
       " 'Alcohol': numpy.float64,\n",
       " 'LabelAppeal': numpy.int64,\n",
       " 'AcidIndex': numpy.int64,\n",
       " 'STARS': numpy.float64}"
      ]
     },
     "execution_count": 5,
     "metadata": {},
     "output_type": "execute_result"
    }
   ],
   "source": [
    "#all fields are numeric and are eligible for the replacement method of dealing with missing values\n",
    "types = {}\n",
    "for i in range(len(df1.columns)):\n",
    "    types[df1.columns[i]] = type(df1.iloc[0,i])\n",
    "types"
   ]
  },
  {
   "cell_type": "markdown",
   "id": "8e51f41c",
   "metadata": {},
   "source": [
    "### Exploratory Data Analysis: Distribution and Correlation of the Variables\n",
    "Two notes before diving into information derived from the EDA, first off this is done before editing any problematic observations, this will show to have an extreme effect on the results on typical EDA methods. Second, I removed the INDEX column from all analysis since it's just an arbitrary identifier and should have no effect on the results of any machine learning algorithm applied. Looking at the descriptive statistics below, it's interesting to note that all variables have relatively low standard deviations."
   ]
  },
  {
   "cell_type": "code",
   "execution_count": 6,
   "id": "bfa69133",
   "metadata": {
    "scrolled": true
   },
   "outputs": [
    {
     "data": {
      "text/html": [
       "<div>\n",
       "<style scoped>\n",
       "    .dataframe tbody tr th:only-of-type {\n",
       "        vertical-align: middle;\n",
       "    }\n",
       "\n",
       "    .dataframe tbody tr th {\n",
       "        vertical-align: top;\n",
       "    }\n",
       "\n",
       "    .dataframe thead th {\n",
       "        text-align: right;\n",
       "    }\n",
       "</style>\n",
       "<table border=\"1\" class=\"dataframe\">\n",
       "  <thead>\n",
       "    <tr style=\"text-align: right;\">\n",
       "      <th></th>\n",
       "      <th>TARGET</th>\n",
       "      <th>FixedAcidity</th>\n",
       "      <th>VolatileAcidity</th>\n",
       "      <th>CitricAcid</th>\n",
       "      <th>ResidualSugar</th>\n",
       "      <th>Chlorides</th>\n",
       "      <th>FreeSulfurDioxide</th>\n",
       "      <th>TotalSulfurDioxide</th>\n",
       "      <th>Density</th>\n",
       "      <th>pH</th>\n",
       "      <th>Sulphates</th>\n",
       "      <th>Alcohol</th>\n",
       "      <th>LabelAppeal</th>\n",
       "      <th>AcidIndex</th>\n",
       "      <th>STARS</th>\n",
       "    </tr>\n",
       "  </thead>\n",
       "  <tbody>\n",
       "    <tr>\n",
       "      <th>count</th>\n",
       "      <td>12795.000000</td>\n",
       "      <td>12795.000000</td>\n",
       "      <td>12795.000000</td>\n",
       "      <td>12795.000000</td>\n",
       "      <td>12179.000000</td>\n",
       "      <td>12157.000000</td>\n",
       "      <td>12148.000000</td>\n",
       "      <td>12113.000000</td>\n",
       "      <td>12795.000000</td>\n",
       "      <td>12400.000000</td>\n",
       "      <td>11585.000000</td>\n",
       "      <td>12142.000000</td>\n",
       "      <td>12795.000000</td>\n",
       "      <td>12795.000000</td>\n",
       "      <td>9436.000000</td>\n",
       "    </tr>\n",
       "    <tr>\n",
       "      <th>mean</th>\n",
       "      <td>3.029074</td>\n",
       "      <td>8.063251</td>\n",
       "      <td>0.641086</td>\n",
       "      <td>0.686315</td>\n",
       "      <td>23.367809</td>\n",
       "      <td>0.222559</td>\n",
       "      <td>106.679042</td>\n",
       "      <td>204.319120</td>\n",
       "      <td>0.994203</td>\n",
       "      <td>3.207628</td>\n",
       "      <td>0.846668</td>\n",
       "      <td>10.523778</td>\n",
       "      <td>-0.009066</td>\n",
       "      <td>7.772724</td>\n",
       "      <td>2.041755</td>\n",
       "    </tr>\n",
       "    <tr>\n",
       "      <th>std</th>\n",
       "      <td>1.926368</td>\n",
       "      <td>4.996119</td>\n",
       "      <td>0.555614</td>\n",
       "      <td>0.606005</td>\n",
       "      <td>24.945667</td>\n",
       "      <td>0.234288</td>\n",
       "      <td>108.102694</td>\n",
       "      <td>163.116881</td>\n",
       "      <td>0.026538</td>\n",
       "      <td>0.679687</td>\n",
       "      <td>0.655612</td>\n",
       "      <td>3.629154</td>\n",
       "      <td>0.891089</td>\n",
       "      <td>1.323926</td>\n",
       "      <td>0.902540</td>\n",
       "    </tr>\n",
       "    <tr>\n",
       "      <th>min</th>\n",
       "      <td>0.000000</td>\n",
       "      <td>0.000000</td>\n",
       "      <td>0.000000</td>\n",
       "      <td>0.000000</td>\n",
       "      <td>0.000000</td>\n",
       "      <td>0.000000</td>\n",
       "      <td>0.000000</td>\n",
       "      <td>0.000000</td>\n",
       "      <td>0.888090</td>\n",
       "      <td>0.480000</td>\n",
       "      <td>0.000000</td>\n",
       "      <td>0.000000</td>\n",
       "      <td>-2.000000</td>\n",
       "      <td>4.000000</td>\n",
       "      <td>1.000000</td>\n",
       "    </tr>\n",
       "    <tr>\n",
       "      <th>25%</th>\n",
       "      <td>2.000000</td>\n",
       "      <td>5.600000</td>\n",
       "      <td>0.250000</td>\n",
       "      <td>0.280000</td>\n",
       "      <td>3.600000</td>\n",
       "      <td>0.046000</td>\n",
       "      <td>28.000000</td>\n",
       "      <td>100.000000</td>\n",
       "      <td>0.987720</td>\n",
       "      <td>2.960000</td>\n",
       "      <td>0.430000</td>\n",
       "      <td>9.000000</td>\n",
       "      <td>-1.000000</td>\n",
       "      <td>7.000000</td>\n",
       "      <td>1.000000</td>\n",
       "    </tr>\n",
       "    <tr>\n",
       "      <th>50%</th>\n",
       "      <td>3.000000</td>\n",
       "      <td>7.000000</td>\n",
       "      <td>0.410000</td>\n",
       "      <td>0.440000</td>\n",
       "      <td>12.900000</td>\n",
       "      <td>0.098000</td>\n",
       "      <td>56.000000</td>\n",
       "      <td>154.000000</td>\n",
       "      <td>0.994490</td>\n",
       "      <td>3.200000</td>\n",
       "      <td>0.590000</td>\n",
       "      <td>10.400000</td>\n",
       "      <td>0.000000</td>\n",
       "      <td>8.000000</td>\n",
       "      <td>2.000000</td>\n",
       "    </tr>\n",
       "    <tr>\n",
       "      <th>75%</th>\n",
       "      <td>4.000000</td>\n",
       "      <td>9.800000</td>\n",
       "      <td>0.910000</td>\n",
       "      <td>0.970000</td>\n",
       "      <td>38.700000</td>\n",
       "      <td>0.368000</td>\n",
       "      <td>172.000000</td>\n",
       "      <td>262.000000</td>\n",
       "      <td>1.000515</td>\n",
       "      <td>3.470000</td>\n",
       "      <td>1.100000</td>\n",
       "      <td>12.400000</td>\n",
       "      <td>1.000000</td>\n",
       "      <td>8.000000</td>\n",
       "      <td>3.000000</td>\n",
       "    </tr>\n",
       "    <tr>\n",
       "      <th>max</th>\n",
       "      <td>8.000000</td>\n",
       "      <td>34.400000</td>\n",
       "      <td>3.680000</td>\n",
       "      <td>3.860000</td>\n",
       "      <td>141.150000</td>\n",
       "      <td>1.351000</td>\n",
       "      <td>623.000000</td>\n",
       "      <td>1057.000000</td>\n",
       "      <td>1.099240</td>\n",
       "      <td>6.130000</td>\n",
       "      <td>4.240000</td>\n",
       "      <td>26.500000</td>\n",
       "      <td>2.000000</td>\n",
       "      <td>17.000000</td>\n",
       "      <td>4.000000</td>\n",
       "    </tr>\n",
       "  </tbody>\n",
       "</table>\n",
       "</div>"
      ],
      "text/plain": [
       "             TARGET  FixedAcidity  VolatileAcidity    CitricAcid  \\\n",
       "count  12795.000000  12795.000000     12795.000000  12795.000000   \n",
       "mean       3.029074      8.063251         0.641086      0.686315   \n",
       "std        1.926368      4.996119         0.555614      0.606005   \n",
       "min        0.000000      0.000000         0.000000      0.000000   \n",
       "25%        2.000000      5.600000         0.250000      0.280000   \n",
       "50%        3.000000      7.000000         0.410000      0.440000   \n",
       "75%        4.000000      9.800000         0.910000      0.970000   \n",
       "max        8.000000     34.400000         3.680000      3.860000   \n",
       "\n",
       "       ResidualSugar     Chlorides  FreeSulfurDioxide  TotalSulfurDioxide  \\\n",
       "count   12179.000000  12157.000000       12148.000000        12113.000000   \n",
       "mean       23.367809      0.222559         106.679042          204.319120   \n",
       "std        24.945667      0.234288         108.102694          163.116881   \n",
       "min         0.000000      0.000000           0.000000            0.000000   \n",
       "25%         3.600000      0.046000          28.000000          100.000000   \n",
       "50%        12.900000      0.098000          56.000000          154.000000   \n",
       "75%        38.700000      0.368000         172.000000          262.000000   \n",
       "max       141.150000      1.351000         623.000000         1057.000000   \n",
       "\n",
       "            Density            pH     Sulphates       Alcohol   LabelAppeal  \\\n",
       "count  12795.000000  12400.000000  11585.000000  12142.000000  12795.000000   \n",
       "mean       0.994203      3.207628      0.846668     10.523778     -0.009066   \n",
       "std        0.026538      0.679687      0.655612      3.629154      0.891089   \n",
       "min        0.888090      0.480000      0.000000      0.000000     -2.000000   \n",
       "25%        0.987720      2.960000      0.430000      9.000000     -1.000000   \n",
       "50%        0.994490      3.200000      0.590000     10.400000      0.000000   \n",
       "75%        1.000515      3.470000      1.100000     12.400000      1.000000   \n",
       "max        1.099240      6.130000      4.240000     26.500000      2.000000   \n",
       "\n",
       "          AcidIndex        STARS  \n",
       "count  12795.000000  9436.000000  \n",
       "mean       7.772724     2.041755  \n",
       "std        1.323926     0.902540  \n",
       "min        4.000000     1.000000  \n",
       "25%        7.000000     1.000000  \n",
       "50%        8.000000     2.000000  \n",
       "75%        8.000000     3.000000  \n",
       "max       17.000000     4.000000  "
      ]
     },
     "execution_count": 6,
     "metadata": {},
     "output_type": "execute_result"
    }
   ],
   "source": [
    "df1.iloc[:,1:].describe()"
   ]
  },
  {
   "cell_type": "markdown",
   "id": "bbc0df5d",
   "metadata": {},
   "source": [
    "The boxplot below is an extremely abnormal display of these statistics. Based on the amount of dots outside of the boxes, it seems that there are a lot more outliers than not. Additionally, each variable has a tiny range with only ResidualSugar, FreeSulfurDioxide, and TotalSulfurDioxide having truly visible boxes to even make any sort of analysis on. Both of these phenomena can most likely be attributed to the large of missing values in the data set."
   ]
  },
  {
   "cell_type": "code",
   "execution_count": 7,
   "id": "2a0871f2",
   "metadata": {},
   "outputs": [
    {
     "data": {
      "image/png": "[encoded data removed]",
      "text/plain": [
       "<Figure size 1800x360 with 1 Axes>"
      ]
     },
     "metadata": {
      "needs_background": "light"
     },
     "output_type": "display_data"
    }
   ],
   "source": [
    "boxplot= df1.iloc[:,1:].boxplot(figsize=(25,5))"
   ]
  },
  {
   "cell_type": "markdown",
   "id": "e84bd321",
   "metadata": {},
   "source": [
    "Note the distributions shown by these histograms. Assuming that this dataset is diverse to contain observations of all sales levels, I would expect more of the variables, at least the important ones, to have normal distributions. The fact that TARGET has a relatively normal distribution is indicative of the fact that it is somewhat of a diverse dataset. However, only five out of the remaining 14 variables have even close to normal distributions. It could be that I am not well versed enough in wine to make sense of this but I would expect more to be closer to normal. STARS could possibly be considered normal except it doesn't show any values for 2.5. This extremely surprising since out of a sample of close to 12,800 bottles not a single one is rated 2.5? I think that again this phenomenon can be attributed to the surplus of missing data. Additionally, the unique values of the bottles with no STARS value have a wide range so fitting each of them with 2.5 for STARS might not be the best replacement technique."
   ]
  },
  {
   "cell_type": "code",
   "execution_count": 8,
   "id": "7edd183b",
   "metadata": {
    "scrolled": true
   },
   "outputs": [
    {
     "data": {
      "image/png": "[encoded data removed]",
      "text/plain": [
       "<Figure size 1440x1080 with 16 Axes>"
      ]
     },
     "metadata": {
      "needs_background": "light"
     },
     "output_type": "display_data"
    }
   ],
   "source": [
    "df1.iloc[:,1:].hist(bins = 5, figsize = (20,15))\n",
    "plt.show()"
   ]
  },
  {
   "cell_type": "code",
   "execution_count": 9,
   "id": "edbf9e96",
   "metadata": {},
   "outputs": [
    {
     "name": "stdout",
     "output_type": "stream",
     "text": [
      "STARS:  [0 1 2 3 4 5 6 7 8] 1.6576314960939922\n"
     ]
    }
   ],
   "source": [
    "df2 = df1[df1.STARS.isna() == True]\n",
    "print('STARS: ', np.sort(df2.TARGET.unique()), np.std(df2.TARGET))"
   ]
  },
  {
   "cell_type": "markdown",
   "id": "d8fa4a30",
   "metadata": {},
   "source": [
    "Looking at the correlation matrix, this is also very troubling and likely a product of the missing data. None of these values are high enough that I would feel comfortable calling them good predictors in their present form. In fact, the closest result by far is still only approximately 56%. Hopefully this will be resolved as the data is cleaned."
   ]
  },
  {
   "cell_type": "code",
   "execution_count": 10,
   "id": "6b521c3f",
   "metadata": {},
   "outputs": [
    {
     "data": {
      "text/plain": [
       "TARGET                1.000000\n",
       "STARS                 0.558794\n",
       "LabelAppeal           0.356500\n",
       "Alcohol               0.063394\n",
       "TotalSulfurDioxide    0.035253\n",
       "FreeSulfurDioxide     0.024503\n",
       "CitricAcid            0.013953\n",
       "ResidualSugar         0.003645\n",
       "INDEX                 0.001256\n",
       "pH                   -0.009445\n",
       "Chlorides            -0.028463\n",
       "Sulphates            -0.035259\n",
       "Density              -0.035518\n",
       "FixedAcidity         -0.052984\n",
       "VolatileAcidity      -0.070195\n",
       "AcidIndex            -0.246049\n",
       "Name: TARGET, dtype: float64"
      ]
     },
     "execution_count": 10,
     "metadata": {},
     "output_type": "execute_result"
    }
   ],
   "source": [
    "corr = df1.corr()\n",
    "corr['TARGET'].sort_values(ascending=False)"
   ]
  },
  {
   "cell_type": "markdown",
   "id": "91afca26",
   "metadata": {},
   "source": [
    "### Exploratory Data Analysis: Scope of Missing Data\n",
    "Before cleaning the data it is important to know just how the missing values fall out. As can be seen below, there are eight variables with significant amount of missing values, with STARS leading the way by a troubling amount, a chart below shows a visual of a steep drop off in existing values once we get to STARS. For a couple other analysis points I felt it was important to create a smaller table of just the variables with missing values and I again showed the descriptive statistics as before. Based on the amount of missing values with STARS leading the way by a large margin, you may think that it may just be easier to remove the column as it isn't relevant but after reading the data dictionary I feel that it's important to keep especially since it had the highest correlation score while having the most missing values."
   ]
  },
  {
   "cell_type": "code",
   "execution_count": 11,
   "id": "9688045d",
   "metadata": {},
   "outputs": [
    {
     "data": {
      "text/plain": [
       "{'ResidualSugar': 616,\n",
       " 'Chlorides': 638,\n",
       " 'FreeSulfurDioxide': 647,\n",
       " 'TotalSulfurDioxide': 682,\n",
       " 'pH': 395,\n",
       " 'Sulphates': 1210,\n",
       " 'Alcohol': 653,\n",
       " 'STARS': 3359}"
      ]
     },
     "execution_count": 11,
     "metadata": {},
     "output_type": "execute_result"
    }
   ],
   "source": [
    "nas = {}\n",
    "for i in range(len(df1.columns)):\n",
    "    if df1.iloc[:,i].isna().sum() > 0:\n",
    "        nas[df1.columns[i]] = df1.iloc[:,i].isna().sum()\n",
    "nas"
   ]
  },
  {
   "cell_type": "code",
   "execution_count": 12,
   "id": "e16d461f",
   "metadata": {},
   "outputs": [
    {
     "data": {
      "text/html": [
       "<div>\n",
       "<style scoped>\n",
       "    .dataframe tbody tr th:only-of-type {\n",
       "        vertical-align: middle;\n",
       "    }\n",
       "\n",
       "    .dataframe tbody tr th {\n",
       "        vertical-align: top;\n",
       "    }\n",
       "\n",
       "    .dataframe thead th {\n",
       "        text-align: right;\n",
       "    }\n",
       "</style>\n",
       "<table border=\"1\" class=\"dataframe\">\n",
       "  <thead>\n",
       "    <tr style=\"text-align: right;\">\n",
       "      <th></th>\n",
       "      <th>ResidualSugar</th>\n",
       "      <th>Chlorides</th>\n",
       "      <th>FreeSulfurDioxide</th>\n",
       "      <th>TotalSulfurDioxide</th>\n",
       "      <th>pH</th>\n",
       "      <th>Sulphates</th>\n",
       "      <th>Alcohol</th>\n",
       "      <th>STARS</th>\n",
       "    </tr>\n",
       "  </thead>\n",
       "  <tbody>\n",
       "    <tr>\n",
       "      <th>0</th>\n",
       "      <td>54.2</td>\n",
       "      <td>0.567</td>\n",
       "      <td>NaN</td>\n",
       "      <td>268.0</td>\n",
       "      <td>3.33</td>\n",
       "      <td>0.59</td>\n",
       "      <td>9.9</td>\n",
       "      <td>2.0</td>\n",
       "    </tr>\n",
       "    <tr>\n",
       "      <th>1</th>\n",
       "      <td>26.1</td>\n",
       "      <td>0.425</td>\n",
       "      <td>15.0</td>\n",
       "      <td>327.0</td>\n",
       "      <td>3.38</td>\n",
       "      <td>0.70</td>\n",
       "      <td>NaN</td>\n",
       "      <td>3.0</td>\n",
       "    </tr>\n",
       "    <tr>\n",
       "      <th>2</th>\n",
       "      <td>14.8</td>\n",
       "      <td>0.037</td>\n",
       "      <td>214.0</td>\n",
       "      <td>142.0</td>\n",
       "      <td>3.12</td>\n",
       "      <td>0.48</td>\n",
       "      <td>22.0</td>\n",
       "      <td>3.0</td>\n",
       "    </tr>\n",
       "    <tr>\n",
       "      <th>3</th>\n",
       "      <td>18.8</td>\n",
       "      <td>0.425</td>\n",
       "      <td>22.0</td>\n",
       "      <td>115.0</td>\n",
       "      <td>2.24</td>\n",
       "      <td>1.83</td>\n",
       "      <td>6.2</td>\n",
       "      <td>1.0</td>\n",
       "    </tr>\n",
       "    <tr>\n",
       "      <th>4</th>\n",
       "      <td>9.4</td>\n",
       "      <td>NaN</td>\n",
       "      <td>167.0</td>\n",
       "      <td>108.0</td>\n",
       "      <td>3.12</td>\n",
       "      <td>1.77</td>\n",
       "      <td>13.7</td>\n",
       "      <td>2.0</td>\n",
       "    </tr>\n",
       "  </tbody>\n",
       "</table>\n",
       "</div>"
      ],
      "text/plain": [
       "   ResidualSugar  Chlorides  FreeSulfurDioxide  TotalSulfurDioxide    pH  \\\n",
       "0           54.2      0.567                NaN               268.0  3.33   \n",
       "1           26.1      0.425               15.0               327.0  3.38   \n",
       "2           14.8      0.037              214.0               142.0  3.12   \n",
       "3           18.8      0.425               22.0               115.0  2.24   \n",
       "4            9.4        NaN              167.0               108.0  3.12   \n",
       "\n",
       "   Sulphates  Alcohol  STARS  \n",
       "0       0.59      9.9    2.0  \n",
       "1       0.70      NaN    3.0  \n",
       "2       0.48     22.0    3.0  \n",
       "3       1.83      6.2    1.0  \n",
       "4       1.77     13.7    2.0  "
      ]
     },
     "execution_count": 12,
     "metadata": {},
     "output_type": "execute_result"
    }
   ],
   "source": [
    "dfNa = df1[['ResidualSugar', 'Chlorides', 'FreeSulfurDioxide', 'TotalSulfurDioxide', 'pH', 'Sulphates', 'Alcohol', 'STARS']]\n",
    "dfNa.head()"
   ]
  },
  {
   "cell_type": "code",
   "execution_count": 13,
   "id": "eaf2eb29",
   "metadata": {
    "scrolled": true
   },
   "outputs": [
    {
     "data": {
      "text/plain": [
       "pH                    12400.0\n",
       "ResidualSugar         12179.0\n",
       "Chlorides             12157.0\n",
       "FreeSulfurDioxide     12148.0\n",
       "Alcohol               12142.0\n",
       "TotalSulfurDioxide    12113.0\n",
       "Sulphates             11585.0\n",
       "STARS                  9436.0\n",
       "Name: count, dtype: float64"
      ]
     },
     "execution_count": 13,
     "metadata": {},
     "output_type": "execute_result"
    }
   ],
   "source": [
    "countNas = dfNa.describe().iloc[0,:].sort_values(ascending = False)\n",
    "countNas"
   ]
  },
  {
   "cell_type": "code",
   "execution_count": 14,
   "id": "3e173c66",
   "metadata": {},
   "outputs": [
    {
     "data": {
      "text/html": [
       "<div>\n",
       "<style scoped>\n",
       "    .dataframe tbody tr th:only-of-type {\n",
       "        vertical-align: middle;\n",
       "    }\n",
       "\n",
       "    .dataframe tbody tr th {\n",
       "        vertical-align: top;\n",
       "    }\n",
       "\n",
       "    .dataframe thead th {\n",
       "        text-align: right;\n",
       "    }\n",
       "</style>\n",
       "<table border=\"1\" class=\"dataframe\">\n",
       "  <thead>\n",
       "    <tr style=\"text-align: right;\">\n",
       "      <th></th>\n",
       "      <th>ResidualSugar</th>\n",
       "      <th>Chlorides</th>\n",
       "      <th>FreeSulfurDioxide</th>\n",
       "      <th>TotalSulfurDioxide</th>\n",
       "      <th>pH</th>\n",
       "      <th>Sulphates</th>\n",
       "      <th>Alcohol</th>\n",
       "      <th>STARS</th>\n",
       "    </tr>\n",
       "  </thead>\n",
       "  <tbody>\n",
       "    <tr>\n",
       "      <th>count</th>\n",
       "      <td>12179.000000</td>\n",
       "      <td>12157.000000</td>\n",
       "      <td>12148.000000</td>\n",
       "      <td>12113.000000</td>\n",
       "      <td>12400.000000</td>\n",
       "      <td>11585.000000</td>\n",
       "      <td>12142.000000</td>\n",
       "      <td>9436.000000</td>\n",
       "    </tr>\n",
       "    <tr>\n",
       "      <th>mean</th>\n",
       "      <td>23.367809</td>\n",
       "      <td>0.222559</td>\n",
       "      <td>106.679042</td>\n",
       "      <td>204.319120</td>\n",
       "      <td>3.207628</td>\n",
       "      <td>0.846668</td>\n",
       "      <td>10.523778</td>\n",
       "      <td>2.041755</td>\n",
       "    </tr>\n",
       "    <tr>\n",
       "      <th>std</th>\n",
       "      <td>24.945667</td>\n",
       "      <td>0.234288</td>\n",
       "      <td>108.102694</td>\n",
       "      <td>163.116881</td>\n",
       "      <td>0.679687</td>\n",
       "      <td>0.655612</td>\n",
       "      <td>3.629154</td>\n",
       "      <td>0.902540</td>\n",
       "    </tr>\n",
       "    <tr>\n",
       "      <th>min</th>\n",
       "      <td>0.000000</td>\n",
       "      <td>0.000000</td>\n",
       "      <td>0.000000</td>\n",
       "      <td>0.000000</td>\n",
       "      <td>0.480000</td>\n",
       "      <td>0.000000</td>\n",
       "      <td>0.000000</td>\n",
       "      <td>1.000000</td>\n",
       "    </tr>\n",
       "    <tr>\n",
       "      <th>25%</th>\n",
       "      <td>3.600000</td>\n",
       "      <td>0.046000</td>\n",
       "      <td>28.000000</td>\n",
       "      <td>100.000000</td>\n",
       "      <td>2.960000</td>\n",
       "      <td>0.430000</td>\n",
       "      <td>9.000000</td>\n",
       "      <td>1.000000</td>\n",
       "    </tr>\n",
       "    <tr>\n",
       "      <th>50%</th>\n",
       "      <td>12.900000</td>\n",
       "      <td>0.098000</td>\n",
       "      <td>56.000000</td>\n",
       "      <td>154.000000</td>\n",
       "      <td>3.200000</td>\n",
       "      <td>0.590000</td>\n",
       "      <td>10.400000</td>\n",
       "      <td>2.000000</td>\n",
       "    </tr>\n",
       "    <tr>\n",
       "      <th>75%</th>\n",
       "      <td>38.700000</td>\n",
       "      <td>0.368000</td>\n",
       "      <td>172.000000</td>\n",
       "      <td>262.000000</td>\n",
       "      <td>3.470000</td>\n",
       "      <td>1.100000</td>\n",
       "      <td>12.400000</td>\n",
       "      <td>3.000000</td>\n",
       "    </tr>\n",
       "    <tr>\n",
       "      <th>max</th>\n",
       "      <td>141.150000</td>\n",
       "      <td>1.351000</td>\n",
       "      <td>623.000000</td>\n",
       "      <td>1057.000000</td>\n",
       "      <td>6.130000</td>\n",
       "      <td>4.240000</td>\n",
       "      <td>26.500000</td>\n",
       "      <td>4.000000</td>\n",
       "    </tr>\n",
       "  </tbody>\n",
       "</table>\n",
       "</div>"
      ],
      "text/plain": [
       "       ResidualSugar     Chlorides  FreeSulfurDioxide  TotalSulfurDioxide  \\\n",
       "count   12179.000000  12157.000000       12148.000000        12113.000000   \n",
       "mean       23.367809      0.222559         106.679042          204.319120   \n",
       "std        24.945667      0.234288         108.102694          163.116881   \n",
       "min         0.000000      0.000000           0.000000            0.000000   \n",
       "25%         3.600000      0.046000          28.000000          100.000000   \n",
       "50%        12.900000      0.098000          56.000000          154.000000   \n",
       "75%        38.700000      0.368000         172.000000          262.000000   \n",
       "max       141.150000      1.351000         623.000000         1057.000000   \n",
       "\n",
       "                 pH     Sulphates       Alcohol        STARS  \n",
       "count  12400.000000  11585.000000  12142.000000  9436.000000  \n",
       "mean       3.207628      0.846668     10.523778     2.041755  \n",
       "std        0.679687      0.655612      3.629154     0.902540  \n",
       "min        0.480000      0.000000      0.000000     1.000000  \n",
       "25%        2.960000      0.430000      9.000000     1.000000  \n",
       "50%        3.200000      0.590000     10.400000     2.000000  \n",
       "75%        3.470000      1.100000     12.400000     3.000000  \n",
       "max        6.130000      4.240000     26.500000     4.000000  "
      ]
     },
     "execution_count": 14,
     "metadata": {},
     "output_type": "execute_result"
    }
   ],
   "source": [
    "dfNa.describe()"
   ]
  },
  {
   "cell_type": "code",
   "execution_count": 15,
   "id": "57507231",
   "metadata": {},
   "outputs": [
    {
     "data": {
      "image/png": "[encoded data removed]",
      "text/plain": [
       "<Figure size 1440x720 with 1 Axes>"
      ]
     },
     "metadata": {
      "needs_background": "light"
     },
     "output_type": "display_data"
    }
   ],
   "source": [
    "countNas.plot(figsize = (20,10))\n",
    "plt.show()"
   ]
  },
  {
   "cell_type": "markdown",
   "id": "dd2abd52",
   "metadata": {},
   "source": [
    "### Data Cleaning: pH\n",
    "pH needs to be examined on its own since it has by far the least amount of missing values. Usually, we would think that since a column has the least amount of missing data it's a bad candidate to be removed as a whole since there is less to do to it. However, I think that in this case it's exactly the opposite scenario. pH has over 96% of its values filled in and yet still has by far the lowest correlation with TARGET, our response variable. Since the whole point of this data is to be able to predict TARGET, pH must not be a very good predictor due to its extremely low correlation value, -0.009, yet still having almost everything filled out. That is why I decided to remove it to make the rest of data processing from here on out easier and faster."
   ]
  },
  {
   "cell_type": "code",
   "execution_count": 16,
   "id": "cece7cb5",
   "metadata": {},
   "outputs": [
    {
     "data": {
      "text/plain": [
       "Index(['INDEX', 'TARGET', 'FixedAcidity', 'VolatileAcidity', 'CitricAcid',\n",
       "       'ResidualSugar', 'Chlorides', 'FreeSulfurDioxide', 'TotalSulfurDioxide',\n",
       "       'Density', 'Sulphates', 'Alcohol', 'LabelAppeal', 'AcidIndex', 'STARS'],\n",
       "      dtype='object')"
      ]
     },
     "execution_count": 16,
     "metadata": {},
     "output_type": "execute_result"
    }
   ],
   "source": [
    "df1.drop(columns = ['pH'], inplace = True)\n",
    "df1.columns"
   ]
  },
  {
   "cell_type": "markdown",
   "id": "f44cfa52",
   "metadata": {},
   "source": [
    "### Data Cleaning: STARS\n",
    "Since the most troubling variable with missing values is by far STARS, I thought I would start my cleanup there. My first thought was if there was a different variable with a high enough correlation value with STARS to replace it. Sadly, there is none, the closest is LabelAppeal at 33.5% which is subpar to say the least. Although I would like to be able to assign some of these missing values 2.5, there simply isn't any information to base that off of. With the amount of observations with missing values and given the fact that the missing values aren't centered on just a couple values for TARGET, I felt comfortable replacing the missing values with the mode since it wouldn't affect the spread of the data too much. I also thought that it is noteworthy when doing analysis to know if the value was filled in or not for this specific variable so I decided to add a column indicating if it was originally empty or not. Note that mean can't be used since the value may not return as divisible by 0.5. "
   ]
  },
  {
   "cell_type": "code",
   "execution_count": 17,
   "id": "31edafeb",
   "metadata": {},
   "outputs": [
    {
     "data": {
      "text/plain": [
       "STARS                 1.000000\n",
       "TARGET                0.558794\n",
       "LabelAppeal           0.334788\n",
       "Alcohol               0.065273\n",
       "ResidualSugar         0.009897\n",
       "Chlorides             0.002516\n",
       "FreeSulfurDioxide     0.002465\n",
       "CitricAcid            0.001627\n",
       "INDEX                 0.000194\n",
       "pH                   -0.000488\n",
       "Sulphates            -0.001227\n",
       "TotalSulfurDioxide   -0.001291\n",
       "Density              -0.018284\n",
       "FixedAcidity         -0.018505\n",
       "VolatileAcidity      -0.030154\n",
       "AcidIndex            -0.086259\n",
       "Name: STARS, dtype: float64"
      ]
     },
     "execution_count": 17,
     "metadata": {},
     "output_type": "execute_result"
    }
   ],
   "source": [
    "corr['STARS'].sort_values(ascending = False)"
   ]
  },
  {
   "cell_type": "code",
   "execution_count": 18,
   "id": "8c97a103",
   "metadata": {},
   "outputs": [
    {
     "data": {
      "text/plain": [
       "Index(['INDEX', 'TARGET', 'FixedAcidity', 'VolatileAcidity', 'CitricAcid',\n",
       "       'ResidualSugar', 'Chlorides', 'FreeSulfurDioxide', 'TotalSulfurDioxide',\n",
       "       'Density', 'Sulphates', 'Alcohol', 'LabelAppeal', 'AcidIndex', 'STARS',\n",
       "       'stars_missing'],\n",
       "      dtype='object')"
      ]
     },
     "execution_count": 18,
     "metadata": {},
     "output_type": "execute_result"
    }
   ],
   "source": [
    "was_missing = []\n",
    "for i in range(len(df1.STARS)):\n",
    "    if df1.STARS[i] > 0:\n",
    "        was_missing.append(0)\n",
    "    else:\n",
    "        was_missing.append(1)\n",
    "df1['stars_missing'] = was_missing\n",
    "df1.columns"
   ]
  },
  {
   "cell_type": "code",
   "execution_count": 19,
   "id": "6070eb2e",
   "metadata": {
    "scrolled": true
   },
   "outputs": [
    {
     "data": {
      "text/plain": [
       "0"
      ]
     },
     "execution_count": 19,
     "metadata": {},
     "output_type": "execute_result"
    }
   ],
   "source": [
    "df1[['STARS']] = df1[['STARS']].fillna(value=stats.mode(df1.STARS))\n",
    "df1.STARS.isna().sum()"
   ]
  },
  {
   "cell_type": "markdown",
   "id": "c0920d30",
   "metadata": {},
   "source": [
    "### Data Cleaning: All Others\n",
    "I decided to analyze the rest together since they are neither the most problematic and least problematic and upon inspection can be handled similarly. Before proceeding, I found it important to check if any of them can be replaced by another, looking at the correlation matrix below, none of them are remotely close to colinear. On further inspection of their unique values and standard deviation, none of them seem to be restricted to a specific value and all have a similar standard deviation relative to their metrics. This gives the indication that replacement methods will work without much affect to the overall representation of the data. One area where they differ is that FreeSulfurDioxide and TotalSulfurDioxide are represented as whole numbers while the other three are shown as having decimal values. For this reason, they would need to be replaced with different operators. The missing values in FreeSulfurDioxide and TotalSulfurDioxide should be replaced with whole numbers so that the format and information in those columns is consistent. The ideal method would be to use the median but since there are missing values python can't calculate median and we use mode instead. Since the other three are shown as having decimals, those missing values can be filled in using mean as the method, which is my personal choice method when dealing with decimals."
   ]
  },
  {
   "cell_type": "code",
   "execution_count": 20,
   "id": "3d27da71",
   "metadata": {},
   "outputs": [
    {
     "data": {
      "text/html": [
       "<div>\n",
       "<style scoped>\n",
       "    .dataframe tbody tr th:only-of-type {\n",
       "        vertical-align: middle;\n",
       "    }\n",
       "\n",
       "    .dataframe tbody tr th {\n",
       "        vertical-align: top;\n",
       "    }\n",
       "\n",
       "    .dataframe thead th {\n",
       "        text-align: right;\n",
       "    }\n",
       "</style>\n",
       "<table border=\"1\" class=\"dataframe\">\n",
       "  <thead>\n",
       "    <tr style=\"text-align: right;\">\n",
       "      <th></th>\n",
       "      <th>ResidualSugar</th>\n",
       "      <th>Chlorides</th>\n",
       "      <th>FreeSulfurDioxide</th>\n",
       "      <th>TotalSulfurDioxide</th>\n",
       "      <th>Alcohol</th>\n",
       "      <th>Sulphates</th>\n",
       "    </tr>\n",
       "  </thead>\n",
       "  <tbody>\n",
       "    <tr>\n",
       "      <th>ResidualSugar</th>\n",
       "      <td>1.000000</td>\n",
       "      <td>-0.002837</td>\n",
       "      <td>-0.007418</td>\n",
       "      <td>0.014476</td>\n",
       "      <td>-0.006927</td>\n",
       "      <td>-0.007658</td>\n",
       "    </tr>\n",
       "    <tr>\n",
       "      <th>Chlorides</th>\n",
       "      <td>-0.002837</td>\n",
       "      <td>1.000000</td>\n",
       "      <td>-0.004884</td>\n",
       "      <td>-0.015316</td>\n",
       "      <td>-0.001174</td>\n",
       "      <td>0.021366</td>\n",
       "    </tr>\n",
       "    <tr>\n",
       "      <th>FreeSulfurDioxide</th>\n",
       "      <td>-0.007418</td>\n",
       "      <td>-0.004884</td>\n",
       "      <td>1.000000</td>\n",
       "      <td>0.014710</td>\n",
       "      <td>-0.011384</td>\n",
       "      <td>-0.002096</td>\n",
       "    </tr>\n",
       "    <tr>\n",
       "      <th>TotalSulfurDioxide</th>\n",
       "      <td>0.014476</td>\n",
       "      <td>-0.015316</td>\n",
       "      <td>0.014710</td>\n",
       "      <td>1.000000</td>\n",
       "      <td>-0.033102</td>\n",
       "      <td>-0.010995</td>\n",
       "    </tr>\n",
       "    <tr>\n",
       "      <th>Alcohol</th>\n",
       "      <td>-0.006927</td>\n",
       "      <td>-0.001174</td>\n",
       "      <td>-0.011384</td>\n",
       "      <td>-0.033102</td>\n",
       "      <td>1.000000</td>\n",
       "      <td>0.000251</td>\n",
       "    </tr>\n",
       "    <tr>\n",
       "      <th>Sulphates</th>\n",
       "      <td>-0.007658</td>\n",
       "      <td>0.021366</td>\n",
       "      <td>-0.002096</td>\n",
       "      <td>-0.010995</td>\n",
       "      <td>0.000251</td>\n",
       "      <td>1.000000</td>\n",
       "    </tr>\n",
       "  </tbody>\n",
       "</table>\n",
       "</div>"
      ],
      "text/plain": [
       "                    ResidualSugar  Chlorides  FreeSulfurDioxide  \\\n",
       "ResidualSugar            1.000000  -0.002837          -0.007418   \n",
       "Chlorides               -0.002837   1.000000          -0.004884   \n",
       "FreeSulfurDioxide       -0.007418  -0.004884           1.000000   \n",
       "TotalSulfurDioxide       0.014476  -0.015316           0.014710   \n",
       "Alcohol                 -0.006927  -0.001174          -0.011384   \n",
       "Sulphates               -0.007658   0.021366          -0.002096   \n",
       "\n",
       "                    TotalSulfurDioxide   Alcohol  Sulphates  \n",
       "ResidualSugar                 0.014476 -0.006927  -0.007658  \n",
       "Chlorides                    -0.015316 -0.001174   0.021366  \n",
       "FreeSulfurDioxide             0.014710 -0.011384  -0.002096  \n",
       "TotalSulfurDioxide            1.000000 -0.033102  -0.010995  \n",
       "Alcohol                      -0.033102  1.000000   0.000251  \n",
       "Sulphates                    -0.010995  0.000251   1.000000  "
      ]
     },
     "execution_count": 20,
     "metadata": {},
     "output_type": "execute_result"
    }
   ],
   "source": [
    "a = df1[['ResidualSugar', 'Chlorides', 'FreeSulfurDioxide', 'TotalSulfurDioxide', 'Alcohol', 'Sulphates']]\n",
    "a.corr()"
   ]
  },
  {
   "cell_type": "code",
   "execution_count": 21,
   "id": "407c5b66",
   "metadata": {},
   "outputs": [
    {
     "name": "stdout",
     "output_type": "stream",
     "text": [
      "ResidualSugar:  [0 1 2 3 4 5 6 7] 24.94464297696968\n",
      "Chlorides:  [0 1 2 3 4 5 6 7 8] 0.23427813897281105\n",
      "FreeSulfurDioxide:  [0 1 2 3 4 5 6 7 8] 108.09824427443841\n",
      "TotalSulfurDioxide:  [0 1 2 3 4 5 6 7] 163.11014752469512\n",
      "Alcohol:  [0 1 2 3 4 5 6 7 8] 3.6290045838564424\n",
      "Sulphates:  [0 1 2 3 4 5 6 7 8] 0.6555836461018836\n"
     ]
    }
   ],
   "source": [
    "rs = df1[df1.ResidualSugar.isna() == True]\n",
    "c = df1[df1.Chlorides.isna() == True]\n",
    "fso = df1[df1.FreeSulfurDioxide.isna() == True]\n",
    "tso = df1[df1.TotalSulfurDioxide.isna() == True]\n",
    "a = df1[df1.Alcohol.isna() == True]\n",
    "s = df1[df1.Sulphates.isna() == True]\n",
    "print('ResidualSugar: ', np.sort(rs.TARGET.unique()), np.std(df1.ResidualSugar))\n",
    "print('Chlorides: ', np.sort(c.TARGET.unique()), np.std(df1.Chlorides))\n",
    "print('FreeSulfurDioxide: ', np.sort(fso.TARGET.unique()), np.std(df1.FreeSulfurDioxide))\n",
    "print('TotalSulfurDioxide: ', np.sort(tso.TARGET.unique()), np.std(df1.TotalSulfurDioxide))\n",
    "print('Alcohol: ', np.sort(a.TARGET.unique()), np.std(df1.Alcohol))\n",
    "print('Sulphates: ', np.sort(s.TARGET.unique()), np.std(df1.Sulphates))"
   ]
  },
  {
   "cell_type": "code",
   "execution_count": 22,
   "id": "56eda151",
   "metadata": {},
   "outputs": [],
   "source": [
    "df1[['FreeSulfurDioxide']] = df1[['FreeSulfurDioxide']].fillna(value = stats.mode(df1.FreeSulfurDioxide))\n",
    "df1[['TotalSulfurDioxide']] = df1[['TotalSulfurDioxide']].fillna(value = stats.mode(df1.TotalSulfurDioxide))"
   ]
  },
  {
   "cell_type": "code",
   "execution_count": 23,
   "id": "4a390d00",
   "metadata": {},
   "outputs": [],
   "source": [
    "df1[['ResidualSugar']] = df1[['ResidualSugar']].fillna(value = np.mean(df1.ResidualSugar))\n",
    "df1[['Chlorides']] = df1[['Chlorides']].fillna(value = np.mean(df1.Chlorides))\n",
    "df1[['Alcohol']] = df1[['Alcohol']].fillna(value = np.mean(df1.Alcohol))\n",
    "df1[['Sulphates']] = df1[['Sulphates']].fillna(value = np.mean(df1.Sulphates))"
   ]
  },
  {
   "cell_type": "code",
   "execution_count": 24,
   "id": "164dd999",
   "metadata": {},
   "outputs": [
    {
     "name": "stdout",
     "output_type": "stream",
     "text": [
      "FreeSulfurDioxide:  0\n",
      "TotalSulfurDioxide:  0\n",
      "ResidualSugar:  0\n",
      "Chlorides:  0\n",
      "Alcohol:  0\n",
      "Sulphates:  0\n"
     ]
    }
   ],
   "source": [
    "print('FreeSulfurDioxide: ', df1.FreeSulfurDioxide.isna().sum())\n",
    "print('TotalSulfurDioxide: ', df1.TotalSulfurDioxide.isna().sum())\n",
    "print('ResidualSugar: ', df1.ResidualSugar.isna().sum())\n",
    "print('Chlorides: ', df1.Chlorides.isna().sum())\n",
    "print('Alcohol: ', df1.Alcohol.isna().sum())\n",
    "print('Sulphates: ', df1.Sulphates.isna().sum())"
   ]
  },
  {
   "cell_type": "markdown",
   "id": "95ebf4c7",
   "metadata": {},
   "source": [
    "### Repeating EDA: Which Steps are Repeated\n",
    "As can be shown by the code below, all missing values have been removed. Before, the dictionary showed each column name with missing values along with its totals. You can also see this in the description as the count of all values is uniform and matches all values. I decided to also show the histograms and box plots to show the change in the structure of the data post-transformation. Finally, I decided to show the correlation for TARGET with the rest of the variables. The interpretation of these will be addressed in the conclusion."
   ]
  },
  {
   "cell_type": "code",
   "execution_count": 25,
   "id": "b47fc820",
   "metadata": {},
   "outputs": [
    {
     "data": {
      "text/plain": [
       "{}"
      ]
     },
     "execution_count": 25,
     "metadata": {},
     "output_type": "execute_result"
    }
   ],
   "source": [
    "#no reaming missing values after all transformations are completed:\n",
    "nas = {}\n",
    "for i in range(len(df1.columns)):\n",
    "    if df1.iloc[:,i].isna().sum() > 0:\n",
    "        nas[df1.columns[i]] = df1.iloc[:,i].isna().sum()\n",
    "nas"
   ]
  },
  {
   "cell_type": "code",
   "execution_count": 26,
   "id": "1cb9fee3",
   "metadata": {
    "scrolled": true
   },
   "outputs": [
    {
     "data": {
      "text/html": [
       "<div>\n",
       "<style scoped>\n",
       "    .dataframe tbody tr th:only-of-type {\n",
       "        vertical-align: middle;\n",
       "    }\n",
       "\n",
       "    .dataframe tbody tr th {\n",
       "        vertical-align: top;\n",
       "    }\n",
       "\n",
       "    .dataframe thead th {\n",
       "        text-align: right;\n",
       "    }\n",
       "</style>\n",
       "<table border=\"1\" class=\"dataframe\">\n",
       "  <thead>\n",
       "    <tr style=\"text-align: right;\">\n",
       "      <th></th>\n",
       "      <th>TARGET</th>\n",
       "      <th>FixedAcidity</th>\n",
       "      <th>VolatileAcidity</th>\n",
       "      <th>CitricAcid</th>\n",
       "      <th>ResidualSugar</th>\n",
       "      <th>Chlorides</th>\n",
       "      <th>FreeSulfurDioxide</th>\n",
       "      <th>TotalSulfurDioxide</th>\n",
       "      <th>Density</th>\n",
       "      <th>Sulphates</th>\n",
       "      <th>Alcohol</th>\n",
       "      <th>LabelAppeal</th>\n",
       "      <th>AcidIndex</th>\n",
       "      <th>STARS</th>\n",
       "      <th>stars_missing</th>\n",
       "    </tr>\n",
       "  </thead>\n",
       "  <tbody>\n",
       "    <tr>\n",
       "      <th>count</th>\n",
       "      <td>12795.000000</td>\n",
       "      <td>12795.000000</td>\n",
       "      <td>12795.000000</td>\n",
       "      <td>12795.000000</td>\n",
       "      <td>12795.000000</td>\n",
       "      <td>12795.000000</td>\n",
       "      <td>12795.000000</td>\n",
       "      <td>12795.000000</td>\n",
       "      <td>12795.000000</td>\n",
       "      <td>12795.000000</td>\n",
       "      <td>12795.000000</td>\n",
       "      <td>12795.000000</td>\n",
       "      <td>12795.000000</td>\n",
       "      <td>12795.000000</td>\n",
       "      <td>12795.000000</td>\n",
       "    </tr>\n",
       "    <tr>\n",
       "      <th>mean</th>\n",
       "      <td>3.029074</td>\n",
       "      <td>8.063251</td>\n",
       "      <td>0.641086</td>\n",
       "      <td>0.686315</td>\n",
       "      <td>23.367809</td>\n",
       "      <td>0.222559</td>\n",
       "      <td>102.751075</td>\n",
       "      <td>200.890778</td>\n",
       "      <td>0.994203</td>\n",
       "      <td>0.846668</td>\n",
       "      <td>10.523778</td>\n",
       "      <td>-0.009066</td>\n",
       "      <td>7.772724</td>\n",
       "      <td>2.030793</td>\n",
       "      <td>0.262524</td>\n",
       "    </tr>\n",
       "    <tr>\n",
       "      <th>std</th>\n",
       "      <td>1.926368</td>\n",
       "      <td>4.996119</td>\n",
       "      <td>0.555614</td>\n",
       "      <td>0.606005</td>\n",
       "      <td>24.337722</td>\n",
       "      <td>0.228371</td>\n",
       "      <td>106.700184</td>\n",
       "      <td>159.366126</td>\n",
       "      <td>0.026538</td>\n",
       "      <td>0.623840</td>\n",
       "      <td>3.535326</td>\n",
       "      <td>0.891089</td>\n",
       "      <td>1.323926</td>\n",
       "      <td>0.775276</td>\n",
       "      <td>0.440023</td>\n",
       "    </tr>\n",
       "    <tr>\n",
       "      <th>min</th>\n",
       "      <td>0.000000</td>\n",
       "      <td>0.000000</td>\n",
       "      <td>0.000000</td>\n",
       "      <td>0.000000</td>\n",
       "      <td>0.000000</td>\n",
       "      <td>0.000000</td>\n",
       "      <td>0.000000</td>\n",
       "      <td>0.000000</td>\n",
       "      <td>0.888090</td>\n",
       "      <td>0.000000</td>\n",
       "      <td>0.000000</td>\n",
       "      <td>-2.000000</td>\n",
       "      <td>4.000000</td>\n",
       "      <td>1.000000</td>\n",
       "      <td>0.000000</td>\n",
       "    </tr>\n",
       "    <tr>\n",
       "      <th>25%</th>\n",
       "      <td>2.000000</td>\n",
       "      <td>5.600000</td>\n",
       "      <td>0.250000</td>\n",
       "      <td>0.280000</td>\n",
       "      <td>4.000000</td>\n",
       "      <td>0.046000</td>\n",
       "      <td>29.000000</td>\n",
       "      <td>102.000000</td>\n",
       "      <td>0.987720</td>\n",
       "      <td>0.450000</td>\n",
       "      <td>9.100000</td>\n",
       "      <td>-1.000000</td>\n",
       "      <td>7.000000</td>\n",
       "      <td>2.000000</td>\n",
       "      <td>0.000000</td>\n",
       "    </tr>\n",
       "    <tr>\n",
       "      <th>50%</th>\n",
       "      <td>3.000000</td>\n",
       "      <td>7.000000</td>\n",
       "      <td>0.410000</td>\n",
       "      <td>0.440000</td>\n",
       "      <td>14.200000</td>\n",
       "      <td>0.120000</td>\n",
       "      <td>51.000000</td>\n",
       "      <td>147.500000</td>\n",
       "      <td>0.994490</td>\n",
       "      <td>0.640000</td>\n",
       "      <td>10.500000</td>\n",
       "      <td>0.000000</td>\n",
       "      <td>8.000000</td>\n",
       "      <td>2.000000</td>\n",
       "      <td>0.000000</td>\n",
       "    </tr>\n",
       "    <tr>\n",
       "      <th>75%</th>\n",
       "      <td>4.000000</td>\n",
       "      <td>9.800000</td>\n",
       "      <td>0.910000</td>\n",
       "      <td>0.970000</td>\n",
       "      <td>37.200000</td>\n",
       "      <td>0.353000</td>\n",
       "      <td>164.000000</td>\n",
       "      <td>251.000000</td>\n",
       "      <td>1.000515</td>\n",
       "      <td>1.000000</td>\n",
       "      <td>12.200000</td>\n",
       "      <td>1.000000</td>\n",
       "      <td>8.000000</td>\n",
       "      <td>2.000000</td>\n",
       "      <td>1.000000</td>\n",
       "    </tr>\n",
       "    <tr>\n",
       "      <th>max</th>\n",
       "      <td>8.000000</td>\n",
       "      <td>34.400000</td>\n",
       "      <td>3.680000</td>\n",
       "      <td>3.860000</td>\n",
       "      <td>141.150000</td>\n",
       "      <td>1.351000</td>\n",
       "      <td>623.000000</td>\n",
       "      <td>1057.000000</td>\n",
       "      <td>1.099240</td>\n",
       "      <td>4.240000</td>\n",
       "      <td>26.500000</td>\n",
       "      <td>2.000000</td>\n",
       "      <td>17.000000</td>\n",
       "      <td>4.000000</td>\n",
       "      <td>1.000000</td>\n",
       "    </tr>\n",
       "  </tbody>\n",
       "</table>\n",
       "</div>"
      ],
      "text/plain": [
       "             TARGET  FixedAcidity  VolatileAcidity    CitricAcid  \\\n",
       "count  12795.000000  12795.000000     12795.000000  12795.000000   \n",
       "mean       3.029074      8.063251         0.641086      0.686315   \n",
       "std        1.926368      4.996119         0.555614      0.606005   \n",
       "min        0.000000      0.000000         0.000000      0.000000   \n",
       "25%        2.000000      5.600000         0.250000      0.280000   \n",
       "50%        3.000000      7.000000         0.410000      0.440000   \n",
       "75%        4.000000      9.800000         0.910000      0.970000   \n",
       "max        8.000000     34.400000         3.680000      3.860000   \n",
       "\n",
       "       ResidualSugar     Chlorides  FreeSulfurDioxide  TotalSulfurDioxide  \\\n",
       "count   12795.000000  12795.000000       12795.000000        12795.000000   \n",
       "mean       23.367809      0.222559         102.751075          200.890778   \n",
       "std        24.337722      0.228371         106.700184          159.366126   \n",
       "min         0.000000      0.000000           0.000000            0.000000   \n",
       "25%         4.000000      0.046000          29.000000          102.000000   \n",
       "50%        14.200000      0.120000          51.000000          147.500000   \n",
       "75%        37.200000      0.353000         164.000000          251.000000   \n",
       "max       141.150000      1.351000         623.000000         1057.000000   \n",
       "\n",
       "            Density     Sulphates       Alcohol   LabelAppeal     AcidIndex  \\\n",
       "count  12795.000000  12795.000000  12795.000000  12795.000000  12795.000000   \n",
       "mean       0.994203      0.846668     10.523778     -0.009066      7.772724   \n",
       "std        0.026538      0.623840      3.535326      0.891089      1.323926   \n",
       "min        0.888090      0.000000      0.000000     -2.000000      4.000000   \n",
       "25%        0.987720      0.450000      9.100000     -1.000000      7.000000   \n",
       "50%        0.994490      0.640000     10.500000      0.000000      8.000000   \n",
       "75%        1.000515      1.000000     12.200000      1.000000      8.000000   \n",
       "max        1.099240      4.240000     26.500000      2.000000     17.000000   \n",
       "\n",
       "              STARS  stars_missing  \n",
       "count  12795.000000   12795.000000  \n",
       "mean       2.030793       0.262524  \n",
       "std        0.775276       0.440023  \n",
       "min        1.000000       0.000000  \n",
       "25%        2.000000       0.000000  \n",
       "50%        2.000000       0.000000  \n",
       "75%        2.000000       1.000000  \n",
       "max        4.000000       1.000000  "
      ]
     },
     "execution_count": 26,
     "metadata": {},
     "output_type": "execute_result"
    }
   ],
   "source": [
    "df1.iloc[:,1:].describe()"
   ]
  },
  {
   "cell_type": "code",
   "execution_count": 27,
   "id": "ce644e0f",
   "metadata": {
    "scrolled": true
   },
   "outputs": [
    {
     "data": {
      "image/png": "[encoded data removed]",
      "text/plain": [
       "<Figure size 1800x360 with 1 Axes>"
      ]
     },
     "metadata": {
      "needs_background": "light"
     },
     "output_type": "display_data"
    }
   ],
   "source": [
    "boxplot= df1.iloc[:,1:].boxplot(figsize=(25,5))"
   ]
  },
  {
   "cell_type": "code",
   "execution_count": 28,
   "id": "32314364",
   "metadata": {},
   "outputs": [
    {
     "data": {
      "image/png": "[encoded data removed]",
      "text/plain": [
       "<Figure size 1440x1080 with 16 Axes>"
      ]
     },
     "metadata": {
      "needs_background": "light"
     },
     "output_type": "display_data"
    }
   ],
   "source": [
    "df1.iloc[:,1:].hist(bins = 5, figsize = (20,15))\n",
    "plt.show()"
   ]
  },
  {
   "cell_type": "code",
   "execution_count": 29,
   "id": "da8a1d4b",
   "metadata": {},
   "outputs": [
    {
     "data": {
      "text/plain": [
       "TARGET                1.000000\n",
       "STARS                 0.400135\n",
       "LabelAppeal           0.356500\n",
       "Alcohol               0.061730\n",
       "TotalSulfurDioxide    0.033606\n",
       "FreeSulfurDioxide     0.023585\n",
       "CitricAcid            0.013953\n",
       "ResidualSugar         0.003552\n",
       "INDEX                 0.001256\n",
       "Chlorides            -0.027704\n",
       "Sulphates            -0.033496\n",
       "Density              -0.035518\n",
       "FixedAcidity         -0.052984\n",
       "VolatileAcidity      -0.070195\n",
       "AcidIndex            -0.246049\n",
       "stars_missing        -0.571579\n",
       "Name: TARGET, dtype: float64"
      ]
     },
     "execution_count": 29,
     "metadata": {},
     "output_type": "execute_result"
    }
   ],
   "source": [
    "corr = df1.corr()\n",
    "corr['TARGET'].sort_values(ascending=False)"
   ]
  },
  {
   "cell_type": "markdown",
   "id": "2c6b9bc6",
   "metadata": {},
   "source": [
    "### Conclusion:\n",
    "Looking at the above loop, it is evident that the missing values are all gone as well as in the describe table, the amount of values is uniform for each variable including those that never had any missing values. The distributions didn't change much since the missing values all came from mode, median, or mean, meaning that they shouldn't have altered the distribution since those are all ways of calculating the approximate middle value of any set. The only difference seen looking at the histograms is the presence of more values. The box plot is more evident of a change, there are slight increases in the size of the boxes and in the amount of variables that have boxes in the first place. The most telling finding is in the correlation table. Shockingly, the correlation between STARS and TARGET actually went down with more values. This may be because with replacement we are possibly bringing down the average and distribution slightly. The stars_missing is a strong predictor at 57% which is indicative that the missing values in the initial set actually signified something as opposed to just being left blank. Earlier, we withheld removing low correlation values since the data wasn't fully filled in. Now that the data is complete, I would feel comfortable eliminating the extremely low predictors such as ResidualSugar, CitricAcid, FreeSulfurDioxide, TotalSulfurDioxide, and Alcohol among others. The extremely low correlation values across the board signify to me that one variable may not be enough of a predictor on its own and some may need to be combined as interaction variables to be able to have real significance, for instance LabelAppeal and STARS."
   ]
  }
 ],
 "metadata": {
  "kernelspec": {
   "display_name": "Python 3 (ipykernel)",
   "language": "python",
   "name": "python3"
  },
  "language_info": {
   "codemirror_mode": {
    "name": "ipython",
    "version": 3
   },
   "file_extension": ".py",
   "mimetype": "text/x-python",
   "name": "python",
   "nbconvert_exporter": "python",
   "pygments_lexer": "ipython3",
   "version": "3.8.8"
  }
 },
 "nbformat": 4,
 "nbformat_minor": 5
}
